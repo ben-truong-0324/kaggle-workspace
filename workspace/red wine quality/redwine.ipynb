{
 "cells": [
  {
   "cell_type": "code",
   "execution_count": 34,
   "id": "e5188c5b-ae79-40c8-a2ab-c76d910900a1",
   "metadata": {
    "id": "e5188c5b-ae79-40c8-a2ab-c76d910900a1",
    "outputId": "9561847c-3691-41f0-c3a3-a848d5aa02a3"
   },
   "outputs": [
    {
     "name": "stdout",
     "output_type": "stream",
     "text": [
      "Target dataset base path: /home/jovyan/data/space-titanic\n",
      "Raw dataset already exists at /home/jovyan/data/space-titanic/raw\n",
      "Skipping download...\n",
      "Raw dataset in persistent volume at: /home/jovyan/data/space-titanic/raw\n"
     ]
    }
   ],
   "source": [
    "import kagglehub\n",
    "import os\n",
    "import shutil\n",
    "\n",
    "import sys\n",
    "from pathlib import Path\n",
    "\n",
    "# dataset_id = \"uciml/red-wine-quality-cortez-et-al-2009\"\n",
    "# local_dataset_name = dataset_id.split('/')[-1] # Uses the last part of the ID\n",
    "\n",
    "local_dataset_name = \"space-titanic\"\n",
    "\n",
    "base_data_dir = Path(\"/home/jovyan/data\") # Standard for jovyan user\n",
    "dataset_specific_base_path = base_data_dir / local_dataset_name\n",
    "raw_data_target_dir = dataset_specific_base_path / \"raw\"\n",
    "print(f\"Target dataset base path: {dataset_specific_base_path}\")\n",
    "os.makedirs(raw_data_target_dir, exist_ok=True)\n",
    "\n",
    "# Check if dataset already exists in destination\n",
    "destination_path = f\"/home/jovyan/data/{local_dataset_name}\"\n",
    "if os.path.exists(raw_data_target_dir) and os.listdir(dataset_specific_base_path):\n",
    "    print(f\"Raw dataset already exists at {raw_data_target_dir}\")\n",
    "    print(\"Skipping download...\")\n",
    "else:\n",
    "    print(f\"Dataset not found locally. Downloading {dataset_id}...\")\n",
    "    download_path = kagglehub.dataset_download(dataset_id)\n",
    "    print(f\"Dataset downloaded to temporary path in container: {download_path}\")\n",
    "    print(f\"Copying dataset to persistent raw data volume: {raw_data_target_dir}\")\n",
    "    # Ensure the destination directory exists\n",
    "    os.makedirs(raw_data_target_dir, exist_ok=True)\n",
    "    for item in os.listdir(download_path):\n",
    "        s = os.path.join(download_path, item)\n",
    "        d = os.path.join(raw_data_target_dir, item)\n",
    "        if os.path.isdir(s):\n",
    "            shutil.copytree(s, d, symlinks=False, ignore=None, dirs_exist_ok=True)\n",
    "        else:\n",
    "            shutil.copy2(s, d)\n",
    "\n",
    "    print(f\"Dataset '{dataset_id}' successfully copied to {raw_data_target_dir} in shared volume.\")\n",
    "print(f\"Raw dataset in persistent volume at: {raw_data_target_dir}\")\n"
   ]
  },
  {
   "cell_type": "code",
   "execution_count": 35,
   "id": "3ef36c95-81dc-45b5-a91a-6134692ce15f",
   "metadata": {
    "id": "3ef36c95-81dc-45b5-a91a-6134692ce15f",
    "outputId": "3b9fb4e1-35eb-418c-fb09-cf9bdbd65685"
   },
   "outputs": [
    {
     "name": "stdout",
     "output_type": "stream",
     "text": [
      "Listing files in /home/jovyan/data/space-titanic/raw:\n",
      "raw/\n",
      "    train.csv\n",
      "\n",
      "Loading data from: /home/jovyan/data/space-titanic/raw/train.csv\n",
      "\n",
      "Available columns in the RAW dataset:\n",
      "0: PassengerId\n",
      "1: HomePlanet\n",
      "2: CryoSleep\n",
      "3: Cabin\n",
      "4: Destination\n",
      "5: Age\n",
      "6: VIP\n",
      "7: RoomService\n",
      "8: FoodCourt\n",
      "9: ShoppingMall\n",
      "10: Spa\n",
      "11: VRDeck\n",
      "12: Name\n",
      "13: Transported\n"
     ]
    }
   ],
   "source": [
    "# --- Cell 2: Import Libraries and Load Data ---\n",
    "\n",
    "import pandas as pd\n",
    "from sklearn.model_selection import train_test_split\n",
    "from sklearn.tree import DecisionTreeClassifier\n",
    "from sklearn.metrics import accuracy_score, precision_score, recall_score, f1_score\n",
    "\n",
    "import os\n",
    "import cProfile # For basic profiling\n",
    "import pstats # For processing profiling results\n",
    "import io # For capturing profiling output\n",
    "\n",
    "def reload_utils():\n",
    "    import importlib\n",
    "    import utils.etl\n",
    "    import utils.eda\n",
    "    import utils.eval\n",
    "    import utils.submission\n",
    "\n",
    "    importlib.reload(utils.etl)\n",
    "    importlib.reload(utils.eda)\n",
    "    importlib.reload(utils.eval)\n",
    "    importlib.reload(utils.submission)\n",
    "    print(\"🔁 Reloaded utils.etl, utils.eda, utils.eval, utils.submission\")\n",
    "\n",
    "print(f\"Listing files in {raw_data_target_dir}:\")\n",
    "try:\n",
    "    for root, dirs, files in os.walk(raw_data_target_dir):\n",
    "        level = root.replace(str(raw_data_target_dir), '').count(os.sep)\n",
    "        indent = ' ' * 4 * (level)\n",
    "        print(f'{indent}{os.path.basename(root)}/')\n",
    "        subindent = ' ' * 4 * (level + 1)\n",
    "        for f in files:\n",
    "            print(f'{subindent}{f}')\n",
    "except FileNotFoundError:\n",
    "    print(f\"Error: Directory not found: {raw_data_target_dir}. Please ensure the dataset was downloaded and copied correctly.\")\n",
    "    # Exit or handle the error appropriately if the directory is not found\n",
    "\n",
    "csv_files = [f for f in os.listdir(raw_data_target_dir) if f.endswith('.csv')]\n",
    "if not csv_files:\n",
    "    raise FileNotFoundError(f\"No CSV files found in {raw_data_target_dir}\")\n",
    "if len(csv_files) > 1:\n",
    "    print(f\"Warning: Multiple CSV files found. Using the first one: {csv_files[0]}\")\n",
    "\n",
    "# Load the data\n",
    "data_file_path = os.path.join(raw_data_target_dir, csv_files[0])\n",
    "print(f\"\\nLoading data from: {data_file_path}\")\n",
    "df = pd.read_csv(data_file_path)\n",
    "\n",
    "print(\"\\nAvailable columns in the RAW dataset:\")\n",
    "for i, col in enumerate(df.columns):\n",
    "    print(f\"{i}: {col}\")\n",
    "\n"
   ]
  },
  {
   "cell_type": "code",
   "execution_count": 36,
   "id": "ab67c830-0dc7-4b2b-94f7-edee601cf9a3",
   "metadata": {},
   "outputs": [
    {
     "data": {
      "text/plain": [
       "(8693, 14)"
      ]
     },
     "execution_count": 36,
     "metadata": {},
     "output_type": "execute_result"
    }
   ],
   "source": [
    "# df.describe()\n",
    "# df.columns\n",
    "# df.dtypes\n",
    "# df.isna().sum()\n",
    "# df.loc[df.duplicated()]\n",
    "# df.duplicated().sum()\n",
    "# df.loc[df.duplicated(subset=['citric acid'])].head(5)\n",
    "# df = df.loc[~df.duplicated(subset=['citric acid'])] \\\n",
    "#     .reset_index(drop=True).copy()\n",
    "df.shape\n",
    "# df.head()\n",
    "# df[\"HomePlanet\"].unique()"
   ]
  },
  {
   "cell_type": "code",
   "execution_count": 37,
   "id": "a99b4a00-1b56-4fb4-9564-5b97ef4a166b",
   "metadata": {},
   "outputs": [
    {
     "name": "stdout",
     "output_type": "stream",
     "text": [
      "🧮 6606/8693 rows would remain after -2087 rows dropna (75.99%)\n"
     ]
    }
   ],
   "source": [
    "n_before = df.shape[0]\n",
    "n_after = df.dropna().shape[0]\n",
    "print(f\"🧮 {n_after}/{n_before} rows would remain after {n_after - n_before} rows dropna ({100 * n_after/n_before:.2f}%)\")"
   ]
  },
  {
   "cell_type": "code",
   "execution_count": 38,
   "id": "fb37035f-18d8-483b-acb9-9251a4944b98",
   "metadata": {
    "id": "fb37035f-18d8-483b-acb9-9251a4944b98",
    "outputId": "38dbb8f9-e93a-481f-dd52-c451bd849039"
   },
   "outputs": [
    {
     "name": "stdout",
     "output_type": "stream",
     "text": [
      "🔁 Reloaded utils.etl, utils.eda, utils.eval, utils.submission\n",
      "[PosixPath('/home/jovyan/data/space-titanic/raw/train.csv')]\n",
      "Dataset loaded successfully. Only one file loaded\n",
      "🧠 Target column: Transported\n",
      "📊 Target dtype: bool\n",
      "✅ Inferred task type: binary_classification\n"
     ]
    }
   ],
   "source": [
    "# === setting pred target ===\n",
    "reload_utils()\n",
    "sys.path.append(str(Path().resolve().parent))\n",
    "from utils.etl import get_raw_dataset, transform_raw_dataframe\n",
    "import numpy as np\n",
    "target_column = \"Transported\"\n",
    "service_cols = [\"RoomService\", \"FoodCourt\", \"ShoppingMall\", \"Spa\", \"VRDeck\"]\n",
    "X, y = get_raw_dataset(dataset_name=local_dataset_name, target_column=target_column, drop_na = True)\n",
    "X = transform_raw_dataframe(df = X, service_cols= service_cols)\n",
    "# === Task Type Inference ===\n",
    "def detect_task_type(y):\n",
    "    if pd.api.types.is_numeric_dtype(y):\n",
    "        if y.nunique() <= 2:\n",
    "            return \"binary_classification\"\n",
    "        elif y.nunique() < 15: #arbitrary 15\n",
    "            return \"multiclass_classification\"\n",
    "        else:\n",
    "            return \"regression\"\n",
    "    elif y.apply(lambda x: isinstance(x, (list, set))).any():\n",
    "        return \"multilabel_classification\"\n",
    "    else:\n",
    "        return \"unknown\"\n",
    "task_type = detect_task_type(y)\n",
    "\n",
    "print(f\"🧠 Target column: {target_column}\")\n",
    "print(f\"📊 Target dtype: {df[target_column].dtype}\")\n",
    "print(f\"✅ Inferred task type: {task_type}\")"
   ]
  },
  {
   "cell_type": "code",
   "execution_count": 39,
   "id": "23f86d21-37ea-43b9-9a35-e2cff76711e8",
   "metadata": {},
   "outputs": [
    {
     "name": "stdout",
     "output_type": "stream",
     "text": [
      "✅ Evaluation metric set to: accuracy\n"
     ]
    }
   ],
   "source": [
    "import sklearn.metrics\n",
    "\n",
    "perf_eval_metric = \"accuracy\"  # or \"accuracy\", \"precision\", \"recall\", etc.\n",
    "\n",
    "# Map of string -> (metric name, metric function)\n",
    "metric_lookup = {\n",
    "    \"accuracy\": (\"accuracy\", sklearn.metrics.accuracy_score),\n",
    "    \"f1\": (\"f1_score\", lambda y_true, y_pred: sklearn.metrics.f1_score(y_true, y_pred, average=\"weighted\")),\n",
    "    \"precision\": (\"precision\", lambda y_true, y_pred: sklearn.metrics.precision_score(y_true, y_pred, average=\"weighted\")),\n",
    "    \"recall\": (\"recall\", lambda y_true, y_pred: sklearn.metrics.recall_score(y_true, y_pred, average=\"weighted\")),\n",
    "    \"mse\": (\"mean_squared_error\", sklearn.metrics.mean_squared_error),\n",
    "    \"mae\": (\"mean_absolute_error\", sklearn.metrics.mean_absolute_error),\n",
    "}\n",
    "\n",
    "# Lookup the function and name\n",
    "if perf_eval_metric not in metric_lookup:\n",
    "    raise ValueError(f\"Unsupported metric: {perf_eval_metric}\")\n",
    "\n",
    "eval_metric_name, eval_metric_fn = metric_lookup[perf_eval_metric]\n",
    "print(f\"✅ Evaluation metric set to: {eval_metric_name}\")\n"
   ]
  },
  {
   "cell_type": "code",
   "execution_count": 40,
   "id": "1b16802a-4ea7-41df-9913-e5e0f16fe70c",
   "metadata": {
    "id": "1b16802a-4ea7-41df-9913-e5e0f16fe70c",
    "outputId": "8f2033e5-60ae-43b0-a652-9908020edc98",
    "scrolled": true
   },
   "outputs": [],
   "source": [
    "# from utils.eda import eda_vis\n",
    "# # === prelim EDA on raw dataset ===\n",
    "# eda_vis(X, y, task_type)"
   ]
  },
  {
   "cell_type": "code",
   "execution_count": 26,
   "id": "2f679fa5-7fdc-485d-801c-39ad165149fa",
   "metadata": {
    "jupyter": {
     "source_hidden": true
    },
    "scrolled": true
   },
   "outputs": [
    {
     "name": "stdout",
     "output_type": "stream",
     "text": [
      "✅ Strongly Correlated Words (Significant & polarized):\n"
     ]
    },
    {
     "data": {
      "text/html": [
       "<div>\n",
       "<style scoped>\n",
       "    .dataframe tbody tr th:only-of-type {\n",
       "        vertical-align: middle;\n",
       "    }\n",
       "\n",
       "    .dataframe tbody tr th {\n",
       "        vertical-align: top;\n",
       "    }\n",
       "\n",
       "    .dataframe thead th {\n",
       "        text-align: right;\n",
       "    }\n",
       "</style>\n",
       "<table border=\"1\" class=\"dataframe\">\n",
       "  <thead>\n",
       "    <tr style=\"text-align: right;\">\n",
       "      <th></th>\n",
       "      <th>word</th>\n",
       "      <th>count_0</th>\n",
       "      <th>count_1</th>\n",
       "      <th>total_occurrence</th>\n",
       "      <th>class1_rate</th>\n",
       "      <th>p_value</th>\n",
       "      <th>correlation_type</th>\n",
       "    </tr>\n",
       "  </thead>\n",
       "  <tbody>\n",
       "    <tr>\n",
       "      <th>667</th>\n",
       "      <td>domington</td>\n",
       "      <td>0</td>\n",
       "      <td>13</td>\n",
       "      <td>13</td>\n",
       "      <td>1.0</td>\n",
       "      <td>0.000242</td>\n",
       "      <td>strong_positive</td>\n",
       "    </tr>\n",
       "    <tr>\n",
       "      <th>355</th>\n",
       "      <td>wolffy</td>\n",
       "      <td>9</td>\n",
       "      <td>0</td>\n",
       "      <td>9</td>\n",
       "      <td>0.0</td>\n",
       "      <td>0.001819</td>\n",
       "      <td>strong_negative</td>\n",
       "    </tr>\n",
       "    <tr>\n",
       "      <th>384</th>\n",
       "      <td>matts</td>\n",
       "      <td>8</td>\n",
       "      <td>0</td>\n",
       "      <td>8</td>\n",
       "      <td>0.0</td>\n",
       "      <td>0.003669</td>\n",
       "      <td>strong_negative</td>\n",
       "    </tr>\n",
       "    <tr>\n",
       "      <th>626</th>\n",
       "      <td>mcbriddley</td>\n",
       "      <td>7</td>\n",
       "      <td>0</td>\n",
       "      <td>7</td>\n",
       "      <td>0.0</td>\n",
       "      <td>0.007400</td>\n",
       "      <td>strong_negative</td>\n",
       "    </tr>\n",
       "    <tr>\n",
       "      <th>506</th>\n",
       "      <td>troya</td>\n",
       "      <td>7</td>\n",
       "      <td>0</td>\n",
       "      <td>7</td>\n",
       "      <td>0.0</td>\n",
       "      <td>0.007400</td>\n",
       "      <td>strong_negative</td>\n",
       "    </tr>\n",
       "    <tr>\n",
       "      <th>434</th>\n",
       "      <td>sancasey</td>\n",
       "      <td>7</td>\n",
       "      <td>0</td>\n",
       "      <td>7</td>\n",
       "      <td>0.0</td>\n",
       "      <td>0.007400</td>\n",
       "      <td>strong_negative</td>\n",
       "    </tr>\n",
       "    <tr>\n",
       "      <th>768</th>\n",
       "      <td>bonnondry</td>\n",
       "      <td>7</td>\n",
       "      <td>0</td>\n",
       "      <td>7</td>\n",
       "      <td>0.0</td>\n",
       "      <td>0.007400</td>\n",
       "      <td>strong_negative</td>\n",
       "    </tr>\n",
       "    <tr>\n",
       "      <th>71</th>\n",
       "      <td>camiet</td>\n",
       "      <td>6</td>\n",
       "      <td>0</td>\n",
       "      <td>6</td>\n",
       "      <td>0.0</td>\n",
       "      <td>0.014922</td>\n",
       "      <td>strong_negative</td>\n",
       "    </tr>\n",
       "    <tr>\n",
       "      <th>564</th>\n",
       "      <td>hestes</td>\n",
       "      <td>6</td>\n",
       "      <td>0</td>\n",
       "      <td>6</td>\n",
       "      <td>0.0</td>\n",
       "      <td>0.014922</td>\n",
       "      <td>strong_negative</td>\n",
       "    </tr>\n",
       "    <tr>\n",
       "      <th>530</th>\n",
       "      <td>sallie</td>\n",
       "      <td>6</td>\n",
       "      <td>0</td>\n",
       "      <td>6</td>\n",
       "      <td>0.0</td>\n",
       "      <td>0.014922</td>\n",
       "      <td>strong_negative</td>\n",
       "    </tr>\n",
       "  </tbody>\n",
       "</table>\n",
       "</div>"
      ],
      "text/plain": [
       "           word  count_0  count_1  total_occurrence  class1_rate   p_value  \\\n",
       "667   domington        0       13                13          1.0  0.000242   \n",
       "355      wolffy        9        0                 9          0.0  0.001819   \n",
       "384       matts        8        0                 8          0.0  0.003669   \n",
       "626  mcbriddley        7        0                 7          0.0  0.007400   \n",
       "506       troya        7        0                 7          0.0  0.007400   \n",
       "434    sancasey        7        0                 7          0.0  0.007400   \n",
       "768   bonnondry        7        0                 7          0.0  0.007400   \n",
       "71       camiet        6        0                 6          0.0  0.014922   \n",
       "564      hestes        6        0                 6          0.0  0.014922   \n",
       "530      sallie        6        0                 6          0.0  0.014922   \n",
       "\n",
       "    correlation_type  \n",
       "667  strong_positive  \n",
       "355  strong_negative  \n",
       "384  strong_negative  \n",
       "626  strong_negative  \n",
       "506  strong_negative  \n",
       "434  strong_negative  \n",
       "768  strong_negative  \n",
       "71   strong_negative  \n",
       "564  strong_negative  \n",
       "530  strong_negative  "
      ]
     },
     "metadata": {},
     "output_type": "display_data"
    },
    {
     "name": "stdout",
     "output_type": "stream",
     "text": [
      "🧐 Mildly Correlated Words (p ≈ 0.05–0.15):\n"
     ]
    },
    {
     "data": {
      "text/html": [
       "<div>\n",
       "<style scoped>\n",
       "    .dataframe tbody tr th:only-of-type {\n",
       "        vertical-align: middle;\n",
       "    }\n",
       "\n",
       "    .dataframe tbody tr th {\n",
       "        vertical-align: top;\n",
       "    }\n",
       "\n",
       "    .dataframe thead th {\n",
       "        text-align: right;\n",
       "    }\n",
       "</style>\n",
       "<table border=\"1\" class=\"dataframe\">\n",
       "  <thead>\n",
       "    <tr style=\"text-align: right;\">\n",
       "      <th></th>\n",
       "      <th>word</th>\n",
       "      <th>count_0</th>\n",
       "      <th>count_1</th>\n",
       "      <th>total_occurrence</th>\n",
       "      <th>class1_rate</th>\n",
       "      <th>p_value</th>\n",
       "      <th>correlation_type</th>\n",
       "    </tr>\n",
       "  </thead>\n",
       "  <tbody>\n",
       "    <tr>\n",
       "      <th>552</th>\n",
       "      <td>litthews</td>\n",
       "      <td>10</td>\n",
       "      <td>3</td>\n",
       "      <td>13</td>\n",
       "      <td>0.230769</td>\n",
       "      <td>0.055454</td>\n",
       "      <td>mildly_correlated</td>\n",
       "    </tr>\n",
       "    <tr>\n",
       "      <th>278</th>\n",
       "      <td>katte</td>\n",
       "      <td>0</td>\n",
       "      <td>5</td>\n",
       "      <td>5</td>\n",
       "      <td>1.000000</td>\n",
       "      <td>0.062438</td>\n",
       "      <td>mildly_correlated</td>\n",
       "    </tr>\n",
       "    <tr>\n",
       "      <th>519</th>\n",
       "      <td>dister</td>\n",
       "      <td>0</td>\n",
       "      <td>5</td>\n",
       "      <td>5</td>\n",
       "      <td>1.000000</td>\n",
       "      <td>0.062438</td>\n",
       "      <td>mildly_correlated</td>\n",
       "    </tr>\n",
       "    <tr>\n",
       "      <th>302</th>\n",
       "      <td>dyonon</td>\n",
       "      <td>0</td>\n",
       "      <td>5</td>\n",
       "      <td>5</td>\n",
       "      <td>1.000000</td>\n",
       "      <td>0.062438</td>\n",
       "      <td>mildly_correlated</td>\n",
       "    </tr>\n",
       "    <tr>\n",
       "      <th>607</th>\n",
       "      <td>alphact</td>\n",
       "      <td>0</td>\n",
       "      <td>5</td>\n",
       "      <td>5</td>\n",
       "      <td>1.000000</td>\n",
       "      <td>0.062438</td>\n",
       "      <td>mildly_correlated</td>\n",
       "    </tr>\n",
       "    <tr>\n",
       "      <th>130</th>\n",
       "      <td>connon</td>\n",
       "      <td>0</td>\n",
       "      <td>5</td>\n",
       "      <td>5</td>\n",
       "      <td>1.000000</td>\n",
       "      <td>0.062438</td>\n",
       "      <td>mildly_correlated</td>\n",
       "    </tr>\n",
       "    <tr>\n",
       "      <th>369</th>\n",
       "      <td>mergas</td>\n",
       "      <td>0</td>\n",
       "      <td>5</td>\n",
       "      <td>5</td>\n",
       "      <td>1.000000</td>\n",
       "      <td>0.062438</td>\n",
       "      <td>mildly_correlated</td>\n",
       "    </tr>\n",
       "    <tr>\n",
       "      <th>352</th>\n",
       "      <td>prie</td>\n",
       "      <td>0</td>\n",
       "      <td>5</td>\n",
       "      <td>5</td>\n",
       "      <td>1.000000</td>\n",
       "      <td>0.062438</td>\n",
       "      <td>mildly_correlated</td>\n",
       "    </tr>\n",
       "    <tr>\n",
       "      <th>629</th>\n",
       "      <td>grean</td>\n",
       "      <td>0</td>\n",
       "      <td>5</td>\n",
       "      <td>5</td>\n",
       "      <td>1.000000</td>\n",
       "      <td>0.062438</td>\n",
       "      <td>mildly_correlated</td>\n",
       "    </tr>\n",
       "    <tr>\n",
       "      <th>394</th>\n",
       "      <td>terope</td>\n",
       "      <td>0</td>\n",
       "      <td>5</td>\n",
       "      <td>5</td>\n",
       "      <td>1.000000</td>\n",
       "      <td>0.062438</td>\n",
       "      <td>mildly_correlated</td>\n",
       "    </tr>\n",
       "  </tbody>\n",
       "</table>\n",
       "</div>"
      ],
      "text/plain": [
       "         word  count_0  count_1  total_occurrence  class1_rate   p_value  \\\n",
       "552  litthews       10        3                13     0.230769  0.055454   \n",
       "278     katte        0        5                 5     1.000000  0.062438   \n",
       "519    dister        0        5                 5     1.000000  0.062438   \n",
       "302    dyonon        0        5                 5     1.000000  0.062438   \n",
       "607   alphact        0        5                 5     1.000000  0.062438   \n",
       "130    connon        0        5                 5     1.000000  0.062438   \n",
       "369    mergas        0        5                 5     1.000000  0.062438   \n",
       "352      prie        0        5                 5     1.000000  0.062438   \n",
       "629     grean        0        5                 5     1.000000  0.062438   \n",
       "394    terope        0        5                 5     1.000000  0.062438   \n",
       "\n",
       "      correlation_type  \n",
       "552  mildly_correlated  \n",
       "278  mildly_correlated  \n",
       "519  mildly_correlated  \n",
       "302  mildly_correlated  \n",
       "607  mildly_correlated  \n",
       "130  mildly_correlated  \n",
       "369  mildly_correlated  \n",
       "352  mildly_correlated  \n",
       "629  mildly_correlated  \n",
       "394  mildly_correlated  "
      ]
     },
     "metadata": {},
     "output_type": "display_data"
    },
    {
     "name": "stdout",
     "output_type": "stream",
     "text": [
      "⚪ Arbitrary Words (p > 0.15):\n"
     ]
    },
    {
     "data": {
      "text/html": [
       "<div>\n",
       "<style scoped>\n",
       "    .dataframe tbody tr th:only-of-type {\n",
       "        vertical-align: middle;\n",
       "    }\n",
       "\n",
       "    .dataframe tbody tr th {\n",
       "        vertical-align: top;\n",
       "    }\n",
       "\n",
       "    .dataframe thead th {\n",
       "        text-align: right;\n",
       "    }\n",
       "</style>\n",
       "<table border=\"1\" class=\"dataframe\">\n",
       "  <thead>\n",
       "    <tr style=\"text-align: right;\">\n",
       "      <th></th>\n",
       "      <th>word</th>\n",
       "      <th>count_0</th>\n",
       "      <th>count_1</th>\n",
       "      <th>total_occurrence</th>\n",
       "      <th>class1_rate</th>\n",
       "      <th>p_value</th>\n",
       "      <th>correlation_type</th>\n",
       "    </tr>\n",
       "  </thead>\n",
       "  <tbody>\n",
       "    <tr>\n",
       "      <th>603</th>\n",
       "      <td>casonston</td>\n",
       "      <td>11</td>\n",
       "      <td>6</td>\n",
       "      <td>17</td>\n",
       "      <td>0.352941</td>\n",
       "      <td>0.234076</td>\n",
       "      <td>arbitrary</td>\n",
       "    </tr>\n",
       "    <tr>\n",
       "      <th>80</th>\n",
       "      <td>oneiles</td>\n",
       "      <td>10</td>\n",
       "      <td>5</td>\n",
       "      <td>15</td>\n",
       "      <td>0.333333</td>\n",
       "      <td>0.206464</td>\n",
       "      <td>arbitrary</td>\n",
       "    </tr>\n",
       "    <tr>\n",
       "      <th>3</th>\n",
       "      <td>willy</td>\n",
       "      <td>8</td>\n",
       "      <td>7</td>\n",
       "      <td>15</td>\n",
       "      <td>0.466667</td>\n",
       "      <td>0.802053</td>\n",
       "      <td>arbitrary</td>\n",
       "    </tr>\n",
       "    <tr>\n",
       "      <th>84</th>\n",
       "      <td>garnes</td>\n",
       "      <td>9</td>\n",
       "      <td>4</td>\n",
       "      <td>13</td>\n",
       "      <td>0.307692</td>\n",
       "      <td>0.176134</td>\n",
       "      <td>arbitrary</td>\n",
       "    </tr>\n",
       "    <tr>\n",
       "      <th>433</th>\n",
       "      <td>cartez</td>\n",
       "      <td>6</td>\n",
       "      <td>6</td>\n",
       "      <td>12</td>\n",
       "      <td>0.500000</td>\n",
       "      <td>1.000000</td>\n",
       "      <td>arbitrary</td>\n",
       "    </tr>\n",
       "    <tr>\n",
       "      <th>546</th>\n",
       "      <td>gibbsonton</td>\n",
       "      <td>7</td>\n",
       "      <td>5</td>\n",
       "      <td>12</td>\n",
       "      <td>0.416667</td>\n",
       "      <td>0.578029</td>\n",
       "      <td>arbitrary</td>\n",
       "    </tr>\n",
       "    <tr>\n",
       "      <th>438</th>\n",
       "      <td>distured</td>\n",
       "      <td>7</td>\n",
       "      <td>4</td>\n",
       "      <td>11</td>\n",
       "      <td>0.363636</td>\n",
       "      <td>0.383939</td>\n",
       "      <td>arbitrary</td>\n",
       "    </tr>\n",
       "    <tr>\n",
       "      <th>408</th>\n",
       "      <td>barbes</td>\n",
       "      <td>3</td>\n",
       "      <td>8</td>\n",
       "      <td>11</td>\n",
       "      <td>0.727273</td>\n",
       "      <td>0.226308</td>\n",
       "      <td>arbitrary</td>\n",
       "    </tr>\n",
       "    <tr>\n",
       "      <th>381</th>\n",
       "      <td>browlerson</td>\n",
       "      <td>4</td>\n",
       "      <td>7</td>\n",
       "      <td>11</td>\n",
       "      <td>0.636364</td>\n",
       "      <td>0.548606</td>\n",
       "      <td>arbitrary</td>\n",
       "    </tr>\n",
       "    <tr>\n",
       "      <th>608</th>\n",
       "      <td>coolerson</td>\n",
       "      <td>7</td>\n",
       "      <td>4</td>\n",
       "      <td>11</td>\n",
       "      <td>0.363636</td>\n",
       "      <td>0.383939</td>\n",
       "      <td>arbitrary</td>\n",
       "    </tr>\n",
       "  </tbody>\n",
       "</table>\n",
       "</div>"
      ],
      "text/plain": [
       "           word  count_0  count_1  total_occurrence  class1_rate   p_value  \\\n",
       "603   casonston       11        6                17     0.352941  0.234076   \n",
       "80      oneiles       10        5                15     0.333333  0.206464   \n",
       "3         willy        8        7                15     0.466667  0.802053   \n",
       "84       garnes        9        4                13     0.307692  0.176134   \n",
       "433      cartez        6        6                12     0.500000  1.000000   \n",
       "546  gibbsonton        7        5                12     0.416667  0.578029   \n",
       "438    distured        7        4                11     0.363636  0.383939   \n",
       "408      barbes        3        8                11     0.727273  0.226308   \n",
       "381  browlerson        4        7                11     0.636364  0.548606   \n",
       "608   coolerson        7        4                11     0.363636  0.383939   \n",
       "\n",
       "    correlation_type  \n",
       "603        arbitrary  \n",
       "80         arbitrary  \n",
       "3          arbitrary  \n",
       "84         arbitrary  \n",
       "433        arbitrary  \n",
       "546        arbitrary  \n",
       "438        arbitrary  \n",
       "408        arbitrary  \n",
       "381        arbitrary  \n",
       "608        arbitrary  "
      ]
     },
     "metadata": {},
     "output_type": "display_data"
    },
    {
     "data": {
      "image/png": "[encoded data removed]",
      "text/plain": [
       "<Figure size 1000x500 with 1 Axes>"
      ]
     },
     "metadata": {},
     "output_type": "display_data"
    },
    {
     "data": {
      "image/png": "[encoded data removed]",
      "text/plain": [
       "<Figure size 1000x500 with 1 Axes>"
      ]
     },
     "metadata": {},
     "output_type": "display_data"
    },
    {
     "data": {
      "image/png": "[encoded data removed]",
      "text/plain": [
       "<Figure size 800x400 with 1 Axes>"
      ]
     },
     "metadata": {},
     "output_type": "display_data"
    }
   ],
   "source": [
    "import pandas as pd\n",
    "import numpy as np\n",
    "import matplotlib.pyplot as plt\n",
    "from collections import defaultdict\n",
    "import re\n",
    "from scipy.stats import fisher_exact\n",
    "\n",
    "# === Tokenize names into lowercase words ===\n",
    "def tokenize_name(name):\n",
    "    return re.findall(r\"\\b\\w+\\b\", name.lower())\n",
    "\n",
    "# Tokenize names\n",
    "X[\"name_tokens\"] = X[\"Name\"].apply(tokenize_name)\n",
    "\n",
    "# Count occurrences by class\n",
    "word_counts = defaultdict(lambda: [0, 0])  # word: [count_class_0, count_class_1]\n",
    "\n",
    "for tokens, label in zip(X[\"name_tokens\"], y):\n",
    "    for token in set(tokens):  # avoid multiple counts for same word in same name\n",
    "        word_counts[token][label] += 1\n",
    "\n",
    "# Create stats DataFrame\n",
    "records = []\n",
    "n_class_0 = sum(y == 0)\n",
    "n_class_1 = sum(y == 1)\n",
    "\n",
    "for word, (count_0, count_1) in word_counts.items():\n",
    "    total = count_0 + count_1\n",
    "    if total < 5:  # filter very rare words\n",
    "        continue\n",
    "    p1 = count_1 / total\n",
    "\n",
    "    # Fisher's Exact Test\n",
    "    table = [[count_1, count_0],\n",
    "             [n_class_1 - count_1, n_class_0 - count_0]]\n",
    "    _, p_value = fisher_exact(table)\n",
    "\n",
    "    records.append({\n",
    "        \"word\": word,\n",
    "        \"count_0\": count_0,\n",
    "        \"count_1\": count_1,\n",
    "        \"total_occurrence\": total,\n",
    "        \"class1_rate\": p1,\n",
    "        \"p_value\": p_value\n",
    "    })\n",
    "\n",
    "word_df = pd.DataFrame(records)\n",
    "\n",
    "# === Categorize correlation type ===\n",
    "def categorize(row):\n",
    "    if row[\"p_value\"] < 0.05:\n",
    "        if row[\"class1_rate\"] > 0.6:\n",
    "            return \"strong_positive\"\n",
    "        elif row[\"class1_rate\"] < 0.4:\n",
    "            return \"strong_negative\"\n",
    "        else:\n",
    "            return \"mildly_correlated\"\n",
    "    elif 0.05 <= row[\"p_value\"] < 0.15:\n",
    "        return \"mildly_correlated\"\n",
    "    else:\n",
    "        return \"arbitrary\"\n",
    "\n",
    "word_df[\"correlation_type\"] = word_df.apply(categorize, axis=1)\n",
    "\n",
    "# === Summary counts\n",
    "summary_counts = word_df[\"correlation_type\"].value_counts().reindex(\n",
    "    [\"strong_positive\", \"strong_negative\", \"mildly_correlated\", \"arbitrary\"], fill_value=0\n",
    ")\n",
    "\n",
    "# === Output top words per category\n",
    "print(\"✅ Strongly Correlated Words (Significant & polarized):\")\n",
    "display(word_df[word_df[\"correlation_type\"].isin([\"strong_positive\", \"strong_negative\"])]\n",
    "        .sort_values(\"p_value\").head(10))\n",
    "\n",
    "print(\"🧐 Mildly Correlated Words (p ≈ 0.05–0.15):\")\n",
    "display(word_df[word_df[\"correlation_type\"] == \"mildly_correlated\"]\n",
    "        .sort_values(\"p_value\").head(10))\n",
    "\n",
    "print(\"⚪ Arbitrary Words (p > 0.15):\")\n",
    "display(word_df[word_df[\"correlation_type\"] == \"arbitrary\"]\n",
    "        .sort_values(\"total_occurrence\", ascending=False).head(10))\n",
    "\n",
    "# === Plot 1: Histogram of class1_rate\n",
    "plt.figure(figsize=(10, 5))\n",
    "plt.hist(word_df[\"class1_rate\"], bins=25, alpha=0.7, edgecolor='k')\n",
    "plt.axvline(0.5, color='red', linestyle='--', label=\"Neutral (50/50)\")\n",
    "plt.title(\"Distribution of P(target=1 | word)\")\n",
    "plt.xlabel(\"P(target=1 | word)\")\n",
    "plt.ylabel(\"Word count\")\n",
    "plt.legend()\n",
    "plt.show()\n",
    "\n",
    "# === Plot 2: P-value distribution\n",
    "plt.figure(figsize=(10, 5))\n",
    "plt.hist(word_df[\"p_value\"], bins=50, alpha=0.7, edgecolor='k')\n",
    "plt.axvline(0.05, color='green', linestyle='--', label=\"p = 0.05 threshold\")\n",
    "plt.axvline(0.15, color='orange', linestyle='--', label=\"p = 0.15 threshold\")\n",
    "plt.title(\"Distribution of p-values (Fisher's test)\")\n",
    "plt.xlabel(\"p-value\")\n",
    "plt.ylabel(\"Number of words\")\n",
    "plt.legend()\n",
    "plt.show()\n",
    "\n",
    "# === Plot 3: Correlation type summary bar chart\n",
    "plt.figure(figsize=(8, 4))\n",
    "summary_counts.plot(kind=\"bar\", color=[\"green\", \"red\", \"orange\", \"gray\"])\n",
    "plt.title(\"Name Word Correlation Types\")\n",
    "plt.ylabel(\"Word Count\")\n",
    "plt.xlabel(\"Correlation Type\")\n",
    "plt.xticks(rotation=30)\n",
    "plt.grid(axis='y', linestyle='--', alpha=0.5)\n",
    "plt.tight_layout()\n",
    "plt.show()\n"
   ]
  },
  {
   "cell_type": "code",
   "execution_count": 23,
   "id": "bce1f6ed-0581-49c8-9fea-0e677799fdbe",
   "metadata": {
    "scrolled": true
   },
   "outputs": [],
   "source": [
    "# reload_utils()\n",
    "# from utils.eda import feature_eda_vis\n",
    "# # === deep EDA for features on ETL-applied dataset ===\n",
    "# feature_eda_vis(X[[\"Name\"]], y, task_type)"
   ]
  },
  {
   "cell_type": "code",
   "execution_count": 41,
   "id": "ac675321-07d7-4de9-a5b3-4f5387e53dd0",
   "metadata": {
    "scrolled": true
   },
   "outputs": [],
   "source": [
    "# import matplotlib.pyplot as plt\n",
    "# import seaborn as sns\n",
    "# import pandas as pd\n",
    "# import numpy as np\n",
    "# from scipy import stats\n",
    "# from statsmodels.stats.proportion import proportion_confint\n",
    "\n",
    "# # Assume X and y are pandas DataFrames/Series as described by the user.\n",
    "# # For demonstration, let's create some sample data if X and y are not defined\n",
    "# # (Remove or comment this out if you have your actual X and y)\n",
    "# if 'X' not in locals() or 'y' not in locals():\n",
    "#     print(\"Generating sample X and y for demonstration purposes...\")\n",
    "#     n_samples = 200\n",
    "#     X_data = {\n",
    "#         'HomePlanet': np.random.choice(['Earth', 'Europa', 'Mars', 'PlanetX', 'PlanetY'], size=n_samples), # Added more categories\n",
    "#         'CryoSleep': np.random.choice([True, False, np.nan], size=n_samples, p=[0.25, 0.7, 0.05]), # Added NaNs\n",
    "#         'Age': np.random.normal(loc=30, scale=10, size=n_samples).clip(0, 80),\n",
    "#         'RoomService': np.random.exponential(scale=100, size=n_samples).clip(0, 2000) * np.random.choice([0,1, np.nan], size=n_samples, p=[0.35,0.55, 0.1]), # Some zeros and NaNs\n",
    "#         'VIP': np.random.choice([True, False, np.nan], size=n_samples, p=[0.05, 0.85, 0.1]) # With NaNs\n",
    "#     }\n",
    "#     X = pd.DataFrame(X_data)\n",
    "#     X['Age'] = X['Age'].astype(float).fillna(X['Age'].median()).astype(int) # Handle potential NaNs from clip then fill\n",
    "#     X['RoomService'] = X['RoomService'].astype(float)\n",
    "    \n",
    "#     # Simulate some dependency for y\n",
    "#     y_score = X['Age'] * -0.1 + X['RoomService'].fillna(0) * 0.01 + \\\n",
    "#               (X['HomePlanet'] == 'Europa').astype(int) * 20 + \\\n",
    "#               X['CryoSleep'].fillna(False).astype(int) * 30 # Handle NaNs in CryoSleep for scoring\n",
    "#     y_prob = 1 / (1 + np.exp(- (y_score - y_score.mean()) / y_score.std() )) # Sigmoid\n",
    "#     y = pd.Series(np.random.binomial(1, y_prob, size=n_samples).astype(bool), name='Transported')\n",
    "\n",
    "\n",
    "# # --- Data Preparation ---\n",
    "# y_named = y.copy()\n",
    "# if not hasattr(y_named, 'name') or y_named.name is None:\n",
    "#     y_named.name = 'Transported' # Default name if y has no name\n",
    "\n",
    "# df_combined = X.copy()\n",
    "# df_combined['Transported_numeric'] = y_named.astype(int)\n",
    "\n",
    "# CATEGORICAL_THRESHOLD = 20 \n",
    "# palette = {0: 'skyblue', 1: 'salmon'} \n",
    "# legend_labels = {0: 'Not Transported', 1: 'Transported'}\n",
    "# feature_columns = X.columns\n",
    "\n",
    "# # --- Main Loop for Plotting ---\n",
    "# for feature_col in feature_columns:\n",
    "#     print(f\"--- Analyzing Feature: {feature_col} ---\")\n",
    "    \n",
    "#     fig, axes = plt.subplots(2, 3, figsize=(22, 13)) # Adjusted figsize slightly for better label spacing\n",
    "#     fig.suptitle(f'Comprehensive Analysis: {feature_col} | Target: {y_named.name}', fontsize=18, y=0.99) # Adjusted y for suptitle\n",
    "    \n",
    "#     # --- Row 1: Distribution Visualizations ---\n",
    "#     ax_1_1 = axes[0, 0]\n",
    "#     try:\n",
    "#         plot_data_1_1 = df_combined[[feature_col, 'Transported_numeric']].dropna(subset=[feature_col])\n",
    "#         if not plot_data_1_1.empty and plot_data_1_1[feature_col].nunique() > 0 :\n",
    "#             sns.stripplot(data=plot_data_1_1, x=feature_col, y='Transported_numeric', hue='Transported_numeric',\n",
    "#                           jitter=0.25, dodge=True, ax=ax_1_1, palette=palette, legend=False, alpha=0.6)\n",
    "#             ax_1_1.set_title('Point Distribution by Target')\n",
    "#             ax_1_1.set_ylabel(f'{y_named.name} (0=F, 1=T)')\n",
    "#             ax_1_1.set_yticks([0, 1])\n",
    "#             ax_1_1.set_yticklabels(['False', 'True'])\n",
    "#             ax_1_1.set_xlabel(feature_col)\n",
    "#             handles = [plt.Line2D([0], [0], marker='o', color='w', markerfacecolor=palette[i], markersize=10) for i in palette]\n",
    "#             ax_1_1.legend(handles, [legend_labels[i] for i in palette], title=y_named.name, loc='best')\n",
    "            \n",
    "#             # Rotate x-axis labels if needed\n",
    "#             if plot_data_1_1[feature_col].nunique() > 5 and plot_data_1_1[feature_col].dtype == 'object': # More categories\n",
    "#                  ax_1_1.tick_params(axis='x', rotation=45, labelbottom=True)\n",
    "#                  plt.setp(ax_1_1.get_xticklabels(), ha=\"right\", rotation_mode=\"anchor\")\n",
    "#             elif plot_data_1_1[feature_col].nunique() > 10 and plot_data_1_1[feature_col].dtype != 'object': # Numerical with many ticks\n",
    "#                  ax_1_1.tick_params(axis='x', rotation=30, labelbottom=True)\n",
    "#                  plt.setp(ax_1_1.get_xticklabels(), ha=\"right\", rotation_mode=\"anchor\")\n",
    "#             else: # Fewer categories or numerical, no rotation or default handling\n",
    "#                  ax_1_1.tick_params(axis='x', labelbottom=True)\n",
    "\n",
    "#         else:\n",
    "#             ax_1_1.text(0.5, 0.5, \"No data or no variance\\nafter NaN drop\", ha='center', va='center', transform=ax_1_1.transAxes)\n",
    "#             ax_1_1.set_title('Point Distribution (No Data)')\n",
    "#     except Exception as e:\n",
    "#         ax_1_1.set_title('Point Distribution (Error)')\n",
    "#         ax_1_1.text(0.5, 0.5, f\"Plot failed: {e}\", ha='center', va='center', transform=ax_1_1.transAxes, wrap=True)\n",
    "#         print(f\"  Error in Plot 1.1 for {feature_col}: {e}\")\n",
    "\n",
    "#     ax_1_2 = axes[0, 1]\n",
    "#     try:\n",
    "#         plot_data_1_2 = df_combined[[feature_col, 'Transported_numeric']].dropna(subset=[feature_col])\n",
    "#         if not plot_data_1_2.empty and plot_data_1_2[feature_col].nunique() > 0:\n",
    "#             sns.histplot(data=plot_data_1_2, x=feature_col, hue='Transported_numeric', \n",
    "#                          multiple='layer', kde=False, ax=ax_1_2, palette=palette, \n",
    "#                          stat=\"density\", common_norm=False, alpha=0.6, legend=True)\n",
    "#             ax_1_2.set_title('Normalized Histogram by Target')\n",
    "#             ax_1_2.set_xlabel(feature_col)\n",
    "#             handles_hist, labels_hist = ax_1_2.get_legend_handles_labels()\n",
    "#             try: \n",
    "#                 labels_hist_descriptive = [legend_labels[int(float(l))] for l in labels_hist]\n",
    "#                 ax_1_2.legend(handles_hist, labels_hist_descriptive, title=y_named.name)\n",
    "#             except (ValueError, KeyError): \n",
    "#                  ax_1_2.legend(title=y_named.name)\n",
    "#         else:\n",
    "#             ax_1_2.text(0.5, 0.5, \"No data or no variance\\nafter NaN drop\", ha='center', va='center', transform=ax_1_2.transAxes)\n",
    "#             ax_1_2.set_title('Histogram (No Data)')\n",
    "#     except Exception as e:\n",
    "#         ax_1_2.set_title('Histogram (Error)')\n",
    "#         ax_1_2.text(0.5, 0.5, f\"Plot failed: {e}\", ha='center', va='center', transform=ax_1_2.transAxes, wrap=True)\n",
    "#         print(f\"  Error in Plot 1.2 for {feature_col}: {e}\")\n",
    "\n",
    "#     ax_1_3 = axes[0, 2]\n",
    "#     try:\n",
    "#         temp_df_combined = df_combined.dropna(subset=[feature_col]) \n",
    "#         if not temp_df_combined.empty and temp_df_combined[feature_col].nunique() > 0:\n",
    "#             is_categorical_like = temp_df_combined[feature_col].dtype == 'object' or \\\n",
    "#                                   temp_df_combined[feature_col].nunique() < CATEGORICAL_THRESHOLD\n",
    "            \n",
    "#             target_0_data = temp_df_combined[temp_df_combined['Transported_numeric'] == 0][feature_col]\n",
    "#             target_1_data = temp_df_combined[temp_df_combined['Transported_numeric'] == 1][feature_col]\n",
    "\n",
    "#             if not target_0_data.empty and not target_1_data.empty:\n",
    "#                 if is_categorical_like:\n",
    "#                     props_0 = target_0_data.value_counts(normalize=True)\n",
    "#                     props_1 = target_1_data.value_counts(normalize=True)\n",
    "#                     all_categories = sorted(list(set(props_0.index) | set(props_1.index)))\n",
    "#                     props_0 = props_0.reindex(all_categories, fill_value=0)\n",
    "#                     props_1 = props_1.reindex(all_categories, fill_value=0)\n",
    "#                     diff_props = props_1 - props_0\n",
    "#                     diff_props.plot(kind='bar', ax=ax_1_3, color=['tomato' if x < 0 else 'mediumseagreen' for x in diff_props.values]) # Removed rot here\n",
    "#                     ax_1_3.tick_params(axis='x', rotation=45) # Apply rotation\n",
    "#                     plt.setp(ax_1_3.get_xticklabels(), ha='right', rotation_mode='anchor') # Ensure alignment\n",
    "#                     ax_1_3.set_ylabel('Prop(Y=1) - Prop(Y=0)')\n",
    "#                 else: \n",
    "#                     min_val = min(target_0_data.min(), target_1_data.min())\n",
    "#                     max_val = max(target_0_data.max(), target_1_data.max())\n",
    "#                     if pd.isna(min_val) or pd.isna(max_val) or min_val == max_val: # Handle NaN or single value case\n",
    "#                         bins = np.array([temp_df_combined[feature_col].min() - 0.5, temp_df_combined[feature_col].max() + 0.5]) if temp_df_combined[feature_col].nunique() > 0 else np.array([0,1])\n",
    "#                     else: \n",
    "#                         bins = np.linspace(min_val, max_val, 11)\n",
    "#                     hist_0, _ = np.histogram(target_0_data.dropna(), bins=bins, density=True) # dropna within histogram\n",
    "#                     hist_1, _ = np.histogram(target_1_data.dropna(), bins=bins, density=True) # dropna within histogram\n",
    "#                     diff_hist = hist_1 - hist_0\n",
    "#                     bin_centers = (bins[:-1] + bins[1:]) / 2\n",
    "#                     bar_width = bins[1] - bins[0] if len(bins) > 1 else 1\n",
    "#                     ax_1_3.bar(bin_centers, diff_hist, width=bar_width * 0.9, \n",
    "#                                 color=['tomato' if x < 0 else 'mediumseagreen' for x in diff_hist])\n",
    "#                     ax_1_3.set_ylabel('Density(Y=1) - Density(Y=0)')\n",
    "#                 ax_1_3.axhline(0, color='black', lw=0.8, linestyle='--')\n",
    "#                 ax_1_3.set_title('Outcome Difference by Feature Value')\n",
    "#                 ax_1_3.set_xlabel(feature_col)\n",
    "#             else:\n",
    "#                 ax_1_3.text(0.5, 0.5, \"Not enough data in one/both target groups\", ha='center', va='center', transform=ax_1_3.transAxes)\n",
    "#                 ax_1_3.set_title('Outcome Difference (Not enough data)')\n",
    "#         else:\n",
    "#             ax_1_3.text(0.5, 0.5, \"No data or no variance\\nafter NaN drop\", ha='center', va='center', transform=ax_1_3.transAxes)\n",
    "#             ax_1_3.set_title('Outcome Difference (No Data)')\n",
    "#     except Exception as e:\n",
    "#         ax_1_3.set_title('Outcome Difference (Error)')\n",
    "#         ax_1_3.text(0.5, 0.5, f\"Plot failed: {e}\", ha='center', va='center', transform=ax_1_3.transAxes, wrap=True)\n",
    "#         print(f\"  Error in Plot 1.3 for {feature_col}: {e}\")\n",
    "\n",
    "#     # --- Row 2: Statistical Significance ---\n",
    "#     ax_2_1 = axes[1, 0] \n",
    "#     ax_2_2 = axes[1, 1] \n",
    "#     ax_2_3 = axes[1, 2] \n",
    "\n",
    "#     for ax_text in [ax_2_2, ax_2_3]:\n",
    "#         ax_text.clear()\n",
    "#         ax_text.axis('off')\n",
    "\n",
    "#     current_feature_data = df_combined[[feature_col, 'Transported_numeric']].dropna(subset=[feature_col])\n",
    "#     if current_feature_data.empty or current_feature_data[feature_col].nunique() == 0: # Also check for no variance\n",
    "#         ax_2_1.text(0.5, 0.5, \"No data or no variance\\nfor stats after NaN drop\", ha='center', va='center', transform=ax_2_1.transAxes)\n",
    "#         ax_2_1.set_title('Stats (No Data)')\n",
    "#         ax_2_2.text(0.05, 0.9, \"No data or no variance for stats after NaN drop.\", fontsize=9, va='top', wrap=True)\n",
    "#         ax_2_3.text(0.05, 0.9, \"No data or no variance for stats after NaN drop.\", fontsize=9, va='top', wrap=True)\n",
    "#         fig.subplots_adjust(hspace=0.6, wspace=0.35, top=0.93, bottom=0.08, left=0.05, right=0.97)\n",
    "#         plt.show()\n",
    "#         continue \n",
    "\n",
    "#     is_categorical_feature = current_feature_data[feature_col].dtype == 'object' or \\\n",
    "#                              current_feature_data[feature_col].nunique() < CATEGORICAL_THRESHOLD\n",
    "    \n",
    "#     stats_summary_text = \"\"\n",
    "#     interpretation_text = \"\"\n",
    "\n",
    "#     if is_categorical_feature:\n",
    "#         ax_2_1.set_title(f'Proportion Transported by {feature_col}\\n(with 95% CIs)')\n",
    "#         # Ensure feature_col is treated as string for crosstab if it's not already object (e.g. boolean, int categories)\n",
    "#         contingency_table = pd.crosstab(current_feature_data[feature_col].astype(str), current_feature_data['Transported_numeric'])\n",
    "        \n",
    "#         if contingency_table.shape[0] < 1 or contingency_table.shape[1] < 2 : # Need at least 1 category and 2 outcome classes\n",
    "#             stats_summary_text += \"Chi-squared test not applicable (table too small or one outcome class missing).\\n\"\n",
    "#             ax_2_1.text(0.5,0.5, \"Too few categories or\\noutcomes for plot/test\", ha='center', va='center', transform=ax_2_1.transAxes)\n",
    "#         elif contingency_table.shape[0] < 2: # Need at least 2 categories for chi2\n",
    "#              stats_summary_text += \"Chi-squared test not applicable (needs at least 2 categories).\\n\"\n",
    "#              ax_2_1.text(0.5,0.5, \"Needs at least 2 categories for Chi2 test\", ha='center', va='center', transform=ax_2_1.transAxes)\n",
    "#         else:\n",
    "#             chi2, p_chi2, dof, expected = stats.chi2_contingency(contingency_table)\n",
    "#             stats_summary_text += f\"Chi-squared Test of Independence:\\n\"\n",
    "#             stats_summary_text += f\"  Chi2 Stat: {chi2:.2f}, P-value: {p_chi2:.3g}\\n  DOF: {dof}\\n\"\n",
    "#             interpretation_text += f\"P-value ({p_chi2:.3g}) for Chi-squared test: \"\n",
    "#             interpretation_text += \"Suggests \" + (\"a significant\" if p_chi2 < 0.05 else \"no significant\") + \\\n",
    "#                                    f\" association between {feature_col} and {y_named.name}.\\n\\n\"\n",
    "\n",
    "#             categories = contingency_table.index\n",
    "#             proportions_transported = []\n",
    "#             ci_lows = []\n",
    "#             ci_highs = []\n",
    "            \n",
    "#             for cat in categories:\n",
    "#                 count_transported = contingency_table.loc[cat, 1] if 1 in contingency_table.columns else 0\n",
    "#                 count_not_transported = contingency_table.loc[cat, 0] if 0 in contingency_table.columns else 0\n",
    "#                 n_obs_cat = count_transported + count_not_transported\n",
    "#                 if n_obs_cat > 0:\n",
    "#                     prop = count_transported / n_obs_cat\n",
    "#                     low, high = proportion_confint(count_transported, n_obs_cat, method='wilson')\n",
    "#                     proportions_transported.append(prop)\n",
    "#                     ci_lows.append(low)\n",
    "#                     ci_highs.append(high)\n",
    "#                 else: \n",
    "#                     proportions_transported.append(0)\n",
    "#                     ci_lows.append(0)\n",
    "#                     ci_highs.append(0)\n",
    "\n",
    "#             prop_df = pd.DataFrame({\n",
    "#                 'category': categories, # Already strings due to .astype(str) in crosstab\n",
    "#                 'proportion_transported': proportions_transported,\n",
    "#                 'ci_low': ci_lows,\n",
    "#                 'ci_high': ci_highs\n",
    "#             })\n",
    "            \n",
    "#             ax_2_1.bar(prop_df['category'], prop_df['proportion_transported'], \n",
    "#                        yerr=[prop_df['proportion_transported'] - prop_df['ci_low'], prop_df['ci_high'] - prop_df['proportion_transported']],\n",
    "#                        capsize=5, color='mediumseagreen', alpha=0.7)\n",
    "#             ax_2_1.set_ylabel(f'Proportion {y_named.name}')\n",
    "#             ax_2_1.tick_params(axis='x', rotation=45) # Corrected: Apply rotation\n",
    "#             plt.setp(ax_2_1.get_xticklabels(), ha='right', rotation_mode='anchor') # Corrected: Ensure alignment\n",
    "#             ax_2_1.axhline(current_feature_data['Transported_numeric'].mean(), color='grey', linestyle='--', label='Overall Mean')\n",
    "#             if not prop_df.empty: # Only add legend if there's data to plot\n",
    "#                 ax_2_1.legend(loc='best')\n",
    "\n",
    "#             interpretation_text += \"Error bars on plot show 95% CIs for proportion transported. \"\n",
    "#             interpretation_text += \"If CIs for different categories don't overlap much, \"\n",
    "#             interpretation_text += \"it suggests a significant difference in transport rates.\\n\"\n",
    "\n",
    "#     else: # Numerical feature\n",
    "#         group0 = current_feature_data[current_feature_data['Transported_numeric'] == 0][feature_col].dropna() # Ensure NaNs are out for tests\n",
    "#         group1 = current_feature_data[current_feature_data['Transported_numeric'] == 1][feature_col].dropna() # Ensure NaNs are out for tests\n",
    "\n",
    "#         ax_2_1.set_title(f'{feature_col} Distribution by Target')\n",
    "#         # For boxplot, ensure data passed has NaNs handled if seaborn version is older\n",
    "#         sns.boxplot(x='Transported_numeric', y=feature_col, data=current_feature_data.dropna(subset=[feature_col]), \n",
    "#                     ax=ax_2_1, palette=palette, hue='Transported_numeric', legend=False)\n",
    "#         ax_2_1.set_xticklabels([legend_labels[0], legend_labels[1]])\n",
    "#         ax_2_1.set_xlabel(y_named.name)\n",
    "\n",
    "#         stats_summary_text += \"Normality (Shapiro-Wilk):\\n\"\n",
    "#         norm_p0, norm_p1 = -1.0, -1.0 # Initialize as float\n",
    "#         if len(group0) >=3 : \n",
    "#             shapiro_stat0, norm_p0 = stats.shapiro(group0)\n",
    "#             stats_summary_text += f\"  Group 0 (Not Transported): p={norm_p0:.3g}\\n\"\n",
    "#         else: stats_summary_text += \"  Group 0: Too few samples for normality test.\\n\"\n",
    "#         if len(group1) >=3 :\n",
    "#             shapiro_stat1, norm_p1 = stats.shapiro(group1)\n",
    "#             stats_summary_text += f\"  Group 1 (Transported): p={norm_p1:.3g}\\n\"\n",
    "#         else: stats_summary_text += \"  Group 1: Too few samples for normality test.\\n\"\n",
    "        \n",
    "#         # Default to Mann-Whitney U if any group has < 3 samples for normality, or if normality fails\n",
    "#         use_ttest = (norm_p0 > 0.05 or len(group0) < 3) and \\\n",
    "#                     (norm_p1 > 0.05 or len(group1) < 3)\n",
    "\n",
    "#         if use_ttest and len(group0)>1 and len(group1)>1:\n",
    "#             levene_stat, levene_p = stats.levene(group0, group1)\n",
    "#             stats_summary_text += f\"Homogeneity of Variances (Levene's test): p={levene_p:.3g}\\n\"\n",
    "#             equal_var = levene_p > 0.05\n",
    "\n",
    "#             t_stat, p_ttest = stats.ttest_ind(group0, group1, equal_var=equal_var) # nan_policy='omit' is default in newer scipy\n",
    "#             stats_summary_text += f\"Independent T-test (equal_var={equal_var}):\\n\"\n",
    "#             stats_summary_text += f\"  T-statistic: {t_stat:.2f}, P-value: {p_ttest:.3g}\\n\"\n",
    "#             interpretation_text += f\"P-value ({p_ttest:.3g}) from t-test: \"\n",
    "#             interpretation_text += \"Suggests \" + (\"a significant\" if p_ttest < 0.05 else \"no significant\") + \\\n",
    "#                                    f\" difference in mean {feature_col} between groups.\\n\"\n",
    "#             ax_2_1.text(0.5, 0.95, f\"T-test p-value: {p_ttest:.3g}\", ha='center', va='top', transform=ax_2_1.transAxes, fontsize=9, color='red', bbox=dict(facecolor='white', alpha=0.7, edgecolor='none'))\n",
    "\n",
    "#         elif len(group0)>0 and len(group1)>0: \n",
    "#             try:\n",
    "#                 u_stat, p_mannwhitney = stats.mannwhitneyu(group0, group1, alternative='two-sided') # nan_policy='omit' is default\n",
    "#                 stats_summary_text += f\"Mann-Whitney U Test:\\n\"\n",
    "#                 stats_summary_text += f\"  U-statistic: {u_stat:.0f}, P-value: {p_mannwhitney:.3g}\\n\"\n",
    "#                 interpretation_text += f\"P-value ({p_mannwhitney:.3g}) from Mann-Whitney U test: \"\n",
    "#                 interpretation_text += \"Suggests \" + (\"a significant\" if p_mannwhitney < 0.05 else \"no significant\") + \\\n",
    "#                                    f\" difference in distributions of {feature_col} between groups.\\n\"\n",
    "#                 ax_2_1.text(0.5, 0.95, f\"Mann-Whitney p: {p_mannwhitney:.3g}\", ha='center', va='top', transform=ax_2_1.transAxes, fontsize=9, color='red', bbox=dict(facecolor='white', alpha=0.7, edgecolor='none'))\n",
    "#             except ValueError as e_mw: \n",
    "#                  stats_summary_text += f\"Mann-Whitney U Test: Error - {e_mw}\\n\"\n",
    "#                  interpretation_text += \"Mann-Whitney U test could not be performed (e.g., identical data in groups).\\n\"\n",
    "#         else:\n",
    "#             stats_summary_text += \"Not enough data in one or both groups for numerical tests.\\n\"\n",
    "#             interpretation_text += \"Not enough data to compare groups statistically.\\n\"\n",
    "\n",
    "#     interpretation_text += \"\\nBayesian Perspective:\\nA Bayesian approach could provide posterior distributions for parameters \"\n",
    "#     interpretation_text += \"(e.g., difference in means/proportions). This offers a richer view of uncertainty \"\n",
    "#     interpretation_text += \"and allows direct probability statements about the effect size, rather than just a p-value.\"\n",
    "\n",
    "#     ax_2_2.text(0.01, 0.98, stats_summary_text, fontsize=8, va='top', ha='left', wrap=True, family='monospace') # Reduced font size\n",
    "#     ax_2_2.set_title(\"Statistical Test Details\", fontsize=10)\n",
    "    \n",
    "#     ax_2_3.text(0.01, 0.98, interpretation_text, fontsize=8, va='top', ha='left', wrap=True) # Reduced font size\n",
    "#     ax_2_3.set_title(\"Interpretation & Bayesian Note\", fontsize=10)\n",
    "\n",
    "#     fig.subplots_adjust(hspace=0.7, wspace=0.4, top=0.93, bottom=0.12, left=0.06, right=0.97) # Adjusted spacing\n",
    "#     plt.show()\n",
    "\n",
    "# print(\"--- Finished generating all plots. ---\")\n"
   ]
  },
  {
   "cell_type": "code",
   "execution_count": 8,
   "id": "a8f8acf8-a85f-4f14-a015-096728d8f323",
   "metadata": {},
   "outputs": [],
   "source": [
    "# === Domain knowledge ===\n",
    "# Any semantic/description of features?\n",
    "# PassengerId - A unique Id for each passenger. Each Id takes the form gggg_pp where gggg indicates a group the passenger is travelling with and pp is their number within the group. People in a group are often family members, but not always.\n",
    "# HomePlanet - The planet the passenger departed from, typically their planet of permanent residence.\n",
    "# CryoSleep - Indicates whether the passenger elected to be put into suspended animation for the duration of the voyage. Passengers in cryosleep are confined to their cabins.\n",
    "# Cabin - The cabin number where the passenger is staying. Takes the form deck/num/side, where side can be either P for Port or S for Starboard.\n",
    "# Destination - The planet the passenger will be debarking to.\n",
    "# Age - The age of the passenger.\n",
    "# VIP - Whether the passenger has paid for special VIP service during the voyage.\n",
    "# RoomService, FoodCourt, ShoppingMall, Spa, VRDeck - Amount the passenger has billed at each of the Spaceship Titanic's many luxury amenities.\n",
    "# Name - The first and last names of the passenger.\n",
    "# Transported - Whether the passenger was transported to another dimension. This is the target, the column you are trying to predict."
   ]
  },
  {
   "cell_type": "code",
   "execution_count": 9,
   "id": "ddd9aeb8-a14b-4da5-ac70-11ae40f4be20",
   "metadata": {
    "scrolled": true
   },
   "outputs": [],
   "source": [
    "# from utils.eda import eda_feature_transformation_check\n",
    "# recommendation = eda_feature_transformation_check(X, y, task_type)\n"
   ]
  },
  {
   "cell_type": "code",
   "execution_count": 10,
   "id": "30388705-d456-42ff-920b-0fc4a4320813",
   "metadata": {
    "scrolled": true
   },
   "outputs": [],
   "source": [
    "# from utils.etl import run_recommended_etl, validate_X_schema, validate_y_schema\n",
    "# from utils.eda import eda_vis\n",
    "# etl_result = run_recommended_etl(dataset_name=local_dataset_name, target_column=target_column, \\\n",
    "#                                  recommendation=recommendation, task_type=task_type)\n",
    "# X_train = etl_result[\"X_train\"]\n",
    "# y_train = etl_result[\"y_train\"]\n",
    "# X_val = etl_result[\"X_val\"]\n",
    "# y_val = etl_result[\"y_val\"]"
   ]
  },
  {
   "cell_type": "code",
   "execution_count": 42,
   "id": "96454464-c0e7-4934-830a-6469ffe788a7",
   "metadata": {},
   "outputs": [
    {
     "name": "stdout",
     "output_type": "stream",
     "text": [
      "🔁 Reloaded utils.etl, utils.eda, utils.eval, utils.submission\n",
      "[PosixPath('/home/jovyan/data/space-titanic/raw/train.csv')]\n",
      "Dataset loaded successfully. Only one file loaded\n",
      "knnimpute, encode str to num, composite, drop, minmaxscale, ica\n"
     ]
    }
   ],
   "source": [
    "reload_utils()\n",
    "from utils.etl import run_default_etl, run_custom_etl\n",
    "etl_result = run_custom_etl(dataset_name=local_dataset_name, target_column=target_column)\n",
    "X_train = etl_result[\"X_train\"]\n",
    "y_train = etl_result[\"y_train\"]\n",
    "X_val = etl_result[\"X_val\"]\n",
    "y_val = etl_result[\"y_val\"]\n",
    "print(etl_result[\"etl_description\"])"
   ]
  },
  {
   "cell_type": "code",
   "execution_count": 43,
   "id": "b3061f18-2a94-49c1-bd21-5e5a337dd034",
   "metadata": {},
   "outputs": [
    {
     "name": "stdout",
     "output_type": "stream",
     "text": [
      "✅ X schema valid.\n",
      "✅ X schema valid.\n",
      "✅ y schema valid.\n",
      "✅ y schema valid.\n"
     ]
    }
   ],
   "source": [
    "from utils.etl import validate_X_schema, validate_y_schema\n",
    "validate_X_schema(X_train)\n",
    "validate_X_schema(X_val)\n",
    "validate_y_schema(y_train)\n",
    "validate_y_schema(y_val)\n",
    "# X_train.isna().sum()"
   ]
  },
  {
   "cell_type": "code",
   "execution_count": 44,
   "id": "87dfd043-5d2b-4762-a74c-2d82f81d0235",
   "metadata": {},
   "outputs": [
    {
     "name": "stdout",
     "output_type": "stream",
     "text": [
      "(6954, 52)\n",
      "(1739, 52)\n"
     ]
    }
   ],
   "source": [
    "print(X_train.shape)\n",
    "print(X_val.shape)\n",
    "# print(X_train.dtypes)"
   ]
  },
  {
   "cell_type": "code",
   "execution_count": 46,
   "id": "c194373f-13d1-4679-b1ff-971909ac9904",
   "metadata": {},
   "outputs": [
    {
     "name": "stdout",
     "output_type": "stream",
     "text": [
      "Index(['HomePlanet', 'CryoSleep', 'Destination', 'Age', 'VIP', 'total_spent',\n",
      "       'max_spend_category', 'deck', 'cabin_num', 'side',\n",
      "       'name_corr_pos_p_value', 'name_corr_pos_prob', 'name_corr_neg_p_value',\n",
      "       'name_corr_neg_prob', 'ica_1', 'ica_2', 'ica_3', 'ica_4', 'ica_5',\n",
      "       'ica_6', 'ica_7', 'kmeans_dist_0', 'kmeans_dist_1', 'kmeans_dist_2',\n",
      "       'kmeans_dist_3', 'kmeans_dist_4', 'kmeans_cluster',\n",
      "       'gmm_cluster_prob_0', 'gmm_cluster_prob_1', 'gmm_cluster_prob_2',\n",
      "       'gmm_cluster_prob_3', 'gmm_cluster_prob_4', 'has_used_RoomService',\n",
      "       'RoomService_tp25', 'RoomService_tp50', 'RoomService_tp75',\n",
      "       'has_used_FoodCourt', 'FoodCourt_tp25', 'FoodCourt_tp50',\n",
      "       'FoodCourt_tp75', 'has_used_ShoppingMall', 'ShoppingMall_tp25',\n",
      "       'ShoppingMall_tp50', 'ShoppingMall_tp75', 'has_used_Spa', 'Spa_tp25',\n",
      "       'Spa_tp50', 'Spa_tp75', 'has_used_VRDeck', 'VRDeck_tp25', 'VRDeck_tp50',\n",
      "       'VRDeck_tp75'],\n",
      "      dtype='object')\n"
     ]
    }
   ],
   "source": [
    "print(X_train.columns)"
   ]
  },
  {
   "cell_type": "code",
   "execution_count": 110,
   "id": "de795f0a-6130-4a6e-8118-4faa8e7da5da",
   "metadata": {
    "scrolled": true
   },
   "outputs": [],
   "source": [
    "# from utils.eda import eda_vis\n",
    "# # === EDA again for ETL applied dataset ===\n",
    "# eda_vis(X_train, y_train, task_type)"
   ]
  },
  {
   "cell_type": "code",
   "execution_count": 47,
   "id": "762dd9fd-68a9-4d59-b461-32f8c742c286",
   "metadata": {
    "scrolled": true
   },
   "outputs": [],
   "source": [
    "# reload_utils()\n",
    "# from utils.eda import feature_eda_vis\n",
    "# # === deep EDA for features on ETL-applied dataset ===\n",
    "# print(X_train[\"CryoSleep\"].value_counts(dropna=False))\n",
    "\n",
    "# feature_eda_vis(X_train, y_train, task_type)"
   ]
  },
  {
   "cell_type": "code",
   "execution_count": 15,
   "id": "1e118a2e-5bae-4023-893d-e40b96638928",
   "metadata": {},
   "outputs": [],
   "source": [
    "# X_train.shape"
   ]
  },
  {
   "cell_type": "code",
   "execution_count": 50,
   "id": "52a2af5c-35d0-4289-810b-387551547d2d",
   "metadata": {},
   "outputs": [
    {
     "name": "stdout",
     "output_type": "stream",
     "text": [
      "🔁 Reloaded utils.etl, utils.eda, utils.eval, utils.submission\n",
      "✅ RandomForest Accuracy (original): 0.7671\n",
      "\n",
      "📊 Top 10 Features by RF Importance:\n"
     ]
    },
    {
     "data": {
      "text/html": [
       "<div>\n",
       "<style scoped>\n",
       "    .dataframe tbody tr th:only-of-type {\n",
       "        vertical-align: middle;\n",
       "    }\n",
       "\n",
       "    .dataframe tbody tr th {\n",
       "        vertical-align: top;\n",
       "    }\n",
       "\n",
       "    .dataframe thead th {\n",
       "        text-align: right;\n",
       "    }\n",
       "</style>\n",
       "<table border=\"1\" class=\"dataframe\">\n",
       "  <thead>\n",
       "    <tr style=\"text-align: right;\">\n",
       "      <th></th>\n",
       "      <th>feature</th>\n",
       "      <th>rf_importance</th>\n",
       "      <th>mutual_info</th>\n",
       "      <th>pearson_corr</th>\n",
       "    </tr>\n",
       "  </thead>\n",
       "  <tbody>\n",
       "    <tr>\n",
       "      <th>27</th>\n",
       "      <td>gmm_cluster_prob_0</td>\n",
       "      <td>0.084542</td>\n",
       "      <td>0.026827</td>\n",
       "      <td>-0.043586</td>\n",
       "    </tr>\n",
       "    <tr>\n",
       "      <th>19</th>\n",
       "      <td>ica_6</td>\n",
       "      <td>0.062987</td>\n",
       "      <td>0.181119</td>\n",
       "      <td>-0.483854</td>\n",
       "    </tr>\n",
       "    <tr>\n",
       "      <th>5</th>\n",
       "      <td>total_spent</td>\n",
       "      <td>0.053176</td>\n",
       "      <td>0.133522</td>\n",
       "      <td>-0.200077</td>\n",
       "    </tr>\n",
       "    <tr>\n",
       "      <th>23</th>\n",
       "      <td>kmeans_dist_2</td>\n",
       "      <td>0.048285</td>\n",
       "      <td>0.110704</td>\n",
       "      <td>-0.423945</td>\n",
       "    </tr>\n",
       "    <tr>\n",
       "      <th>22</th>\n",
       "      <td>kmeans_dist_1</td>\n",
       "      <td>0.046924</td>\n",
       "      <td>0.111357</td>\n",
       "      <td>0.403972</td>\n",
       "    </tr>\n",
       "    <tr>\n",
       "      <th>14</th>\n",
       "      <td>ica_1</td>\n",
       "      <td>0.045980</td>\n",
       "      <td>0.124571</td>\n",
       "      <td>0.080091</td>\n",
       "    </tr>\n",
       "    <tr>\n",
       "      <th>6</th>\n",
       "      <td>max_spend_category</td>\n",
       "      <td>0.040505</td>\n",
       "      <td>0.083588</td>\n",
       "      <td>-0.374311</td>\n",
       "    </tr>\n",
       "    <tr>\n",
       "      <th>21</th>\n",
       "      <td>kmeans_dist_0</td>\n",
       "      <td>0.039262</td>\n",
       "      <td>0.103029</td>\n",
       "      <td>-0.400364</td>\n",
       "    </tr>\n",
       "    <tr>\n",
       "      <th>28</th>\n",
       "      <td>gmm_cluster_prob_1</td>\n",
       "      <td>0.035206</td>\n",
       "      <td>0.088315</td>\n",
       "      <td>-0.383675</td>\n",
       "    </tr>\n",
       "    <tr>\n",
       "      <th>17</th>\n",
       "      <td>ica_4</td>\n",
       "      <td>0.034617</td>\n",
       "      <td>0.056365</td>\n",
       "      <td>0.208079</td>\n",
       "    </tr>\n",
       "  </tbody>\n",
       "</table>\n",
       "</div>"
      ],
      "text/plain": [
       "               feature  rf_importance  mutual_info  pearson_corr\n",
       "27  gmm_cluster_prob_0       0.084542     0.026827     -0.043586\n",
       "19               ica_6       0.062987     0.181119     -0.483854\n",
       "5          total_spent       0.053176     0.133522     -0.200077\n",
       "23       kmeans_dist_2       0.048285     0.110704     -0.423945\n",
       "22       kmeans_dist_1       0.046924     0.111357      0.403972\n",
       "14               ica_1       0.045980     0.124571      0.080091\n",
       "6   max_spend_category       0.040505     0.083588     -0.374311\n",
       "21       kmeans_dist_0       0.039262     0.103029     -0.400364\n",
       "28  gmm_cluster_prob_1       0.035206     0.088315     -0.383675\n",
       "17               ica_4       0.034617     0.056365      0.208079"
      ]
     },
     "metadata": {},
     "output_type": "display_data"
    },
    {
     "name": "stdout",
     "output_type": "stream",
     "text": [
      "\n",
      "🧹 Least Informative Features (below threshold):\n",
      "['kmeans_dist_0', 'gmm_cluster_prob_1', 'ica_4', 'ica_7', 'ica_2', 'kmeans_dist_4', 'gmm_cluster_prob_4', 'ica_3', 'ica_5', 'cabin_num', 'kmeans_dist_3', 'gmm_cluster_prob_2', 'Age', 'CryoSleep', 'gmm_cluster_prob_3', 'RoomService_tp75', 'has_used_RoomService', 'deck', 'name_corr_neg_prob', 'name_corr_neg_p_value', 'kmeans_cluster', 'HomePlanet', 'has_used_Spa', 'name_corr_pos_prob', 'RoomService_tp50', 'Spa_tp50', 'name_corr_pos_p_value', 'RoomService_tp25', 'Spa_tp75', 'side', 'Destination', 'has_used_VRDeck', 'VRDeck_tp25', 'VRDeck_tp75', 'VRDeck_tp50', 'Spa_tp25', 'ShoppingMall_tp50', 'has_used_ShoppingMall', 'ShoppingMall_tp75', 'FoodCourt_tp75', 'FoodCourt_tp25', 'has_used_FoodCourt', 'FoodCourt_tp50', 'ShoppingMall_tp25', 'VIP']\n"
     ]
    },
    {
     "data": {
      "text/html": [
       "<div>\n",
       "<style scoped>\n",
       "    .dataframe tbody tr th:only-of-type {\n",
       "        vertical-align: middle;\n",
       "    }\n",
       "\n",
       "    .dataframe tbody tr th {\n",
       "        vertical-align: top;\n",
       "    }\n",
       "\n",
       "    .dataframe thead th {\n",
       "        text-align: right;\n",
       "    }\n",
       "</style>\n",
       "<table border=\"1\" class=\"dataframe\">\n",
       "  <thead>\n",
       "    <tr style=\"text-align: right;\">\n",
       "      <th></th>\n",
       "      <th>feature</th>\n",
       "      <th>rf_importance</th>\n",
       "      <th>mutual_info</th>\n",
       "      <th>pearson_corr</th>\n",
       "    </tr>\n",
       "  </thead>\n",
       "  <tbody>\n",
       "    <tr>\n",
       "      <th>45</th>\n",
       "      <td>Spa_tp25</td>\n",
       "      <td>0.003191</td>\n",
       "      <td>0.061448</td>\n",
       "      <td>-0.351940</td>\n",
       "    </tr>\n",
       "    <tr>\n",
       "      <th>42</th>\n",
       "      <td>ShoppingMall_tp50</td>\n",
       "      <td>0.002670</td>\n",
       "      <td>0.031664</td>\n",
       "      <td>-0.262984</td>\n",
       "    </tr>\n",
       "    <tr>\n",
       "      <th>40</th>\n",
       "      <td>has_used_ShoppingMall</td>\n",
       "      <td>0.002601</td>\n",
       "      <td>0.031711</td>\n",
       "      <td>-0.262984</td>\n",
       "    </tr>\n",
       "    <tr>\n",
       "      <th>43</th>\n",
       "      <td>ShoppingMall_tp75</td>\n",
       "      <td>0.002595</td>\n",
       "      <td>0.019127</td>\n",
       "      <td>-0.166565</td>\n",
       "    </tr>\n",
       "    <tr>\n",
       "      <th>39</th>\n",
       "      <td>FoodCourt_tp75</td>\n",
       "      <td>0.002510</td>\n",
       "      <td>0.000000</td>\n",
       "      <td>-0.110415</td>\n",
       "    </tr>\n",
       "    <tr>\n",
       "      <th>37</th>\n",
       "      <td>FoodCourt_tp25</td>\n",
       "      <td>0.002134</td>\n",
       "      <td>0.033475</td>\n",
       "      <td>-0.237233</td>\n",
       "    </tr>\n",
       "    <tr>\n",
       "      <th>36</th>\n",
       "      <td>has_used_FoodCourt</td>\n",
       "      <td>0.001996</td>\n",
       "      <td>0.036254</td>\n",
       "      <td>-0.237233</td>\n",
       "    </tr>\n",
       "    <tr>\n",
       "      <th>38</th>\n",
       "      <td>FoodCourt_tp50</td>\n",
       "      <td>0.001925</td>\n",
       "      <td>0.028676</td>\n",
       "      <td>-0.237233</td>\n",
       "    </tr>\n",
       "    <tr>\n",
       "      <th>41</th>\n",
       "      <td>ShoppingMall_tp25</td>\n",
       "      <td>0.001767</td>\n",
       "      <td>0.036050</td>\n",
       "      <td>-0.262984</td>\n",
       "    </tr>\n",
       "    <tr>\n",
       "      <th>4</th>\n",
       "      <td>VIP</td>\n",
       "      <td>0.000312</td>\n",
       "      <td>0.012699</td>\n",
       "      <td>-0.035961</td>\n",
       "    </tr>\n",
       "  </tbody>\n",
       "</table>\n",
       "</div>"
      ],
      "text/plain": [
       "                  feature  rf_importance  mutual_info  pearson_corr\n",
       "45               Spa_tp25       0.003191     0.061448     -0.351940\n",
       "42      ShoppingMall_tp50       0.002670     0.031664     -0.262984\n",
       "40  has_used_ShoppingMall       0.002601     0.031711     -0.262984\n",
       "43      ShoppingMall_tp75       0.002595     0.019127     -0.166565\n",
       "39         FoodCourt_tp75       0.002510     0.000000     -0.110415\n",
       "37         FoodCourt_tp25       0.002134     0.033475     -0.237233\n",
       "36     has_used_FoodCourt       0.001996     0.036254     -0.237233\n",
       "38         FoodCourt_tp50       0.001925     0.028676     -0.237233\n",
       "41      ShoppingMall_tp25       0.001767     0.036050     -0.262984\n",
       "4                     VIP       0.000312     0.012699     -0.035961"
      ]
     },
     "metadata": {},
     "output_type": "display_data"
    },
    {
     "name": "stdout",
     "output_type": "stream",
     "text": [
      "\n",
      "🔁 RandomForest Accuracy after dropping: 0.7579\n",
      "🔴 Degraded by -0.0092\n"
     ]
    }
   ],
   "source": [
    "reload_utils()\n",
    "from utils.eval import evaluate_feature_feedback\n",
    "\n",
    "feedback = evaluate_feature_feedback(\n",
    "    X_train,\n",
    "    y_train,\n",
    "    X_val,\n",
    "    y_val,\n",
    "    auto_tune_threshold=False,  # 🔍 enable random search\n",
    "    drop_threshold=0.04,\n",
    "    n_trials=30,\n",
    "    auto_drop=True,\n",
    ")\n",
    "\n",
    "# Use the optimized result\n",
    "# X_train = feedback[\"X_train_clean\"]\n",
    "# X_val = feedback[\"X_val_clean\"]\n"
   ]
  },
  {
   "cell_type": "markdown",
   "id": "91b35e36-d021-40e5-a664-61858691dcb5",
   "metadata": {},
   "source": [
    "##### from utils.etl import validate_X_schema, validate_y_schema\n",
    "validate_X_schema(X_train)\n",
    "validate_X_schema(X_val)\n",
    "validate_y_schema(y_train)\n",
    "validate_y_schema(y_val)"
   ]
  },
  {
   "cell_type": "code",
   "execution_count": 27,
   "id": "e625f5ac-854e-49e8-a259-265310fdbec4",
   "metadata": {
    "id": "e625f5ac-854e-49e8-a259-265310fdbec4",
    "outputId": "bddd9a12-edc4-44c3-8d85-2ae1721928fb",
    "scrolled": true
   },
   "outputs": [
    {
     "name": "stdout",
     "output_type": "stream",
     "text": [
      "defining sweep\n",
      "starting experiments\n",
      "Started MLflow run: 1c4b0ce2b7e4453bbbb7165d29438098\n"
     ]
    },
    {
     "name": "stderr",
     "output_type": "stream",
     "text": [
      "\u001b[34m\u001b[1mwandb\u001b[0m: You can find your API key in your browser here: http://wandb:8080/authorize?ref=models\n",
      "\u001b[34m\u001b[1mwandb\u001b[0m: Paste an API key from your profile and hit enter:"
     ]
    },
    {
     "name": "stdin",
     "output_type": "stream",
     "text": [
      "  ········\n"
     ]
    },
    {
     "name": "stderr",
     "output_type": "stream",
     "text": [
      "\u001b[34m\u001b[1mwandb\u001b[0m: \u001b[33mWARNING\u001b[0m If you're specifying your api key in code, ensure this code is not shared publicly.\n",
      "\u001b[34m\u001b[1mwandb\u001b[0m: \u001b[33mWARNING\u001b[0m Consider setting the WANDB_API_KEY environment variable, or running `wandb login` from the command line.\n",
      "\u001b[34m\u001b[1mwandb\u001b[0m: Appending key for wandb:8080 to your netrc file: /home/jovyan/.netrc\n",
      "\u001b[34m\u001b[1mwandb\u001b[0m: Currently logged in as: \u001b[33mben\u001b[0m to \u001b[32mhttp://wandb:8080\u001b[0m. Use \u001b[1m`wandb login --relogin`\u001b[0m to force relogin\n"
     ]
    },
    {
     "data": {
      "text/html": [
       "Tracking run with wandb version 0.19.11"
      ],
      "text/plain": [
       "<IPython.core.display.HTML object>"
      ]
     },
     "metadata": {},
     "output_type": "display_data"
    },
    {
     "data": {
      "text/html": [
       "Run data is saved locally in <code>/home/jovyan/wandb/wandb/run-20250517_210227-ca3neuxw</code>"
      ],
      "text/plain": [
       "<IPython.core.display.HTML object>"
      ]
     },
     "metadata": {},
     "output_type": "display_data"
    },
    {
     "data": {
      "text/html": [
       "Syncing run <strong><a href='http://wandb:8080/ben/kaggle_space-titanic/runs/ca3neuxw' target=\"_blank\">v31_random_forest_{'n_estimators': 50, 'max_depth': None, 'max_features': 'sqrt', 'min_samples_split': 2}</a></strong> to <a href='http://wandb:8080/ben/kaggle_space-titanic' target=\"_blank\">Weights & Biases</a> (<a href='https://wandb.me/developer-guide' target=\"_blank\">docs</a>)<br>"
      ],
      "text/plain": [
       "<IPython.core.display.HTML object>"
      ]
     },
     "metadata": {},
     "output_type": "display_data"
    },
    {
     "data": {
      "text/html": [
       " View project at <a href='http://wandb:8080/ben/kaggle_space-titanic' target=\"_blank\">http://wandb:8080/ben/kaggle_space-titanic</a>"
      ],
      "text/plain": [
       "<IPython.core.display.HTML object>"
      ]
     },
     "metadata": {},
     "output_type": "display_data"
    },
    {
     "data": {
      "text/html": [
       " View run at <a href='http://wandb:8080/ben/kaggle_space-titanic/runs/ca3neuxw' target=\"_blank\">http://wandb:8080/ben/kaggle_space-titanic/runs/ca3neuxw</a>"
      ],
      "text/plain": [
       "<IPython.core.display.HTML object>"
      ]
     },
     "metadata": {},
     "output_type": "display_data"
    },
    {
     "name": "stdout",
     "output_type": "stream",
     "text": [
      "✅ Labels already normalized, no encoding needed\n",
      "✅ Finished training sklearn model\n",
      "🏃 View run v31_random_forest_{'n_estimators': 50, 'max_depth': None, 'max_features': 'sqrt', 'min_samples_split': 2} at: http://mlflow:5000/#/experiments/2/runs/1c4b0ce2b7e4453bbbb7165d29438098\n",
      "🧪 View experiment at: http://mlflow:5000/#/experiments/2\n"
     ]
    },
    {
     "data": {
      "text/html": [],
      "text/plain": [
       "<IPython.core.display.HTML object>"
      ]
     },
     "metadata": {},
     "output_type": "display_data"
    },
    {
     "data": {
      "text/html": [
       "<br>    <style><br>        .wandb-row {<br>            display: flex;<br>            flex-direction: row;<br>            flex-wrap: wrap;<br>            justify-content: flex-start;<br>            width: 100%;<br>        }<br>        .wandb-col {<br>            display: flex;<br>            flex-direction: column;<br>            flex-basis: 100%;<br>            flex: 1;<br>            padding: 10px;<br>        }<br>    </style><br><div class=\"wandb-row\"><div class=\"wandb-col\"><h3>Run history:</h3><br/><table class=\"wandb\"><tr><td>accuracy</td><td>▁</td></tr><tr><td>f1_macro</td><td>▁</td></tr><tr><td>f1_weighted</td><td>▁</td></tr><tr><td>precision_weighted</td><td>▁</td></tr><tr><td>recall_weighted</td><td>▁</td></tr><tr><td>roc_auc</td><td>▁</td></tr></table><br/></div><div class=\"wandb-col\"><h3>Run summary:</h3><br/><table class=\"wandb\"><tr><td>accuracy</td><td>0.77803</td></tr><tr><td>f1_macro</td><td>0.778</td></tr><tr><td>f1_weighted</td><td>0.77797</td></tr><tr><td>precision_weighted</td><td>0.77866</td></tr><tr><td>recall_weighted</td><td>0.77803</td></tr><tr><td>roc_auc</td><td>0.77823</td></tr></table><br/></div></div>"
      ],
      "text/plain": [
       "<IPython.core.display.HTML object>"
      ]
     },
     "metadata": {},
     "output_type": "display_data"
    },
    {
     "data": {
      "text/html": [
       " View run <strong style=\"color:#cdcd00\">v31_random_forest_{'n_estimators': 50, 'max_depth': None, 'max_features': 'sqrt', 'min_samples_split': 2}</strong> at: <a href='http://wandb:8080/ben/kaggle_space-titanic/runs/ca3neuxw' target=\"_blank\">http://wandb:8080/ben/kaggle_space-titanic/runs/ca3neuxw</a><br> View project at: <a href='http://wandb:8080/ben/kaggle_space-titanic' target=\"_blank\">http://wandb:8080/ben/kaggle_space-titanic</a><br>Synced 5 W&B file(s), 0 media file(s), 0 artifact file(s) and 0 other file(s)"
      ],
      "text/plain": [
       "<IPython.core.display.HTML object>"
      ]
     },
     "metadata": {},
     "output_type": "display_data"
    },
    {
     "data": {
      "text/html": [
       "Find logs at: <code>/home/jovyan/wandb/wandb/run-20250517_210227-ca3neuxw/logs</code>"
      ],
      "text/plain": [
       "<IPython.core.display.HTML object>"
      ]
     },
     "metadata": {},
     "output_type": "display_data"
    },
    {
     "name": "stdout",
     "output_type": "stream",
     "text": [
      "Started MLflow run: c6e05e1c435e400da5a576dd719918ec\n"
     ]
    },
    {
     "data": {
      "text/html": [
       "Tracking run with wandb version 0.19.11"
      ],
      "text/plain": [
       "<IPython.core.display.HTML object>"
      ]
     },
     "metadata": {},
     "output_type": "display_data"
    },
    {
     "data": {
      "text/html": [
       "Run data is saved locally in <code>/home/jovyan/wandb/wandb/run-20250517_210230-64pyw094</code>"
      ],
      "text/plain": [
       "<IPython.core.display.HTML object>"
      ]
     },
     "metadata": {},
     "output_type": "display_data"
    },
    {
     "data": {
      "text/html": [
       "Syncing run <strong><a href='http://wandb:8080/ben/kaggle_space-titanic/runs/64pyw094' target=\"_blank\">v31_random_forest_{'n_estimators': 50, 'max_depth': None, 'max_features': 'sqrt', 'min_samples_split': 5}</a></strong> to <a href='http://wandb:8080/ben/kaggle_space-titanic' target=\"_blank\">Weights & Biases</a> (<a href='https://wandb.me/developer-guide' target=\"_blank\">docs</a>)<br>"
      ],
      "text/plain": [
       "<IPython.core.display.HTML object>"
      ]
     },
     "metadata": {},
     "output_type": "display_data"
    },
    {
     "data": {
      "text/html": [
       " View project at <a href='http://wandb:8080/ben/kaggle_space-titanic' target=\"_blank\">http://wandb:8080/ben/kaggle_space-titanic</a>"
      ],
      "text/plain": [
       "<IPython.core.display.HTML object>"
      ]
     },
     "metadata": {},
     "output_type": "display_data"
    },
    {
     "data": {
      "text/html": [
       " View run at <a href='http://wandb:8080/ben/kaggle_space-titanic/runs/64pyw094' target=\"_blank\">http://wandb:8080/ben/kaggle_space-titanic/runs/64pyw094</a>"
      ],
      "text/plain": [
       "<IPython.core.display.HTML object>"
      ]
     },
     "metadata": {},
     "output_type": "display_data"
    },
    {
     "name": "stdout",
     "output_type": "stream",
     "text": [
      "✅ Labels already normalized, no encoding needed\n",
      "✅ Finished training sklearn model\n",
      "🏃 View run v31_random_forest_{'n_estimators': 50, 'max_depth': None, 'max_features': 'sqrt', 'min_samples_split': 5} at: http://mlflow:5000/#/experiments/2/runs/c6e05e1c435e400da5a576dd719918ec\n",
      "🧪 View experiment at: http://mlflow:5000/#/experiments/2\n"
     ]
    },
    {
     "data": {
      "text/html": [],
      "text/plain": [
       "<IPython.core.display.HTML object>"
      ]
     },
     "metadata": {},
     "output_type": "display_data"
    },
    {
     "data": {
      "text/html": [
       "<br>    <style><br>        .wandb-row {<br>            display: flex;<br>            flex-direction: row;<br>            flex-wrap: wrap;<br>            justify-content: flex-start;<br>            width: 100%;<br>        }<br>        .wandb-col {<br>            display: flex;<br>            flex-direction: column;<br>            flex-basis: 100%;<br>            flex: 1;<br>            padding: 10px;<br>        }<br>    </style><br><div class=\"wandb-row\"><div class=\"wandb-col\"><h3>Run history:</h3><br/><table class=\"wandb\"><tr><td>accuracy</td><td>▁</td></tr><tr><td>f1_macro</td><td>▁</td></tr><tr><td>f1_weighted</td><td>▁</td></tr><tr><td>precision_weighted</td><td>▁</td></tr><tr><td>recall_weighted</td><td>▁</td></tr><tr><td>roc_auc</td><td>▁</td></tr></table><br/></div><div class=\"wandb-col\"><h3>Run summary:</h3><br/><table class=\"wandb\"><tr><td>accuracy</td><td>0.77688</td></tr><tr><td>f1_macro</td><td>0.77688</td></tr><tr><td>f1_weighted</td><td>0.77687</td></tr><tr><td>precision_weighted</td><td>0.7772</td></tr><tr><td>recall_weighted</td><td>0.77688</td></tr><tr><td>roc_auc</td><td>0.77701</td></tr></table><br/></div></div>"
      ],
      "text/plain": [
       "<IPython.core.display.HTML object>"
      ]
     },
     "metadata": {},
     "output_type": "display_data"
    },
    {
     "data": {
      "text/html": [
       " View run <strong style=\"color:#cdcd00\">v31_random_forest_{'n_estimators': 50, 'max_depth': None, 'max_features': 'sqrt', 'min_samples_split': 5}</strong> at: <a href='http://wandb:8080/ben/kaggle_space-titanic/runs/64pyw094' target=\"_blank\">http://wandb:8080/ben/kaggle_space-titanic/runs/64pyw094</a><br> View project at: <a href='http://wandb:8080/ben/kaggle_space-titanic' target=\"_blank\">http://wandb:8080/ben/kaggle_space-titanic</a><br>Synced 5 W&B file(s), 0 media file(s), 0 artifact file(s) and 0 other file(s)"
      ],
      "text/plain": [
       "<IPython.core.display.HTML object>"
      ]
     },
     "metadata": {},
     "output_type": "display_data"
    },
    {
     "data": {
      "text/html": [
       "Find logs at: <code>/home/jovyan/wandb/wandb/run-20250517_210230-64pyw094/logs</code>"
      ],
      "text/plain": [
       "<IPython.core.display.HTML object>"
      ]
     },
     "metadata": {},
     "output_type": "display_data"
    },
    {
     "name": "stdout",
     "output_type": "stream",
     "text": [
      "Started MLflow run: 87be43ecd6834b77b4061169dc6d6b73\n"
     ]
    },
    {
     "data": {
      "text/html": [
       "Tracking run with wandb version 0.19.11"
      ],
      "text/plain": [
       "<IPython.core.display.HTML object>"
      ]
     },
     "metadata": {},
     "output_type": "display_data"
    },
    {
     "data": {
      "text/html": [
       "Run data is saved locally in <code>/home/jovyan/wandb/wandb/run-20250517_210232-dr17dwwj</code>"
      ],
      "text/plain": [
       "<IPython.core.display.HTML object>"
      ]
     },
     "metadata": {},
     "output_type": "display_data"
    },
    {
     "data": {
      "text/html": [
       "Syncing run <strong><a href='http://wandb:8080/ben/kaggle_space-titanic/runs/dr17dwwj' target=\"_blank\">v31_random_forest_{'n_estimators': 50, 'max_depth': None, 'max_features': 'log2', 'min_samples_split': 2}</a></strong> to <a href='http://wandb:8080/ben/kaggle_space-titanic' target=\"_blank\">Weights & Biases</a> (<a href='https://wandb.me/developer-guide' target=\"_blank\">docs</a>)<br>"
      ],
      "text/plain": [
       "<IPython.core.display.HTML object>"
      ]
     },
     "metadata": {},
     "output_type": "display_data"
    },
    {
     "data": {
      "text/html": [
       " View project at <a href='http://wandb:8080/ben/kaggle_space-titanic' target=\"_blank\">http://wandb:8080/ben/kaggle_space-titanic</a>"
      ],
      "text/plain": [
       "<IPython.core.display.HTML object>"
      ]
     },
     "metadata": {},
     "output_type": "display_data"
    },
    {
     "data": {
      "text/html": [
       " View run at <a href='http://wandb:8080/ben/kaggle_space-titanic/runs/dr17dwwj' target=\"_blank\">http://wandb:8080/ben/kaggle_space-titanic/runs/dr17dwwj</a>"
      ],
      "text/plain": [
       "<IPython.core.display.HTML object>"
      ]
     },
     "metadata": {},
     "output_type": "display_data"
    },
    {
     "name": "stdout",
     "output_type": "stream",
     "text": [
      "✅ Labels already normalized, no encoding needed\n",
      "✅ Finished training sklearn model\n",
      "🏃 View run v31_random_forest_{'n_estimators': 50, 'max_depth': None, 'max_features': 'log2', 'min_samples_split': 2} at: http://mlflow:5000/#/experiments/2/runs/87be43ecd6834b77b4061169dc6d6b73\n",
      "🧪 View experiment at: http://mlflow:5000/#/experiments/2\n"
     ]
    },
    {
     "data": {
      "text/html": [],
      "text/plain": [
       "<IPython.core.display.HTML object>"
      ]
     },
     "metadata": {},
     "output_type": "display_data"
    },
    {
     "data": {
      "text/html": [
       "<br>    <style><br>        .wandb-row {<br>            display: flex;<br>            flex-direction: row;<br>            flex-wrap: wrap;<br>            justify-content: flex-start;<br>            width: 100%;<br>        }<br>        .wandb-col {<br>            display: flex;<br>            flex-direction: column;<br>            flex-basis: 100%;<br>            flex: 1;<br>            padding: 10px;<br>        }<br>    </style><br><div class=\"wandb-row\"><div class=\"wandb-col\"><h3>Run history:</h3><br/><table class=\"wandb\"><tr><td>accuracy</td><td>▁</td></tr><tr><td>f1_macro</td><td>▁</td></tr><tr><td>f1_weighted</td><td>▁</td></tr><tr><td>precision_weighted</td><td>▁</td></tr><tr><td>recall_weighted</td><td>▁</td></tr><tr><td>roc_auc</td><td>▁</td></tr></table><br/></div><div class=\"wandb-col\"><h3>Run summary:</h3><br/><table class=\"wandb\"><tr><td>accuracy</td><td>0.77286</td></tr><tr><td>f1_macro</td><td>0.77281</td></tr><tr><td>f1_weighted</td><td>0.77278</td></tr><tr><td>precision_weighted</td><td>0.77357</td></tr><tr><td>recall_weighted</td><td>0.77286</td></tr><tr><td>roc_auc</td><td>0.77307</td></tr></table><br/></div></div>"
      ],
      "text/plain": [
       "<IPython.core.display.HTML object>"
      ]
     },
     "metadata": {},
     "output_type": "display_data"
    },
    {
     "data": {
      "text/html": [
       " View run <strong style=\"color:#cdcd00\">v31_random_forest_{'n_estimators': 50, 'max_depth': None, 'max_features': 'log2', 'min_samples_split': 2}</strong> at: <a href='http://wandb:8080/ben/kaggle_space-titanic/runs/dr17dwwj' target=\"_blank\">http://wandb:8080/ben/kaggle_space-titanic/runs/dr17dwwj</a><br> View project at: <a href='http://wandb:8080/ben/kaggle_space-titanic' target=\"_blank\">http://wandb:8080/ben/kaggle_space-titanic</a><br>Synced 5 W&B file(s), 0 media file(s), 0 artifact file(s) and 0 other file(s)"
      ],
      "text/plain": [
       "<IPython.core.display.HTML object>"
      ]
     },
     "metadata": {},
     "output_type": "display_data"
    },
    {
     "data": {
      "text/html": [
       "Find logs at: <code>/home/jovyan/wandb/wandb/run-20250517_210232-dr17dwwj/logs</code>"
      ],
      "text/plain": [
       "<IPython.core.display.HTML object>"
      ]
     },
     "metadata": {},
     "output_type": "display_data"
    },
    {
     "name": "stdout",
     "output_type": "stream",
     "text": [
      "Started MLflow run: 9d6d2359333c4b198fbca3e69f76fd2e\n"
     ]
    },
    {
     "data": {
      "text/html": [
       "Tracking run with wandb version 0.19.11"
      ],
      "text/plain": [
       "<IPython.core.display.HTML object>"
      ]
     },
     "metadata": {},
     "output_type": "display_data"
    },
    {
     "data": {
      "text/html": [
       "Run data is saved locally in <code>/home/jovyan/wandb/wandb/run-20250517_210234-2q2tdvuv</code>"
      ],
      "text/plain": [
       "<IPython.core.display.HTML object>"
      ]
     },
     "metadata": {},
     "output_type": "display_data"
    },
    {
     "data": {
      "text/html": [
       "Syncing run <strong><a href='http://wandb:8080/ben/kaggle_space-titanic/runs/2q2tdvuv' target=\"_blank\">v31_random_forest_{'n_estimators': 50, 'max_depth': None, 'max_features': 'log2', 'min_samples_split': 5}</a></strong> to <a href='http://wandb:8080/ben/kaggle_space-titanic' target=\"_blank\">Weights & Biases</a> (<a href='https://wandb.me/developer-guide' target=\"_blank\">docs</a>)<br>"
      ],
      "text/plain": [
       "<IPython.core.display.HTML object>"
      ]
     },
     "metadata": {},
     "output_type": "display_data"
    },
    {
     "data": {
      "text/html": [
       " View project at <a href='http://wandb:8080/ben/kaggle_space-titanic' target=\"_blank\">http://wandb:8080/ben/kaggle_space-titanic</a>"
      ],
      "text/plain": [
       "<IPython.core.display.HTML object>"
      ]
     },
     "metadata": {},
     "output_type": "display_data"
    },
    {
     "data": {
      "text/html": [
       " View run at <a href='http://wandb:8080/ben/kaggle_space-titanic/runs/2q2tdvuv' target=\"_blank\">http://wandb:8080/ben/kaggle_space-titanic/runs/2q2tdvuv</a>"
      ],
      "text/plain": [
       "<IPython.core.display.HTML object>"
      ]
     },
     "metadata": {},
     "output_type": "display_data"
    },
    {
     "name": "stdout",
     "output_type": "stream",
     "text": [
      "✅ Labels already normalized, no encoding needed\n",
      "✅ Finished training sklearn model\n",
      "🏃 View run v31_random_forest_{'n_estimators': 50, 'max_depth': None, 'max_features': 'log2', 'min_samples_split': 5} at: http://mlflow:5000/#/experiments/2/runs/9d6d2359333c4b198fbca3e69f76fd2e\n",
      "🧪 View experiment at: http://mlflow:5000/#/experiments/2\n"
     ]
    },
    {
     "data": {
      "text/html": [],
      "text/plain": [
       "<IPython.core.display.HTML object>"
      ]
     },
     "metadata": {},
     "output_type": "display_data"
    },
    {
     "data": {
      "text/html": [
       "<br>    <style><br>        .wandb-row {<br>            display: flex;<br>            flex-direction: row;<br>            flex-wrap: wrap;<br>            justify-content: flex-start;<br>            width: 100%;<br>        }<br>        .wandb-col {<br>            display: flex;<br>            flex-direction: column;<br>            flex-basis: 100%;<br>            flex: 1;<br>            padding: 10px;<br>        }<br>    </style><br><div class=\"wandb-row\"><div class=\"wandb-col\"><h3>Run history:</h3><br/><table class=\"wandb\"><tr><td>accuracy</td><td>▁</td></tr><tr><td>f1_macro</td><td>▁</td></tr><tr><td>f1_weighted</td><td>▁</td></tr><tr><td>precision_weighted</td><td>▁</td></tr><tr><td>recall_weighted</td><td>▁</td></tr><tr><td>roc_auc</td><td>▁</td></tr></table><br/></div><div class=\"wandb-col\"><h3>Run summary:</h3><br/><table class=\"wandb\"><tr><td>accuracy</td><td>0.77343</td></tr><tr><td>f1_macro</td><td>0.77343</td></tr><tr><td>f1_weighted</td><td>0.77342</td></tr><tr><td>precision_weighted</td><td>0.77374</td></tr><tr><td>recall_weighted</td><td>0.77343</td></tr><tr><td>roc_auc</td><td>0.77356</td></tr></table><br/></div></div>"
      ],
      "text/plain": [
       "<IPython.core.display.HTML object>"
      ]
     },
     "metadata": {},
     "output_type": "display_data"
    },
    {
     "data": {
      "text/html": [
       " View run <strong style=\"color:#cdcd00\">v31_random_forest_{'n_estimators': 50, 'max_depth': None, 'max_features': 'log2', 'min_samples_split': 5}</strong> at: <a href='http://wandb:8080/ben/kaggle_space-titanic/runs/2q2tdvuv' target=\"_blank\">http://wandb:8080/ben/kaggle_space-titanic/runs/2q2tdvuv</a><br> View project at: <a href='http://wandb:8080/ben/kaggle_space-titanic' target=\"_blank\">http://wandb:8080/ben/kaggle_space-titanic</a><br>Synced 5 W&B file(s), 0 media file(s), 0 artifact file(s) and 0 other file(s)"
      ],
      "text/plain": [
       "<IPython.core.display.HTML object>"
      ]
     },
     "metadata": {},
     "output_type": "display_data"
    },
    {
     "data": {
      "text/html": [
       "Find logs at: <code>/home/jovyan/wandb/wandb/run-20250517_210234-2q2tdvuv/logs</code>"
      ],
      "text/plain": [
       "<IPython.core.display.HTML object>"
      ]
     },
     "metadata": {},
     "output_type": "display_data"
    },
    {
     "name": "stdout",
     "output_type": "stream",
     "text": [
      "Started MLflow run: c5d2c88e21164219b44450c1cc1d2ccc\n"
     ]
    },
    {
     "data": {
      "text/html": [
       "Tracking run with wandb version 0.19.11"
      ],
      "text/plain": [
       "<IPython.core.display.HTML object>"
      ]
     },
     "metadata": {},
     "output_type": "display_data"
    },
    {
     "data": {
      "text/html": [
       "Run data is saved locally in <code>/home/jovyan/wandb/wandb/run-20250517_210236-iomt362h</code>"
      ],
      "text/plain": [
       "<IPython.core.display.HTML object>"
      ]
     },
     "metadata": {},
     "output_type": "display_data"
    },
    {
     "data": {
      "text/html": [
       "Syncing run <strong><a href='http://wandb:8080/ben/kaggle_space-titanic/runs/iomt362h' target=\"_blank\">v31_random_forest_{'n_estimators': 50, 'max_depth': 10, 'max_features': 'sqrt', 'min_samples_split': 2}</a></strong> to <a href='http://wandb:8080/ben/kaggle_space-titanic' target=\"_blank\">Weights & Biases</a> (<a href='https://wandb.me/developer-guide' target=\"_blank\">docs</a>)<br>"
      ],
      "text/plain": [
       "<IPython.core.display.HTML object>"
      ]
     },
     "metadata": {},
     "output_type": "display_data"
    },
    {
     "data": {
      "text/html": [
       " View project at <a href='http://wandb:8080/ben/kaggle_space-titanic' target=\"_blank\">http://wandb:8080/ben/kaggle_space-titanic</a>"
      ],
      "text/plain": [
       "<IPython.core.display.HTML object>"
      ]
     },
     "metadata": {},
     "output_type": "display_data"
    },
    {
     "data": {
      "text/html": [
       " View run at <a href='http://wandb:8080/ben/kaggle_space-titanic/runs/iomt362h' target=\"_blank\">http://wandb:8080/ben/kaggle_space-titanic/runs/iomt362h</a>"
      ],
      "text/plain": [
       "<IPython.core.display.HTML object>"
      ]
     },
     "metadata": {},
     "output_type": "display_data"
    },
    {
     "name": "stdout",
     "output_type": "stream",
     "text": [
      "✅ Labels already normalized, no encoding needed\n",
      "✅ Finished training sklearn model\n",
      "🏃 View run v31_random_forest_{'n_estimators': 50, 'max_depth': 10, 'max_features': 'sqrt', 'min_samples_split': 2} at: http://mlflow:5000/#/experiments/2/runs/c5d2c88e21164219b44450c1cc1d2ccc\n",
      "🧪 View experiment at: http://mlflow:5000/#/experiments/2\n"
     ]
    },
    {
     "data": {
      "text/html": [],
      "text/plain": [
       "<IPython.core.display.HTML object>"
      ]
     },
     "metadata": {},
     "output_type": "display_data"
    },
    {
     "data": {
      "text/html": [
       "<br>    <style><br>        .wandb-row {<br>            display: flex;<br>            flex-direction: row;<br>            flex-wrap: wrap;<br>            justify-content: flex-start;<br>            width: 100%;<br>        }<br>        .wandb-col {<br>            display: flex;<br>            flex-direction: column;<br>            flex-basis: 100%;<br>            flex: 1;<br>            padding: 10px;<br>        }<br>    </style><br><div class=\"wandb-row\"><div class=\"wandb-col\"><h3>Run history:</h3><br/><table class=\"wandb\"><tr><td>accuracy</td><td>▁</td></tr><tr><td>f1_macro</td><td>▁</td></tr><tr><td>f1_weighted</td><td>▁</td></tr><tr><td>precision_weighted</td><td>▁</td></tr><tr><td>recall_weighted</td><td>▁</td></tr><tr><td>roc_auc</td><td>▁</td></tr></table><br/></div><div class=\"wandb-col\"><h3>Run summary:</h3><br/><table class=\"wandb\"><tr><td>accuracy</td><td>0.78206</td></tr><tr><td>f1_macro</td><td>0.78183</td></tr><tr><td>f1_weighted</td><td>0.7819</td></tr><tr><td>precision_weighted</td><td>0.78253</td></tr><tr><td>recall_weighted</td><td>0.78206</td></tr><tr><td>roc_auc</td><td>0.78182</td></tr></table><br/></div></div>"
      ],
      "text/plain": [
       "<IPython.core.display.HTML object>"
      ]
     },
     "metadata": {},
     "output_type": "display_data"
    },
    {
     "data": {
      "text/html": [
       " View run <strong style=\"color:#cdcd00\">v31_random_forest_{'n_estimators': 50, 'max_depth': 10, 'max_features': 'sqrt', 'min_samples_split': 2}</strong> at: <a href='http://wandb:8080/ben/kaggle_space-titanic/runs/iomt362h' target=\"_blank\">http://wandb:8080/ben/kaggle_space-titanic/runs/iomt362h</a><br> View project at: <a href='http://wandb:8080/ben/kaggle_space-titanic' target=\"_blank\">http://wandb:8080/ben/kaggle_space-titanic</a><br>Synced 5 W&B file(s), 0 media file(s), 0 artifact file(s) and 0 other file(s)"
      ],
      "text/plain": [
       "<IPython.core.display.HTML object>"
      ]
     },
     "metadata": {},
     "output_type": "display_data"
    },
    {
     "data": {
      "text/html": [
       "Find logs at: <code>/home/jovyan/wandb/wandb/run-20250517_210236-iomt362h/logs</code>"
      ],
      "text/plain": [
       "<IPython.core.display.HTML object>"
      ]
     },
     "metadata": {},
     "output_type": "display_data"
    },
    {
     "name": "stdout",
     "output_type": "stream",
     "text": [
      "Started MLflow run: f1e99b1edcc34931a30da418a658ec76\n"
     ]
    },
    {
     "data": {
      "text/html": [
       "Tracking run with wandb version 0.19.11"
      ],
      "text/plain": [
       "<IPython.core.display.HTML object>"
      ]
     },
     "metadata": {},
     "output_type": "display_data"
    },
    {
     "data": {
      "text/html": [
       "Run data is saved locally in <code>/home/jovyan/wandb/wandb/run-20250517_210237-kh1uycs1</code>"
      ],
      "text/plain": [
       "<IPython.core.display.HTML object>"
      ]
     },
     "metadata": {},
     "output_type": "display_data"
    },
    {
     "data": {
      "text/html": [
       "Syncing run <strong><a href='http://wandb:8080/ben/kaggle_space-titanic/runs/kh1uycs1' target=\"_blank\">v31_random_forest_{'n_estimators': 50, 'max_depth': 10, 'max_features': 'sqrt', 'min_samples_split': 5}</a></strong> to <a href='http://wandb:8080/ben/kaggle_space-titanic' target=\"_blank\">Weights & Biases</a> (<a href='https://wandb.me/developer-guide' target=\"_blank\">docs</a>)<br>"
      ],
      "text/plain": [
       "<IPython.core.display.HTML object>"
      ]
     },
     "metadata": {},
     "output_type": "display_data"
    },
    {
     "data": {
      "text/html": [
       " View project at <a href='http://wandb:8080/ben/kaggle_space-titanic' target=\"_blank\">http://wandb:8080/ben/kaggle_space-titanic</a>"
      ],
      "text/plain": [
       "<IPython.core.display.HTML object>"
      ]
     },
     "metadata": {},
     "output_type": "display_data"
    },
    {
     "data": {
      "text/html": [
       " View run at <a href='http://wandb:8080/ben/kaggle_space-titanic/runs/kh1uycs1' target=\"_blank\">http://wandb:8080/ben/kaggle_space-titanic/runs/kh1uycs1</a>"
      ],
      "text/plain": [
       "<IPython.core.display.HTML object>"
      ]
     },
     "metadata": {},
     "output_type": "display_data"
    },
    {
     "name": "stdout",
     "output_type": "stream",
     "text": [
      "✅ Labels already normalized, no encoding needed\n",
      "✅ Finished training sklearn model\n",
      "🏃 View run v31_random_forest_{'n_estimators': 50, 'max_depth': 10, 'max_features': 'sqrt', 'min_samples_split': 5} at: http://mlflow:5000/#/experiments/2/runs/f1e99b1edcc34931a30da418a658ec76\n",
      "🧪 View experiment at: http://mlflow:5000/#/experiments/2\n"
     ]
    },
    {
     "data": {
      "text/html": [],
      "text/plain": [
       "<IPython.core.display.HTML object>"
      ]
     },
     "metadata": {},
     "output_type": "display_data"
    },
    {
     "data": {
      "text/html": [
       "<br>    <style><br>        .wandb-row {<br>            display: flex;<br>            flex-direction: row;<br>            flex-wrap: wrap;<br>            justify-content: flex-start;<br>            width: 100%;<br>        }<br>        .wandb-col {<br>            display: flex;<br>            flex-direction: column;<br>            flex-basis: 100%;<br>            flex: 1;<br>            padding: 10px;<br>        }<br>    </style><br><div class=\"wandb-row\"><div class=\"wandb-col\"><h3>Run history:</h3><br/><table class=\"wandb\"><tr><td>accuracy</td><td>▁</td></tr><tr><td>f1_macro</td><td>▁</td></tr><tr><td>f1_weighted</td><td>▁</td></tr><tr><td>precision_weighted</td><td>▁</td></tr><tr><td>recall_weighted</td><td>▁</td></tr><tr><td>roc_auc</td><td>▁</td></tr></table><br/></div><div class=\"wandb-col\"><h3>Run summary:</h3><br/><table class=\"wandb\"><tr><td>accuracy</td><td>0.78723</td></tr><tr><td>f1_macro</td><td>0.78715</td></tr><tr><td>f1_weighted</td><td>0.78719</td></tr><tr><td>precision_weighted</td><td>0.78731</td></tr><tr><td>recall_weighted</td><td>0.78723</td></tr><tr><td>roc_auc</td><td>0.78711</td></tr></table><br/></div></div>"
      ],
      "text/plain": [
       "<IPython.core.display.HTML object>"
      ]
     },
     "metadata": {},
     "output_type": "display_data"
    },
    {
     "data": {
      "text/html": [
       " View run <strong style=\"color:#cdcd00\">v31_random_forest_{'n_estimators': 50, 'max_depth': 10, 'max_features': 'sqrt', 'min_samples_split': 5}</strong> at: <a href='http://wandb:8080/ben/kaggle_space-titanic/runs/kh1uycs1' target=\"_blank\">http://wandb:8080/ben/kaggle_space-titanic/runs/kh1uycs1</a><br> View project at: <a href='http://wandb:8080/ben/kaggle_space-titanic' target=\"_blank\">http://wandb:8080/ben/kaggle_space-titanic</a><br>Synced 5 W&B file(s), 0 media file(s), 0 artifact file(s) and 0 other file(s)"
      ],
      "text/plain": [
       "<IPython.core.display.HTML object>"
      ]
     },
     "metadata": {},
     "output_type": "display_data"
    },
    {
     "data": {
      "text/html": [
       "Find logs at: <code>/home/jovyan/wandb/wandb/run-20250517_210237-kh1uycs1/logs</code>"
      ],
      "text/plain": [
       "<IPython.core.display.HTML object>"
      ]
     },
     "metadata": {},
     "output_type": "display_data"
    },
    {
     "name": "stdout",
     "output_type": "stream",
     "text": [
      "Started MLflow run: edac5dcb967d4142926cfab6757cc124\n"
     ]
    },
    {
     "data": {
      "text/html": [
       "Tracking run with wandb version 0.19.11"
      ],
      "text/plain": [
       "<IPython.core.display.HTML object>"
      ]
     },
     "metadata": {},
     "output_type": "display_data"
    },
    {
     "data": {
      "text/html": [
       "Run data is saved locally in <code>/home/jovyan/wandb/wandb/run-20250517_210239-uc2mk5rd</code>"
      ],
      "text/plain": [
       "<IPython.core.display.HTML object>"
      ]
     },
     "metadata": {},
     "output_type": "display_data"
    },
    {
     "data": {
      "text/html": [
       "Syncing run <strong><a href='http://wandb:8080/ben/kaggle_space-titanic/runs/uc2mk5rd' target=\"_blank\">v31_random_forest_{'n_estimators': 50, 'max_depth': 10, 'max_features': 'log2', 'min_samples_split': 2}</a></strong> to <a href='http://wandb:8080/ben/kaggle_space-titanic' target=\"_blank\">Weights & Biases</a> (<a href='https://wandb.me/developer-guide' target=\"_blank\">docs</a>)<br>"
      ],
      "text/plain": [
       "<IPython.core.display.HTML object>"
      ]
     },
     "metadata": {},
     "output_type": "display_data"
    },
    {
     "data": {
      "text/html": [
       " View project at <a href='http://wandb:8080/ben/kaggle_space-titanic' target=\"_blank\">http://wandb:8080/ben/kaggle_space-titanic</a>"
      ],
      "text/plain": [
       "<IPython.core.display.HTML object>"
      ]
     },
     "metadata": {},
     "output_type": "display_data"
    },
    {
     "data": {
      "text/html": [
       " View run at <a href='http://wandb:8080/ben/kaggle_space-titanic/runs/uc2mk5rd' target=\"_blank\">http://wandb:8080/ben/kaggle_space-titanic/runs/uc2mk5rd</a>"
      ],
      "text/plain": [
       "<IPython.core.display.HTML object>"
      ]
     },
     "metadata": {},
     "output_type": "display_data"
    },
    {
     "name": "stdout",
     "output_type": "stream",
     "text": [
      "✅ Labels already normalized, no encoding needed\n",
      "✅ Finished training sklearn model\n",
      "🏃 View run v31_random_forest_{'n_estimators': 50, 'max_depth': 10, 'max_features': 'log2', 'min_samples_split': 2} at: http://mlflow:5000/#/experiments/2/runs/edac5dcb967d4142926cfab6757cc124\n",
      "🧪 View experiment at: http://mlflow:5000/#/experiments/2\n"
     ]
    },
    {
     "data": {
      "text/html": [],
      "text/plain": [
       "<IPython.core.display.HTML object>"
      ]
     },
     "metadata": {},
     "output_type": "display_data"
    },
    {
     "data": {
      "text/html": [
       "<br>    <style><br>        .wandb-row {<br>            display: flex;<br>            flex-direction: row;<br>            flex-wrap: wrap;<br>            justify-content: flex-start;<br>            width: 100%;<br>        }<br>        .wandb-col {<br>            display: flex;<br>            flex-direction: column;<br>            flex-basis: 100%;<br>            flex: 1;<br>            padding: 10px;<br>        }<br>    </style><br><div class=\"wandb-row\"><div class=\"wandb-col\"><h3>Run history:</h3><br/><table class=\"wandb\"><tr><td>accuracy</td><td>▁</td></tr><tr><td>f1_macro</td><td>▁</td></tr><tr><td>f1_weighted</td><td>▁</td></tr><tr><td>precision_weighted</td><td>▁</td></tr><tr><td>recall_weighted</td><td>▁</td></tr><tr><td>roc_auc</td><td>▁</td></tr></table><br/></div><div class=\"wandb-col\"><h3>Run summary:</h3><br/><table class=\"wandb\"><tr><td>accuracy</td><td>0.78493</td></tr><tr><td>f1_macro</td><td>0.7849</td></tr><tr><td>f1_weighted</td><td>0.78492</td></tr><tr><td>precision_weighted</td><td>0.78493</td></tr><tr><td>recall_weighted</td><td>0.78493</td></tr><tr><td>roc_auc</td><td>0.78488</td></tr></table><br/></div></div>"
      ],
      "text/plain": [
       "<IPython.core.display.HTML object>"
      ]
     },
     "metadata": {},
     "output_type": "display_data"
    },
    {
     "data": {
      "text/html": [
       " View run <strong style=\"color:#cdcd00\">v31_random_forest_{'n_estimators': 50, 'max_depth': 10, 'max_features': 'log2', 'min_samples_split': 2}</strong> at: <a href='http://wandb:8080/ben/kaggle_space-titanic/runs/uc2mk5rd' target=\"_blank\">http://wandb:8080/ben/kaggle_space-titanic/runs/uc2mk5rd</a><br> View project at: <a href='http://wandb:8080/ben/kaggle_space-titanic' target=\"_blank\">http://wandb:8080/ben/kaggle_space-titanic</a><br>Synced 5 W&B file(s), 0 media file(s), 0 artifact file(s) and 0 other file(s)"
      ],
      "text/plain": [
       "<IPython.core.display.HTML object>"
      ]
     },
     "metadata": {},
     "output_type": "display_data"
    },
    {
     "data": {
      "text/html": [
       "Find logs at: <code>/home/jovyan/wandb/wandb/run-20250517_210239-uc2mk5rd/logs</code>"
      ],
      "text/plain": [
       "<IPython.core.display.HTML object>"
      ]
     },
     "metadata": {},
     "output_type": "display_data"
    },
    {
     "name": "stdout",
     "output_type": "stream",
     "text": [
      "Started MLflow run: 89f8c47bf8c5403fb72c20f41c14002f\n"
     ]
    },
    {
     "data": {
      "text/html": [
       "Tracking run with wandb version 0.19.11"
      ],
      "text/plain": [
       "<IPython.core.display.HTML object>"
      ]
     },
     "metadata": {},
     "output_type": "display_data"
    },
    {
     "data": {
      "text/html": [
       "Run data is saved locally in <code>/home/jovyan/wandb/wandb/run-20250517_210241-jwsqfdru</code>"
      ],
      "text/plain": [
       "<IPython.core.display.HTML object>"
      ]
     },
     "metadata": {},
     "output_type": "display_data"
    },
    {
     "data": {
      "text/html": [
       "Syncing run <strong><a href='http://wandb:8080/ben/kaggle_space-titanic/runs/jwsqfdru' target=\"_blank\">v31_random_forest_{'n_estimators': 50, 'max_depth': 10, 'max_features': 'log2', 'min_samples_split': 5}</a></strong> to <a href='http://wandb:8080/ben/kaggle_space-titanic' target=\"_blank\">Weights & Biases</a> (<a href='https://wandb.me/developer-guide' target=\"_blank\">docs</a>)<br>"
      ],
      "text/plain": [
       "<IPython.core.display.HTML object>"
      ]
     },
     "metadata": {},
     "output_type": "display_data"
    },
    {
     "data": {
      "text/html": [
       " View project at <a href='http://wandb:8080/ben/kaggle_space-titanic' target=\"_blank\">http://wandb:8080/ben/kaggle_space-titanic</a>"
      ],
      "text/plain": [
       "<IPython.core.display.HTML object>"
      ]
     },
     "metadata": {},
     "output_type": "display_data"
    },
    {
     "data": {
      "text/html": [
       " View run at <a href='http://wandb:8080/ben/kaggle_space-titanic/runs/jwsqfdru' target=\"_blank\">http://wandb:8080/ben/kaggle_space-titanic/runs/jwsqfdru</a>"
      ],
      "text/plain": [
       "<IPython.core.display.HTML object>"
      ]
     },
     "metadata": {},
     "output_type": "display_data"
    },
    {
     "name": "stdout",
     "output_type": "stream",
     "text": [
      "✅ Labels already normalized, no encoding needed\n",
      "✅ Finished training sklearn model\n",
      "🏃 View run v31_random_forest_{'n_estimators': 50, 'max_depth': 10, 'max_features': 'log2', 'min_samples_split': 5} at: http://mlflow:5000/#/experiments/2/runs/89f8c47bf8c5403fb72c20f41c14002f\n",
      "🧪 View experiment at: http://mlflow:5000/#/experiments/2\n"
     ]
    },
    {
     "data": {
      "text/html": [],
      "text/plain": [
       "<IPython.core.display.HTML object>"
      ]
     },
     "metadata": {},
     "output_type": "display_data"
    },
    {
     "data": {
      "text/html": [
       "<br>    <style><br>        .wandb-row {<br>            display: flex;<br>            flex-direction: row;<br>            flex-wrap: wrap;<br>            justify-content: flex-start;<br>            width: 100%;<br>        }<br>        .wandb-col {<br>            display: flex;<br>            flex-direction: column;<br>            flex-basis: 100%;<br>            flex: 1;<br>            padding: 10px;<br>        }<br>    </style><br><div class=\"wandb-row\"><div class=\"wandb-col\"><h3>Run history:</h3><br/><table class=\"wandb\"><tr><td>accuracy</td><td>▁</td></tr><tr><td>f1_macro</td><td>▁</td></tr><tr><td>f1_weighted</td><td>▁</td></tr><tr><td>precision_weighted</td><td>▁</td></tr><tr><td>recall_weighted</td><td>▁</td></tr><tr><td>roc_auc</td><td>▁</td></tr></table><br/></div><div class=\"wandb-col\"><h3>Run summary:</h3><br/><table class=\"wandb\"><tr><td>accuracy</td><td>0.77458</td></tr><tr><td>f1_macro</td><td>0.77445</td></tr><tr><td>f1_weighted</td><td>0.7745</td></tr><tr><td>precision_weighted</td><td>0.77476</td></tr><tr><td>recall_weighted</td><td>0.77458</td></tr><tr><td>roc_auc</td><td>0.77442</td></tr></table><br/></div></div>"
      ],
      "text/plain": [
       "<IPython.core.display.HTML object>"
      ]
     },
     "metadata": {},
     "output_type": "display_data"
    },
    {
     "data": {
      "text/html": [
       " View run <strong style=\"color:#cdcd00\">v31_random_forest_{'n_estimators': 50, 'max_depth': 10, 'max_features': 'log2', 'min_samples_split': 5}</strong> at: <a href='http://wandb:8080/ben/kaggle_space-titanic/runs/jwsqfdru' target=\"_blank\">http://wandb:8080/ben/kaggle_space-titanic/runs/jwsqfdru</a><br> View project at: <a href='http://wandb:8080/ben/kaggle_space-titanic' target=\"_blank\">http://wandb:8080/ben/kaggle_space-titanic</a><br>Synced 5 W&B file(s), 0 media file(s), 0 artifact file(s) and 0 other file(s)"
      ],
      "text/plain": [
       "<IPython.core.display.HTML object>"
      ]
     },
     "metadata": {},
     "output_type": "display_data"
    },
    {
     "data": {
      "text/html": [
       "Find logs at: <code>/home/jovyan/wandb/wandb/run-20250517_210241-jwsqfdru/logs</code>"
      ],
      "text/plain": [
       "<IPython.core.display.HTML object>"
      ]
     },
     "metadata": {},
     "output_type": "display_data"
    },
    {
     "name": "stdout",
     "output_type": "stream",
     "text": [
      "Started MLflow run: 37e02226d01a4848900f7556a7b24252\n"
     ]
    },
    {
     "data": {
      "text/html": [
       "Tracking run with wandb version 0.19.11"
      ],
      "text/plain": [
       "<IPython.core.display.HTML object>"
      ]
     },
     "metadata": {},
     "output_type": "display_data"
    },
    {
     "data": {
      "text/html": [
       "Run data is saved locally in <code>/home/jovyan/wandb/wandb/run-20250517_210243-0wmkkz5m</code>"
      ],
      "text/plain": [
       "<IPython.core.display.HTML object>"
      ]
     },
     "metadata": {},
     "output_type": "display_data"
    },
    {
     "data": {
      "text/html": [
       "Syncing run <strong><a href='http://wandb:8080/ben/kaggle_space-titanic/runs/0wmkkz5m' target=\"_blank\">v31_random_forest_{'n_estimators': 50, 'max_depth': 15, 'max_features': 'sqrt', 'min_samples_split': 2}</a></strong> to <a href='http://wandb:8080/ben/kaggle_space-titanic' target=\"_blank\">Weights & Biases</a> (<a href='https://wandb.me/developer-guide' target=\"_blank\">docs</a>)<br>"
      ],
      "text/plain": [
       "<IPython.core.display.HTML object>"
      ]
     },
     "metadata": {},
     "output_type": "display_data"
    },
    {
     "data": {
      "text/html": [
       " View project at <a href='http://wandb:8080/ben/kaggle_space-titanic' target=\"_blank\">http://wandb:8080/ben/kaggle_space-titanic</a>"
      ],
      "text/plain": [
       "<IPython.core.display.HTML object>"
      ]
     },
     "metadata": {},
     "output_type": "display_data"
    },
    {
     "data": {
      "text/html": [
       " View run at <a href='http://wandb:8080/ben/kaggle_space-titanic/runs/0wmkkz5m' target=\"_blank\">http://wandb:8080/ben/kaggle_space-titanic/runs/0wmkkz5m</a>"
      ],
      "text/plain": [
       "<IPython.core.display.HTML object>"
      ]
     },
     "metadata": {},
     "output_type": "display_data"
    },
    {
     "name": "stdout",
     "output_type": "stream",
     "text": [
      "✅ Labels already normalized, no encoding needed\n",
      "✅ Finished training sklearn model\n",
      "🏃 View run v31_random_forest_{'n_estimators': 50, 'max_depth': 15, 'max_features': 'sqrt', 'min_samples_split': 2} at: http://mlflow:5000/#/experiments/2/runs/37e02226d01a4848900f7556a7b24252\n",
      "🧪 View experiment at: http://mlflow:5000/#/experiments/2\n"
     ]
    },
    {
     "data": {
      "text/html": [],
      "text/plain": [
       "<IPython.core.display.HTML object>"
      ]
     },
     "metadata": {},
     "output_type": "display_data"
    },
    {
     "data": {
      "text/html": [
       "<br>    <style><br>        .wandb-row {<br>            display: flex;<br>            flex-direction: row;<br>            flex-wrap: wrap;<br>            justify-content: flex-start;<br>            width: 100%;<br>        }<br>        .wandb-col {<br>            display: flex;<br>            flex-direction: column;<br>            flex-basis: 100%;<br>            flex: 1;<br>            padding: 10px;<br>        }<br>    </style><br><div class=\"wandb-row\"><div class=\"wandb-col\"><h3>Run history:</h3><br/><table class=\"wandb\"><tr><td>accuracy</td><td>▁</td></tr><tr><td>f1_macro</td><td>▁</td></tr><tr><td>f1_weighted</td><td>▁</td></tr><tr><td>precision_weighted</td><td>▁</td></tr><tr><td>recall_weighted</td><td>▁</td></tr><tr><td>roc_auc</td><td>▁</td></tr></table><br/></div><div class=\"wandb-col\"><h3>Run summary:</h3><br/><table class=\"wandb\"><tr><td>accuracy</td><td>0.78033</td></tr><tr><td>f1_macro</td><td>0.78033</td></tr><tr><td>f1_weighted</td><td>0.78033</td></tr><tr><td>precision_weighted</td><td>0.78057</td></tr><tr><td>recall_weighted</td><td>0.78033</td></tr><tr><td>roc_auc</td><td>0.78044</td></tr></table><br/></div></div>"
      ],
      "text/plain": [
       "<IPython.core.display.HTML object>"
      ]
     },
     "metadata": {},
     "output_type": "display_data"
    },
    {
     "data": {
      "text/html": [
       " View run <strong style=\"color:#cdcd00\">v31_random_forest_{'n_estimators': 50, 'max_depth': 15, 'max_features': 'sqrt', 'min_samples_split': 2}</strong> at: <a href='http://wandb:8080/ben/kaggle_space-titanic/runs/0wmkkz5m' target=\"_blank\">http://wandb:8080/ben/kaggle_space-titanic/runs/0wmkkz5m</a><br> View project at: <a href='http://wandb:8080/ben/kaggle_space-titanic' target=\"_blank\">http://wandb:8080/ben/kaggle_space-titanic</a><br>Synced 5 W&B file(s), 0 media file(s), 0 artifact file(s) and 0 other file(s)"
      ],
      "text/plain": [
       "<IPython.core.display.HTML object>"
      ]
     },
     "metadata": {},
     "output_type": "display_data"
    },
    {
     "data": {
      "text/html": [
       "Find logs at: <code>/home/jovyan/wandb/wandb/run-20250517_210243-0wmkkz5m/logs</code>"
      ],
      "text/plain": [
       "<IPython.core.display.HTML object>"
      ]
     },
     "metadata": {},
     "output_type": "display_data"
    },
    {
     "name": "stdout",
     "output_type": "stream",
     "text": [
      "Started MLflow run: 9aa70c33fd6447e68f1ea191d18bc59a\n"
     ]
    },
    {
     "data": {
      "text/html": [
       "Tracking run with wandb version 0.19.11"
      ],
      "text/plain": [
       "<IPython.core.display.HTML object>"
      ]
     },
     "metadata": {},
     "output_type": "display_data"
    },
    {
     "data": {
      "text/html": [
       "Run data is saved locally in <code>/home/jovyan/wandb/wandb/run-20250517_210245-jcpikscy</code>"
      ],
      "text/plain": [
       "<IPython.core.display.HTML object>"
      ]
     },
     "metadata": {},
     "output_type": "display_data"
    },
    {
     "data": {
      "text/html": [
       "Syncing run <strong><a href='http://wandb:8080/ben/kaggle_space-titanic/runs/jcpikscy' target=\"_blank\">v31_random_forest_{'n_estimators': 50, 'max_depth': 15, 'max_features': 'sqrt', 'min_samples_split': 5}</a></strong> to <a href='http://wandb:8080/ben/kaggle_space-titanic' target=\"_blank\">Weights & Biases</a> (<a href='https://wandb.me/developer-guide' target=\"_blank\">docs</a>)<br>"
      ],
      "text/plain": [
       "<IPython.core.display.HTML object>"
      ]
     },
     "metadata": {},
     "output_type": "display_data"
    },
    {
     "data": {
      "text/html": [
       " View project at <a href='http://wandb:8080/ben/kaggle_space-titanic' target=\"_blank\">http://wandb:8080/ben/kaggle_space-titanic</a>"
      ],
      "text/plain": [
       "<IPython.core.display.HTML object>"
      ]
     },
     "metadata": {},
     "output_type": "display_data"
    },
    {
     "data": {
      "text/html": [
       " View run at <a href='http://wandb:8080/ben/kaggle_space-titanic/runs/jcpikscy' target=\"_blank\">http://wandb:8080/ben/kaggle_space-titanic/runs/jcpikscy</a>"
      ],
      "text/plain": [
       "<IPython.core.display.HTML object>"
      ]
     },
     "metadata": {},
     "output_type": "display_data"
    },
    {
     "name": "stdout",
     "output_type": "stream",
     "text": [
      "✅ Labels already normalized, no encoding needed\n",
      "✅ Finished training sklearn model\n",
      "🏃 View run v31_random_forest_{'n_estimators': 50, 'max_depth': 15, 'max_features': 'sqrt', 'min_samples_split': 5} at: http://mlflow:5000/#/experiments/2/runs/9aa70c33fd6447e68f1ea191d18bc59a\n",
      "🧪 View experiment at: http://mlflow:5000/#/experiments/2\n"
     ]
    },
    {
     "data": {
      "text/html": [],
      "text/plain": [
       "<IPython.core.display.HTML object>"
      ]
     },
     "metadata": {},
     "output_type": "display_data"
    },
    {
     "data": {
      "text/html": [
       "<br>    <style><br>        .wandb-row {<br>            display: flex;<br>            flex-direction: row;<br>            flex-wrap: wrap;<br>            justify-content: flex-start;<br>            width: 100%;<br>        }<br>        .wandb-col {<br>            display: flex;<br>            flex-direction: column;<br>            flex-basis: 100%;<br>            flex: 1;<br>            padding: 10px;<br>        }<br>    </style><br><div class=\"wandb-row\"><div class=\"wandb-col\"><h3>Run history:</h3><br/><table class=\"wandb\"><tr><td>accuracy</td><td>▁</td></tr><tr><td>f1_macro</td><td>▁</td></tr><tr><td>f1_weighted</td><td>▁</td></tr><tr><td>precision_weighted</td><td>▁</td></tr><tr><td>recall_weighted</td><td>▁</td></tr><tr><td>roc_auc</td><td>▁</td></tr></table><br/></div><div class=\"wandb-col\"><h3>Run summary:</h3><br/><table class=\"wandb\"><tr><td>accuracy</td><td>0.77803</td></tr><tr><td>f1_macro</td><td>0.77803</td></tr><tr><td>f1_weighted</td><td>0.77803</td></tr><tr><td>precision_weighted</td><td>0.7782</td></tr><tr><td>recall_weighted</td><td>0.77803</td></tr><tr><td>roc_auc</td><td>0.77811</td></tr></table><br/></div></div>"
      ],
      "text/plain": [
       "<IPython.core.display.HTML object>"
      ]
     },
     "metadata": {},
     "output_type": "display_data"
    },
    {
     "data": {
      "text/html": [
       " View run <strong style=\"color:#cdcd00\">v31_random_forest_{'n_estimators': 50, 'max_depth': 15, 'max_features': 'sqrt', 'min_samples_split': 5}</strong> at: <a href='http://wandb:8080/ben/kaggle_space-titanic/runs/jcpikscy' target=\"_blank\">http://wandb:8080/ben/kaggle_space-titanic/runs/jcpikscy</a><br> View project at: <a href='http://wandb:8080/ben/kaggle_space-titanic' target=\"_blank\">http://wandb:8080/ben/kaggle_space-titanic</a><br>Synced 5 W&B file(s), 0 media file(s), 0 artifact file(s) and 0 other file(s)"
      ],
      "text/plain": [
       "<IPython.core.display.HTML object>"
      ]
     },
     "metadata": {},
     "output_type": "display_data"
    },
    {
     "data": {
      "text/html": [
       "Find logs at: <code>/home/jovyan/wandb/wandb/run-20250517_210245-jcpikscy/logs</code>"
      ],
      "text/plain": [
       "<IPython.core.display.HTML object>"
      ]
     },
     "metadata": {},
     "output_type": "display_data"
    },
    {
     "name": "stdout",
     "output_type": "stream",
     "text": [
      "Started MLflow run: f82987353aeb46aea730a14a699cdbee\n"
     ]
    },
    {
     "data": {
      "text/html": [
       "Tracking run with wandb version 0.19.11"
      ],
      "text/plain": [
       "<IPython.core.display.HTML object>"
      ]
     },
     "metadata": {},
     "output_type": "display_data"
    },
    {
     "data": {
      "text/html": [
       "Run data is saved locally in <code>/home/jovyan/wandb/wandb/run-20250517_210247-m7o3atnp</code>"
      ],
      "text/plain": [
       "<IPython.core.display.HTML object>"
      ]
     },
     "metadata": {},
     "output_type": "display_data"
    },
    {
     "data": {
      "text/html": [
       "Syncing run <strong><a href='http://wandb:8080/ben/kaggle_space-titanic/runs/m7o3atnp' target=\"_blank\">v31_random_forest_{'n_estimators': 50, 'max_depth': 15, 'max_features': 'log2', 'min_samples_split': 2}</a></strong> to <a href='http://wandb:8080/ben/kaggle_space-titanic' target=\"_blank\">Weights & Biases</a> (<a href='https://wandb.me/developer-guide' target=\"_blank\">docs</a>)<br>"
      ],
      "text/plain": [
       "<IPython.core.display.HTML object>"
      ]
     },
     "metadata": {},
     "output_type": "display_data"
    },
    {
     "data": {
      "text/html": [
       " View project at <a href='http://wandb:8080/ben/kaggle_space-titanic' target=\"_blank\">http://wandb:8080/ben/kaggle_space-titanic</a>"
      ],
      "text/plain": [
       "<IPython.core.display.HTML object>"
      ]
     },
     "metadata": {},
     "output_type": "display_data"
    },
    {
     "data": {
      "text/html": [
       " View run at <a href='http://wandb:8080/ben/kaggle_space-titanic/runs/m7o3atnp' target=\"_blank\">http://wandb:8080/ben/kaggle_space-titanic/runs/m7o3atnp</a>"
      ],
      "text/plain": [
       "<IPython.core.display.HTML object>"
      ]
     },
     "metadata": {},
     "output_type": "display_data"
    },
    {
     "name": "stdout",
     "output_type": "stream",
     "text": [
      "✅ Labels already normalized, no encoding needed\n",
      "✅ Finished training sklearn model\n",
      "🏃 View run v31_random_forest_{'n_estimators': 50, 'max_depth': 15, 'max_features': 'log2', 'min_samples_split': 2} at: http://mlflow:5000/#/experiments/2/runs/f82987353aeb46aea730a14a699cdbee\n",
      "🧪 View experiment at: http://mlflow:5000/#/experiments/2\n"
     ]
    },
    {
     "data": {
      "text/html": [],
      "text/plain": [
       "<IPython.core.display.HTML object>"
      ]
     },
     "metadata": {},
     "output_type": "display_data"
    },
    {
     "data": {
      "text/html": [
       "<br>    <style><br>        .wandb-row {<br>            display: flex;<br>            flex-direction: row;<br>            flex-wrap: wrap;<br>            justify-content: flex-start;<br>            width: 100%;<br>        }<br>        .wandb-col {<br>            display: flex;<br>            flex-direction: column;<br>            flex-basis: 100%;<br>            flex: 1;<br>            padding: 10px;<br>        }<br>    </style><br><div class=\"wandb-row\"><div class=\"wandb-col\"><h3>Run history:</h3><br/><table class=\"wandb\"><tr><td>accuracy</td><td>▁</td></tr><tr><td>f1_macro</td><td>▁</td></tr><tr><td>f1_weighted</td><td>▁</td></tr><tr><td>precision_weighted</td><td>▁</td></tr><tr><td>recall_weighted</td><td>▁</td></tr><tr><td>roc_auc</td><td>▁</td></tr></table><br/></div><div class=\"wandb-col\"><h3>Run summary:</h3><br/><table class=\"wandb\"><tr><td>accuracy</td><td>0.78493</td></tr><tr><td>f1_macro</td><td>0.78493</td></tr><tr><td>f1_weighted</td><td>0.78492</td></tr><tr><td>precision_weighted</td><td>0.78525</td></tr><tr><td>recall_weighted</td><td>0.78493</td></tr><tr><td>roc_auc</td><td>0.78506</td></tr></table><br/></div></div>"
      ],
      "text/plain": [
       "<IPython.core.display.HTML object>"
      ]
     },
     "metadata": {},
     "output_type": "display_data"
    },
    {
     "data": {
      "text/html": [
       " View run <strong style=\"color:#cdcd00\">v31_random_forest_{'n_estimators': 50, 'max_depth': 15, 'max_features': 'log2', 'min_samples_split': 2}</strong> at: <a href='http://wandb:8080/ben/kaggle_space-titanic/runs/m7o3atnp' target=\"_blank\">http://wandb:8080/ben/kaggle_space-titanic/runs/m7o3atnp</a><br> View project at: <a href='http://wandb:8080/ben/kaggle_space-titanic' target=\"_blank\">http://wandb:8080/ben/kaggle_space-titanic</a><br>Synced 5 W&B file(s), 0 media file(s), 0 artifact file(s) and 0 other file(s)"
      ],
      "text/plain": [
       "<IPython.core.display.HTML object>"
      ]
     },
     "metadata": {},
     "output_type": "display_data"
    },
    {
     "data": {
      "text/html": [
       "Find logs at: <code>/home/jovyan/wandb/wandb/run-20250517_210247-m7o3atnp/logs</code>"
      ],
      "text/plain": [
       "<IPython.core.display.HTML object>"
      ]
     },
     "metadata": {},
     "output_type": "display_data"
    },
    {
     "name": "stdout",
     "output_type": "stream",
     "text": [
      "Started MLflow run: 5809ca50f1f1417a9195506c79efd08b\n"
     ]
    },
    {
     "data": {
      "text/html": [
       "Tracking run with wandb version 0.19.11"
      ],
      "text/plain": [
       "<IPython.core.display.HTML object>"
      ]
     },
     "metadata": {},
     "output_type": "display_data"
    },
    {
     "data": {
      "text/html": [
       "Run data is saved locally in <code>/home/jovyan/wandb/wandb/run-20250517_210249-fy6rtlrr</code>"
      ],
      "text/plain": [
       "<IPython.core.display.HTML object>"
      ]
     },
     "metadata": {},
     "output_type": "display_data"
    },
    {
     "data": {
      "text/html": [
       "Syncing run <strong><a href='http://wandb:8080/ben/kaggle_space-titanic/runs/fy6rtlrr' target=\"_blank\">v31_random_forest_{'n_estimators': 50, 'max_depth': 15, 'max_features': 'log2', 'min_samples_split': 5}</a></strong> to <a href='http://wandb:8080/ben/kaggle_space-titanic' target=\"_blank\">Weights & Biases</a> (<a href='https://wandb.me/developer-guide' target=\"_blank\">docs</a>)<br>"
      ],
      "text/plain": [
       "<IPython.core.display.HTML object>"
      ]
     },
     "metadata": {},
     "output_type": "display_data"
    },
    {
     "data": {
      "text/html": [
       " View project at <a href='http://wandb:8080/ben/kaggle_space-titanic' target=\"_blank\">http://wandb:8080/ben/kaggle_space-titanic</a>"
      ],
      "text/plain": [
       "<IPython.core.display.HTML object>"
      ]
     },
     "metadata": {},
     "output_type": "display_data"
    },
    {
     "data": {
      "text/html": [
       " View run at <a href='http://wandb:8080/ben/kaggle_space-titanic/runs/fy6rtlrr' target=\"_blank\">http://wandb:8080/ben/kaggle_space-titanic/runs/fy6rtlrr</a>"
      ],
      "text/plain": [
       "<IPython.core.display.HTML object>"
      ]
     },
     "metadata": {},
     "output_type": "display_data"
    },
    {
     "name": "stdout",
     "output_type": "stream",
     "text": [
      "✅ Labels already normalized, no encoding needed\n",
      "✅ Finished training sklearn model\n",
      "🏃 View run v31_random_forest_{'n_estimators': 50, 'max_depth': 15, 'max_features': 'log2', 'min_samples_split': 5} at: http://mlflow:5000/#/experiments/2/runs/5809ca50f1f1417a9195506c79efd08b\n",
      "🧪 View experiment at: http://mlflow:5000/#/experiments/2\n"
     ]
    },
    {
     "data": {
      "text/html": [],
      "text/plain": [
       "<IPython.core.display.HTML object>"
      ]
     },
     "metadata": {},
     "output_type": "display_data"
    },
    {
     "data": {
      "text/html": [
       "<br>    <style><br>        .wandb-row {<br>            display: flex;<br>            flex-direction: row;<br>            flex-wrap: wrap;<br>            justify-content: flex-start;<br>            width: 100%;<br>        }<br>        .wandb-col {<br>            display: flex;<br>            flex-direction: column;<br>            flex-basis: 100%;<br>            flex: 1;<br>            padding: 10px;<br>        }<br>    </style><br><div class=\"wandb-row\"><div class=\"wandb-col\"><h3>Run history:</h3><br/><table class=\"wandb\"><tr><td>accuracy</td><td>▁</td></tr><tr><td>f1_macro</td><td>▁</td></tr><tr><td>f1_weighted</td><td>▁</td></tr><tr><td>precision_weighted</td><td>▁</td></tr><tr><td>recall_weighted</td><td>▁</td></tr><tr><td>roc_auc</td><td>▁</td></tr></table><br/></div><div class=\"wandb-col\"><h3>Run summary:</h3><br/><table class=\"wandb\"><tr><td>accuracy</td><td>0.77803</td></tr><tr><td>f1_macro</td><td>0.77803</td></tr><tr><td>f1_weighted</td><td>0.77803</td></tr><tr><td>precision_weighted</td><td>0.77827</td></tr><tr><td>recall_weighted</td><td>0.77803</td></tr><tr><td>roc_auc</td><td>0.77814</td></tr></table><br/></div></div>"
      ],
      "text/plain": [
       "<IPython.core.display.HTML object>"
      ]
     },
     "metadata": {},
     "output_type": "display_data"
    },
    {
     "data": {
      "text/html": [
       " View run <strong style=\"color:#cdcd00\">v31_random_forest_{'n_estimators': 50, 'max_depth': 15, 'max_features': 'log2', 'min_samples_split': 5}</strong> at: <a href='http://wandb:8080/ben/kaggle_space-titanic/runs/fy6rtlrr' target=\"_blank\">http://wandb:8080/ben/kaggle_space-titanic/runs/fy6rtlrr</a><br> View project at: <a href='http://wandb:8080/ben/kaggle_space-titanic' target=\"_blank\">http://wandb:8080/ben/kaggle_space-titanic</a><br>Synced 5 W&B file(s), 0 media file(s), 0 artifact file(s) and 0 other file(s)"
      ],
      "text/plain": [
       "<IPython.core.display.HTML object>"
      ]
     },
     "metadata": {},
     "output_type": "display_data"
    },
    {
     "data": {
      "text/html": [
       "Find logs at: <code>/home/jovyan/wandb/wandb/run-20250517_210249-fy6rtlrr/logs</code>"
      ],
      "text/plain": [
       "<IPython.core.display.HTML object>"
      ]
     },
     "metadata": {},
     "output_type": "display_data"
    },
    {
     "name": "stdout",
     "output_type": "stream",
     "text": [
      "Started MLflow run: 0739548cec904e19b52771bd4745311e\n"
     ]
    },
    {
     "data": {
      "text/html": [
       "Tracking run with wandb version 0.19.11"
      ],
      "text/plain": [
       "<IPython.core.display.HTML object>"
      ]
     },
     "metadata": {},
     "output_type": "display_data"
    },
    {
     "data": {
      "text/html": [
       "Run data is saved locally in <code>/home/jovyan/wandb/wandb/run-20250517_210251-mvwv43br</code>"
      ],
      "text/plain": [
       "<IPython.core.display.HTML object>"
      ]
     },
     "metadata": {},
     "output_type": "display_data"
    },
    {
     "data": {
      "text/html": [
       "Syncing run <strong><a href='http://wandb:8080/ben/kaggle_space-titanic/runs/mvwv43br' target=\"_blank\">v31_random_forest_{'n_estimators': 200, 'max_depth': None, 'max_features': 'sqrt', 'min_samples_split': 2}</a></strong> to <a href='http://wandb:8080/ben/kaggle_space-titanic' target=\"_blank\">Weights & Biases</a> (<a href='https://wandb.me/developer-guide' target=\"_blank\">docs</a>)<br>"
      ],
      "text/plain": [
       "<IPython.core.display.HTML object>"
      ]
     },
     "metadata": {},
     "output_type": "display_data"
    },
    {
     "data": {
      "text/html": [
       " View project at <a href='http://wandb:8080/ben/kaggle_space-titanic' target=\"_blank\">http://wandb:8080/ben/kaggle_space-titanic</a>"
      ],
      "text/plain": [
       "<IPython.core.display.HTML object>"
      ]
     },
     "metadata": {},
     "output_type": "display_data"
    },
    {
     "data": {
      "text/html": [
       " View run at <a href='http://wandb:8080/ben/kaggle_space-titanic/runs/mvwv43br' target=\"_blank\">http://wandb:8080/ben/kaggle_space-titanic/runs/mvwv43br</a>"
      ],
      "text/plain": [
       "<IPython.core.display.HTML object>"
      ]
     },
     "metadata": {},
     "output_type": "display_data"
    },
    {
     "name": "stdout",
     "output_type": "stream",
     "text": [
      "✅ Labels already normalized, no encoding needed\n",
      "✅ Finished training sklearn model\n",
      "🏃 View run v31_random_forest_{'n_estimators': 200, 'max_depth': None, 'max_features': 'sqrt', 'min_samples_split': 2} at: http://mlflow:5000/#/experiments/2/runs/0739548cec904e19b52771bd4745311e\n",
      "🧪 View experiment at: http://mlflow:5000/#/experiments/2\n"
     ]
    },
    {
     "data": {
      "text/html": [],
      "text/plain": [
       "<IPython.core.display.HTML object>"
      ]
     },
     "metadata": {},
     "output_type": "display_data"
    },
    {
     "data": {
      "text/html": [
       "<br>    <style><br>        .wandb-row {<br>            display: flex;<br>            flex-direction: row;<br>            flex-wrap: wrap;<br>            justify-content: flex-start;<br>            width: 100%;<br>        }<br>        .wandb-col {<br>            display: flex;<br>            flex-direction: column;<br>            flex-basis: 100%;<br>            flex: 1;<br>            padding: 10px;<br>        }<br>    </style><br><div class=\"wandb-row\"><div class=\"wandb-col\"><h3>Run history:</h3><br/><table class=\"wandb\"><tr><td>accuracy</td><td>▁</td></tr><tr><td>f1_macro</td><td>▁</td></tr><tr><td>f1_weighted</td><td>▁</td></tr><tr><td>precision_weighted</td><td>▁</td></tr><tr><td>recall_weighted</td><td>▁</td></tr><tr><td>roc_auc</td><td>▁</td></tr></table><br/></div><div class=\"wandb-col\"><h3>Run summary:</h3><br/><table class=\"wandb\"><tr><td>accuracy</td><td>0.77631</td></tr><tr><td>f1_macro</td><td>0.77628</td></tr><tr><td>f1_weighted</td><td>0.77626</td></tr><tr><td>precision_weighted</td><td>0.77684</td></tr><tr><td>recall_weighted</td><td>0.77631</td></tr><tr><td>roc_auc</td><td>0.77648</td></tr></table><br/></div></div>"
      ],
      "text/plain": [
       "<IPython.core.display.HTML object>"
      ]
     },
     "metadata": {},
     "output_type": "display_data"
    },
    {
     "data": {
      "text/html": [
       " View run <strong style=\"color:#cdcd00\">v31_random_forest_{'n_estimators': 200, 'max_depth': None, 'max_features': 'sqrt', 'min_samples_split': 2}</strong> at: <a href='http://wandb:8080/ben/kaggle_space-titanic/runs/mvwv43br' target=\"_blank\">http://wandb:8080/ben/kaggle_space-titanic/runs/mvwv43br</a><br> View project at: <a href='http://wandb:8080/ben/kaggle_space-titanic' target=\"_blank\">http://wandb:8080/ben/kaggle_space-titanic</a><br>Synced 5 W&B file(s), 0 media file(s), 0 artifact file(s) and 0 other file(s)"
      ],
      "text/plain": [
       "<IPython.core.display.HTML object>"
      ]
     },
     "metadata": {},
     "output_type": "display_data"
    },
    {
     "data": {
      "text/html": [
       "Find logs at: <code>/home/jovyan/wandb/wandb/run-20250517_210251-mvwv43br/logs</code>"
      ],
      "text/plain": [
       "<IPython.core.display.HTML object>"
      ]
     },
     "metadata": {},
     "output_type": "display_data"
    },
    {
     "name": "stdout",
     "output_type": "stream",
     "text": [
      "Started MLflow run: f4a88e096c34495bba45397a4d79a508\n"
     ]
    },
    {
     "data": {
      "text/html": [
       "Tracking run with wandb version 0.19.11"
      ],
      "text/plain": [
       "<IPython.core.display.HTML object>"
      ]
     },
     "metadata": {},
     "output_type": "display_data"
    },
    {
     "data": {
      "text/html": [
       "Run data is saved locally in <code>/home/jovyan/wandb/wandb/run-20250517_210256-0egdwbg2</code>"
      ],
      "text/plain": [
       "<IPython.core.display.HTML object>"
      ]
     },
     "metadata": {},
     "output_type": "display_data"
    },
    {
     "data": {
      "text/html": [
       "Syncing run <strong><a href='http://wandb:8080/ben/kaggle_space-titanic/runs/0egdwbg2' target=\"_blank\">v31_random_forest_{'n_estimators': 200, 'max_depth': None, 'max_features': 'sqrt', 'min_samples_split': 5}</a></strong> to <a href='http://wandb:8080/ben/kaggle_space-titanic' target=\"_blank\">Weights & Biases</a> (<a href='https://wandb.me/developer-guide' target=\"_blank\">docs</a>)<br>"
      ],
      "text/plain": [
       "<IPython.core.display.HTML object>"
      ]
     },
     "metadata": {},
     "output_type": "display_data"
    },
    {
     "data": {
      "text/html": [
       " View project at <a href='http://wandb:8080/ben/kaggle_space-titanic' target=\"_blank\">http://wandb:8080/ben/kaggle_space-titanic</a>"
      ],
      "text/plain": [
       "<IPython.core.display.HTML object>"
      ]
     },
     "metadata": {},
     "output_type": "display_data"
    },
    {
     "data": {
      "text/html": [
       " View run at <a href='http://wandb:8080/ben/kaggle_space-titanic/runs/0egdwbg2' target=\"_blank\">http://wandb:8080/ben/kaggle_space-titanic/runs/0egdwbg2</a>"
      ],
      "text/plain": [
       "<IPython.core.display.HTML object>"
      ]
     },
     "metadata": {},
     "output_type": "display_data"
    },
    {
     "name": "stdout",
     "output_type": "stream",
     "text": [
      "✅ Labels already normalized, no encoding needed\n",
      "✅ Finished training sklearn model\n",
      "🏃 View run v31_random_forest_{'n_estimators': 200, 'max_depth': None, 'max_features': 'sqrt', 'min_samples_split': 5} at: http://mlflow:5000/#/experiments/2/runs/f4a88e096c34495bba45397a4d79a508\n",
      "🧪 View experiment at: http://mlflow:5000/#/experiments/2\n"
     ]
    },
    {
     "data": {
      "text/html": [],
      "text/plain": [
       "<IPython.core.display.HTML object>"
      ]
     },
     "metadata": {},
     "output_type": "display_data"
    },
    {
     "data": {
      "text/html": [
       "<br>    <style><br>        .wandb-row {<br>            display: flex;<br>            flex-direction: row;<br>            flex-wrap: wrap;<br>            justify-content: flex-start;<br>            width: 100%;<br>        }<br>        .wandb-col {<br>            display: flex;<br>            flex-direction: column;<br>            flex-basis: 100%;<br>            flex: 1;<br>            padding: 10px;<br>        }<br>    </style><br><div class=\"wandb-row\"><div class=\"wandb-col\"><h3>Run history:</h3><br/><table class=\"wandb\"><tr><td>accuracy</td><td>▁</td></tr><tr><td>f1_macro</td><td>▁</td></tr><tr><td>f1_weighted</td><td>▁</td></tr><tr><td>precision_weighted</td><td>▁</td></tr><tr><td>recall_weighted</td><td>▁</td></tr><tr><td>roc_auc</td><td>▁</td></tr></table><br/></div><div class=\"wandb-col\"><h3>Run summary:</h3><br/><table class=\"wandb\"><tr><td>accuracy</td><td>0.77861</td></tr><tr><td>f1_macro</td><td>0.77859</td></tr><tr><td>f1_weighted</td><td>0.77857</td></tr><tr><td>precision_weighted</td><td>0.77909</td></tr><tr><td>recall_weighted</td><td>0.77861</td></tr><tr><td>roc_auc</td><td>0.77877</td></tr></table><br/></div></div>"
      ],
      "text/plain": [
       "<IPython.core.display.HTML object>"
      ]
     },
     "metadata": {},
     "output_type": "display_data"
    },
    {
     "data": {
      "text/html": [
       " View run <strong style=\"color:#cdcd00\">v31_random_forest_{'n_estimators': 200, 'max_depth': None, 'max_features': 'sqrt', 'min_samples_split': 5}</strong> at: <a href='http://wandb:8080/ben/kaggle_space-titanic/runs/0egdwbg2' target=\"_blank\">http://wandb:8080/ben/kaggle_space-titanic/runs/0egdwbg2</a><br> View project at: <a href='http://wandb:8080/ben/kaggle_space-titanic' target=\"_blank\">http://wandb:8080/ben/kaggle_space-titanic</a><br>Synced 5 W&B file(s), 0 media file(s), 0 artifact file(s) and 0 other file(s)"
      ],
      "text/plain": [
       "<IPython.core.display.HTML object>"
      ]
     },
     "metadata": {},
     "output_type": "display_data"
    },
    {
     "data": {
      "text/html": [
       "Find logs at: <code>/home/jovyan/wandb/wandb/run-20250517_210256-0egdwbg2/logs</code>"
      ],
      "text/plain": [
       "<IPython.core.display.HTML object>"
      ]
     },
     "metadata": {},
     "output_type": "display_data"
    },
    {
     "name": "stdout",
     "output_type": "stream",
     "text": [
      "Started MLflow run: 131f80a761fb442c8210d3f4c402f89d\n"
     ]
    },
    {
     "data": {
      "text/html": [
       "Tracking run with wandb version 0.19.11"
      ],
      "text/plain": [
       "<IPython.core.display.HTML object>"
      ]
     },
     "metadata": {},
     "output_type": "display_data"
    },
    {
     "data": {
      "text/html": [
       "Run data is saved locally in <code>/home/jovyan/wandb/wandb/run-20250517_210301-u52m91vc</code>"
      ],
      "text/plain": [
       "<IPython.core.display.HTML object>"
      ]
     },
     "metadata": {},
     "output_type": "display_data"
    },
    {
     "data": {
      "text/html": [
       "Syncing run <strong><a href='http://wandb:8080/ben/kaggle_space-titanic/runs/u52m91vc' target=\"_blank\">v31_random_forest_{'n_estimators': 200, 'max_depth': None, 'max_features': 'log2', 'min_samples_split': 2}</a></strong> to <a href='http://wandb:8080/ben/kaggle_space-titanic' target=\"_blank\">Weights & Biases</a> (<a href='https://wandb.me/developer-guide' target=\"_blank\">docs</a>)<br>"
      ],
      "text/plain": [
       "<IPython.core.display.HTML object>"
      ]
     },
     "metadata": {},
     "output_type": "display_data"
    },
    {
     "data": {
      "text/html": [
       " View project at <a href='http://wandb:8080/ben/kaggle_space-titanic' target=\"_blank\">http://wandb:8080/ben/kaggle_space-titanic</a>"
      ],
      "text/plain": [
       "<IPython.core.display.HTML object>"
      ]
     },
     "metadata": {},
     "output_type": "display_data"
    },
    {
     "data": {
      "text/html": [
       " View run at <a href='http://wandb:8080/ben/kaggle_space-titanic/runs/u52m91vc' target=\"_blank\">http://wandb:8080/ben/kaggle_space-titanic/runs/u52m91vc</a>"
      ],
      "text/plain": [
       "<IPython.core.display.HTML object>"
      ]
     },
     "metadata": {},
     "output_type": "display_data"
    },
    {
     "name": "stdout",
     "output_type": "stream",
     "text": [
      "✅ Labels already normalized, no encoding needed\n",
      "✅ Finished training sklearn model\n",
      "🏃 View run v31_random_forest_{'n_estimators': 200, 'max_depth': None, 'max_features': 'log2', 'min_samples_split': 2} at: http://mlflow:5000/#/experiments/2/runs/131f80a761fb442c8210d3f4c402f89d\n",
      "🧪 View experiment at: http://mlflow:5000/#/experiments/2\n"
     ]
    },
    {
     "data": {
      "text/html": [],
      "text/plain": [
       "<IPython.core.display.HTML object>"
      ]
     },
     "metadata": {},
     "output_type": "display_data"
    },
    {
     "data": {
      "text/html": [
       "<br>    <style><br>        .wandb-row {<br>            display: flex;<br>            flex-direction: row;<br>            flex-wrap: wrap;<br>            justify-content: flex-start;<br>            width: 100%;<br>        }<br>        .wandb-col {<br>            display: flex;<br>            flex-direction: column;<br>            flex-basis: 100%;<br>            flex: 1;<br>            padding: 10px;<br>        }<br>    </style><br><div class=\"wandb-row\"><div class=\"wandb-col\"><h3>Run history:</h3><br/><table class=\"wandb\"><tr><td>accuracy</td><td>▁</td></tr><tr><td>f1_macro</td><td>▁</td></tr><tr><td>f1_weighted</td><td>▁</td></tr><tr><td>precision_weighted</td><td>▁</td></tr><tr><td>recall_weighted</td><td>▁</td></tr><tr><td>roc_auc</td><td>▁</td></tr></table><br/></div><div class=\"wandb-col\"><h3>Run summary:</h3><br/><table class=\"wandb\"><tr><td>accuracy</td><td>0.77861</td></tr><tr><td>f1_macro</td><td>0.77856</td></tr><tr><td>f1_weighted</td><td>0.77853</td></tr><tr><td>precision_weighted</td><td>0.7794</td></tr><tr><td>recall_weighted</td><td>0.77861</td></tr><tr><td>roc_auc</td><td>0.77883</td></tr></table><br/></div></div>"
      ],
      "text/plain": [
       "<IPython.core.display.HTML object>"
      ]
     },
     "metadata": {},
     "output_type": "display_data"
    },
    {
     "data": {
      "text/html": [
       " View run <strong style=\"color:#cdcd00\">v31_random_forest_{'n_estimators': 200, 'max_depth': None, 'max_features': 'log2', 'min_samples_split': 2}</strong> at: <a href='http://wandb:8080/ben/kaggle_space-titanic/runs/u52m91vc' target=\"_blank\">http://wandb:8080/ben/kaggle_space-titanic/runs/u52m91vc</a><br> View project at: <a href='http://wandb:8080/ben/kaggle_space-titanic' target=\"_blank\">http://wandb:8080/ben/kaggle_space-titanic</a><br>Synced 5 W&B file(s), 0 media file(s), 0 artifact file(s) and 0 other file(s)"
      ],
      "text/plain": [
       "<IPython.core.display.HTML object>"
      ]
     },
     "metadata": {},
     "output_type": "display_data"
    },
    {
     "data": {
      "text/html": [
       "Find logs at: <code>/home/jovyan/wandb/wandb/run-20250517_210301-u52m91vc/logs</code>"
      ],
      "text/plain": [
       "<IPython.core.display.HTML object>"
      ]
     },
     "metadata": {},
     "output_type": "display_data"
    },
    {
     "name": "stdout",
     "output_type": "stream",
     "text": [
      "Started MLflow run: 698da77829ff4a6f94018f12cafe4cf0\n"
     ]
    },
    {
     "data": {
      "text/html": [
       "Tracking run with wandb version 0.19.11"
      ],
      "text/plain": [
       "<IPython.core.display.HTML object>"
      ]
     },
     "metadata": {},
     "output_type": "display_data"
    },
    {
     "data": {
      "text/html": [
       "Run data is saved locally in <code>/home/jovyan/wandb/wandb/run-20250517_210304-klvdiuhf</code>"
      ],
      "text/plain": [
       "<IPython.core.display.HTML object>"
      ]
     },
     "metadata": {},
     "output_type": "display_data"
    },
    {
     "data": {
      "text/html": [
       "Syncing run <strong><a href='http://wandb:8080/ben/kaggle_space-titanic/runs/klvdiuhf' target=\"_blank\">v31_random_forest_{'n_estimators': 200, 'max_depth': None, 'max_features': 'log2', 'min_samples_split': 5}</a></strong> to <a href='http://wandb:8080/ben/kaggle_space-titanic' target=\"_blank\">Weights & Biases</a> (<a href='https://wandb.me/developer-guide' target=\"_blank\">docs</a>)<br>"
      ],
      "text/plain": [
       "<IPython.core.display.HTML object>"
      ]
     },
     "metadata": {},
     "output_type": "display_data"
    },
    {
     "data": {
      "text/html": [
       " View project at <a href='http://wandb:8080/ben/kaggle_space-titanic' target=\"_blank\">http://wandb:8080/ben/kaggle_space-titanic</a>"
      ],
      "text/plain": [
       "<IPython.core.display.HTML object>"
      ]
     },
     "metadata": {},
     "output_type": "display_data"
    },
    {
     "data": {
      "text/html": [
       " View run at <a href='http://wandb:8080/ben/kaggle_space-titanic/runs/klvdiuhf' target=\"_blank\">http://wandb:8080/ben/kaggle_space-titanic/runs/klvdiuhf</a>"
      ],
      "text/plain": [
       "<IPython.core.display.HTML object>"
      ]
     },
     "metadata": {},
     "output_type": "display_data"
    },
    {
     "name": "stdout",
     "output_type": "stream",
     "text": [
      "✅ Labels already normalized, no encoding needed\n",
      "✅ Finished training sklearn model\n",
      "🏃 View run v31_random_forest_{'n_estimators': 200, 'max_depth': None, 'max_features': 'log2', 'min_samples_split': 5} at: http://mlflow:5000/#/experiments/2/runs/698da77829ff4a6f94018f12cafe4cf0\n",
      "🧪 View experiment at: http://mlflow:5000/#/experiments/2\n"
     ]
    },
    {
     "data": {
      "text/html": [],
      "text/plain": [
       "<IPython.core.display.HTML object>"
      ]
     },
     "metadata": {},
     "output_type": "display_data"
    },
    {
     "data": {
      "text/html": [
       "<br>    <style><br>        .wandb-row {<br>            display: flex;<br>            flex-direction: row;<br>            flex-wrap: wrap;<br>            justify-content: flex-start;<br>            width: 100%;<br>        }<br>        .wandb-col {<br>            display: flex;<br>            flex-direction: column;<br>            flex-basis: 100%;<br>            flex: 1;<br>            padding: 10px;<br>        }<br>    </style><br><div class=\"wandb-row\"><div class=\"wandb-col\"><h3>Run history:</h3><br/><table class=\"wandb\"><tr><td>accuracy</td><td>▁</td></tr><tr><td>f1_macro</td><td>▁</td></tr><tr><td>f1_weighted</td><td>▁</td></tr><tr><td>precision_weighted</td><td>▁</td></tr><tr><td>recall_weighted</td><td>▁</td></tr><tr><td>roc_auc</td><td>▁</td></tr></table><br/></div><div class=\"wandb-col\"><h3>Run summary:</h3><br/><table class=\"wandb\"><tr><td>accuracy</td><td>0.77516</td></tr><tr><td>f1_macro</td><td>0.77514</td></tr><tr><td>f1_weighted</td><td>0.77512</td></tr><tr><td>precision_weighted</td><td>0.77564</td></tr><tr><td>recall_weighted</td><td>0.77516</td></tr><tr><td>roc_auc</td><td>0.77532</td></tr></table><br/></div></div>"
      ],
      "text/plain": [
       "<IPython.core.display.HTML object>"
      ]
     },
     "metadata": {},
     "output_type": "display_data"
    },
    {
     "data": {
      "text/html": [
       " View run <strong style=\"color:#cdcd00\">v31_random_forest_{'n_estimators': 200, 'max_depth': None, 'max_features': 'log2', 'min_samples_split': 5}</strong> at: <a href='http://wandb:8080/ben/kaggle_space-titanic/runs/klvdiuhf' target=\"_blank\">http://wandb:8080/ben/kaggle_space-titanic/runs/klvdiuhf</a><br> View project at: <a href='http://wandb:8080/ben/kaggle_space-titanic' target=\"_blank\">http://wandb:8080/ben/kaggle_space-titanic</a><br>Synced 5 W&B file(s), 0 media file(s), 0 artifact file(s) and 0 other file(s)"
      ],
      "text/plain": [
       "<IPython.core.display.HTML object>"
      ]
     },
     "metadata": {},
     "output_type": "display_data"
    },
    {
     "data": {
      "text/html": [
       "Find logs at: <code>/home/jovyan/wandb/wandb/run-20250517_210304-klvdiuhf/logs</code>"
      ],
      "text/plain": [
       "<IPython.core.display.HTML object>"
      ]
     },
     "metadata": {},
     "output_type": "display_data"
    },
    {
     "name": "stdout",
     "output_type": "stream",
     "text": [
      "Started MLflow run: d58de09b0db0417a979f2f04d1d5042a\n"
     ]
    },
    {
     "data": {
      "text/html": [
       "Tracking run with wandb version 0.19.11"
      ],
      "text/plain": [
       "<IPython.core.display.HTML object>"
      ]
     },
     "metadata": {},
     "output_type": "display_data"
    },
    {
     "data": {
      "text/html": [
       "Run data is saved locally in <code>/home/jovyan/wandb/wandb/run-20250517_210308-g8xsdi73</code>"
      ],
      "text/plain": [
       "<IPython.core.display.HTML object>"
      ]
     },
     "metadata": {},
     "output_type": "display_data"
    },
    {
     "data": {
      "text/html": [
       "Syncing run <strong><a href='http://wandb:8080/ben/kaggle_space-titanic/runs/g8xsdi73' target=\"_blank\">v31_random_forest_{'n_estimators': 200, 'max_depth': 10, 'max_features': 'sqrt', 'min_samples_split': 2}</a></strong> to <a href='http://wandb:8080/ben/kaggle_space-titanic' target=\"_blank\">Weights & Biases</a> (<a href='https://wandb.me/developer-guide' target=\"_blank\">docs</a>)<br>"
      ],
      "text/plain": [
       "<IPython.core.display.HTML object>"
      ]
     },
     "metadata": {},
     "output_type": "display_data"
    },
    {
     "data": {
      "text/html": [
       " View project at <a href='http://wandb:8080/ben/kaggle_space-titanic' target=\"_blank\">http://wandb:8080/ben/kaggle_space-titanic</a>"
      ],
      "text/plain": [
       "<IPython.core.display.HTML object>"
      ]
     },
     "metadata": {},
     "output_type": "display_data"
    },
    {
     "data": {
      "text/html": [
       " View run at <a href='http://wandb:8080/ben/kaggle_space-titanic/runs/g8xsdi73' target=\"_blank\">http://wandb:8080/ben/kaggle_space-titanic/runs/g8xsdi73</a>"
      ],
      "text/plain": [
       "<IPython.core.display.HTML object>"
      ]
     },
     "metadata": {},
     "output_type": "display_data"
    },
    {
     "name": "stdout",
     "output_type": "stream",
     "text": [
      "✅ Labels already normalized, no encoding needed\n",
      "✅ Finished training sklearn model\n",
      "🏃 View run v31_random_forest_{'n_estimators': 200, 'max_depth': 10, 'max_features': 'sqrt', 'min_samples_split': 2} at: http://mlflow:5000/#/experiments/2/runs/d58de09b0db0417a979f2f04d1d5042a\n",
      "🧪 View experiment at: http://mlflow:5000/#/experiments/2\n"
     ]
    },
    {
     "data": {
      "text/html": [],
      "text/plain": [
       "<IPython.core.display.HTML object>"
      ]
     },
     "metadata": {},
     "output_type": "display_data"
    },
    {
     "data": {
      "text/html": [
       "<br>    <style><br>        .wandb-row {<br>            display: flex;<br>            flex-direction: row;<br>            flex-wrap: wrap;<br>            justify-content: flex-start;<br>            width: 100%;<br>        }<br>        .wandb-col {<br>            display: flex;<br>            flex-direction: column;<br>            flex-basis: 100%;<br>            flex: 1;<br>            padding: 10px;<br>        }<br>    </style><br><div class=\"wandb-row\"><div class=\"wandb-col\"><h3>Run history:</h3><br/><table class=\"wandb\"><tr><td>accuracy</td><td>▁</td></tr><tr><td>f1_macro</td><td>▁</td></tr><tr><td>f1_weighted</td><td>▁</td></tr><tr><td>precision_weighted</td><td>▁</td></tr><tr><td>recall_weighted</td><td>▁</td></tr><tr><td>roc_auc</td><td>▁</td></tr></table><br/></div><div class=\"wandb-col\"><h3>Run summary:</h3><br/><table class=\"wandb\"><tr><td>accuracy</td><td>0.78148</td></tr><tr><td>f1_macro</td><td>0.7813</td></tr><tr><td>f1_weighted</td><td>0.78136</td></tr><tr><td>precision_weighted</td><td>0.78183</td></tr><tr><td>recall_weighted</td><td>0.78148</td></tr><tr><td>roc_auc</td><td>0.78127</td></tr></table><br/></div></div>"
      ],
      "text/plain": [
       "<IPython.core.display.HTML object>"
      ]
     },
     "metadata": {},
     "output_type": "display_data"
    },
    {
     "data": {
      "text/html": [
       " View run <strong style=\"color:#cdcd00\">v31_random_forest_{'n_estimators': 200, 'max_depth': 10, 'max_features': 'sqrt', 'min_samples_split': 2}</strong> at: <a href='http://wandb:8080/ben/kaggle_space-titanic/runs/g8xsdi73' target=\"_blank\">http://wandb:8080/ben/kaggle_space-titanic/runs/g8xsdi73</a><br> View project at: <a href='http://wandb:8080/ben/kaggle_space-titanic' target=\"_blank\">http://wandb:8080/ben/kaggle_space-titanic</a><br>Synced 5 W&B file(s), 0 media file(s), 0 artifact file(s) and 0 other file(s)"
      ],
      "text/plain": [
       "<IPython.core.display.HTML object>"
      ]
     },
     "metadata": {},
     "output_type": "display_data"
    },
    {
     "data": {
      "text/html": [
       "Find logs at: <code>/home/jovyan/wandb/wandb/run-20250517_210308-g8xsdi73/logs</code>"
      ],
      "text/plain": [
       "<IPython.core.display.HTML object>"
      ]
     },
     "metadata": {},
     "output_type": "display_data"
    },
    {
     "name": "stdout",
     "output_type": "stream",
     "text": [
      "Started MLflow run: 2cce2536fe714b02937240df646c2a3f\n"
     ]
    },
    {
     "data": {
      "text/html": [
       "Tracking run with wandb version 0.19.11"
      ],
      "text/plain": [
       "<IPython.core.display.HTML object>"
      ]
     },
     "metadata": {},
     "output_type": "display_data"
    },
    {
     "data": {
      "text/html": [
       "Run data is saved locally in <code>/home/jovyan/wandb/wandb/run-20250517_210312-lsh9ldsv</code>"
      ],
      "text/plain": [
       "<IPython.core.display.HTML object>"
      ]
     },
     "metadata": {},
     "output_type": "display_data"
    },
    {
     "data": {
      "text/html": [
       "Syncing run <strong><a href='http://wandb:8080/ben/kaggle_space-titanic/runs/lsh9ldsv' target=\"_blank\">v31_random_forest_{'n_estimators': 200, 'max_depth': 10, 'max_features': 'sqrt', 'min_samples_split': 5}</a></strong> to <a href='http://wandb:8080/ben/kaggle_space-titanic' target=\"_blank\">Weights & Biases</a> (<a href='https://wandb.me/developer-guide' target=\"_blank\">docs</a>)<br>"
      ],
      "text/plain": [
       "<IPython.core.display.HTML object>"
      ]
     },
     "metadata": {},
     "output_type": "display_data"
    },
    {
     "data": {
      "text/html": [
       " View project at <a href='http://wandb:8080/ben/kaggle_space-titanic' target=\"_blank\">http://wandb:8080/ben/kaggle_space-titanic</a>"
      ],
      "text/plain": [
       "<IPython.core.display.HTML object>"
      ]
     },
     "metadata": {},
     "output_type": "display_data"
    },
    {
     "data": {
      "text/html": [
       " View run at <a href='http://wandb:8080/ben/kaggle_space-titanic/runs/lsh9ldsv' target=\"_blank\">http://wandb:8080/ben/kaggle_space-titanic/runs/lsh9ldsv</a>"
      ],
      "text/plain": [
       "<IPython.core.display.HTML object>"
      ]
     },
     "metadata": {},
     "output_type": "display_data"
    },
    {
     "name": "stdout",
     "output_type": "stream",
     "text": [
      "✅ Labels already normalized, no encoding needed\n",
      "✅ Finished training sklearn model\n",
      "🏃 View run v31_random_forest_{'n_estimators': 200, 'max_depth': 10, 'max_features': 'sqrt', 'min_samples_split': 5} at: http://mlflow:5000/#/experiments/2/runs/2cce2536fe714b02937240df646c2a3f\n",
      "🧪 View experiment at: http://mlflow:5000/#/experiments/2\n"
     ]
    },
    {
     "data": {
      "text/html": [],
      "text/plain": [
       "<IPython.core.display.HTML object>"
      ]
     },
     "metadata": {},
     "output_type": "display_data"
    },
    {
     "data": {
      "text/html": [
       "<br>    <style><br>        .wandb-row {<br>            display: flex;<br>            flex-direction: row;<br>            flex-wrap: wrap;<br>            justify-content: flex-start;<br>            width: 100%;<br>        }<br>        .wandb-col {<br>            display: flex;<br>            flex-direction: column;<br>            flex-basis: 100%;<br>            flex: 1;<br>            padding: 10px;<br>        }<br>    </style><br><div class=\"wandb-row\"><div class=\"wandb-col\"><h3>Run history:</h3><br/><table class=\"wandb\"><tr><td>accuracy</td><td>▁</td></tr><tr><td>f1_macro</td><td>▁</td></tr><tr><td>f1_weighted</td><td>▁</td></tr><tr><td>precision_weighted</td><td>▁</td></tr><tr><td>recall_weighted</td><td>▁</td></tr><tr><td>roc_auc</td><td>▁</td></tr></table><br/></div><div class=\"wandb-col\"><h3>Run summary:</h3><br/><table class=\"wandb\"><tr><td>accuracy</td><td>0.78436</td></tr><tr><td>f1_macro</td><td>0.78422</td></tr><tr><td>f1_weighted</td><td>0.78427</td></tr><tr><td>precision_weighted</td><td>0.78457</td></tr><tr><td>recall_weighted</td><td>0.78436</td></tr><tr><td>roc_auc</td><td>0.78419</td></tr></table><br/></div></div>"
      ],
      "text/plain": [
       "<IPython.core.display.HTML object>"
      ]
     },
     "metadata": {},
     "output_type": "display_data"
    },
    {
     "data": {
      "text/html": [
       " View run <strong style=\"color:#cdcd00\">v31_random_forest_{'n_estimators': 200, 'max_depth': 10, 'max_features': 'sqrt', 'min_samples_split': 5}</strong> at: <a href='http://wandb:8080/ben/kaggle_space-titanic/runs/lsh9ldsv' target=\"_blank\">http://wandb:8080/ben/kaggle_space-titanic/runs/lsh9ldsv</a><br> View project at: <a href='http://wandb:8080/ben/kaggle_space-titanic' target=\"_blank\">http://wandb:8080/ben/kaggle_space-titanic</a><br>Synced 5 W&B file(s), 0 media file(s), 0 artifact file(s) and 0 other file(s)"
      ],
      "text/plain": [
       "<IPython.core.display.HTML object>"
      ]
     },
     "metadata": {},
     "output_type": "display_data"
    },
    {
     "data": {
      "text/html": [
       "Find logs at: <code>/home/jovyan/wandb/wandb/run-20250517_210312-lsh9ldsv/logs</code>"
      ],
      "text/plain": [
       "<IPython.core.display.HTML object>"
      ]
     },
     "metadata": {},
     "output_type": "display_data"
    },
    {
     "name": "stdout",
     "output_type": "stream",
     "text": [
      "Started MLflow run: 85fd00d39d7945aaa38b0a53d8ed565c\n"
     ]
    },
    {
     "data": {
      "text/html": [
       "Tracking run with wandb version 0.19.11"
      ],
      "text/plain": [
       "<IPython.core.display.HTML object>"
      ]
     },
     "metadata": {},
     "output_type": "display_data"
    },
    {
     "data": {
      "text/html": [
       "Run data is saved locally in <code>/home/jovyan/wandb/wandb/run-20250517_210315-vxvaqypw</code>"
      ],
      "text/plain": [
       "<IPython.core.display.HTML object>"
      ]
     },
     "metadata": {},
     "output_type": "display_data"
    },
    {
     "data": {
      "text/html": [
       "Syncing run <strong><a href='http://wandb:8080/ben/kaggle_space-titanic/runs/vxvaqypw' target=\"_blank\">v31_random_forest_{'n_estimators': 200, 'max_depth': 10, 'max_features': 'log2', 'min_samples_split': 2}</a></strong> to <a href='http://wandb:8080/ben/kaggle_space-titanic' target=\"_blank\">Weights & Biases</a> (<a href='https://wandb.me/developer-guide' target=\"_blank\">docs</a>)<br>"
      ],
      "text/plain": [
       "<IPython.core.display.HTML object>"
      ]
     },
     "metadata": {},
     "output_type": "display_data"
    },
    {
     "data": {
      "text/html": [
       " View project at <a href='http://wandb:8080/ben/kaggle_space-titanic' target=\"_blank\">http://wandb:8080/ben/kaggle_space-titanic</a>"
      ],
      "text/plain": [
       "<IPython.core.display.HTML object>"
      ]
     },
     "metadata": {},
     "output_type": "display_data"
    },
    {
     "data": {
      "text/html": [
       " View run at <a href='http://wandb:8080/ben/kaggle_space-titanic/runs/vxvaqypw' target=\"_blank\">http://wandb:8080/ben/kaggle_space-titanic/runs/vxvaqypw</a>"
      ],
      "text/plain": [
       "<IPython.core.display.HTML object>"
      ]
     },
     "metadata": {},
     "output_type": "display_data"
    },
    {
     "name": "stdout",
     "output_type": "stream",
     "text": [
      "✅ Labels already normalized, no encoding needed\n",
      "✅ Finished training sklearn model\n",
      "🏃 View run v31_random_forest_{'n_estimators': 200, 'max_depth': 10, 'max_features': 'log2', 'min_samples_split': 2} at: http://mlflow:5000/#/experiments/2/runs/85fd00d39d7945aaa38b0a53d8ed565c\n",
      "🧪 View experiment at: http://mlflow:5000/#/experiments/2\n"
     ]
    },
    {
     "data": {
      "text/html": [],
      "text/plain": [
       "<IPython.core.display.HTML object>"
      ]
     },
     "metadata": {},
     "output_type": "display_data"
    },
    {
     "data": {
      "text/html": [
       "<br>    <style><br>        .wandb-row {<br>            display: flex;<br>            flex-direction: row;<br>            flex-wrap: wrap;<br>            justify-content: flex-start;<br>            width: 100%;<br>        }<br>        .wandb-col {<br>            display: flex;<br>            flex-direction: column;<br>            flex-basis: 100%;<br>            flex: 1;<br>            padding: 10px;<br>        }<br>    </style><br><div class=\"wandb-row\"><div class=\"wandb-col\"><h3>Run history:</h3><br/><table class=\"wandb\"><tr><td>accuracy</td><td>▁</td></tr><tr><td>f1_macro</td><td>▁</td></tr><tr><td>f1_weighted</td><td>▁</td></tr><tr><td>precision_weighted</td><td>▁</td></tr><tr><td>recall_weighted</td><td>▁</td></tr><tr><td>roc_auc</td><td>▁</td></tr></table><br/></div><div class=\"wandb-col\"><h3>Run summary:</h3><br/><table class=\"wandb\"><tr><td>accuracy</td><td>0.78148</td></tr><tr><td>f1_macro</td><td>0.78131</td></tr><tr><td>f1_weighted</td><td>0.78137</td></tr><tr><td>precision_weighted</td><td>0.78179</td></tr><tr><td>recall_weighted</td><td>0.78148</td></tr><tr><td>roc_auc</td><td>0.78128</td></tr></table><br/></div></div>"
      ],
      "text/plain": [
       "<IPython.core.display.HTML object>"
      ]
     },
     "metadata": {},
     "output_type": "display_data"
    },
    {
     "data": {
      "text/html": [
       " View run <strong style=\"color:#cdcd00\">v31_random_forest_{'n_estimators': 200, 'max_depth': 10, 'max_features': 'log2', 'min_samples_split': 2}</strong> at: <a href='http://wandb:8080/ben/kaggle_space-titanic/runs/vxvaqypw' target=\"_blank\">http://wandb:8080/ben/kaggle_space-titanic/runs/vxvaqypw</a><br> View project at: <a href='http://wandb:8080/ben/kaggle_space-titanic' target=\"_blank\">http://wandb:8080/ben/kaggle_space-titanic</a><br>Synced 5 W&B file(s), 0 media file(s), 0 artifact file(s) and 0 other file(s)"
      ],
      "text/plain": [
       "<IPython.core.display.HTML object>"
      ]
     },
     "metadata": {},
     "output_type": "display_data"
    },
    {
     "data": {
      "text/html": [
       "Find logs at: <code>/home/jovyan/wandb/wandb/run-20250517_210315-vxvaqypw/logs</code>"
      ],
      "text/plain": [
       "<IPython.core.display.HTML object>"
      ]
     },
     "metadata": {},
     "output_type": "display_data"
    },
    {
     "name": "stdout",
     "output_type": "stream",
     "text": [
      "Started MLflow run: a6404df7e2354868b280955d1748d824\n"
     ]
    },
    {
     "data": {
      "text/html": [
       "Tracking run with wandb version 0.19.11"
      ],
      "text/plain": [
       "<IPython.core.display.HTML object>"
      ]
     },
     "metadata": {},
     "output_type": "display_data"
    },
    {
     "data": {
      "text/html": [
       "Run data is saved locally in <code>/home/jovyan/wandb/wandb/run-20250517_210318-tbwkbxtw</code>"
      ],
      "text/plain": [
       "<IPython.core.display.HTML object>"
      ]
     },
     "metadata": {},
     "output_type": "display_data"
    },
    {
     "data": {
      "text/html": [
       "Syncing run <strong><a href='http://wandb:8080/ben/kaggle_space-titanic/runs/tbwkbxtw' target=\"_blank\">v31_random_forest_{'n_estimators': 200, 'max_depth': 10, 'max_features': 'log2', 'min_samples_split': 5}</a></strong> to <a href='http://wandb:8080/ben/kaggle_space-titanic' target=\"_blank\">Weights & Biases</a> (<a href='https://wandb.me/developer-guide' target=\"_blank\">docs</a>)<br>"
      ],
      "text/plain": [
       "<IPython.core.display.HTML object>"
      ]
     },
     "metadata": {},
     "output_type": "display_data"
    },
    {
     "data": {
      "text/html": [
       " View project at <a href='http://wandb:8080/ben/kaggle_space-titanic' target=\"_blank\">http://wandb:8080/ben/kaggle_space-titanic</a>"
      ],
      "text/plain": [
       "<IPython.core.display.HTML object>"
      ]
     },
     "metadata": {},
     "output_type": "display_data"
    },
    {
     "data": {
      "text/html": [
       " View run at <a href='http://wandb:8080/ben/kaggle_space-titanic/runs/tbwkbxtw' target=\"_blank\">http://wandb:8080/ben/kaggle_space-titanic/runs/tbwkbxtw</a>"
      ],
      "text/plain": [
       "<IPython.core.display.HTML object>"
      ]
     },
     "metadata": {},
     "output_type": "display_data"
    },
    {
     "name": "stdout",
     "output_type": "stream",
     "text": [
      "✅ Labels already normalized, no encoding needed\n",
      "✅ Finished training sklearn model\n",
      "🏃 View run v31_random_forest_{'n_estimators': 200, 'max_depth': 10, 'max_features': 'log2', 'min_samples_split': 5} at: http://mlflow:5000/#/experiments/2/runs/a6404df7e2354868b280955d1748d824\n",
      "🧪 View experiment at: http://mlflow:5000/#/experiments/2\n"
     ]
    },
    {
     "data": {
      "text/html": [],
      "text/plain": [
       "<IPython.core.display.HTML object>"
      ]
     },
     "metadata": {},
     "output_type": "display_data"
    },
    {
     "data": {
      "text/html": [
       "<br>    <style><br>        .wandb-row {<br>            display: flex;<br>            flex-direction: row;<br>            flex-wrap: wrap;<br>            justify-content: flex-start;<br>            width: 100%;<br>        }<br>        .wandb-col {<br>            display: flex;<br>            flex-direction: column;<br>            flex-basis: 100%;<br>            flex: 1;<br>            padding: 10px;<br>        }<br>    </style><br><div class=\"wandb-row\"><div class=\"wandb-col\"><h3>Run history:</h3><br/><table class=\"wandb\"><tr><td>accuracy</td><td>▁</td></tr><tr><td>f1_macro</td><td>▁</td></tr><tr><td>f1_weighted</td><td>▁</td></tr><tr><td>precision_weighted</td><td>▁</td></tr><tr><td>recall_weighted</td><td>▁</td></tr><tr><td>roc_auc</td><td>▁</td></tr></table><br/></div><div class=\"wandb-col\"><h3>Run summary:</h3><br/><table class=\"wandb\"><tr><td>accuracy</td><td>0.77976</td></tr><tr><td>f1_macro</td><td>0.77956</td></tr><tr><td>f1_weighted</td><td>0.77963</td></tr><tr><td>precision_weighted</td><td>0.78013</td></tr><tr><td>recall_weighted</td><td>0.77976</td></tr><tr><td>roc_auc</td><td>0.77954</td></tr></table><br/></div></div>"
      ],
      "text/plain": [
       "<IPython.core.display.HTML object>"
      ]
     },
     "metadata": {},
     "output_type": "display_data"
    },
    {
     "data": {
      "text/html": [
       " View run <strong style=\"color:#cdcd00\">v31_random_forest_{'n_estimators': 200, 'max_depth': 10, 'max_features': 'log2', 'min_samples_split': 5}</strong> at: <a href='http://wandb:8080/ben/kaggle_space-titanic/runs/tbwkbxtw' target=\"_blank\">http://wandb:8080/ben/kaggle_space-titanic/runs/tbwkbxtw</a><br> View project at: <a href='http://wandb:8080/ben/kaggle_space-titanic' target=\"_blank\">http://wandb:8080/ben/kaggle_space-titanic</a><br>Synced 5 W&B file(s), 0 media file(s), 0 artifact file(s) and 0 other file(s)"
      ],
      "text/plain": [
       "<IPython.core.display.HTML object>"
      ]
     },
     "metadata": {},
     "output_type": "display_data"
    },
    {
     "data": {
      "text/html": [
       "Find logs at: <code>/home/jovyan/wandb/wandb/run-20250517_210318-tbwkbxtw/logs</code>"
      ],
      "text/plain": [
       "<IPython.core.display.HTML object>"
      ]
     },
     "metadata": {},
     "output_type": "display_data"
    },
    {
     "name": "stdout",
     "output_type": "stream",
     "text": [
      "Started MLflow run: 68628b6df08d409c965c44b60e3f3d49\n"
     ]
    },
    {
     "data": {
      "text/html": [
       "Tracking run with wandb version 0.19.11"
      ],
      "text/plain": [
       "<IPython.core.display.HTML object>"
      ]
     },
     "metadata": {},
     "output_type": "display_data"
    },
    {
     "data": {
      "text/html": [
       "Run data is saved locally in <code>/home/jovyan/wandb/wandb/run-20250517_210321-hmfp85ke</code>"
      ],
      "text/plain": [
       "<IPython.core.display.HTML object>"
      ]
     },
     "metadata": {},
     "output_type": "display_data"
    },
    {
     "data": {
      "text/html": [
       "Syncing run <strong><a href='http://wandb:8080/ben/kaggle_space-titanic/runs/hmfp85ke' target=\"_blank\">v31_random_forest_{'n_estimators': 200, 'max_depth': 15, 'max_features': 'sqrt', 'min_samples_split': 2}</a></strong> to <a href='http://wandb:8080/ben/kaggle_space-titanic' target=\"_blank\">Weights & Biases</a> (<a href='https://wandb.me/developer-guide' target=\"_blank\">docs</a>)<br>"
      ],
      "text/plain": [
       "<IPython.core.display.HTML object>"
      ]
     },
     "metadata": {},
     "output_type": "display_data"
    },
    {
     "data": {
      "text/html": [
       " View project at <a href='http://wandb:8080/ben/kaggle_space-titanic' target=\"_blank\">http://wandb:8080/ben/kaggle_space-titanic</a>"
      ],
      "text/plain": [
       "<IPython.core.display.HTML object>"
      ]
     },
     "metadata": {},
     "output_type": "display_data"
    },
    {
     "data": {
      "text/html": [
       " View run at <a href='http://wandb:8080/ben/kaggle_space-titanic/runs/hmfp85ke' target=\"_blank\">http://wandb:8080/ben/kaggle_space-titanic/runs/hmfp85ke</a>"
      ],
      "text/plain": [
       "<IPython.core.display.HTML object>"
      ]
     },
     "metadata": {},
     "output_type": "display_data"
    },
    {
     "name": "stdout",
     "output_type": "stream",
     "text": [
      "✅ Labels already normalized, no encoding needed\n",
      "✅ Finished training sklearn model\n",
      "🏃 View run v31_random_forest_{'n_estimators': 200, 'max_depth': 15, 'max_features': 'sqrt', 'min_samples_split': 2} at: http://mlflow:5000/#/experiments/2/runs/68628b6df08d409c965c44b60e3f3d49\n",
      "🧪 View experiment at: http://mlflow:5000/#/experiments/2\n"
     ]
    },
    {
     "data": {
      "text/html": [],
      "text/plain": [
       "<IPython.core.display.HTML object>"
      ]
     },
     "metadata": {},
     "output_type": "display_data"
    },
    {
     "data": {
      "text/html": [
       "<br>    <style><br>        .wandb-row {<br>            display: flex;<br>            flex-direction: row;<br>            flex-wrap: wrap;<br>            justify-content: flex-start;<br>            width: 100%;<br>        }<br>        .wandb-col {<br>            display: flex;<br>            flex-direction: column;<br>            flex-basis: 100%;<br>            flex: 1;<br>            padding: 10px;<br>        }<br>    </style><br><div class=\"wandb-row\"><div class=\"wandb-col\"><h3>Run history:</h3><br/><table class=\"wandb\"><tr><td>accuracy</td><td>▁</td></tr><tr><td>f1_macro</td><td>▁</td></tr><tr><td>f1_weighted</td><td>▁</td></tr><tr><td>precision_weighted</td><td>▁</td></tr><tr><td>recall_weighted</td><td>▁</td></tr><tr><td>roc_auc</td><td>▁</td></tr></table><br/></div><div class=\"wandb-col\"><h3>Run summary:</h3><br/><table class=\"wandb\"><tr><td>accuracy</td><td>0.77976</td></tr><tr><td>f1_macro</td><td>0.77975</td></tr><tr><td>f1_weighted</td><td>0.77974</td></tr><tr><td>precision_weighted</td><td>0.7801</td></tr><tr><td>recall_weighted</td><td>0.77976</td></tr><tr><td>roc_auc</td><td>0.77989</td></tr></table><br/></div></div>"
      ],
      "text/plain": [
       "<IPython.core.display.HTML object>"
      ]
     },
     "metadata": {},
     "output_type": "display_data"
    },
    {
     "data": {
      "text/html": [
       " View run <strong style=\"color:#cdcd00\">v31_random_forest_{'n_estimators': 200, 'max_depth': 15, 'max_features': 'sqrt', 'min_samples_split': 2}</strong> at: <a href='http://wandb:8080/ben/kaggle_space-titanic/runs/hmfp85ke' target=\"_blank\">http://wandb:8080/ben/kaggle_space-titanic/runs/hmfp85ke</a><br> View project at: <a href='http://wandb:8080/ben/kaggle_space-titanic' target=\"_blank\">http://wandb:8080/ben/kaggle_space-titanic</a><br>Synced 5 W&B file(s), 0 media file(s), 0 artifact file(s) and 0 other file(s)"
      ],
      "text/plain": [
       "<IPython.core.display.HTML object>"
      ]
     },
     "metadata": {},
     "output_type": "display_data"
    },
    {
     "data": {
      "text/html": [
       "Find logs at: <code>/home/jovyan/wandb/wandb/run-20250517_210321-hmfp85ke/logs</code>"
      ],
      "text/plain": [
       "<IPython.core.display.HTML object>"
      ]
     },
     "metadata": {},
     "output_type": "display_data"
    },
    {
     "name": "stdout",
     "output_type": "stream",
     "text": [
      "Started MLflow run: 1afad82f904540fd9b156014c84b0679\n"
     ]
    },
    {
     "data": {
      "text/html": [
       "Tracking run with wandb version 0.19.11"
      ],
      "text/plain": [
       "<IPython.core.display.HTML object>"
      ]
     },
     "metadata": {},
     "output_type": "display_data"
    },
    {
     "data": {
      "text/html": [
       "Run data is saved locally in <code>/home/jovyan/wandb/wandb/run-20250517_210325-pnchn9h0</code>"
      ],
      "text/plain": [
       "<IPython.core.display.HTML object>"
      ]
     },
     "metadata": {},
     "output_type": "display_data"
    },
    {
     "data": {
      "text/html": [
       "Syncing run <strong><a href='http://wandb:8080/ben/kaggle_space-titanic/runs/pnchn9h0' target=\"_blank\">v31_random_forest_{'n_estimators': 200, 'max_depth': 15, 'max_features': 'sqrt', 'min_samples_split': 5}</a></strong> to <a href='http://wandb:8080/ben/kaggle_space-titanic' target=\"_blank\">Weights & Biases</a> (<a href='https://wandb.me/developer-guide' target=\"_blank\">docs</a>)<br>"
      ],
      "text/plain": [
       "<IPython.core.display.HTML object>"
      ]
     },
     "metadata": {},
     "output_type": "display_data"
    },
    {
     "data": {
      "text/html": [
       " View project at <a href='http://wandb:8080/ben/kaggle_space-titanic' target=\"_blank\">http://wandb:8080/ben/kaggle_space-titanic</a>"
      ],
      "text/plain": [
       "<IPython.core.display.HTML object>"
      ]
     },
     "metadata": {},
     "output_type": "display_data"
    },
    {
     "data": {
      "text/html": [
       " View run at <a href='http://wandb:8080/ben/kaggle_space-titanic/runs/pnchn9h0' target=\"_blank\">http://wandb:8080/ben/kaggle_space-titanic/runs/pnchn9h0</a>"
      ],
      "text/plain": [
       "<IPython.core.display.HTML object>"
      ]
     },
     "metadata": {},
     "output_type": "display_data"
    },
    {
     "name": "stdout",
     "output_type": "stream",
     "text": [
      "✅ Labels already normalized, no encoding needed\n",
      "✅ Finished training sklearn model\n",
      "🏃 View run v31_random_forest_{'n_estimators': 200, 'max_depth': 15, 'max_features': 'sqrt', 'min_samples_split': 5} at: http://mlflow:5000/#/experiments/2/runs/1afad82f904540fd9b156014c84b0679\n",
      "🧪 View experiment at: http://mlflow:5000/#/experiments/2\n"
     ]
    },
    {
     "data": {
      "text/html": [],
      "text/plain": [
       "<IPython.core.display.HTML object>"
      ]
     },
     "metadata": {},
     "output_type": "display_data"
    },
    {
     "data": {
      "text/html": [
       "<br>    <style><br>        .wandb-row {<br>            display: flex;<br>            flex-direction: row;<br>            flex-wrap: wrap;<br>            justify-content: flex-start;<br>            width: 100%;<br>        }<br>        .wandb-col {<br>            display: flex;<br>            flex-direction: column;<br>            flex-basis: 100%;<br>            flex: 1;<br>            padding: 10px;<br>        }<br>    </style><br><div class=\"wandb-row\"><div class=\"wandb-col\"><h3>Run history:</h3><br/><table class=\"wandb\"><tr><td>accuracy</td><td>▁</td></tr><tr><td>f1_macro</td><td>▁</td></tr><tr><td>f1_weighted</td><td>▁</td></tr><tr><td>precision_weighted</td><td>▁</td></tr><tr><td>recall_weighted</td><td>▁</td></tr><tr><td>roc_auc</td><td>▁</td></tr></table><br/></div><div class=\"wandb-col\"><h3>Run summary:</h3><br/><table class=\"wandb\"><tr><td>accuracy</td><td>0.78091</td></tr><tr><td>f1_macro</td><td>0.78091</td></tr><tr><td>f1_weighted</td><td>0.7809</td></tr><tr><td>precision_weighted</td><td>0.78112</td></tr><tr><td>recall_weighted</td><td>0.78091</td></tr><tr><td>roc_auc</td><td>0.78101</td></tr></table><br/></div></div>"
      ],
      "text/plain": [
       "<IPython.core.display.HTML object>"
      ]
     },
     "metadata": {},
     "output_type": "display_data"
    },
    {
     "data": {
      "text/html": [
       " View run <strong style=\"color:#cdcd00\">v31_random_forest_{'n_estimators': 200, 'max_depth': 15, 'max_features': 'sqrt', 'min_samples_split': 5}</strong> at: <a href='http://wandb:8080/ben/kaggle_space-titanic/runs/pnchn9h0' target=\"_blank\">http://wandb:8080/ben/kaggle_space-titanic/runs/pnchn9h0</a><br> View project at: <a href='http://wandb:8080/ben/kaggle_space-titanic' target=\"_blank\">http://wandb:8080/ben/kaggle_space-titanic</a><br>Synced 5 W&B file(s), 0 media file(s), 0 artifact file(s) and 0 other file(s)"
      ],
      "text/plain": [
       "<IPython.core.display.HTML object>"
      ]
     },
     "metadata": {},
     "output_type": "display_data"
    },
    {
     "data": {
      "text/html": [
       "Find logs at: <code>/home/jovyan/wandb/wandb/run-20250517_210325-pnchn9h0/logs</code>"
      ],
      "text/plain": [
       "<IPython.core.display.HTML object>"
      ]
     },
     "metadata": {},
     "output_type": "display_data"
    },
    {
     "name": "stdout",
     "output_type": "stream",
     "text": [
      "Started MLflow run: fc1fcfd50a03493c984ad1d058f6e3bb\n"
     ]
    },
    {
     "data": {
      "text/html": [
       "Tracking run with wandb version 0.19.11"
      ],
      "text/plain": [
       "<IPython.core.display.HTML object>"
      ]
     },
     "metadata": {},
     "output_type": "display_data"
    },
    {
     "data": {
      "text/html": [
       "Run data is saved locally in <code>/home/jovyan/wandb/wandb/run-20250517_210328-azgdiant</code>"
      ],
      "text/plain": [
       "<IPython.core.display.HTML object>"
      ]
     },
     "metadata": {},
     "output_type": "display_data"
    },
    {
     "data": {
      "text/html": [
       "Syncing run <strong><a href='http://wandb:8080/ben/kaggle_space-titanic/runs/azgdiant' target=\"_blank\">v31_random_forest_{'n_estimators': 200, 'max_depth': 15, 'max_features': 'log2', 'min_samples_split': 2}</a></strong> to <a href='http://wandb:8080/ben/kaggle_space-titanic' target=\"_blank\">Weights & Biases</a> (<a href='https://wandb.me/developer-guide' target=\"_blank\">docs</a>)<br>"
      ],
      "text/plain": [
       "<IPython.core.display.HTML object>"
      ]
     },
     "metadata": {},
     "output_type": "display_data"
    },
    {
     "data": {
      "text/html": [
       " View project at <a href='http://wandb:8080/ben/kaggle_space-titanic' target=\"_blank\">http://wandb:8080/ben/kaggle_space-titanic</a>"
      ],
      "text/plain": [
       "<IPython.core.display.HTML object>"
      ]
     },
     "metadata": {},
     "output_type": "display_data"
    },
    {
     "data": {
      "text/html": [
       " View run at <a href='http://wandb:8080/ben/kaggle_space-titanic/runs/azgdiant' target=\"_blank\">http://wandb:8080/ben/kaggle_space-titanic/runs/azgdiant</a>"
      ],
      "text/plain": [
       "<IPython.core.display.HTML object>"
      ]
     },
     "metadata": {},
     "output_type": "display_data"
    },
    {
     "name": "stdout",
     "output_type": "stream",
     "text": [
      "✅ Labels already normalized, no encoding needed\n",
      "✅ Finished training sklearn model\n",
      "🏃 View run v31_random_forest_{'n_estimators': 200, 'max_depth': 15, 'max_features': 'log2', 'min_samples_split': 2} at: http://mlflow:5000/#/experiments/2/runs/fc1fcfd50a03493c984ad1d058f6e3bb\n",
      "🧪 View experiment at: http://mlflow:5000/#/experiments/2\n"
     ]
    },
    {
     "data": {
      "text/html": [],
      "text/plain": [
       "<IPython.core.display.HTML object>"
      ]
     },
     "metadata": {},
     "output_type": "display_data"
    },
    {
     "data": {
      "text/html": [
       "<br>    <style><br>        .wandb-row {<br>            display: flex;<br>            flex-direction: row;<br>            flex-wrap: wrap;<br>            justify-content: flex-start;<br>            width: 100%;<br>        }<br>        .wandb-col {<br>            display: flex;<br>            flex-direction: column;<br>            flex-basis: 100%;<br>            flex: 1;<br>            padding: 10px;<br>        }<br>    </style><br><div class=\"wandb-row\"><div class=\"wandb-col\"><h3>Run history:</h3><br/><table class=\"wandb\"><tr><td>accuracy</td><td>▁</td></tr><tr><td>f1_macro</td><td>▁</td></tr><tr><td>f1_weighted</td><td>▁</td></tr><tr><td>precision_weighted</td><td>▁</td></tr><tr><td>recall_weighted</td><td>▁</td></tr><tr><td>roc_auc</td><td>▁</td></tr></table><br/></div><div class=\"wandb-col\"><h3>Run summary:</h3><br/><table class=\"wandb\"><tr><td>accuracy</td><td>0.77976</td></tr><tr><td>f1_macro</td><td>0.77974</td></tr><tr><td>f1_weighted</td><td>0.77972</td></tr><tr><td>precision_weighted</td><td>0.78024</td></tr><tr><td>recall_weighted</td><td>0.77976</td></tr><tr><td>roc_auc</td><td>0.77992</td></tr></table><br/></div></div>"
      ],
      "text/plain": [
       "<IPython.core.display.HTML object>"
      ]
     },
     "metadata": {},
     "output_type": "display_data"
    },
    {
     "data": {
      "text/html": [
       " View run <strong style=\"color:#cdcd00\">v31_random_forest_{'n_estimators': 200, 'max_depth': 15, 'max_features': 'log2', 'min_samples_split': 2}</strong> at: <a href='http://wandb:8080/ben/kaggle_space-titanic/runs/azgdiant' target=\"_blank\">http://wandb:8080/ben/kaggle_space-titanic/runs/azgdiant</a><br> View project at: <a href='http://wandb:8080/ben/kaggle_space-titanic' target=\"_blank\">http://wandb:8080/ben/kaggle_space-titanic</a><br>Synced 5 W&B file(s), 0 media file(s), 0 artifact file(s) and 0 other file(s)"
      ],
      "text/plain": [
       "<IPython.core.display.HTML object>"
      ]
     },
     "metadata": {},
     "output_type": "display_data"
    },
    {
     "data": {
      "text/html": [
       "Find logs at: <code>/home/jovyan/wandb/wandb/run-20250517_210328-azgdiant/logs</code>"
      ],
      "text/plain": [
       "<IPython.core.display.HTML object>"
      ]
     },
     "metadata": {},
     "output_type": "display_data"
    },
    {
     "name": "stdout",
     "output_type": "stream",
     "text": [
      "Started MLflow run: 1a54be7c6e9b4bb881d3c5a08c57351e\n"
     ]
    },
    {
     "data": {
      "text/html": [
       "Tracking run with wandb version 0.19.11"
      ],
      "text/plain": [
       "<IPython.core.display.HTML object>"
      ]
     },
     "metadata": {},
     "output_type": "display_data"
    },
    {
     "data": {
      "text/html": [
       "Run data is saved locally in <code>/home/jovyan/wandb/wandb/run-20250517_210331-g8e67var</code>"
      ],
      "text/plain": [
       "<IPython.core.display.HTML object>"
      ]
     },
     "metadata": {},
     "output_type": "display_data"
    },
    {
     "data": {
      "text/html": [
       "Syncing run <strong><a href='http://wandb:8080/ben/kaggle_space-titanic/runs/g8e67var' target=\"_blank\">v31_random_forest_{'n_estimators': 200, 'max_depth': 15, 'max_features': 'log2', 'min_samples_split': 5}</a></strong> to <a href='http://wandb:8080/ben/kaggle_space-titanic' target=\"_blank\">Weights & Biases</a> (<a href='https://wandb.me/developer-guide' target=\"_blank\">docs</a>)<br>"
      ],
      "text/plain": [
       "<IPython.core.display.HTML object>"
      ]
     },
     "metadata": {},
     "output_type": "display_data"
    },
    {
     "data": {
      "text/html": [
       " View project at <a href='http://wandb:8080/ben/kaggle_space-titanic' target=\"_blank\">http://wandb:8080/ben/kaggle_space-titanic</a>"
      ],
      "text/plain": [
       "<IPython.core.display.HTML object>"
      ]
     },
     "metadata": {},
     "output_type": "display_data"
    },
    {
     "data": {
      "text/html": [
       " View run at <a href='http://wandb:8080/ben/kaggle_space-titanic/runs/g8e67var' target=\"_blank\">http://wandb:8080/ben/kaggle_space-titanic/runs/g8e67var</a>"
      ],
      "text/plain": [
       "<IPython.core.display.HTML object>"
      ]
     },
     "metadata": {},
     "output_type": "display_data"
    },
    {
     "name": "stdout",
     "output_type": "stream",
     "text": [
      "✅ Labels already normalized, no encoding needed\n",
      "✅ Finished training sklearn model\n",
      "🏃 View run v31_random_forest_{'n_estimators': 200, 'max_depth': 15, 'max_features': 'log2', 'min_samples_split': 5} at: http://mlflow:5000/#/experiments/2/runs/1a54be7c6e9b4bb881d3c5a08c57351e\n",
      "🧪 View experiment at: http://mlflow:5000/#/experiments/2\n"
     ]
    },
    {
     "data": {
      "text/html": [],
      "text/plain": [
       "<IPython.core.display.HTML object>"
      ]
     },
     "metadata": {},
     "output_type": "display_data"
    },
    {
     "data": {
      "text/html": [
       "<br>    <style><br>        .wandb-row {<br>            display: flex;<br>            flex-direction: row;<br>            flex-wrap: wrap;<br>            justify-content: flex-start;<br>            width: 100%;<br>        }<br>        .wandb-col {<br>            display: flex;<br>            flex-direction: column;<br>            flex-basis: 100%;<br>            flex: 1;<br>            padding: 10px;<br>        }<br>    </style><br><div class=\"wandb-row\"><div class=\"wandb-col\"><h3>Run history:</h3><br/><table class=\"wandb\"><tr><td>accuracy</td><td>▁</td></tr><tr><td>f1_macro</td><td>▁</td></tr><tr><td>f1_weighted</td><td>▁</td></tr><tr><td>precision_weighted</td><td>▁</td></tr><tr><td>recall_weighted</td><td>▁</td></tr><tr><td>roc_auc</td><td>▁</td></tr></table><br/></div><div class=\"wandb-col\"><h3>Run summary:</h3><br/><table class=\"wandb\"><tr><td>accuracy</td><td>0.78091</td></tr><tr><td>f1_macro</td><td>0.78091</td></tr><tr><td>f1_weighted</td><td>0.7809</td></tr><tr><td>precision_weighted</td><td>0.78112</td></tr><tr><td>recall_weighted</td><td>0.78091</td></tr><tr><td>roc_auc</td><td>0.78101</td></tr></table><br/></div></div>"
      ],
      "text/plain": [
       "<IPython.core.display.HTML object>"
      ]
     },
     "metadata": {},
     "output_type": "display_data"
    },
    {
     "data": {
      "text/html": [
       " View run <strong style=\"color:#cdcd00\">v31_random_forest_{'n_estimators': 200, 'max_depth': 15, 'max_features': 'log2', 'min_samples_split': 5}</strong> at: <a href='http://wandb:8080/ben/kaggle_space-titanic/runs/g8e67var' target=\"_blank\">http://wandb:8080/ben/kaggle_space-titanic/runs/g8e67var</a><br> View project at: <a href='http://wandb:8080/ben/kaggle_space-titanic' target=\"_blank\">http://wandb:8080/ben/kaggle_space-titanic</a><br>Synced 5 W&B file(s), 0 media file(s), 0 artifact file(s) and 0 other file(s)"
      ],
      "text/plain": [
       "<IPython.core.display.HTML object>"
      ]
     },
     "metadata": {},
     "output_type": "display_data"
    },
    {
     "data": {
      "text/html": [
       "Find logs at: <code>/home/jovyan/wandb/wandb/run-20250517_210331-g8e67var/logs</code>"
      ],
      "text/plain": [
       "<IPython.core.display.HTML object>"
      ]
     },
     "metadata": {},
     "output_type": "display_data"
    },
    {
     "name": "stdout",
     "output_type": "stream",
     "text": [
      "Started MLflow run: 2813c42225474c57b316e827ef08c08e\n"
     ]
    },
    {
     "data": {
      "text/html": [
       "Tracking run with wandb version 0.19.11"
      ],
      "text/plain": [
       "<IPython.core.display.HTML object>"
      ]
     },
     "metadata": {},
     "output_type": "display_data"
    },
    {
     "data": {
      "text/html": [
       "Run data is saved locally in <code>/home/jovyan/wandb/wandb/run-20250517_210335-3plwixbs</code>"
      ],
      "text/plain": [
       "<IPython.core.display.HTML object>"
      ]
     },
     "metadata": {},
     "output_type": "display_data"
    },
    {
     "data": {
      "text/html": [
       "Syncing run <strong><a href='http://wandb:8080/ben/kaggle_space-titanic/runs/3plwixbs' target=\"_blank\">v31_random_forest_{'n_estimators': 350, 'max_depth': None, 'max_features': 'sqrt', 'min_samples_split': 2}</a></strong> to <a href='http://wandb:8080/ben/kaggle_space-titanic' target=\"_blank\">Weights & Biases</a> (<a href='https://wandb.me/developer-guide' target=\"_blank\">docs</a>)<br>"
      ],
      "text/plain": [
       "<IPython.core.display.HTML object>"
      ]
     },
     "metadata": {},
     "output_type": "display_data"
    },
    {
     "data": {
      "text/html": [
       " View project at <a href='http://wandb:8080/ben/kaggle_space-titanic' target=\"_blank\">http://wandb:8080/ben/kaggle_space-titanic</a>"
      ],
      "text/plain": [
       "<IPython.core.display.HTML object>"
      ]
     },
     "metadata": {},
     "output_type": "display_data"
    },
    {
     "data": {
      "text/html": [
       " View run at <a href='http://wandb:8080/ben/kaggle_space-titanic/runs/3plwixbs' target=\"_blank\">http://wandb:8080/ben/kaggle_space-titanic/runs/3plwixbs</a>"
      ],
      "text/plain": [
       "<IPython.core.display.HTML object>"
      ]
     },
     "metadata": {},
     "output_type": "display_data"
    },
    {
     "name": "stdout",
     "output_type": "stream",
     "text": [
      "✅ Labels already normalized, no encoding needed\n",
      "✅ Finished training sklearn model\n",
      "🏃 View run v31_random_forest_{'n_estimators': 350, 'max_depth': None, 'max_features': 'sqrt', 'min_samples_split': 2} at: http://mlflow:5000/#/experiments/2/runs/2813c42225474c57b316e827ef08c08e\n",
      "🧪 View experiment at: http://mlflow:5000/#/experiments/2\n"
     ]
    },
    {
     "data": {
      "text/html": [],
      "text/plain": [
       "<IPython.core.display.HTML object>"
      ]
     },
     "metadata": {},
     "output_type": "display_data"
    },
    {
     "data": {
      "text/html": [
       "<br>    <style><br>        .wandb-row {<br>            display: flex;<br>            flex-direction: row;<br>            flex-wrap: wrap;<br>            justify-content: flex-start;<br>            width: 100%;<br>        }<br>        .wandb-col {<br>            display: flex;<br>            flex-direction: column;<br>            flex-basis: 100%;<br>            flex: 1;<br>            padding: 10px;<br>        }<br>    </style><br><div class=\"wandb-row\"><div class=\"wandb-col\"><h3>Run history:</h3><br/><table class=\"wandb\"><tr><td>accuracy</td><td>▁</td></tr><tr><td>f1_macro</td><td>▁</td></tr><tr><td>f1_weighted</td><td>▁</td></tr><tr><td>precision_weighted</td><td>▁</td></tr><tr><td>recall_weighted</td><td>▁</td></tr><tr><td>roc_auc</td><td>▁</td></tr></table><br/></div><div class=\"wandb-col\"><h3>Run summary:</h3><br/><table class=\"wandb\"><tr><td>accuracy</td><td>0.78321</td></tr><tr><td>f1_macro</td><td>0.78317</td></tr><tr><td>f1_weighted</td><td>0.78314</td></tr><tr><td>precision_weighted</td><td>0.78394</td></tr><tr><td>recall_weighted</td><td>0.78321</td></tr><tr><td>roc_auc</td><td>0.78342</td></tr></table><br/></div></div>"
      ],
      "text/plain": [
       "<IPython.core.display.HTML object>"
      ]
     },
     "metadata": {},
     "output_type": "display_data"
    },
    {
     "data": {
      "text/html": [
       " View run <strong style=\"color:#cdcd00\">v31_random_forest_{'n_estimators': 350, 'max_depth': None, 'max_features': 'sqrt', 'min_samples_split': 2}</strong> at: <a href='http://wandb:8080/ben/kaggle_space-titanic/runs/3plwixbs' target=\"_blank\">http://wandb:8080/ben/kaggle_space-titanic/runs/3plwixbs</a><br> View project at: <a href='http://wandb:8080/ben/kaggle_space-titanic' target=\"_blank\">http://wandb:8080/ben/kaggle_space-titanic</a><br>Synced 5 W&B file(s), 0 media file(s), 0 artifact file(s) and 0 other file(s)"
      ],
      "text/plain": [
       "<IPython.core.display.HTML object>"
      ]
     },
     "metadata": {},
     "output_type": "display_data"
    },
    {
     "data": {
      "text/html": [
       "Find logs at: <code>/home/jovyan/wandb/wandb/run-20250517_210335-3plwixbs/logs</code>"
      ],
      "text/plain": [
       "<IPython.core.display.HTML object>"
      ]
     },
     "metadata": {},
     "output_type": "display_data"
    },
    {
     "name": "stdout",
     "output_type": "stream",
     "text": [
      "Started MLflow run: c6d3ad3c231a4a979d1ec3170d60a02d\n"
     ]
    },
    {
     "data": {
      "text/html": [
       "Tracking run with wandb version 0.19.11"
      ],
      "text/plain": [
       "<IPython.core.display.HTML object>"
      ]
     },
     "metadata": {},
     "output_type": "display_data"
    },
    {
     "data": {
      "text/html": [
       "Run data is saved locally in <code>/home/jovyan/wandb/wandb/run-20250517_210341-ayi8wuht</code>"
      ],
      "text/plain": [
       "<IPython.core.display.HTML object>"
      ]
     },
     "metadata": {},
     "output_type": "display_data"
    },
    {
     "data": {
      "text/html": [
       "Syncing run <strong><a href='http://wandb:8080/ben/kaggle_space-titanic/runs/ayi8wuht' target=\"_blank\">v31_random_forest_{'n_estimators': 350, 'max_depth': None, 'max_features': 'sqrt', 'min_samples_split': 5}</a></strong> to <a href='http://wandb:8080/ben/kaggle_space-titanic' target=\"_blank\">Weights & Biases</a> (<a href='https://wandb.me/developer-guide' target=\"_blank\">docs</a>)<br>"
      ],
      "text/plain": [
       "<IPython.core.display.HTML object>"
      ]
     },
     "metadata": {},
     "output_type": "display_data"
    },
    {
     "data": {
      "text/html": [
       " View project at <a href='http://wandb:8080/ben/kaggle_space-titanic' target=\"_blank\">http://wandb:8080/ben/kaggle_space-titanic</a>"
      ],
      "text/plain": [
       "<IPython.core.display.HTML object>"
      ]
     },
     "metadata": {},
     "output_type": "display_data"
    },
    {
     "data": {
      "text/html": [
       " View run at <a href='http://wandb:8080/ben/kaggle_space-titanic/runs/ayi8wuht' target=\"_blank\">http://wandb:8080/ben/kaggle_space-titanic/runs/ayi8wuht</a>"
      ],
      "text/plain": [
       "<IPython.core.display.HTML object>"
      ]
     },
     "metadata": {},
     "output_type": "display_data"
    },
    {
     "name": "stdout",
     "output_type": "stream",
     "text": [
      "✅ Labels already normalized, no encoding needed\n",
      "✅ Finished training sklearn model\n",
      "🏃 View run v31_random_forest_{'n_estimators': 350, 'max_depth': None, 'max_features': 'sqrt', 'min_samples_split': 5} at: http://mlflow:5000/#/experiments/2/runs/c6d3ad3c231a4a979d1ec3170d60a02d\n",
      "🧪 View experiment at: http://mlflow:5000/#/experiments/2\n"
     ]
    },
    {
     "data": {
      "text/html": [],
      "text/plain": [
       "<IPython.core.display.HTML object>"
      ]
     },
     "metadata": {},
     "output_type": "display_data"
    },
    {
     "data": {
      "text/html": [
       "<br>    <style><br>        .wandb-row {<br>            display: flex;<br>            flex-direction: row;<br>            flex-wrap: wrap;<br>            justify-content: flex-start;<br>            width: 100%;<br>        }<br>        .wandb-col {<br>            display: flex;<br>            flex-direction: column;<br>            flex-basis: 100%;<br>            flex: 1;<br>            padding: 10px;<br>        }<br>    </style><br><div class=\"wandb-row\"><div class=\"wandb-col\"><h3>Run history:</h3><br/><table class=\"wandb\"><tr><td>accuracy</td><td>▁</td></tr><tr><td>f1_macro</td><td>▁</td></tr><tr><td>f1_weighted</td><td>▁</td></tr><tr><td>precision_weighted</td><td>▁</td></tr><tr><td>recall_weighted</td><td>▁</td></tr><tr><td>roc_auc</td><td>▁</td></tr></table><br/></div><div class=\"wandb-col\"><h3>Run summary:</h3><br/><table class=\"wandb\"><tr><td>accuracy</td><td>0.77343</td></tr><tr><td>f1_macro</td><td>0.77343</td></tr><tr><td>f1_weighted</td><td>0.77342</td></tr><tr><td>precision_weighted</td><td>0.7737</td></tr><tr><td>recall_weighted</td><td>0.77343</td></tr><tr><td>roc_auc</td><td>0.77355</td></tr></table><br/></div></div>"
      ],
      "text/plain": [
       "<IPython.core.display.HTML object>"
      ]
     },
     "metadata": {},
     "output_type": "display_data"
    },
    {
     "data": {
      "text/html": [
       " View run <strong style=\"color:#cdcd00\">v31_random_forest_{'n_estimators': 350, 'max_depth': None, 'max_features': 'sqrt', 'min_samples_split': 5}</strong> at: <a href='http://wandb:8080/ben/kaggle_space-titanic/runs/ayi8wuht' target=\"_blank\">http://wandb:8080/ben/kaggle_space-titanic/runs/ayi8wuht</a><br> View project at: <a href='http://wandb:8080/ben/kaggle_space-titanic' target=\"_blank\">http://wandb:8080/ben/kaggle_space-titanic</a><br>Synced 5 W&B file(s), 0 media file(s), 0 artifact file(s) and 0 other file(s)"
      ],
      "text/plain": [
       "<IPython.core.display.HTML object>"
      ]
     },
     "metadata": {},
     "output_type": "display_data"
    },
    {
     "data": {
      "text/html": [
       "Find logs at: <code>/home/jovyan/wandb/wandb/run-20250517_210341-ayi8wuht/logs</code>"
      ],
      "text/plain": [
       "<IPython.core.display.HTML object>"
      ]
     },
     "metadata": {},
     "output_type": "display_data"
    },
    {
     "name": "stdout",
     "output_type": "stream",
     "text": [
      "Started MLflow run: d9f7099ec18440658d138486c61697e3\n"
     ]
    },
    {
     "data": {
      "text/html": [
       "Tracking run with wandb version 0.19.11"
      ],
      "text/plain": [
       "<IPython.core.display.HTML object>"
      ]
     },
     "metadata": {},
     "output_type": "display_data"
    },
    {
     "data": {
      "text/html": [
       "Run data is saved locally in <code>/home/jovyan/wandb/wandb/run-20250517_210348-z7y8l31g</code>"
      ],
      "text/plain": [
       "<IPython.core.display.HTML object>"
      ]
     },
     "metadata": {},
     "output_type": "display_data"
    },
    {
     "data": {
      "text/html": [
       "Syncing run <strong><a href='http://wandb:8080/ben/kaggle_space-titanic/runs/z7y8l31g' target=\"_blank\">v31_random_forest_{'n_estimators': 350, 'max_depth': None, 'max_features': 'log2', 'min_samples_split': 2}</a></strong> to <a href='http://wandb:8080/ben/kaggle_space-titanic' target=\"_blank\">Weights & Biases</a> (<a href='https://wandb.me/developer-guide' target=\"_blank\">docs</a>)<br>"
      ],
      "text/plain": [
       "<IPython.core.display.HTML object>"
      ]
     },
     "metadata": {},
     "output_type": "display_data"
    },
    {
     "data": {
      "text/html": [
       " View project at <a href='http://wandb:8080/ben/kaggle_space-titanic' target=\"_blank\">http://wandb:8080/ben/kaggle_space-titanic</a>"
      ],
      "text/plain": [
       "<IPython.core.display.HTML object>"
      ]
     },
     "metadata": {},
     "output_type": "display_data"
    },
    {
     "data": {
      "text/html": [
       " View run at <a href='http://wandb:8080/ben/kaggle_space-titanic/runs/z7y8l31g' target=\"_blank\">http://wandb:8080/ben/kaggle_space-titanic/runs/z7y8l31g</a>"
      ],
      "text/plain": [
       "<IPython.core.display.HTML object>"
      ]
     },
     "metadata": {},
     "output_type": "display_data"
    },
    {
     "name": "stdout",
     "output_type": "stream",
     "text": [
      "✅ Labels already normalized, no encoding needed\n",
      "✅ Finished training sklearn model\n",
      "🏃 View run v31_random_forest_{'n_estimators': 350, 'max_depth': None, 'max_features': 'log2', 'min_samples_split': 2} at: http://mlflow:5000/#/experiments/2/runs/d9f7099ec18440658d138486c61697e3\n",
      "🧪 View experiment at: http://mlflow:5000/#/experiments/2\n"
     ]
    },
    {
     "data": {
      "text/html": [],
      "text/plain": [
       "<IPython.core.display.HTML object>"
      ]
     },
     "metadata": {},
     "output_type": "display_data"
    },
    {
     "data": {
      "text/html": [
       "<br>    <style><br>        .wandb-row {<br>            display: flex;<br>            flex-direction: row;<br>            flex-wrap: wrap;<br>            justify-content: flex-start;<br>            width: 100%;<br>        }<br>        .wandb-col {<br>            display: flex;<br>            flex-direction: column;<br>            flex-basis: 100%;<br>            flex: 1;<br>            padding: 10px;<br>        }<br>    </style><br><div class=\"wandb-row\"><div class=\"wandb-col\"><h3>Run history:</h3><br/><table class=\"wandb\"><tr><td>accuracy</td><td>▁</td></tr><tr><td>f1_macro</td><td>▁</td></tr><tr><td>f1_weighted</td><td>▁</td></tr><tr><td>precision_weighted</td><td>▁</td></tr><tr><td>recall_weighted</td><td>▁</td></tr><tr><td>roc_auc</td><td>▁</td></tr></table><br/></div><div class=\"wandb-col\"><h3>Run summary:</h3><br/><table class=\"wandb\"><tr><td>accuracy</td><td>0.78263</td></tr><tr><td>f1_macro</td><td>0.7826</td></tr><tr><td>f1_weighted</td><td>0.78257</td></tr><tr><td>precision_weighted</td><td>0.78333</td></tr><tr><td>recall_weighted</td><td>0.78263</td></tr><tr><td>roc_auc</td><td>0.78284</td></tr></table><br/></div></div>"
      ],
      "text/plain": [
       "<IPython.core.display.HTML object>"
      ]
     },
     "metadata": {},
     "output_type": "display_data"
    },
    {
     "data": {
      "text/html": [
       " View run <strong style=\"color:#cdcd00\">v31_random_forest_{'n_estimators': 350, 'max_depth': None, 'max_features': 'log2', 'min_samples_split': 2}</strong> at: <a href='http://wandb:8080/ben/kaggle_space-titanic/runs/z7y8l31g' target=\"_blank\">http://wandb:8080/ben/kaggle_space-titanic/runs/z7y8l31g</a><br> View project at: <a href='http://wandb:8080/ben/kaggle_space-titanic' target=\"_blank\">http://wandb:8080/ben/kaggle_space-titanic</a><br>Synced 5 W&B file(s), 0 media file(s), 0 artifact file(s) and 0 other file(s)"
      ],
      "text/plain": [
       "<IPython.core.display.HTML object>"
      ]
     },
     "metadata": {},
     "output_type": "display_data"
    },
    {
     "data": {
      "text/html": [
       "Find logs at: <code>/home/jovyan/wandb/wandb/run-20250517_210348-z7y8l31g/logs</code>"
      ],
      "text/plain": [
       "<IPython.core.display.HTML object>"
      ]
     },
     "metadata": {},
     "output_type": "display_data"
    },
    {
     "name": "stdout",
     "output_type": "stream",
     "text": [
      "Started MLflow run: 03e0af408e09407c854fae177473b8df\n"
     ]
    },
    {
     "data": {
      "text/html": [
       "Tracking run with wandb version 0.19.11"
      ],
      "text/plain": [
       "<IPython.core.display.HTML object>"
      ]
     },
     "metadata": {},
     "output_type": "display_data"
    },
    {
     "data": {
      "text/html": [
       "Run data is saved locally in <code>/home/jovyan/wandb/wandb/run-20250517_210353-gdxmaceg</code>"
      ],
      "text/plain": [
       "<IPython.core.display.HTML object>"
      ]
     },
     "metadata": {},
     "output_type": "display_data"
    },
    {
     "data": {
      "text/html": [
       "Syncing run <strong><a href='http://wandb:8080/ben/kaggle_space-titanic/runs/gdxmaceg' target=\"_blank\">v31_random_forest_{'n_estimators': 350, 'max_depth': None, 'max_features': 'log2', 'min_samples_split': 5}</a></strong> to <a href='http://wandb:8080/ben/kaggle_space-titanic' target=\"_blank\">Weights & Biases</a> (<a href='https://wandb.me/developer-guide' target=\"_blank\">docs</a>)<br>"
      ],
      "text/plain": [
       "<IPython.core.display.HTML object>"
      ]
     },
     "metadata": {},
     "output_type": "display_data"
    },
    {
     "data": {
      "text/html": [
       " View project at <a href='http://wandb:8080/ben/kaggle_space-titanic' target=\"_blank\">http://wandb:8080/ben/kaggle_space-titanic</a>"
      ],
      "text/plain": [
       "<IPython.core.display.HTML object>"
      ]
     },
     "metadata": {},
     "output_type": "display_data"
    },
    {
     "data": {
      "text/html": [
       " View run at <a href='http://wandb:8080/ben/kaggle_space-titanic/runs/gdxmaceg' target=\"_blank\">http://wandb:8080/ben/kaggle_space-titanic/runs/gdxmaceg</a>"
      ],
      "text/plain": [
       "<IPython.core.display.HTML object>"
      ]
     },
     "metadata": {},
     "output_type": "display_data"
    },
    {
     "name": "stdout",
     "output_type": "stream",
     "text": [
      "✅ Labels already normalized, no encoding needed\n",
      "✅ Finished training sklearn model\n",
      "🏃 View run v31_random_forest_{'n_estimators': 350, 'max_depth': None, 'max_features': 'log2', 'min_samples_split': 5} at: http://mlflow:5000/#/experiments/2/runs/03e0af408e09407c854fae177473b8df\n",
      "🧪 View experiment at: http://mlflow:5000/#/experiments/2\n"
     ]
    },
    {
     "data": {
      "text/html": [],
      "text/plain": [
       "<IPython.core.display.HTML object>"
      ]
     },
     "metadata": {},
     "output_type": "display_data"
    },
    {
     "data": {
      "text/html": [
       "<br>    <style><br>        .wandb-row {<br>            display: flex;<br>            flex-direction: row;<br>            flex-wrap: wrap;<br>            justify-content: flex-start;<br>            width: 100%;<br>        }<br>        .wandb-col {<br>            display: flex;<br>            flex-direction: column;<br>            flex-basis: 100%;<br>            flex: 1;<br>            padding: 10px;<br>        }<br>    </style><br><div class=\"wandb-row\"><div class=\"wandb-col\"><h3>Run history:</h3><br/><table class=\"wandb\"><tr><td>accuracy</td><td>▁</td></tr><tr><td>f1_macro</td><td>▁</td></tr><tr><td>f1_weighted</td><td>▁</td></tr><tr><td>precision_weighted</td><td>▁</td></tr><tr><td>recall_weighted</td><td>▁</td></tr><tr><td>roc_auc</td><td>▁</td></tr></table><br/></div><div class=\"wandb-col\"><h3>Run summary:</h3><br/><table class=\"wandb\"><tr><td>accuracy</td><td>0.77803</td></tr><tr><td>f1_macro</td><td>0.778</td></tr><tr><td>f1_weighted</td><td>0.77797</td></tr><tr><td>precision_weighted</td><td>0.77866</td></tr><tr><td>recall_weighted</td><td>0.77803</td></tr><tr><td>roc_auc</td><td>0.77823</td></tr></table><br/></div></div>"
      ],
      "text/plain": [
       "<IPython.core.display.HTML object>"
      ]
     },
     "metadata": {},
     "output_type": "display_data"
    },
    {
     "data": {
      "text/html": [
       " View run <strong style=\"color:#cdcd00\">v31_random_forest_{'n_estimators': 350, 'max_depth': None, 'max_features': 'log2', 'min_samples_split': 5}</strong> at: <a href='http://wandb:8080/ben/kaggle_space-titanic/runs/gdxmaceg' target=\"_blank\">http://wandb:8080/ben/kaggle_space-titanic/runs/gdxmaceg</a><br> View project at: <a href='http://wandb:8080/ben/kaggle_space-titanic' target=\"_blank\">http://wandb:8080/ben/kaggle_space-titanic</a><br>Synced 5 W&B file(s), 0 media file(s), 0 artifact file(s) and 0 other file(s)"
      ],
      "text/plain": [
       "<IPython.core.display.HTML object>"
      ]
     },
     "metadata": {},
     "output_type": "display_data"
    },
    {
     "data": {
      "text/html": [
       "Find logs at: <code>/home/jovyan/wandb/wandb/run-20250517_210353-gdxmaceg/logs</code>"
      ],
      "text/plain": [
       "<IPython.core.display.HTML object>"
      ]
     },
     "metadata": {},
     "output_type": "display_data"
    },
    {
     "name": "stdout",
     "output_type": "stream",
     "text": [
      "Started MLflow run: 086d7a95019744b29afa7cbb0c4454bd\n"
     ]
    },
    {
     "data": {
      "text/html": [
       "Tracking run with wandb version 0.19.11"
      ],
      "text/plain": [
       "<IPython.core.display.HTML object>"
      ]
     },
     "metadata": {},
     "output_type": "display_data"
    },
    {
     "data": {
      "text/html": [
       "Run data is saved locally in <code>/home/jovyan/wandb/wandb/run-20250517_210358-u8138029</code>"
      ],
      "text/plain": [
       "<IPython.core.display.HTML object>"
      ]
     },
     "metadata": {},
     "output_type": "display_data"
    },
    {
     "data": {
      "text/html": [
       "Syncing run <strong><a href='http://wandb:8080/ben/kaggle_space-titanic/runs/u8138029' target=\"_blank\">v31_random_forest_{'n_estimators': 350, 'max_depth': 10, 'max_features': 'sqrt', 'min_samples_split': 2}</a></strong> to <a href='http://wandb:8080/ben/kaggle_space-titanic' target=\"_blank\">Weights & Biases</a> (<a href='https://wandb.me/developer-guide' target=\"_blank\">docs</a>)<br>"
      ],
      "text/plain": [
       "<IPython.core.display.HTML object>"
      ]
     },
     "metadata": {},
     "output_type": "display_data"
    },
    {
     "data": {
      "text/html": [
       " View project at <a href='http://wandb:8080/ben/kaggle_space-titanic' target=\"_blank\">http://wandb:8080/ben/kaggle_space-titanic</a>"
      ],
      "text/plain": [
       "<IPython.core.display.HTML object>"
      ]
     },
     "metadata": {},
     "output_type": "display_data"
    },
    {
     "data": {
      "text/html": [
       " View run at <a href='http://wandb:8080/ben/kaggle_space-titanic/runs/u8138029' target=\"_blank\">http://wandb:8080/ben/kaggle_space-titanic/runs/u8138029</a>"
      ],
      "text/plain": [
       "<IPython.core.display.HTML object>"
      ]
     },
     "metadata": {},
     "output_type": "display_data"
    },
    {
     "name": "stdout",
     "output_type": "stream",
     "text": [
      "✅ Labels already normalized, no encoding needed\n",
      "✅ Finished training sklearn model\n",
      "🏃 View run v31_random_forest_{'n_estimators': 350, 'max_depth': 10, 'max_features': 'sqrt', 'min_samples_split': 2} at: http://mlflow:5000/#/experiments/2/runs/086d7a95019744b29afa7cbb0c4454bd\n",
      "🧪 View experiment at: http://mlflow:5000/#/experiments/2\n"
     ]
    },
    {
     "data": {
      "text/html": [],
      "text/plain": [
       "<IPython.core.display.HTML object>"
      ]
     },
     "metadata": {},
     "output_type": "display_data"
    },
    {
     "data": {
      "text/html": [
       "<br>    <style><br>        .wandb-row {<br>            display: flex;<br>            flex-direction: row;<br>            flex-wrap: wrap;<br>            justify-content: flex-start;<br>            width: 100%;<br>        }<br>        .wandb-col {<br>            display: flex;<br>            flex-direction: column;<br>            flex-basis: 100%;<br>            flex: 1;<br>            padding: 10px;<br>        }<br>    </style><br><div class=\"wandb-row\"><div class=\"wandb-col\"><h3>Run history:</h3><br/><table class=\"wandb\"><tr><td>accuracy</td><td>▁</td></tr><tr><td>f1_macro</td><td>▁</td></tr><tr><td>f1_weighted</td><td>▁</td></tr><tr><td>precision_weighted</td><td>▁</td></tr><tr><td>recall_weighted</td><td>▁</td></tr><tr><td>roc_auc</td><td>▁</td></tr></table><br/></div><div class=\"wandb-col\"><h3>Run summary:</h3><br/><table class=\"wandb\"><tr><td>accuracy</td><td>0.78148</td></tr><tr><td>f1_macro</td><td>0.7814</td></tr><tr><td>f1_weighted</td><td>0.78144</td></tr><tr><td>precision_weighted</td><td>0.78156</td></tr><tr><td>recall_weighted</td><td>0.78148</td></tr><tr><td>roc_auc</td><td>0.78136</td></tr></table><br/></div></div>"
      ],
      "text/plain": [
       "<IPython.core.display.HTML object>"
      ]
     },
     "metadata": {},
     "output_type": "display_data"
    },
    {
     "data": {
      "text/html": [
       " View run <strong style=\"color:#cdcd00\">v31_random_forest_{'n_estimators': 350, 'max_depth': 10, 'max_features': 'sqrt', 'min_samples_split': 2}</strong> at: <a href='http://wandb:8080/ben/kaggle_space-titanic/runs/u8138029' target=\"_blank\">http://wandb:8080/ben/kaggle_space-titanic/runs/u8138029</a><br> View project at: <a href='http://wandb:8080/ben/kaggle_space-titanic' target=\"_blank\">http://wandb:8080/ben/kaggle_space-titanic</a><br>Synced 5 W&B file(s), 0 media file(s), 0 artifact file(s) and 0 other file(s)"
      ],
      "text/plain": [
       "<IPython.core.display.HTML object>"
      ]
     },
     "metadata": {},
     "output_type": "display_data"
    },
    {
     "data": {
      "text/html": [
       "Find logs at: <code>/home/jovyan/wandb/wandb/run-20250517_210358-u8138029/logs</code>"
      ],
      "text/plain": [
       "<IPython.core.display.HTML object>"
      ]
     },
     "metadata": {},
     "output_type": "display_data"
    },
    {
     "name": "stdout",
     "output_type": "stream",
     "text": [
      "Started MLflow run: cb5d79e8a5fd48de851c75adc551f387\n"
     ]
    },
    {
     "data": {
      "text/html": [
       "Tracking run with wandb version 0.19.11"
      ],
      "text/plain": [
       "<IPython.core.display.HTML object>"
      ]
     },
     "metadata": {},
     "output_type": "display_data"
    },
    {
     "data": {
      "text/html": [
       "Run data is saved locally in <code>/home/jovyan/wandb/wandb/run-20250517_210403-nf53aljm</code>"
      ],
      "text/plain": [
       "<IPython.core.display.HTML object>"
      ]
     },
     "metadata": {},
     "output_type": "display_data"
    },
    {
     "data": {
      "text/html": [
       "Syncing run <strong><a href='http://wandb:8080/ben/kaggle_space-titanic/runs/nf53aljm' target=\"_blank\">v31_random_forest_{'n_estimators': 350, 'max_depth': 10, 'max_features': 'sqrt', 'min_samples_split': 5}</a></strong> to <a href='http://wandb:8080/ben/kaggle_space-titanic' target=\"_blank\">Weights & Biases</a> (<a href='https://wandb.me/developer-guide' target=\"_blank\">docs</a>)<br>"
      ],
      "text/plain": [
       "<IPython.core.display.HTML object>"
      ]
     },
     "metadata": {},
     "output_type": "display_data"
    },
    {
     "data": {
      "text/html": [
       " View project at <a href='http://wandb:8080/ben/kaggle_space-titanic' target=\"_blank\">http://wandb:8080/ben/kaggle_space-titanic</a>"
      ],
      "text/plain": [
       "<IPython.core.display.HTML object>"
      ]
     },
     "metadata": {},
     "output_type": "display_data"
    },
    {
     "data": {
      "text/html": [
       " View run at <a href='http://wandb:8080/ben/kaggle_space-titanic/runs/nf53aljm' target=\"_blank\">http://wandb:8080/ben/kaggle_space-titanic/runs/nf53aljm</a>"
      ],
      "text/plain": [
       "<IPython.core.display.HTML object>"
      ]
     },
     "metadata": {},
     "output_type": "display_data"
    },
    {
     "name": "stdout",
     "output_type": "stream",
     "text": [
      "✅ Labels already normalized, no encoding needed\n",
      "✅ Finished training sklearn model\n",
      "🏃 View run v31_random_forest_{'n_estimators': 350, 'max_depth': 10, 'max_features': 'sqrt', 'min_samples_split': 5} at: http://mlflow:5000/#/experiments/2/runs/cb5d79e8a5fd48de851c75adc551f387\n",
      "🧪 View experiment at: http://mlflow:5000/#/experiments/2\n"
     ]
    },
    {
     "data": {
      "text/html": [],
      "text/plain": [
       "<IPython.core.display.HTML object>"
      ]
     },
     "metadata": {},
     "output_type": "display_data"
    },
    {
     "data": {
      "text/html": [
       "<br>    <style><br>        .wandb-row {<br>            display: flex;<br>            flex-direction: row;<br>            flex-wrap: wrap;<br>            justify-content: flex-start;<br>            width: 100%;<br>        }<br>        .wandb-col {<br>            display: flex;<br>            flex-direction: column;<br>            flex-basis: 100%;<br>            flex: 1;<br>            padding: 10px;<br>        }<br>    </style><br><div class=\"wandb-row\"><div class=\"wandb-col\"><h3>Run history:</h3><br/><table class=\"wandb\"><tr><td>accuracy</td><td>▁</td></tr><tr><td>f1_macro</td><td>▁</td></tr><tr><td>f1_weighted</td><td>▁</td></tr><tr><td>precision_weighted</td><td>▁</td></tr><tr><td>recall_weighted</td><td>▁</td></tr><tr><td>roc_auc</td><td>▁</td></tr></table><br/></div><div class=\"wandb-col\"><h3>Run summary:</h3><br/><table class=\"wandb\"><tr><td>accuracy</td><td>0.78378</td></tr><tr><td>f1_macro</td><td>0.78364</td></tr><tr><td>f1_weighted</td><td>0.78369</td></tr><tr><td>precision_weighted</td><td>0.78401</td></tr><tr><td>recall_weighted</td><td>0.78378</td></tr><tr><td>roc_auc</td><td>0.78361</td></tr></table><br/></div></div>"
      ],
      "text/plain": [
       "<IPython.core.display.HTML object>"
      ]
     },
     "metadata": {},
     "output_type": "display_data"
    },
    {
     "data": {
      "text/html": [
       " View run <strong style=\"color:#cdcd00\">v31_random_forest_{'n_estimators': 350, 'max_depth': 10, 'max_features': 'sqrt', 'min_samples_split': 5}</strong> at: <a href='http://wandb:8080/ben/kaggle_space-titanic/runs/nf53aljm' target=\"_blank\">http://wandb:8080/ben/kaggle_space-titanic/runs/nf53aljm</a><br> View project at: <a href='http://wandb:8080/ben/kaggle_space-titanic' target=\"_blank\">http://wandb:8080/ben/kaggle_space-titanic</a><br>Synced 5 W&B file(s), 0 media file(s), 0 artifact file(s) and 0 other file(s)"
      ],
      "text/plain": [
       "<IPython.core.display.HTML object>"
      ]
     },
     "metadata": {},
     "output_type": "display_data"
    },
    {
     "data": {
      "text/html": [
       "Find logs at: <code>/home/jovyan/wandb/wandb/run-20250517_210403-nf53aljm/logs</code>"
      ],
      "text/plain": [
       "<IPython.core.display.HTML object>"
      ]
     },
     "metadata": {},
     "output_type": "display_data"
    },
    {
     "name": "stdout",
     "output_type": "stream",
     "text": [
      "Started MLflow run: 40dd5da4c296482ab75417e94f4734bc\n"
     ]
    },
    {
     "data": {
      "text/html": [
       "Tracking run with wandb version 0.19.11"
      ],
      "text/plain": [
       "<IPython.core.display.HTML object>"
      ]
     },
     "metadata": {},
     "output_type": "display_data"
    },
    {
     "data": {
      "text/html": [
       "Run data is saved locally in <code>/home/jovyan/wandb/wandb/run-20250517_210409-vfeixmpg</code>"
      ],
      "text/plain": [
       "<IPython.core.display.HTML object>"
      ]
     },
     "metadata": {},
     "output_type": "display_data"
    },
    {
     "data": {
      "text/html": [
       "Syncing run <strong><a href='http://wandb:8080/ben/kaggle_space-titanic/runs/vfeixmpg' target=\"_blank\">v31_random_forest_{'n_estimators': 350, 'max_depth': 10, 'max_features': 'log2', 'min_samples_split': 2}</a></strong> to <a href='http://wandb:8080/ben/kaggle_space-titanic' target=\"_blank\">Weights & Biases</a> (<a href='https://wandb.me/developer-guide' target=\"_blank\">docs</a>)<br>"
      ],
      "text/plain": [
       "<IPython.core.display.HTML object>"
      ]
     },
     "metadata": {},
     "output_type": "display_data"
    },
    {
     "data": {
      "text/html": [
       " View project at <a href='http://wandb:8080/ben/kaggle_space-titanic' target=\"_blank\">http://wandb:8080/ben/kaggle_space-titanic</a>"
      ],
      "text/plain": [
       "<IPython.core.display.HTML object>"
      ]
     },
     "metadata": {},
     "output_type": "display_data"
    },
    {
     "data": {
      "text/html": [
       " View run at <a href='http://wandb:8080/ben/kaggle_space-titanic/runs/vfeixmpg' target=\"_blank\">http://wandb:8080/ben/kaggle_space-titanic/runs/vfeixmpg</a>"
      ],
      "text/plain": [
       "<IPython.core.display.HTML object>"
      ]
     },
     "metadata": {},
     "output_type": "display_data"
    },
    {
     "name": "stdout",
     "output_type": "stream",
     "text": [
      "✅ Labels already normalized, no encoding needed\n",
      "✅ Finished training sklearn model\n",
      "🏃 View run v31_random_forest_{'n_estimators': 350, 'max_depth': 10, 'max_features': 'log2', 'min_samples_split': 2} at: http://mlflow:5000/#/experiments/2/runs/40dd5da4c296482ab75417e94f4734bc\n",
      "🧪 View experiment at: http://mlflow:5000/#/experiments/2\n"
     ]
    },
    {
     "data": {
      "text/html": [],
      "text/plain": [
       "<IPython.core.display.HTML object>"
      ]
     },
     "metadata": {},
     "output_type": "display_data"
    },
    {
     "data": {
      "text/html": [
       "<br>    <style><br>        .wandb-row {<br>            display: flex;<br>            flex-direction: row;<br>            flex-wrap: wrap;<br>            justify-content: flex-start;<br>            width: 100%;<br>        }<br>        .wandb-col {<br>            display: flex;<br>            flex-direction: column;<br>            flex-basis: 100%;<br>            flex: 1;<br>            padding: 10px;<br>        }<br>    </style><br><div class=\"wandb-row\"><div class=\"wandb-col\"><h3>Run history:</h3><br/><table class=\"wandb\"><tr><td>accuracy</td><td>▁</td></tr><tr><td>f1_macro</td><td>▁</td></tr><tr><td>f1_weighted</td><td>▁</td></tr><tr><td>precision_weighted</td><td>▁</td></tr><tr><td>recall_weighted</td><td>▁</td></tr><tr><td>roc_auc</td><td>▁</td></tr></table><br/></div><div class=\"wandb-col\"><h3>Run summary:</h3><br/><table class=\"wandb\"><tr><td>accuracy</td><td>0.77976</td></tr><tr><td>f1_macro</td><td>0.77965</td></tr><tr><td>f1_weighted</td><td>0.7797</td></tr><tr><td>precision_weighted</td><td>0.77987</td></tr><tr><td>recall_weighted</td><td>0.77976</td></tr><tr><td>roc_auc</td><td>0.77962</td></tr></table><br/></div></div>"
      ],
      "text/plain": [
       "<IPython.core.display.HTML object>"
      ]
     },
     "metadata": {},
     "output_type": "display_data"
    },
    {
     "data": {
      "text/html": [
       " View run <strong style=\"color:#cdcd00\">v31_random_forest_{'n_estimators': 350, 'max_depth': 10, 'max_features': 'log2', 'min_samples_split': 2}</strong> at: <a href='http://wandb:8080/ben/kaggle_space-titanic/runs/vfeixmpg' target=\"_blank\">http://wandb:8080/ben/kaggle_space-titanic/runs/vfeixmpg</a><br> View project at: <a href='http://wandb:8080/ben/kaggle_space-titanic' target=\"_blank\">http://wandb:8080/ben/kaggle_space-titanic</a><br>Synced 5 W&B file(s), 0 media file(s), 0 artifact file(s) and 0 other file(s)"
      ],
      "text/plain": [
       "<IPython.core.display.HTML object>"
      ]
     },
     "metadata": {},
     "output_type": "display_data"
    },
    {
     "data": {
      "text/html": [
       "Find logs at: <code>/home/jovyan/wandb/wandb/run-20250517_210409-vfeixmpg/logs</code>"
      ],
      "text/plain": [
       "<IPython.core.display.HTML object>"
      ]
     },
     "metadata": {},
     "output_type": "display_data"
    },
    {
     "name": "stdout",
     "output_type": "stream",
     "text": [
      "Started MLflow run: 0665e0b70a814cdaa6276006ca61d128\n"
     ]
    },
    {
     "data": {
      "text/html": [
       "Tracking run with wandb version 0.19.11"
      ],
      "text/plain": [
       "<IPython.core.display.HTML object>"
      ]
     },
     "metadata": {},
     "output_type": "display_data"
    },
    {
     "data": {
      "text/html": [
       "Run data is saved locally in <code>/home/jovyan/wandb/wandb/run-20250517_210413-0jg3td5i</code>"
      ],
      "text/plain": [
       "<IPython.core.display.HTML object>"
      ]
     },
     "metadata": {},
     "output_type": "display_data"
    },
    {
     "data": {
      "text/html": [
       "Syncing run <strong><a href='http://wandb:8080/ben/kaggle_space-titanic/runs/0jg3td5i' target=\"_blank\">v31_random_forest_{'n_estimators': 350, 'max_depth': 10, 'max_features': 'log2', 'min_samples_split': 5}</a></strong> to <a href='http://wandb:8080/ben/kaggle_space-titanic' target=\"_blank\">Weights & Biases</a> (<a href='https://wandb.me/developer-guide' target=\"_blank\">docs</a>)<br>"
      ],
      "text/plain": [
       "<IPython.core.display.HTML object>"
      ]
     },
     "metadata": {},
     "output_type": "display_data"
    },
    {
     "data": {
      "text/html": [
       " View project at <a href='http://wandb:8080/ben/kaggle_space-titanic' target=\"_blank\">http://wandb:8080/ben/kaggle_space-titanic</a>"
      ],
      "text/plain": [
       "<IPython.core.display.HTML object>"
      ]
     },
     "metadata": {},
     "output_type": "display_data"
    },
    {
     "data": {
      "text/html": [
       " View run at <a href='http://wandb:8080/ben/kaggle_space-titanic/runs/0jg3td5i' target=\"_blank\">http://wandb:8080/ben/kaggle_space-titanic/runs/0jg3td5i</a>"
      ],
      "text/plain": [
       "<IPython.core.display.HTML object>"
      ]
     },
     "metadata": {},
     "output_type": "display_data"
    },
    {
     "name": "stdout",
     "output_type": "stream",
     "text": [
      "✅ Labels already normalized, no encoding needed\n",
      "✅ Finished training sklearn model\n",
      "🏃 View run v31_random_forest_{'n_estimators': 350, 'max_depth': 10, 'max_features': 'log2', 'min_samples_split': 5} at: http://mlflow:5000/#/experiments/2/runs/0665e0b70a814cdaa6276006ca61d128\n",
      "🧪 View experiment at: http://mlflow:5000/#/experiments/2\n"
     ]
    },
    {
     "data": {
      "text/html": [],
      "text/plain": [
       "<IPython.core.display.HTML object>"
      ]
     },
     "metadata": {},
     "output_type": "display_data"
    },
    {
     "data": {
      "text/html": [
       "<br>    <style><br>        .wandb-row {<br>            display: flex;<br>            flex-direction: row;<br>            flex-wrap: wrap;<br>            justify-content: flex-start;<br>            width: 100%;<br>        }<br>        .wandb-col {<br>            display: flex;<br>            flex-direction: column;<br>            flex-basis: 100%;<br>            flex: 1;<br>            padding: 10px;<br>        }<br>    </style><br><div class=\"wandb-row\"><div class=\"wandb-col\"><h3>Run history:</h3><br/><table class=\"wandb\"><tr><td>accuracy</td><td>▁</td></tr><tr><td>f1_macro</td><td>▁</td></tr><tr><td>f1_weighted</td><td>▁</td></tr><tr><td>precision_weighted</td><td>▁</td></tr><tr><td>recall_weighted</td><td>▁</td></tr><tr><td>roc_auc</td><td>▁</td></tr></table><br/></div><div class=\"wandb-col\"><h3>Run summary:</h3><br/><table class=\"wandb\"><tr><td>accuracy</td><td>0.78091</td></tr><tr><td>f1_macro</td><td>0.78068</td></tr><tr><td>f1_weighted</td><td>0.78075</td></tr><tr><td>precision_weighted</td><td>0.78138</td></tr><tr><td>recall_weighted</td><td>0.78091</td></tr><tr><td>roc_auc</td><td>0.78067</td></tr></table><br/></div></div>"
      ],
      "text/plain": [
       "<IPython.core.display.HTML object>"
      ]
     },
     "metadata": {},
     "output_type": "display_data"
    },
    {
     "data": {
      "text/html": [
       " View run <strong style=\"color:#cdcd00\">v31_random_forest_{'n_estimators': 350, 'max_depth': 10, 'max_features': 'log2', 'min_samples_split': 5}</strong> at: <a href='http://wandb:8080/ben/kaggle_space-titanic/runs/0jg3td5i' target=\"_blank\">http://wandb:8080/ben/kaggle_space-titanic/runs/0jg3td5i</a><br> View project at: <a href='http://wandb:8080/ben/kaggle_space-titanic' target=\"_blank\">http://wandb:8080/ben/kaggle_space-titanic</a><br>Synced 5 W&B file(s), 0 media file(s), 0 artifact file(s) and 0 other file(s)"
      ],
      "text/plain": [
       "<IPython.core.display.HTML object>"
      ]
     },
     "metadata": {},
     "output_type": "display_data"
    },
    {
     "data": {
      "text/html": [
       "Find logs at: <code>/home/jovyan/wandb/wandb/run-20250517_210413-0jg3td5i/logs</code>"
      ],
      "text/plain": [
       "<IPython.core.display.HTML object>"
      ]
     },
     "metadata": {},
     "output_type": "display_data"
    },
    {
     "name": "stdout",
     "output_type": "stream",
     "text": [
      "Started MLflow run: 245c4524b66b47d58ede696585f2f8aa\n"
     ]
    },
    {
     "data": {
      "text/html": [
       "Tracking run with wandb version 0.19.11"
      ],
      "text/plain": [
       "<IPython.core.display.HTML object>"
      ]
     },
     "metadata": {},
     "output_type": "display_data"
    },
    {
     "data": {
      "text/html": [
       "Run data is saved locally in <code>/home/jovyan/wandb/wandb/run-20250517_210423-yhe096ty</code>"
      ],
      "text/plain": [
       "<IPython.core.display.HTML object>"
      ]
     },
     "metadata": {},
     "output_type": "display_data"
    },
    {
     "data": {
      "text/html": [
       "Syncing run <strong><a href='http://wandb:8080/ben/kaggle_space-titanic/runs/yhe096ty' target=\"_blank\">v31_random_forest_{'n_estimators': 350, 'max_depth': 15, 'max_features': 'sqrt', 'min_samples_split': 2}</a></strong> to <a href='http://wandb:8080/ben/kaggle_space-titanic' target=\"_blank\">Weights & Biases</a> (<a href='https://wandb.me/developer-guide' target=\"_blank\">docs</a>)<br>"
      ],
      "text/plain": [
       "<IPython.core.display.HTML object>"
      ]
     },
     "metadata": {},
     "output_type": "display_data"
    },
    {
     "data": {
      "text/html": [
       " View project at <a href='http://wandb:8080/ben/kaggle_space-titanic' target=\"_blank\">http://wandb:8080/ben/kaggle_space-titanic</a>"
      ],
      "text/plain": [
       "<IPython.core.display.HTML object>"
      ]
     },
     "metadata": {},
     "output_type": "display_data"
    },
    {
     "data": {
      "text/html": [
       " View run at <a href='http://wandb:8080/ben/kaggle_space-titanic/runs/yhe096ty' target=\"_blank\">http://wandb:8080/ben/kaggle_space-titanic/runs/yhe096ty</a>"
      ],
      "text/plain": [
       "<IPython.core.display.HTML object>"
      ]
     },
     "metadata": {},
     "output_type": "display_data"
    },
    {
     "name": "stdout",
     "output_type": "stream",
     "text": [
      "✅ Labels already normalized, no encoding needed\n",
      "✅ Finished training sklearn model\n",
      "🏃 View run v31_random_forest_{'n_estimators': 350, 'max_depth': 15, 'max_features': 'sqrt', 'min_samples_split': 2} at: http://mlflow:5000/#/experiments/2/runs/245c4524b66b47d58ede696585f2f8aa\n",
      "🧪 View experiment at: http://mlflow:5000/#/experiments/2\n"
     ]
    },
    {
     "data": {
      "text/html": [],
      "text/plain": [
       "<IPython.core.display.HTML object>"
      ]
     },
     "metadata": {},
     "output_type": "display_data"
    },
    {
     "data": {
      "text/html": [
       "<br>    <style><br>        .wandb-row {<br>            display: flex;<br>            flex-direction: row;<br>            flex-wrap: wrap;<br>            justify-content: flex-start;<br>            width: 100%;<br>        }<br>        .wandb-col {<br>            display: flex;<br>            flex-direction: column;<br>            flex-basis: 100%;<br>            flex: 1;<br>            padding: 10px;<br>        }<br>    </style><br><div class=\"wandb-row\"><div class=\"wandb-col\"><h3>Run history:</h3><br/><table class=\"wandb\"><tr><td>accuracy</td><td>▁</td></tr><tr><td>f1_macro</td><td>▁</td></tr><tr><td>f1_weighted</td><td>▁</td></tr><tr><td>precision_weighted</td><td>▁</td></tr><tr><td>recall_weighted</td><td>▁</td></tr><tr><td>roc_auc</td><td>▁</td></tr></table><br/></div><div class=\"wandb-col\"><h3>Run summary:</h3><br/><table class=\"wandb\"><tr><td>accuracy</td><td>0.77746</td></tr><tr><td>f1_macro</td><td>0.77746</td></tr><tr><td>f1_weighted</td><td>0.77745</td></tr><tr><td>precision_weighted</td><td>0.77771</td></tr><tr><td>recall_weighted</td><td>0.77746</td></tr><tr><td>roc_auc</td><td>0.77757</td></tr></table><br/></div></div>"
      ],
      "text/plain": [
       "<IPython.core.display.HTML object>"
      ]
     },
     "metadata": {},
     "output_type": "display_data"
    },
    {
     "data": {
      "text/html": [
       " View run <strong style=\"color:#cdcd00\">v31_random_forest_{'n_estimators': 350, 'max_depth': 15, 'max_features': 'sqrt', 'min_samples_split': 2}</strong> at: <a href='http://wandb:8080/ben/kaggle_space-titanic/runs/yhe096ty' target=\"_blank\">http://wandb:8080/ben/kaggle_space-titanic/runs/yhe096ty</a><br> View project at: <a href='http://wandb:8080/ben/kaggle_space-titanic' target=\"_blank\">http://wandb:8080/ben/kaggle_space-titanic</a><br>Synced 5 W&B file(s), 0 media file(s), 0 artifact file(s) and 0 other file(s)"
      ],
      "text/plain": [
       "<IPython.core.display.HTML object>"
      ]
     },
     "metadata": {},
     "output_type": "display_data"
    },
    {
     "data": {
      "text/html": [
       "Find logs at: <code>/home/jovyan/wandb/wandb/run-20250517_210423-yhe096ty/logs</code>"
      ],
      "text/plain": [
       "<IPython.core.display.HTML object>"
      ]
     },
     "metadata": {},
     "output_type": "display_data"
    },
    {
     "name": "stdout",
     "output_type": "stream",
     "text": [
      "Started MLflow run: c27c4b452d594c0db0f69b580792b058\n"
     ]
    },
    {
     "data": {
      "text/html": [
       "Tracking run with wandb version 0.19.11"
      ],
      "text/plain": [
       "<IPython.core.display.HTML object>"
      ]
     },
     "metadata": {},
     "output_type": "display_data"
    },
    {
     "data": {
      "text/html": [
       "Run data is saved locally in <code>/home/jovyan/wandb/wandb/run-20250517_210429-5udn6g9e</code>"
      ],
      "text/plain": [
       "<IPython.core.display.HTML object>"
      ]
     },
     "metadata": {},
     "output_type": "display_data"
    },
    {
     "data": {
      "text/html": [
       "Syncing run <strong><a href='http://wandb:8080/ben/kaggle_space-titanic/runs/5udn6g9e' target=\"_blank\">v31_random_forest_{'n_estimators': 350, 'max_depth': 15, 'max_features': 'sqrt', 'min_samples_split': 5}</a></strong> to <a href='http://wandb:8080/ben/kaggle_space-titanic' target=\"_blank\">Weights & Biases</a> (<a href='https://wandb.me/developer-guide' target=\"_blank\">docs</a>)<br>"
      ],
      "text/plain": [
       "<IPython.core.display.HTML object>"
      ]
     },
     "metadata": {},
     "output_type": "display_data"
    },
    {
     "data": {
      "text/html": [
       " View project at <a href='http://wandb:8080/ben/kaggle_space-titanic' target=\"_blank\">http://wandb:8080/ben/kaggle_space-titanic</a>"
      ],
      "text/plain": [
       "<IPython.core.display.HTML object>"
      ]
     },
     "metadata": {},
     "output_type": "display_data"
    },
    {
     "data": {
      "text/html": [
       " View run at <a href='http://wandb:8080/ben/kaggle_space-titanic/runs/5udn6g9e' target=\"_blank\">http://wandb:8080/ben/kaggle_space-titanic/runs/5udn6g9e</a>"
      ],
      "text/plain": [
       "<IPython.core.display.HTML object>"
      ]
     },
     "metadata": {},
     "output_type": "display_data"
    },
    {
     "name": "stdout",
     "output_type": "stream",
     "text": [
      "✅ Labels already normalized, no encoding needed\n",
      "✅ Finished training sklearn model\n",
      "🏃 View run v31_random_forest_{'n_estimators': 350, 'max_depth': 15, 'max_features': 'sqrt', 'min_samples_split': 5} at: http://mlflow:5000/#/experiments/2/runs/c27c4b452d594c0db0f69b580792b058\n",
      "🧪 View experiment at: http://mlflow:5000/#/experiments/2\n"
     ]
    },
    {
     "data": {
      "text/html": [],
      "text/plain": [
       "<IPython.core.display.HTML object>"
      ]
     },
     "metadata": {},
     "output_type": "display_data"
    },
    {
     "data": {
      "text/html": [
       "<br>    <style><br>        .wandb-row {<br>            display: flex;<br>            flex-direction: row;<br>            flex-wrap: wrap;<br>            justify-content: flex-start;<br>            width: 100%;<br>        }<br>        .wandb-col {<br>            display: flex;<br>            flex-direction: column;<br>            flex-basis: 100%;<br>            flex: 1;<br>            padding: 10px;<br>        }<br>    </style><br><div class=\"wandb-row\"><div class=\"wandb-col\"><h3>Run history:</h3><br/><table class=\"wandb\"><tr><td>accuracy</td><td>▁</td></tr><tr><td>f1_macro</td><td>▁</td></tr><tr><td>f1_weighted</td><td>▁</td></tr><tr><td>precision_weighted</td><td>▁</td></tr><tr><td>recall_weighted</td><td>▁</td></tr><tr><td>roc_auc</td><td>▁</td></tr></table><br/></div><div class=\"wandb-col\"><h3>Run summary:</h3><br/><table class=\"wandb\"><tr><td>accuracy</td><td>0.78091</td></tr><tr><td>f1_macro</td><td>0.7809</td></tr><tr><td>f1_weighted</td><td>0.78089</td></tr><tr><td>precision_weighted</td><td>0.78125</td></tr><tr><td>recall_weighted</td><td>0.78091</td></tr><tr><td>roc_auc</td><td>0.78104</td></tr></table><br/></div></div>"
      ],
      "text/plain": [
       "<IPython.core.display.HTML object>"
      ]
     },
     "metadata": {},
     "output_type": "display_data"
    },
    {
     "data": {
      "text/html": [
       " View run <strong style=\"color:#cdcd00\">v31_random_forest_{'n_estimators': 350, 'max_depth': 15, 'max_features': 'sqrt', 'min_samples_split': 5}</strong> at: <a href='http://wandb:8080/ben/kaggle_space-titanic/runs/5udn6g9e' target=\"_blank\">http://wandb:8080/ben/kaggle_space-titanic/runs/5udn6g9e</a><br> View project at: <a href='http://wandb:8080/ben/kaggle_space-titanic' target=\"_blank\">http://wandb:8080/ben/kaggle_space-titanic</a><br>Synced 5 W&B file(s), 0 media file(s), 0 artifact file(s) and 0 other file(s)"
      ],
      "text/plain": [
       "<IPython.core.display.HTML object>"
      ]
     },
     "metadata": {},
     "output_type": "display_data"
    },
    {
     "data": {
      "text/html": [
       "Find logs at: <code>/home/jovyan/wandb/wandb/run-20250517_210429-5udn6g9e/logs</code>"
      ],
      "text/plain": [
       "<IPython.core.display.HTML object>"
      ]
     },
     "metadata": {},
     "output_type": "display_data"
    },
    {
     "name": "stdout",
     "output_type": "stream",
     "text": [
      "Started MLflow run: 7138c375b66e4b42b18639ed5b5d01d0\n"
     ]
    },
    {
     "data": {
      "text/html": [
       "Tracking run with wandb version 0.19.11"
      ],
      "text/plain": [
       "<IPython.core.display.HTML object>"
      ]
     },
     "metadata": {},
     "output_type": "display_data"
    },
    {
     "data": {
      "text/html": [
       "Run data is saved locally in <code>/home/jovyan/wandb/wandb/run-20250517_210434-rvggfuev</code>"
      ],
      "text/plain": [
       "<IPython.core.display.HTML object>"
      ]
     },
     "metadata": {},
     "output_type": "display_data"
    },
    {
     "data": {
      "text/html": [
       "Syncing run <strong><a href='http://wandb:8080/ben/kaggle_space-titanic/runs/rvggfuev' target=\"_blank\">v31_random_forest_{'n_estimators': 350, 'max_depth': 15, 'max_features': 'log2', 'min_samples_split': 2}</a></strong> to <a href='http://wandb:8080/ben/kaggle_space-titanic' target=\"_blank\">Weights & Biases</a> (<a href='https://wandb.me/developer-guide' target=\"_blank\">docs</a>)<br>"
      ],
      "text/plain": [
       "<IPython.core.display.HTML object>"
      ]
     },
     "metadata": {},
     "output_type": "display_data"
    },
    {
     "data": {
      "text/html": [
       " View project at <a href='http://wandb:8080/ben/kaggle_space-titanic' target=\"_blank\">http://wandb:8080/ben/kaggle_space-titanic</a>"
      ],
      "text/plain": [
       "<IPython.core.display.HTML object>"
      ]
     },
     "metadata": {},
     "output_type": "display_data"
    },
    {
     "data": {
      "text/html": [
       " View run at <a href='http://wandb:8080/ben/kaggle_space-titanic/runs/rvggfuev' target=\"_blank\">http://wandb:8080/ben/kaggle_space-titanic/runs/rvggfuev</a>"
      ],
      "text/plain": [
       "<IPython.core.display.HTML object>"
      ]
     },
     "metadata": {},
     "output_type": "display_data"
    },
    {
     "name": "stdout",
     "output_type": "stream",
     "text": [
      "✅ Labels already normalized, no encoding needed\n",
      "✅ Finished training sklearn model\n",
      "🏃 View run v31_random_forest_{'n_estimators': 350, 'max_depth': 15, 'max_features': 'log2', 'min_samples_split': 2} at: http://mlflow:5000/#/experiments/2/runs/7138c375b66e4b42b18639ed5b5d01d0\n",
      "🧪 View experiment at: http://mlflow:5000/#/experiments/2\n"
     ]
    },
    {
     "data": {
      "text/html": [],
      "text/plain": [
       "<IPython.core.display.HTML object>"
      ]
     },
     "metadata": {},
     "output_type": "display_data"
    },
    {
     "data": {
      "text/html": [
       "<br>    <style><br>        .wandb-row {<br>            display: flex;<br>            flex-direction: row;<br>            flex-wrap: wrap;<br>            justify-content: flex-start;<br>            width: 100%;<br>        }<br>        .wandb-col {<br>            display: flex;<br>            flex-direction: column;<br>            flex-basis: 100%;<br>            flex: 1;<br>            padding: 10px;<br>        }<br>    </style><br><div class=\"wandb-row\"><div class=\"wandb-col\"><h3>Run history:</h3><br/><table class=\"wandb\"><tr><td>accuracy</td><td>▁</td></tr><tr><td>f1_macro</td><td>▁</td></tr><tr><td>f1_weighted</td><td>▁</td></tr><tr><td>precision_weighted</td><td>▁</td></tr><tr><td>recall_weighted</td><td>▁</td></tr><tr><td>roc_auc</td><td>▁</td></tr></table><br/></div><div class=\"wandb-col\"><h3>Run summary:</h3><br/><table class=\"wandb\"><tr><td>accuracy</td><td>0.78033</td></tr><tr><td>f1_macro</td><td>0.78031</td></tr><tr><td>f1_weighted</td><td>0.78028</td></tr><tr><td>precision_weighted</td><td>0.7809</td></tr><tr><td>recall_weighted</td><td>0.78033</td></tr><tr><td>roc_auc</td><td>0.78051</td></tr></table><br/></div></div>"
      ],
      "text/plain": [
       "<IPython.core.display.HTML object>"
      ]
     },
     "metadata": {},
     "output_type": "display_data"
    },
    {
     "data": {
      "text/html": [
       " View run <strong style=\"color:#cdcd00\">v31_random_forest_{'n_estimators': 350, 'max_depth': 15, 'max_features': 'log2', 'min_samples_split': 2}</strong> at: <a href='http://wandb:8080/ben/kaggle_space-titanic/runs/rvggfuev' target=\"_blank\">http://wandb:8080/ben/kaggle_space-titanic/runs/rvggfuev</a><br> View project at: <a href='http://wandb:8080/ben/kaggle_space-titanic' target=\"_blank\">http://wandb:8080/ben/kaggle_space-titanic</a><br>Synced 5 W&B file(s), 0 media file(s), 0 artifact file(s) and 0 other file(s)"
      ],
      "text/plain": [
       "<IPython.core.display.HTML object>"
      ]
     },
     "metadata": {},
     "output_type": "display_data"
    },
    {
     "data": {
      "text/html": [
       "Find logs at: <code>/home/jovyan/wandb/wandb/run-20250517_210434-rvggfuev/logs</code>"
      ],
      "text/plain": [
       "<IPython.core.display.HTML object>"
      ]
     },
     "metadata": {},
     "output_type": "display_data"
    },
    {
     "name": "stdout",
     "output_type": "stream",
     "text": [
      "Started MLflow run: f1f07fe9ad9c451aa2b29e02d8f40803\n"
     ]
    },
    {
     "data": {
      "text/html": [
       "Tracking run with wandb version 0.19.11"
      ],
      "text/plain": [
       "<IPython.core.display.HTML object>"
      ]
     },
     "metadata": {},
     "output_type": "display_data"
    },
    {
     "data": {
      "text/html": [
       "Run data is saved locally in <code>/home/jovyan/wandb/wandb/run-20250517_210439-af2wg5oe</code>"
      ],
      "text/plain": [
       "<IPython.core.display.HTML object>"
      ]
     },
     "metadata": {},
     "output_type": "display_data"
    },
    {
     "data": {
      "text/html": [
       "Syncing run <strong><a href='http://wandb:8080/ben/kaggle_space-titanic/runs/af2wg5oe' target=\"_blank\">v31_random_forest_{'n_estimators': 350, 'max_depth': 15, 'max_features': 'log2', 'min_samples_split': 5}</a></strong> to <a href='http://wandb:8080/ben/kaggle_space-titanic' target=\"_blank\">Weights & Biases</a> (<a href='https://wandb.me/developer-guide' target=\"_blank\">docs</a>)<br>"
      ],
      "text/plain": [
       "<IPython.core.display.HTML object>"
      ]
     },
     "metadata": {},
     "output_type": "display_data"
    },
    {
     "data": {
      "text/html": [
       " View project at <a href='http://wandb:8080/ben/kaggle_space-titanic' target=\"_blank\">http://wandb:8080/ben/kaggle_space-titanic</a>"
      ],
      "text/plain": [
       "<IPython.core.display.HTML object>"
      ]
     },
     "metadata": {},
     "output_type": "display_data"
    },
    {
     "data": {
      "text/html": [
       " View run at <a href='http://wandb:8080/ben/kaggle_space-titanic/runs/af2wg5oe' target=\"_blank\">http://wandb:8080/ben/kaggle_space-titanic/runs/af2wg5oe</a>"
      ],
      "text/plain": [
       "<IPython.core.display.HTML object>"
      ]
     },
     "metadata": {},
     "output_type": "display_data"
    },
    {
     "name": "stdout",
     "output_type": "stream",
     "text": [
      "✅ Labels already normalized, no encoding needed\n",
      "✅ Finished training sklearn model\n",
      "🏃 View run v31_random_forest_{'n_estimators': 350, 'max_depth': 15, 'max_features': 'log2', 'min_samples_split': 5} at: http://mlflow:5000/#/experiments/2/runs/f1f07fe9ad9c451aa2b29e02d8f40803\n",
      "🧪 View experiment at: http://mlflow:5000/#/experiments/2\n"
     ]
    },
    {
     "data": {
      "text/html": [],
      "text/plain": [
       "<IPython.core.display.HTML object>"
      ]
     },
     "metadata": {},
     "output_type": "display_data"
    },
    {
     "data": {
      "text/html": [
       "<br>    <style><br>        .wandb-row {<br>            display: flex;<br>            flex-direction: row;<br>            flex-wrap: wrap;<br>            justify-content: flex-start;<br>            width: 100%;<br>        }<br>        .wandb-col {<br>            display: flex;<br>            flex-direction: column;<br>            flex-basis: 100%;<br>            flex: 1;<br>            padding: 10px;<br>        }<br>    </style><br><div class=\"wandb-row\"><div class=\"wandb-col\"><h3>Run history:</h3><br/><table class=\"wandb\"><tr><td>accuracy</td><td>▁</td></tr><tr><td>f1_macro</td><td>▁</td></tr><tr><td>f1_weighted</td><td>▁</td></tr><tr><td>precision_weighted</td><td>▁</td></tr><tr><td>recall_weighted</td><td>▁</td></tr><tr><td>roc_auc</td><td>▁</td></tr></table><br/></div><div class=\"wandb-col\"><h3>Run summary:</h3><br/><table class=\"wandb\"><tr><td>accuracy</td><td>0.77803</td></tr><tr><td>f1_macro</td><td>0.77803</td></tr><tr><td>f1_weighted</td><td>0.77803</td></tr><tr><td>precision_weighted</td><td>0.7782</td></tr><tr><td>recall_weighted</td><td>0.77803</td></tr><tr><td>roc_auc</td><td>0.77811</td></tr></table><br/></div></div>"
      ],
      "text/plain": [
       "<IPython.core.display.HTML object>"
      ]
     },
     "metadata": {},
     "output_type": "display_data"
    },
    {
     "data": {
      "text/html": [
       " View run <strong style=\"color:#cdcd00\">v31_random_forest_{'n_estimators': 350, 'max_depth': 15, 'max_features': 'log2', 'min_samples_split': 5}</strong> at: <a href='http://wandb:8080/ben/kaggle_space-titanic/runs/af2wg5oe' target=\"_blank\">http://wandb:8080/ben/kaggle_space-titanic/runs/af2wg5oe</a><br> View project at: <a href='http://wandb:8080/ben/kaggle_space-titanic' target=\"_blank\">http://wandb:8080/ben/kaggle_space-titanic</a><br>Synced 5 W&B file(s), 0 media file(s), 0 artifact file(s) and 0 other file(s)"
      ],
      "text/plain": [
       "<IPython.core.display.HTML object>"
      ]
     },
     "metadata": {},
     "output_type": "display_data"
    },
    {
     "data": {
      "text/html": [
       "Find logs at: <code>/home/jovyan/wandb/wandb/run-20250517_210439-af2wg5oe/logs</code>"
      ],
      "text/plain": [
       "<IPython.core.display.HTML object>"
      ]
     },
     "metadata": {},
     "output_type": "display_data"
    },
    {
     "name": "stdout",
     "output_type": "stream",
     "text": [
      "Started MLflow run: a456338f88d741e5b8643106f8278468\n"
     ]
    },
    {
     "data": {
      "text/html": [
       "Tracking run with wandb version 0.19.11"
      ],
      "text/plain": [
       "<IPython.core.display.HTML object>"
      ]
     },
     "metadata": {},
     "output_type": "display_data"
    },
    {
     "data": {
      "text/html": [
       "Run data is saved locally in <code>/home/jovyan/wandb/wandb/run-20250517_210444-s0ad2hke</code>"
      ],
      "text/plain": [
       "<IPython.core.display.HTML object>"
      ]
     },
     "metadata": {},
     "output_type": "display_data"
    },
    {
     "data": {
      "text/html": [
       "Syncing run <strong><a href='http://wandb:8080/ben/kaggle_space-titanic/runs/s0ad2hke' target=\"_blank\">v31_xgboost_{'n_estimators': 200, 'max_depth': 5, 'learning_rate': 0.005, 'subsample': 0.8, 'colsample_bytree': 0.8}</a></strong> to <a href='http://wandb:8080/ben/kaggle_space-titanic' target=\"_blank\">Weights & Biases</a> (<a href='https://wandb.me/developer-guide' target=\"_blank\">docs</a>)<br>"
      ],
      "text/plain": [
       "<IPython.core.display.HTML object>"
      ]
     },
     "metadata": {},
     "output_type": "display_data"
    },
    {
     "data": {
      "text/html": [
       " View project at <a href='http://wandb:8080/ben/kaggle_space-titanic' target=\"_blank\">http://wandb:8080/ben/kaggle_space-titanic</a>"
      ],
      "text/plain": [
       "<IPython.core.display.HTML object>"
      ]
     },
     "metadata": {},
     "output_type": "display_data"
    },
    {
     "data": {
      "text/html": [
       " View run at <a href='http://wandb:8080/ben/kaggle_space-titanic/runs/s0ad2hke' target=\"_blank\">http://wandb:8080/ben/kaggle_space-titanic/runs/s0ad2hke</a>"
      ],
      "text/plain": [
       "<IPython.core.display.HTML object>"
      ]
     },
     "metadata": {},
     "output_type": "display_data"
    },
    {
     "name": "stdout",
     "output_type": "stream",
     "text": [
      "✅ Labels already normalized, no encoding needed\n"
     ]
    },
    {
     "name": "stderr",
     "output_type": "stream",
     "text": [
      "/opt/conda/lib/python3.11/site-packages/xgboost/training.py:183: UserWarning: [21:04:45] WARNING: /workspace/src/learner.cc:738: \n",
      "Parameters: { \"use_label_encoder\" } are not used.\n",
      "\n",
      "  bst.update(dtrain, iteration=i, fobj=obj)\n"
     ]
    },
    {
     "name": "stdout",
     "output_type": "stream",
     "text": [
      "✅ Finished training sklearn model\n",
      "🏃 View run v31_xgboost_{'n_estimators': 200, 'max_depth': 5, 'learning_rate': 0.005, 'subsample': 0.8, 'colsample_bytree': 0.8} at: http://mlflow:5000/#/experiments/2/runs/a456338f88d741e5b8643106f8278468\n",
      "🧪 View experiment at: http://mlflow:5000/#/experiments/2\n"
     ]
    },
    {
     "data": {
      "text/html": [],
      "text/plain": [
       "<IPython.core.display.HTML object>"
      ]
     },
     "metadata": {},
     "output_type": "display_data"
    },
    {
     "data": {
      "text/html": [
       "<br>    <style><br>        .wandb-row {<br>            display: flex;<br>            flex-direction: row;<br>            flex-wrap: wrap;<br>            justify-content: flex-start;<br>            width: 100%;<br>        }<br>        .wandb-col {<br>            display: flex;<br>            flex-direction: column;<br>            flex-basis: 100%;<br>            flex: 1;<br>            padding: 10px;<br>        }<br>    </style><br><div class=\"wandb-row\"><div class=\"wandb-col\"><h3>Run history:</h3><br/><table class=\"wandb\"><tr><td>accuracy</td><td>▁</td></tr><tr><td>f1_macro</td><td>▁</td></tr><tr><td>f1_weighted</td><td>▁</td></tr><tr><td>precision_weighted</td><td>▁</td></tr><tr><td>recall_weighted</td><td>▁</td></tr><tr><td>roc_auc</td><td>▁</td></tr></table><br/></div><div class=\"wandb-col\"><h3>Run summary:</h3><br/><table class=\"wandb\"><tr><td>accuracy</td><td>0.78091</td></tr><tr><td>f1_macro</td><td>0.78018</td></tr><tr><td>f1_weighted</td><td>0.78031</td></tr><tr><td>precision_weighted</td><td>0.78329</td></tr><tr><td>recall_weighted</td><td>0.78091</td></tr><tr><td>roc_auc</td><td>0.78042</td></tr></table><br/></div></div>"
      ],
      "text/plain": [
       "<IPython.core.display.HTML object>"
      ]
     },
     "metadata": {},
     "output_type": "display_data"
    },
    {
     "data": {
      "text/html": [
       " View run <strong style=\"color:#cdcd00\">v31_xgboost_{'n_estimators': 200, 'max_depth': 5, 'learning_rate': 0.005, 'subsample': 0.8, 'colsample_bytree': 0.8}</strong> at: <a href='http://wandb:8080/ben/kaggle_space-titanic/runs/s0ad2hke' target=\"_blank\">http://wandb:8080/ben/kaggle_space-titanic/runs/s0ad2hke</a><br> View project at: <a href='http://wandb:8080/ben/kaggle_space-titanic' target=\"_blank\">http://wandb:8080/ben/kaggle_space-titanic</a><br>Synced 5 W&B file(s), 0 media file(s), 0 artifact file(s) and 0 other file(s)"
      ],
      "text/plain": [
       "<IPython.core.display.HTML object>"
      ]
     },
     "metadata": {},
     "output_type": "display_data"
    },
    {
     "data": {
      "text/html": [
       "Find logs at: <code>/home/jovyan/wandb/wandb/run-20250517_210444-s0ad2hke/logs</code>"
      ],
      "text/plain": [
       "<IPython.core.display.HTML object>"
      ]
     },
     "metadata": {},
     "output_type": "display_data"
    },
    {
     "name": "stdout",
     "output_type": "stream",
     "text": [
      "Started MLflow run: bb6a1b1d884c45da8c09d3e735474a7c\n"
     ]
    },
    {
     "data": {
      "text/html": [
       "Tracking run with wandb version 0.19.11"
      ],
      "text/plain": [
       "<IPython.core.display.HTML object>"
      ]
     },
     "metadata": {},
     "output_type": "display_data"
    },
    {
     "data": {
      "text/html": [
       "Run data is saved locally in <code>/home/jovyan/wandb/wandb/run-20250517_210446-pdgt882t</code>"
      ],
      "text/plain": [
       "<IPython.core.display.HTML object>"
      ]
     },
     "metadata": {},
     "output_type": "display_data"
    },
    {
     "data": {
      "text/html": [
       "Syncing run <strong><a href='http://wandb:8080/ben/kaggle_space-titanic/runs/pdgt882t' target=\"_blank\">v31_xgboost_{'n_estimators': 200, 'max_depth': 5, 'learning_rate': 0.005, 'subsample': 0.8, 'colsample_bytree': 1.0}</a></strong> to <a href='http://wandb:8080/ben/kaggle_space-titanic' target=\"_blank\">Weights & Biases</a> (<a href='https://wandb.me/developer-guide' target=\"_blank\">docs</a>)<br>"
      ],
      "text/plain": [
       "<IPython.core.display.HTML object>"
      ]
     },
     "metadata": {},
     "output_type": "display_data"
    },
    {
     "data": {
      "text/html": [
       " View project at <a href='http://wandb:8080/ben/kaggle_space-titanic' target=\"_blank\">http://wandb:8080/ben/kaggle_space-titanic</a>"
      ],
      "text/plain": [
       "<IPython.core.display.HTML object>"
      ]
     },
     "metadata": {},
     "output_type": "display_data"
    },
    {
     "data": {
      "text/html": [
       " View run at <a href='http://wandb:8080/ben/kaggle_space-titanic/runs/pdgt882t' target=\"_blank\">http://wandb:8080/ben/kaggle_space-titanic/runs/pdgt882t</a>"
      ],
      "text/plain": [
       "<IPython.core.display.HTML object>"
      ]
     },
     "metadata": {},
     "output_type": "display_data"
    },
    {
     "name": "stdout",
     "output_type": "stream",
     "text": [
      "✅ Labels already normalized, no encoding needed\n"
     ]
    },
    {
     "name": "stderr",
     "output_type": "stream",
     "text": [
      "/opt/conda/lib/python3.11/site-packages/xgboost/training.py:183: UserWarning: [21:04:46] WARNING: /workspace/src/learner.cc:738: \n",
      "Parameters: { \"use_label_encoder\" } are not used.\n",
      "\n",
      "  bst.update(dtrain, iteration=i, fobj=obj)\n"
     ]
    },
    {
     "name": "stdout",
     "output_type": "stream",
     "text": [
      "✅ Finished training sklearn model\n",
      "🏃 View run v31_xgboost_{'n_estimators': 200, 'max_depth': 5, 'learning_rate': 0.005, 'subsample': 0.8, 'colsample_bytree': 1.0} at: http://mlflow:5000/#/experiments/2/runs/bb6a1b1d884c45da8c09d3e735474a7c\n",
      "🧪 View experiment at: http://mlflow:5000/#/experiments/2\n"
     ]
    },
    {
     "data": {
      "text/html": [],
      "text/plain": [
       "<IPython.core.display.HTML object>"
      ]
     },
     "metadata": {},
     "output_type": "display_data"
    },
    {
     "data": {
      "text/html": [
       "<br>    <style><br>        .wandb-row {<br>            display: flex;<br>            flex-direction: row;<br>            flex-wrap: wrap;<br>            justify-content: flex-start;<br>            width: 100%;<br>        }<br>        .wandb-col {<br>            display: flex;<br>            flex-direction: column;<br>            flex-basis: 100%;<br>            flex: 1;<br>            padding: 10px;<br>        }<br>    </style><br><div class=\"wandb-row\"><div class=\"wandb-col\"><h3>Run history:</h3><br/><table class=\"wandb\"><tr><td>accuracy</td><td>▁</td></tr><tr><td>f1_macro</td><td>▁</td></tr><tr><td>f1_weighted</td><td>▁</td></tr><tr><td>precision_weighted</td><td>▁</td></tr><tr><td>recall_weighted</td><td>▁</td></tr><tr><td>roc_auc</td><td>▁</td></tr></table><br/></div><div class=\"wandb-col\"><h3>Run summary:</h3><br/><table class=\"wandb\"><tr><td>accuracy</td><td>0.77746</td></tr><tr><td>f1_macro</td><td>0.77653</td></tr><tr><td>f1_weighted</td><td>0.77667</td></tr><tr><td>precision_weighted</td><td>0.78058</td></tr><tr><td>recall_weighted</td><td>0.77746</td></tr><tr><td>roc_auc</td><td>0.7769</td></tr></table><br/></div></div>"
      ],
      "text/plain": [
       "<IPython.core.display.HTML object>"
      ]
     },
     "metadata": {},
     "output_type": "display_data"
    },
    {
     "data": {
      "text/html": [
       " View run <strong style=\"color:#cdcd00\">v31_xgboost_{'n_estimators': 200, 'max_depth': 5, 'learning_rate': 0.005, 'subsample': 0.8, 'colsample_bytree': 1.0}</strong> at: <a href='http://wandb:8080/ben/kaggle_space-titanic/runs/pdgt882t' target=\"_blank\">http://wandb:8080/ben/kaggle_space-titanic/runs/pdgt882t</a><br> View project at: <a href='http://wandb:8080/ben/kaggle_space-titanic' target=\"_blank\">http://wandb:8080/ben/kaggle_space-titanic</a><br>Synced 5 W&B file(s), 0 media file(s), 0 artifact file(s) and 0 other file(s)"
      ],
      "text/plain": [
       "<IPython.core.display.HTML object>"
      ]
     },
     "metadata": {},
     "output_type": "display_data"
    },
    {
     "data": {
      "text/html": [
       "Find logs at: <code>/home/jovyan/wandb/wandb/run-20250517_210446-pdgt882t/logs</code>"
      ],
      "text/plain": [
       "<IPython.core.display.HTML object>"
      ]
     },
     "metadata": {},
     "output_type": "display_data"
    },
    {
     "name": "stdout",
     "output_type": "stream",
     "text": [
      "Started MLflow run: 7891b556eee14362a8a7b60a4ee150c2\n"
     ]
    },
    {
     "data": {
      "text/html": [
       "Tracking run with wandb version 0.19.11"
      ],
      "text/plain": [
       "<IPython.core.display.HTML object>"
      ]
     },
     "metadata": {},
     "output_type": "display_data"
    },
    {
     "data": {
      "text/html": [
       "Run data is saved locally in <code>/home/jovyan/wandb/wandb/run-20250517_210448-n6tq3mto</code>"
      ],
      "text/plain": [
       "<IPython.core.display.HTML object>"
      ]
     },
     "metadata": {},
     "output_type": "display_data"
    },
    {
     "data": {
      "text/html": [
       "Syncing run <strong><a href='http://wandb:8080/ben/kaggle_space-titanic/runs/n6tq3mto' target=\"_blank\">v31_xgboost_{'n_estimators': 200, 'max_depth': 5, 'learning_rate': 0.005, 'subsample': 1.0, 'colsample_bytree': 0.8}</a></strong> to <a href='http://wandb:8080/ben/kaggle_space-titanic' target=\"_blank\">Weights & Biases</a> (<a href='https://wandb.me/developer-guide' target=\"_blank\">docs</a>)<br>"
      ],
      "text/plain": [
       "<IPython.core.display.HTML object>"
      ]
     },
     "metadata": {},
     "output_type": "display_data"
    },
    {
     "data": {
      "text/html": [
       " View project at <a href='http://wandb:8080/ben/kaggle_space-titanic' target=\"_blank\">http://wandb:8080/ben/kaggle_space-titanic</a>"
      ],
      "text/plain": [
       "<IPython.core.display.HTML object>"
      ]
     },
     "metadata": {},
     "output_type": "display_data"
    },
    {
     "data": {
      "text/html": [
       " View run at <a href='http://wandb:8080/ben/kaggle_space-titanic/runs/n6tq3mto' target=\"_blank\">http://wandb:8080/ben/kaggle_space-titanic/runs/n6tq3mto</a>"
      ],
      "text/plain": [
       "<IPython.core.display.HTML object>"
      ]
     },
     "metadata": {},
     "output_type": "display_data"
    },
    {
     "name": "stdout",
     "output_type": "stream",
     "text": [
      "✅ Labels already normalized, no encoding needed\n"
     ]
    },
    {
     "name": "stderr",
     "output_type": "stream",
     "text": [
      "/opt/conda/lib/python3.11/site-packages/xgboost/training.py:183: UserWarning: [21:04:48] WARNING: /workspace/src/learner.cc:738: \n",
      "Parameters: { \"use_label_encoder\" } are not used.\n",
      "\n",
      "  bst.update(dtrain, iteration=i, fobj=obj)\n"
     ]
    },
    {
     "name": "stdout",
     "output_type": "stream",
     "text": [
      "✅ Finished training sklearn model\n",
      "🏃 View run v31_xgboost_{'n_estimators': 200, 'max_depth': 5, 'learning_rate': 0.005, 'subsample': 1.0, 'colsample_bytree': 0.8} at: http://mlflow:5000/#/experiments/2/runs/7891b556eee14362a8a7b60a4ee150c2\n",
      "🧪 View experiment at: http://mlflow:5000/#/experiments/2\n"
     ]
    },
    {
     "data": {
      "text/html": [],
      "text/plain": [
       "<IPython.core.display.HTML object>"
      ]
     },
     "metadata": {},
     "output_type": "display_data"
    },
    {
     "data": {
      "text/html": [
       "<br>    <style><br>        .wandb-row {<br>            display: flex;<br>            flex-direction: row;<br>            flex-wrap: wrap;<br>            justify-content: flex-start;<br>            width: 100%;<br>        }<br>        .wandb-col {<br>            display: flex;<br>            flex-direction: column;<br>            flex-basis: 100%;<br>            flex: 1;<br>            padding: 10px;<br>        }<br>    </style><br><div class=\"wandb-row\"><div class=\"wandb-col\"><h3>Run history:</h3><br/><table class=\"wandb\"><tr><td>accuracy</td><td>▁</td></tr><tr><td>f1_macro</td><td>▁</td></tr><tr><td>f1_weighted</td><td>▁</td></tr><tr><td>precision_weighted</td><td>▁</td></tr><tr><td>recall_weighted</td><td>▁</td></tr><tr><td>roc_auc</td><td>▁</td></tr></table><br/></div><div class=\"wandb-col\"><h3>Run summary:</h3><br/><table class=\"wandb\"><tr><td>accuracy</td><td>0.77976</td></tr><tr><td>f1_macro</td><td>0.77917</td></tr><tr><td>f1_weighted</td><td>0.77928</td></tr><tr><td>precision_weighted</td><td>0.78157</td></tr><tr><td>recall_weighted</td><td>0.77976</td></tr><tr><td>roc_auc</td><td>0.77933</td></tr></table><br/></div></div>"
      ],
      "text/plain": [
       "<IPython.core.display.HTML object>"
      ]
     },
     "metadata": {},
     "output_type": "display_data"
    },
    {
     "data": {
      "text/html": [
       " View run <strong style=\"color:#cdcd00\">v31_xgboost_{'n_estimators': 200, 'max_depth': 5, 'learning_rate': 0.005, 'subsample': 1.0, 'colsample_bytree': 0.8}</strong> at: <a href='http://wandb:8080/ben/kaggle_space-titanic/runs/n6tq3mto' target=\"_blank\">http://wandb:8080/ben/kaggle_space-titanic/runs/n6tq3mto</a><br> View project at: <a href='http://wandb:8080/ben/kaggle_space-titanic' target=\"_blank\">http://wandb:8080/ben/kaggle_space-titanic</a><br>Synced 5 W&B file(s), 0 media file(s), 0 artifact file(s) and 0 other file(s)"
      ],
      "text/plain": [
       "<IPython.core.display.HTML object>"
      ]
     },
     "metadata": {},
     "output_type": "display_data"
    },
    {
     "data": {
      "text/html": [
       "Find logs at: <code>/home/jovyan/wandb/wandb/run-20250517_210448-n6tq3mto/logs</code>"
      ],
      "text/plain": [
       "<IPython.core.display.HTML object>"
      ]
     },
     "metadata": {},
     "output_type": "display_data"
    },
    {
     "name": "stdout",
     "output_type": "stream",
     "text": [
      "Started MLflow run: 94dfadc992c34f36a5e4e9620747f988\n"
     ]
    },
    {
     "data": {
      "text/html": [
       "Tracking run with wandb version 0.19.11"
      ],
      "text/plain": [
       "<IPython.core.display.HTML object>"
      ]
     },
     "metadata": {},
     "output_type": "display_data"
    },
    {
     "data": {
      "text/html": [
       "Run data is saved locally in <code>/home/jovyan/wandb/wandb/run-20250517_210449-hj4n2xx6</code>"
      ],
      "text/plain": [
       "<IPython.core.display.HTML object>"
      ]
     },
     "metadata": {},
     "output_type": "display_data"
    },
    {
     "data": {
      "text/html": [
       "Syncing run <strong><a href='http://wandb:8080/ben/kaggle_space-titanic/runs/hj4n2xx6' target=\"_blank\">v31_xgboost_{'n_estimators': 200, 'max_depth': 5, 'learning_rate': 0.005, 'subsample': 1.0, 'colsample_bytree': 1.0}</a></strong> to <a href='http://wandb:8080/ben/kaggle_space-titanic' target=\"_blank\">Weights & Biases</a> (<a href='https://wandb.me/developer-guide' target=\"_blank\">docs</a>)<br>"
      ],
      "text/plain": [
       "<IPython.core.display.HTML object>"
      ]
     },
     "metadata": {},
     "output_type": "display_data"
    },
    {
     "data": {
      "text/html": [
       " View project at <a href='http://wandb:8080/ben/kaggle_space-titanic' target=\"_blank\">http://wandb:8080/ben/kaggle_space-titanic</a>"
      ],
      "text/plain": [
       "<IPython.core.display.HTML object>"
      ]
     },
     "metadata": {},
     "output_type": "display_data"
    },
    {
     "data": {
      "text/html": [
       " View run at <a href='http://wandb:8080/ben/kaggle_space-titanic/runs/hj4n2xx6' target=\"_blank\">http://wandb:8080/ben/kaggle_space-titanic/runs/hj4n2xx6</a>"
      ],
      "text/plain": [
       "<IPython.core.display.HTML object>"
      ]
     },
     "metadata": {},
     "output_type": "display_data"
    },
    {
     "name": "stdout",
     "output_type": "stream",
     "text": [
      "✅ Labels already normalized, no encoding needed\n"
     ]
    },
    {
     "name": "stderr",
     "output_type": "stream",
     "text": [
      "/opt/conda/lib/python3.11/site-packages/xgboost/training.py:183: UserWarning: [21:04:50] WARNING: /workspace/src/learner.cc:738: \n",
      "Parameters: { \"use_label_encoder\" } are not used.\n",
      "\n",
      "  bst.update(dtrain, iteration=i, fobj=obj)\n"
     ]
    },
    {
     "name": "stdout",
     "output_type": "stream",
     "text": [
      "✅ Finished training sklearn model\n",
      "🏃 View run v31_xgboost_{'n_estimators': 200, 'max_depth': 5, 'learning_rate': 0.005, 'subsample': 1.0, 'colsample_bytree': 1.0} at: http://mlflow:5000/#/experiments/2/runs/94dfadc992c34f36a5e4e9620747f988\n",
      "🧪 View experiment at: http://mlflow:5000/#/experiments/2\n"
     ]
    },
    {
     "data": {
      "text/html": [],
      "text/plain": [
       "<IPython.core.display.HTML object>"
      ]
     },
     "metadata": {},
     "output_type": "display_data"
    },
    {
     "data": {
      "text/html": [
       "<br>    <style><br>        .wandb-row {<br>            display: flex;<br>            flex-direction: row;<br>            flex-wrap: wrap;<br>            justify-content: flex-start;<br>            width: 100%;<br>        }<br>        .wandb-col {<br>            display: flex;<br>            flex-direction: column;<br>            flex-basis: 100%;<br>            flex: 1;<br>            padding: 10px;<br>        }<br>    </style><br><div class=\"wandb-row\"><div class=\"wandb-col\"><h3>Run history:</h3><br/><table class=\"wandb\"><tr><td>accuracy</td><td>▁</td></tr><tr><td>f1_macro</td><td>▁</td></tr><tr><td>f1_weighted</td><td>▁</td></tr><tr><td>precision_weighted</td><td>▁</td></tr><tr><td>recall_weighted</td><td>▁</td></tr><tr><td>roc_auc</td><td>▁</td></tr></table><br/></div><div class=\"wandb-col\"><h3>Run summary:</h3><br/><table class=\"wandb\"><tr><td>accuracy</td><td>0.77918</td></tr><tr><td>f1_macro</td><td>0.77841</td></tr><tr><td>f1_weighted</td><td>0.77853</td></tr><tr><td>precision_weighted</td><td>0.78173</td></tr><tr><td>recall_weighted</td><td>0.77918</td></tr><tr><td>roc_auc</td><td>0.77868</td></tr></table><br/></div></div>"
      ],
      "text/plain": [
       "<IPython.core.display.HTML object>"
      ]
     },
     "metadata": {},
     "output_type": "display_data"
    },
    {
     "data": {
      "text/html": [
       " View run <strong style=\"color:#cdcd00\">v31_xgboost_{'n_estimators': 200, 'max_depth': 5, 'learning_rate': 0.005, 'subsample': 1.0, 'colsample_bytree': 1.0}</strong> at: <a href='http://wandb:8080/ben/kaggle_space-titanic/runs/hj4n2xx6' target=\"_blank\">http://wandb:8080/ben/kaggle_space-titanic/runs/hj4n2xx6</a><br> View project at: <a href='http://wandb:8080/ben/kaggle_space-titanic' target=\"_blank\">http://wandb:8080/ben/kaggle_space-titanic</a><br>Synced 5 W&B file(s), 0 media file(s), 0 artifact file(s) and 0 other file(s)"
      ],
      "text/plain": [
       "<IPython.core.display.HTML object>"
      ]
     },
     "metadata": {},
     "output_type": "display_data"
    },
    {
     "data": {
      "text/html": [
       "Find logs at: <code>/home/jovyan/wandb/wandb/run-20250517_210449-hj4n2xx6/logs</code>"
      ],
      "text/plain": [
       "<IPython.core.display.HTML object>"
      ]
     },
     "metadata": {},
     "output_type": "display_data"
    },
    {
     "name": "stdout",
     "output_type": "stream",
     "text": [
      "Started MLflow run: 248d6f3a72fb4344b4163c8fcc08194c\n"
     ]
    },
    {
     "data": {
      "text/html": [
       "Tracking run with wandb version 0.19.11"
      ],
      "text/plain": [
       "<IPython.core.display.HTML object>"
      ]
     },
     "metadata": {},
     "output_type": "display_data"
    },
    {
     "data": {
      "text/html": [
       "Run data is saved locally in <code>/home/jovyan/wandb/wandb/run-20250517_210451-czoa19ol</code>"
      ],
      "text/plain": [
       "<IPython.core.display.HTML object>"
      ]
     },
     "metadata": {},
     "output_type": "display_data"
    },
    {
     "data": {
      "text/html": [
       "Syncing run <strong><a href='http://wandb:8080/ben/kaggle_space-titanic/runs/czoa19ol' target=\"_blank\">v31_xgboost_{'n_estimators': 200, 'max_depth': 5, 'learning_rate': 0.1, 'subsample': 0.8, 'colsample_bytree': 0.8}</a></strong> to <a href='http://wandb:8080/ben/kaggle_space-titanic' target=\"_blank\">Weights & Biases</a> (<a href='https://wandb.me/developer-guide' target=\"_blank\">docs</a>)<br>"
      ],
      "text/plain": [
       "<IPython.core.display.HTML object>"
      ]
     },
     "metadata": {},
     "output_type": "display_data"
    },
    {
     "data": {
      "text/html": [
       " View project at <a href='http://wandb:8080/ben/kaggle_space-titanic' target=\"_blank\">http://wandb:8080/ben/kaggle_space-titanic</a>"
      ],
      "text/plain": [
       "<IPython.core.display.HTML object>"
      ]
     },
     "metadata": {},
     "output_type": "display_data"
    },
    {
     "data": {
      "text/html": [
       " View run at <a href='http://wandb:8080/ben/kaggle_space-titanic/runs/czoa19ol' target=\"_blank\">http://wandb:8080/ben/kaggle_space-titanic/runs/czoa19ol</a>"
      ],
      "text/plain": [
       "<IPython.core.display.HTML object>"
      ]
     },
     "metadata": {},
     "output_type": "display_data"
    },
    {
     "name": "stdout",
     "output_type": "stream",
     "text": [
      "✅ Labels already normalized, no encoding needed\n"
     ]
    },
    {
     "name": "stderr",
     "output_type": "stream",
     "text": [
      "/opt/conda/lib/python3.11/site-packages/xgboost/training.py:183: UserWarning: [21:04:51] WARNING: /workspace/src/learner.cc:738: \n",
      "Parameters: { \"use_label_encoder\" } are not used.\n",
      "\n",
      "  bst.update(dtrain, iteration=i, fobj=obj)\n"
     ]
    },
    {
     "name": "stdout",
     "output_type": "stream",
     "text": [
      "✅ Finished training sklearn model\n",
      "🏃 View run v31_xgboost_{'n_estimators': 200, 'max_depth': 5, 'learning_rate': 0.1, 'subsample': 0.8, 'colsample_bytree': 0.8} at: http://mlflow:5000/#/experiments/2/runs/248d6f3a72fb4344b4163c8fcc08194c\n",
      "🧪 View experiment at: http://mlflow:5000/#/experiments/2\n"
     ]
    },
    {
     "data": {
      "text/html": [],
      "text/plain": [
       "<IPython.core.display.HTML object>"
      ]
     },
     "metadata": {},
     "output_type": "display_data"
    },
    {
     "data": {
      "text/html": [
       "<br>    <style><br>        .wandb-row {<br>            display: flex;<br>            flex-direction: row;<br>            flex-wrap: wrap;<br>            justify-content: flex-start;<br>            width: 100%;<br>        }<br>        .wandb-col {<br>            display: flex;<br>            flex-direction: column;<br>            flex-basis: 100%;<br>            flex: 1;<br>            padding: 10px;<br>        }<br>    </style><br><div class=\"wandb-row\"><div class=\"wandb-col\"><h3>Run history:</h3><br/><table class=\"wandb\"><tr><td>accuracy</td><td>▁</td></tr><tr><td>f1_macro</td><td>▁</td></tr><tr><td>f1_weighted</td><td>▁</td></tr><tr><td>precision_weighted</td><td>▁</td></tr><tr><td>recall_weighted</td><td>▁</td></tr><tr><td>roc_auc</td><td>▁</td></tr></table><br/></div><div class=\"wandb-col\"><h3>Run summary:</h3><br/><table class=\"wandb\"><tr><td>accuracy</td><td>0.80046</td></tr><tr><td>f1_macro</td><td>0.80046</td></tr><tr><td>f1_weighted</td><td>0.80046</td></tr><tr><td>precision_weighted</td><td>0.80058</td></tr><tr><td>recall_weighted</td><td>0.80046</td></tr><tr><td>roc_auc</td><td>0.80053</td></tr></table><br/></div></div>"
      ],
      "text/plain": [
       "<IPython.core.display.HTML object>"
      ]
     },
     "metadata": {},
     "output_type": "display_data"
    },
    {
     "data": {
      "text/html": [
       " View run <strong style=\"color:#cdcd00\">v31_xgboost_{'n_estimators': 200, 'max_depth': 5, 'learning_rate': 0.1, 'subsample': 0.8, 'colsample_bytree': 0.8}</strong> at: <a href='http://wandb:8080/ben/kaggle_space-titanic/runs/czoa19ol' target=\"_blank\">http://wandb:8080/ben/kaggle_space-titanic/runs/czoa19ol</a><br> View project at: <a href='http://wandb:8080/ben/kaggle_space-titanic' target=\"_blank\">http://wandb:8080/ben/kaggle_space-titanic</a><br>Synced 5 W&B file(s), 0 media file(s), 0 artifact file(s) and 0 other file(s)"
      ],
      "text/plain": [
       "<IPython.core.display.HTML object>"
      ]
     },
     "metadata": {},
     "output_type": "display_data"
    },
    {
     "data": {
      "text/html": [
       "Find logs at: <code>/home/jovyan/wandb/wandb/run-20250517_210451-czoa19ol/logs</code>"
      ],
      "text/plain": [
       "<IPython.core.display.HTML object>"
      ]
     },
     "metadata": {},
     "output_type": "display_data"
    },
    {
     "name": "stdout",
     "output_type": "stream",
     "text": [
      "Started MLflow run: 85d60c9227234d75a7c832dd7f9c7d59\n"
     ]
    },
    {
     "data": {
      "text/html": [
       "Tracking run with wandb version 0.19.11"
      ],
      "text/plain": [
       "<IPython.core.display.HTML object>"
      ]
     },
     "metadata": {},
     "output_type": "display_data"
    },
    {
     "data": {
      "text/html": [
       "Run data is saved locally in <code>/home/jovyan/wandb/wandb/run-20250517_210453-bypr6b2l</code>"
      ],
      "text/plain": [
       "<IPython.core.display.HTML object>"
      ]
     },
     "metadata": {},
     "output_type": "display_data"
    },
    {
     "data": {
      "text/html": [
       "Syncing run <strong><a href='http://wandb:8080/ben/kaggle_space-titanic/runs/bypr6b2l' target=\"_blank\">v31_xgboost_{'n_estimators': 200, 'max_depth': 5, 'learning_rate': 0.1, 'subsample': 0.8, 'colsample_bytree': 1.0}</a></strong> to <a href='http://wandb:8080/ben/kaggle_space-titanic' target=\"_blank\">Weights & Biases</a> (<a href='https://wandb.me/developer-guide' target=\"_blank\">docs</a>)<br>"
      ],
      "text/plain": [
       "<IPython.core.display.HTML object>"
      ]
     },
     "metadata": {},
     "output_type": "display_data"
    },
    {
     "data": {
      "text/html": [
       " View project at <a href='http://wandb:8080/ben/kaggle_space-titanic' target=\"_blank\">http://wandb:8080/ben/kaggle_space-titanic</a>"
      ],
      "text/plain": [
       "<IPython.core.display.HTML object>"
      ]
     },
     "metadata": {},
     "output_type": "display_data"
    },
    {
     "data": {
      "text/html": [
       " View run at <a href='http://wandb:8080/ben/kaggle_space-titanic/runs/bypr6b2l' target=\"_blank\">http://wandb:8080/ben/kaggle_space-titanic/runs/bypr6b2l</a>"
      ],
      "text/plain": [
       "<IPython.core.display.HTML object>"
      ]
     },
     "metadata": {},
     "output_type": "display_data"
    },
    {
     "name": "stdout",
     "output_type": "stream",
     "text": [
      "✅ Labels already normalized, no encoding needed\n"
     ]
    },
    {
     "name": "stderr",
     "output_type": "stream",
     "text": [
      "/opt/conda/lib/python3.11/site-packages/xgboost/training.py:183: UserWarning: [21:04:53] WARNING: /workspace/src/learner.cc:738: \n",
      "Parameters: { \"use_label_encoder\" } are not used.\n",
      "\n",
      "  bst.update(dtrain, iteration=i, fobj=obj)\n"
     ]
    },
    {
     "name": "stdout",
     "output_type": "stream",
     "text": [
      "✅ Finished training sklearn model\n",
      "🏃 View run v31_xgboost_{'n_estimators': 200, 'max_depth': 5, 'learning_rate': 0.1, 'subsample': 0.8, 'colsample_bytree': 1.0} at: http://mlflow:5000/#/experiments/2/runs/85d60c9227234d75a7c832dd7f9c7d59\n",
      "🧪 View experiment at: http://mlflow:5000/#/experiments/2\n"
     ]
    },
    {
     "data": {
      "text/html": [],
      "text/plain": [
       "<IPython.core.display.HTML object>"
      ]
     },
     "metadata": {},
     "output_type": "display_data"
    },
    {
     "data": {
      "text/html": [
       "<br>    <style><br>        .wandb-row {<br>            display: flex;<br>            flex-direction: row;<br>            flex-wrap: wrap;<br>            justify-content: flex-start;<br>            width: 100%;<br>        }<br>        .wandb-col {<br>            display: flex;<br>            flex-direction: column;<br>            flex-basis: 100%;<br>            flex: 1;<br>            padding: 10px;<br>        }<br>    </style><br><div class=\"wandb-row\"><div class=\"wandb-col\"><h3>Run history:</h3><br/><table class=\"wandb\"><tr><td>accuracy</td><td>▁</td></tr><tr><td>f1_macro</td><td>▁</td></tr><tr><td>f1_weighted</td><td>▁</td></tr><tr><td>precision_weighted</td><td>▁</td></tr><tr><td>recall_weighted</td><td>▁</td></tr><tr><td>roc_auc</td><td>▁</td></tr></table><br/></div><div class=\"wandb-col\"><h3>Run summary:</h3><br/><table class=\"wandb\"><tr><td>accuracy</td><td>0.79126</td></tr><tr><td>f1_macro</td><td>0.79126</td></tr><tr><td>f1_weighted</td><td>0.79126</td></tr><tr><td>precision_weighted</td><td>0.79135</td></tr><tr><td>recall_weighted</td><td>0.79126</td></tr><tr><td>roc_auc</td><td>0.79131</td></tr></table><br/></div></div>"
      ],
      "text/plain": [
       "<IPython.core.display.HTML object>"
      ]
     },
     "metadata": {},
     "output_type": "display_data"
    },
    {
     "data": {
      "text/html": [
       " View run <strong style=\"color:#cdcd00\">v31_xgboost_{'n_estimators': 200, 'max_depth': 5, 'learning_rate': 0.1, 'subsample': 0.8, 'colsample_bytree': 1.0}</strong> at: <a href='http://wandb:8080/ben/kaggle_space-titanic/runs/bypr6b2l' target=\"_blank\">http://wandb:8080/ben/kaggle_space-titanic/runs/bypr6b2l</a><br> View project at: <a href='http://wandb:8080/ben/kaggle_space-titanic' target=\"_blank\">http://wandb:8080/ben/kaggle_space-titanic</a><br>Synced 5 W&B file(s), 0 media file(s), 0 artifact file(s) and 0 other file(s)"
      ],
      "text/plain": [
       "<IPython.core.display.HTML object>"
      ]
     },
     "metadata": {},
     "output_type": "display_data"
    },
    {
     "data": {
      "text/html": [
       "Find logs at: <code>/home/jovyan/wandb/wandb/run-20250517_210453-bypr6b2l/logs</code>"
      ],
      "text/plain": [
       "<IPython.core.display.HTML object>"
      ]
     },
     "metadata": {},
     "output_type": "display_data"
    },
    {
     "name": "stdout",
     "output_type": "stream",
     "text": [
      "Started MLflow run: 152291f438f346bda2a78b5e3fface99\n"
     ]
    },
    {
     "data": {
      "text/html": [
       "Tracking run with wandb version 0.19.11"
      ],
      "text/plain": [
       "<IPython.core.display.HTML object>"
      ]
     },
     "metadata": {},
     "output_type": "display_data"
    },
    {
     "data": {
      "text/html": [
       "Run data is saved locally in <code>/home/jovyan/wandb/wandb/run-20250517_210454-27s6yebh</code>"
      ],
      "text/plain": [
       "<IPython.core.display.HTML object>"
      ]
     },
     "metadata": {},
     "output_type": "display_data"
    },
    {
     "data": {
      "text/html": [
       "Syncing run <strong><a href='http://wandb:8080/ben/kaggle_space-titanic/runs/27s6yebh' target=\"_blank\">v31_xgboost_{'n_estimators': 200, 'max_depth': 5, 'learning_rate': 0.1, 'subsample': 1.0, 'colsample_bytree': 0.8}</a></strong> to <a href='http://wandb:8080/ben/kaggle_space-titanic' target=\"_blank\">Weights & Biases</a> (<a href='https://wandb.me/developer-guide' target=\"_blank\">docs</a>)<br>"
      ],
      "text/plain": [
       "<IPython.core.display.HTML object>"
      ]
     },
     "metadata": {},
     "output_type": "display_data"
    },
    {
     "data": {
      "text/html": [
       " View project at <a href='http://wandb:8080/ben/kaggle_space-titanic' target=\"_blank\">http://wandb:8080/ben/kaggle_space-titanic</a>"
      ],
      "text/plain": [
       "<IPython.core.display.HTML object>"
      ]
     },
     "metadata": {},
     "output_type": "display_data"
    },
    {
     "data": {
      "text/html": [
       " View run at <a href='http://wandb:8080/ben/kaggle_space-titanic/runs/27s6yebh' target=\"_blank\">http://wandb:8080/ben/kaggle_space-titanic/runs/27s6yebh</a>"
      ],
      "text/plain": [
       "<IPython.core.display.HTML object>"
      ]
     },
     "metadata": {},
     "output_type": "display_data"
    },
    {
     "name": "stdout",
     "output_type": "stream",
     "text": [
      "✅ Labels already normalized, no encoding needed\n"
     ]
    },
    {
     "name": "stderr",
     "output_type": "stream",
     "text": [
      "/opt/conda/lib/python3.11/site-packages/xgboost/training.py:183: UserWarning: [21:04:54] WARNING: /workspace/src/learner.cc:738: \n",
      "Parameters: { \"use_label_encoder\" } are not used.\n",
      "\n",
      "  bst.update(dtrain, iteration=i, fobj=obj)\n"
     ]
    },
    {
     "name": "stdout",
     "output_type": "stream",
     "text": [
      "✅ Finished training sklearn model\n",
      "🏃 View run v31_xgboost_{'n_estimators': 200, 'max_depth': 5, 'learning_rate': 0.1, 'subsample': 1.0, 'colsample_bytree': 0.8} at: http://mlflow:5000/#/experiments/2/runs/152291f438f346bda2a78b5e3fface99\n",
      "🧪 View experiment at: http://mlflow:5000/#/experiments/2\n"
     ]
    },
    {
     "data": {
      "text/html": [],
      "text/plain": [
       "<IPython.core.display.HTML object>"
      ]
     },
     "metadata": {},
     "output_type": "display_data"
    },
    {
     "data": {
      "text/html": [
       "<br>    <style><br>        .wandb-row {<br>            display: flex;<br>            flex-direction: row;<br>            flex-wrap: wrap;<br>            justify-content: flex-start;<br>            width: 100%;<br>        }<br>        .wandb-col {<br>            display: flex;<br>            flex-direction: column;<br>            flex-basis: 100%;<br>            flex: 1;<br>            padding: 10px;<br>        }<br>    </style><br><div class=\"wandb-row\"><div class=\"wandb-col\"><h3>Run history:</h3><br/><table class=\"wandb\"><tr><td>accuracy</td><td>▁</td></tr><tr><td>f1_macro</td><td>▁</td></tr><tr><td>f1_weighted</td><td>▁</td></tr><tr><td>precision_weighted</td><td>▁</td></tr><tr><td>recall_weighted</td><td>▁</td></tr><tr><td>roc_auc</td><td>▁</td></tr></table><br/></div><div class=\"wandb-col\"><h3>Run summary:</h3><br/><table class=\"wandb\"><tr><td>accuracy</td><td>0.79183</td></tr><tr><td>f1_macro</td><td>0.79183</td></tr><tr><td>f1_weighted</td><td>0.79184</td></tr><tr><td>precision_weighted</td><td>0.79188</td></tr><tr><td>recall_weighted</td><td>0.79183</td></tr><tr><td>roc_auc</td><td>0.79186</td></tr></table><br/></div></div>"
      ],
      "text/plain": [
       "<IPython.core.display.HTML object>"
      ]
     },
     "metadata": {},
     "output_type": "display_data"
    },
    {
     "data": {
      "text/html": [
       " View run <strong style=\"color:#cdcd00\">v31_xgboost_{'n_estimators': 200, 'max_depth': 5, 'learning_rate': 0.1, 'subsample': 1.0, 'colsample_bytree': 0.8}</strong> at: <a href='http://wandb:8080/ben/kaggle_space-titanic/runs/27s6yebh' target=\"_blank\">http://wandb:8080/ben/kaggle_space-titanic/runs/27s6yebh</a><br> View project at: <a href='http://wandb:8080/ben/kaggle_space-titanic' target=\"_blank\">http://wandb:8080/ben/kaggle_space-titanic</a><br>Synced 5 W&B file(s), 0 media file(s), 0 artifact file(s) and 0 other file(s)"
      ],
      "text/plain": [
       "<IPython.core.display.HTML object>"
      ]
     },
     "metadata": {},
     "output_type": "display_data"
    },
    {
     "data": {
      "text/html": [
       "Find logs at: <code>/home/jovyan/wandb/wandb/run-20250517_210454-27s6yebh/logs</code>"
      ],
      "text/plain": [
       "<IPython.core.display.HTML object>"
      ]
     },
     "metadata": {},
     "output_type": "display_data"
    },
    {
     "name": "stdout",
     "output_type": "stream",
     "text": [
      "Started MLflow run: efdcbe08e0e74795bedf91893c381c01\n"
     ]
    },
    {
     "data": {
      "text/html": [
       "Tracking run with wandb version 0.19.11"
      ],
      "text/plain": [
       "<IPython.core.display.HTML object>"
      ]
     },
     "metadata": {},
     "output_type": "display_data"
    },
    {
     "data": {
      "text/html": [
       "Run data is saved locally in <code>/home/jovyan/wandb/wandb/run-20250517_210455-m5ts0w4m</code>"
      ],
      "text/plain": [
       "<IPython.core.display.HTML object>"
      ]
     },
     "metadata": {},
     "output_type": "display_data"
    },
    {
     "data": {
      "text/html": [
       "Syncing run <strong><a href='http://wandb:8080/ben/kaggle_space-titanic/runs/m5ts0w4m' target=\"_blank\">v31_xgboost_{'n_estimators': 200, 'max_depth': 5, 'learning_rate': 0.1, 'subsample': 1.0, 'colsample_bytree': 1.0}</a></strong> to <a href='http://wandb:8080/ben/kaggle_space-titanic' target=\"_blank\">Weights & Biases</a> (<a href='https://wandb.me/developer-guide' target=\"_blank\">docs</a>)<br>"
      ],
      "text/plain": [
       "<IPython.core.display.HTML object>"
      ]
     },
     "metadata": {},
     "output_type": "display_data"
    },
    {
     "data": {
      "text/html": [
       " View project at <a href='http://wandb:8080/ben/kaggle_space-titanic' target=\"_blank\">http://wandb:8080/ben/kaggle_space-titanic</a>"
      ],
      "text/plain": [
       "<IPython.core.display.HTML object>"
      ]
     },
     "metadata": {},
     "output_type": "display_data"
    },
    {
     "data": {
      "text/html": [
       " View run at <a href='http://wandb:8080/ben/kaggle_space-titanic/runs/m5ts0w4m' target=\"_blank\">http://wandb:8080/ben/kaggle_space-titanic/runs/m5ts0w4m</a>"
      ],
      "text/plain": [
       "<IPython.core.display.HTML object>"
      ]
     },
     "metadata": {},
     "output_type": "display_data"
    },
    {
     "name": "stdout",
     "output_type": "stream",
     "text": [
      "✅ Labels already normalized, no encoding needed\n"
     ]
    },
    {
     "name": "stderr",
     "output_type": "stream",
     "text": [
      "/opt/conda/lib/python3.11/site-packages/xgboost/training.py:183: UserWarning: [21:04:56] WARNING: /workspace/src/learner.cc:738: \n",
      "Parameters: { \"use_label_encoder\" } are not used.\n",
      "\n",
      "  bst.update(dtrain, iteration=i, fobj=obj)\n"
     ]
    },
    {
     "name": "stdout",
     "output_type": "stream",
     "text": [
      "✅ Finished training sklearn model\n",
      "🏃 View run v31_xgboost_{'n_estimators': 200, 'max_depth': 5, 'learning_rate': 0.1, 'subsample': 1.0, 'colsample_bytree': 1.0} at: http://mlflow:5000/#/experiments/2/runs/efdcbe08e0e74795bedf91893c381c01\n",
      "🧪 View experiment at: http://mlflow:5000/#/experiments/2\n"
     ]
    },
    {
     "data": {
      "text/html": [],
      "text/plain": [
       "<IPython.core.display.HTML object>"
      ]
     },
     "metadata": {},
     "output_type": "display_data"
    },
    {
     "data": {
      "text/html": [
       "<br>    <style><br>        .wandb-row {<br>            display: flex;<br>            flex-direction: row;<br>            flex-wrap: wrap;<br>            justify-content: flex-start;<br>            width: 100%;<br>        }<br>        .wandb-col {<br>            display: flex;<br>            flex-direction: column;<br>            flex-basis: 100%;<br>            flex: 1;<br>            padding: 10px;<br>        }<br>    </style><br><div class=\"wandb-row\"><div class=\"wandb-col\"><h3>Run history:</h3><br/><table class=\"wandb\"><tr><td>accuracy</td><td>▁</td></tr><tr><td>f1_macro</td><td>▁</td></tr><tr><td>f1_weighted</td><td>▁</td></tr><tr><td>precision_weighted</td><td>▁</td></tr><tr><td>recall_weighted</td><td>▁</td></tr><tr><td>roc_auc</td><td>▁</td></tr></table><br/></div><div class=\"wandb-col\"><h3>Run summary:</h3><br/><table class=\"wandb\"><tr><td>accuracy</td><td>0.78838</td></tr><tr><td>f1_macro</td><td>0.78837</td></tr><tr><td>f1_weighted</td><td>0.78839</td></tr><tr><td>precision_weighted</td><td>0.7884</td></tr><tr><td>recall_weighted</td><td>0.78838</td></tr><tr><td>roc_auc</td><td>0.78839</td></tr></table><br/></div></div>"
      ],
      "text/plain": [
       "<IPython.core.display.HTML object>"
      ]
     },
     "metadata": {},
     "output_type": "display_data"
    },
    {
     "data": {
      "text/html": [
       " View run <strong style=\"color:#cdcd00\">v31_xgboost_{'n_estimators': 200, 'max_depth': 5, 'learning_rate': 0.1, 'subsample': 1.0, 'colsample_bytree': 1.0}</strong> at: <a href='http://wandb:8080/ben/kaggle_space-titanic/runs/m5ts0w4m' target=\"_blank\">http://wandb:8080/ben/kaggle_space-titanic/runs/m5ts0w4m</a><br> View project at: <a href='http://wandb:8080/ben/kaggle_space-titanic' target=\"_blank\">http://wandb:8080/ben/kaggle_space-titanic</a><br>Synced 5 W&B file(s), 0 media file(s), 0 artifact file(s) and 0 other file(s)"
      ],
      "text/plain": [
       "<IPython.core.display.HTML object>"
      ]
     },
     "metadata": {},
     "output_type": "display_data"
    },
    {
     "data": {
      "text/html": [
       "Find logs at: <code>/home/jovyan/wandb/wandb/run-20250517_210455-m5ts0w4m/logs</code>"
      ],
      "text/plain": [
       "<IPython.core.display.HTML object>"
      ]
     },
     "metadata": {},
     "output_type": "display_data"
    },
    {
     "name": "stdout",
     "output_type": "stream",
     "text": [
      "Started MLflow run: 5e3eea6c9f7e47d0b6d009e26021ed67\n"
     ]
    },
    {
     "data": {
      "text/html": [
       "Tracking run with wandb version 0.19.11"
      ],
      "text/plain": [
       "<IPython.core.display.HTML object>"
      ]
     },
     "metadata": {},
     "output_type": "display_data"
    },
    {
     "data": {
      "text/html": [
       "Run data is saved locally in <code>/home/jovyan/wandb/wandb/run-20250517_210459-k818bvnv</code>"
      ],
      "text/plain": [
       "<IPython.core.display.HTML object>"
      ]
     },
     "metadata": {},
     "output_type": "display_data"
    },
    {
     "data": {
      "text/html": [
       "Syncing run <strong><a href='http://wandb:8080/ben/kaggle_space-titanic/runs/k818bvnv' target=\"_blank\">v31_xgboost_{'n_estimators': 200, 'max_depth': 7, 'learning_rate': 0.005, 'subsample': 0.8, 'colsample_bytree': 0.8}</a></strong> to <a href='http://wandb:8080/ben/kaggle_space-titanic' target=\"_blank\">Weights & Biases</a> (<a href='https://wandb.me/developer-guide' target=\"_blank\">docs</a>)<br>"
      ],
      "text/plain": [
       "<IPython.core.display.HTML object>"
      ]
     },
     "metadata": {},
     "output_type": "display_data"
    },
    {
     "data": {
      "text/html": [
       " View project at <a href='http://wandb:8080/ben/kaggle_space-titanic' target=\"_blank\">http://wandb:8080/ben/kaggle_space-titanic</a>"
      ],
      "text/plain": [
       "<IPython.core.display.HTML object>"
      ]
     },
     "metadata": {},
     "output_type": "display_data"
    },
    {
     "data": {
      "text/html": [
       " View run at <a href='http://wandb:8080/ben/kaggle_space-titanic/runs/k818bvnv' target=\"_blank\">http://wandb:8080/ben/kaggle_space-titanic/runs/k818bvnv</a>"
      ],
      "text/plain": [
       "<IPython.core.display.HTML object>"
      ]
     },
     "metadata": {},
     "output_type": "display_data"
    },
    {
     "name": "stdout",
     "output_type": "stream",
     "text": [
      "✅ Labels already normalized, no encoding needed\n"
     ]
    },
    {
     "name": "stderr",
     "output_type": "stream",
     "text": [
      "/opt/conda/lib/python3.11/site-packages/xgboost/training.py:183: UserWarning: [21:05:01] WARNING: /workspace/src/learner.cc:738: \n",
      "Parameters: { \"use_label_encoder\" } are not used.\n",
      "\n",
      "  bst.update(dtrain, iteration=i, fobj=obj)\n"
     ]
    },
    {
     "name": "stdout",
     "output_type": "stream",
     "text": [
      "✅ Finished training sklearn model\n",
      "🏃 View run v31_xgboost_{'n_estimators': 200, 'max_depth': 7, 'learning_rate': 0.005, 'subsample': 0.8, 'colsample_bytree': 0.8} at: http://mlflow:5000/#/experiments/2/runs/5e3eea6c9f7e47d0b6d009e26021ed67\n",
      "🧪 View experiment at: http://mlflow:5000/#/experiments/2\n"
     ]
    },
    {
     "data": {
      "text/html": [],
      "text/plain": [
       "<IPython.core.display.HTML object>"
      ]
     },
     "metadata": {},
     "output_type": "display_data"
    },
    {
     "data": {
      "text/html": [
       "<br>    <style><br>        .wandb-row {<br>            display: flex;<br>            flex-direction: row;<br>            flex-wrap: wrap;<br>            justify-content: flex-start;<br>            width: 100%;<br>        }<br>        .wandb-col {<br>            display: flex;<br>            flex-direction: column;<br>            flex-basis: 100%;<br>            flex: 1;<br>            padding: 10px;<br>        }<br>    </style><br><div class=\"wandb-row\"><div class=\"wandb-col\"><h3>Run history:</h3><br/><table class=\"wandb\"><tr><td>accuracy</td><td>▁</td></tr><tr><td>f1_macro</td><td>▁</td></tr><tr><td>f1_weighted</td><td>▁</td></tr><tr><td>precision_weighted</td><td>▁</td></tr><tr><td>recall_weighted</td><td>▁</td></tr><tr><td>roc_auc</td><td>▁</td></tr></table><br/></div><div class=\"wandb-col\"><h3>Run summary:</h3><br/><table class=\"wandb\"><tr><td>accuracy</td><td>0.78206</td></tr><tr><td>f1_macro</td><td>0.78172</td></tr><tr><td>f1_weighted</td><td>0.78181</td></tr><tr><td>precision_weighted</td><td>0.78291</td></tr><tr><td>recall_weighted</td><td>0.78206</td></tr><tr><td>roc_auc</td><td>0.78175</td></tr></table><br/></div></div>"
      ],
      "text/plain": [
       "<IPython.core.display.HTML object>"
      ]
     },
     "metadata": {},
     "output_type": "display_data"
    },
    {
     "data": {
      "text/html": [
       " View run <strong style=\"color:#cdcd00\">v31_xgboost_{'n_estimators': 200, 'max_depth': 7, 'learning_rate': 0.005, 'subsample': 0.8, 'colsample_bytree': 0.8}</strong> at: <a href='http://wandb:8080/ben/kaggle_space-titanic/runs/k818bvnv' target=\"_blank\">http://wandb:8080/ben/kaggle_space-titanic/runs/k818bvnv</a><br> View project at: <a href='http://wandb:8080/ben/kaggle_space-titanic' target=\"_blank\">http://wandb:8080/ben/kaggle_space-titanic</a><br>Synced 5 W&B file(s), 0 media file(s), 0 artifact file(s) and 0 other file(s)"
      ],
      "text/plain": [
       "<IPython.core.display.HTML object>"
      ]
     },
     "metadata": {},
     "output_type": "display_data"
    },
    {
     "data": {
      "text/html": [
       "Find logs at: <code>/home/jovyan/wandb/wandb/run-20250517_210459-k818bvnv/logs</code>"
      ],
      "text/plain": [
       "<IPython.core.display.HTML object>"
      ]
     },
     "metadata": {},
     "output_type": "display_data"
    },
    {
     "name": "stdout",
     "output_type": "stream",
     "text": [
      "Started MLflow run: 36a1ad355aa8499891e199fbb8ae278d\n"
     ]
    },
    {
     "data": {
      "text/html": [
       "Tracking run with wandb version 0.19.11"
      ],
      "text/plain": [
       "<IPython.core.display.HTML object>"
      ]
     },
     "metadata": {},
     "output_type": "display_data"
    },
    {
     "data": {
      "text/html": [
       "Run data is saved locally in <code>/home/jovyan/wandb/wandb/run-20250517_210503-uu2e18zp</code>"
      ],
      "text/plain": [
       "<IPython.core.display.HTML object>"
      ]
     },
     "metadata": {},
     "output_type": "display_data"
    },
    {
     "data": {
      "text/html": [
       "Syncing run <strong><a href='http://wandb:8080/ben/kaggle_space-titanic/runs/uu2e18zp' target=\"_blank\">v31_xgboost_{'n_estimators': 200, 'max_depth': 7, 'learning_rate': 0.005, 'subsample': 0.8, 'colsample_bytree': 1.0}</a></strong> to <a href='http://wandb:8080/ben/kaggle_space-titanic' target=\"_blank\">Weights & Biases</a> (<a href='https://wandb.me/developer-guide' target=\"_blank\">docs</a>)<br>"
      ],
      "text/plain": [
       "<IPython.core.display.HTML object>"
      ]
     },
     "metadata": {},
     "output_type": "display_data"
    },
    {
     "data": {
      "text/html": [
       " View project at <a href='http://wandb:8080/ben/kaggle_space-titanic' target=\"_blank\">http://wandb:8080/ben/kaggle_space-titanic</a>"
      ],
      "text/plain": [
       "<IPython.core.display.HTML object>"
      ]
     },
     "metadata": {},
     "output_type": "display_data"
    },
    {
     "data": {
      "text/html": [
       " View run at <a href='http://wandb:8080/ben/kaggle_space-titanic/runs/uu2e18zp' target=\"_blank\">http://wandb:8080/ben/kaggle_space-titanic/runs/uu2e18zp</a>"
      ],
      "text/plain": [
       "<IPython.core.display.HTML object>"
      ]
     },
     "metadata": {},
     "output_type": "display_data"
    },
    {
     "name": "stdout",
     "output_type": "stream",
     "text": [
      "✅ Labels already normalized, no encoding needed\n"
     ]
    },
    {
     "name": "stderr",
     "output_type": "stream",
     "text": [
      "/opt/conda/lib/python3.11/site-packages/xgboost/training.py:183: UserWarning: [21:05:04] WARNING: /workspace/src/learner.cc:738: \n",
      "Parameters: { \"use_label_encoder\" } are not used.\n",
      "\n",
      "  bst.update(dtrain, iteration=i, fobj=obj)\n"
     ]
    },
    {
     "name": "stdout",
     "output_type": "stream",
     "text": [
      "✅ Finished training sklearn model\n",
      "🏃 View run v31_xgboost_{'n_estimators': 200, 'max_depth': 7, 'learning_rate': 0.005, 'subsample': 0.8, 'colsample_bytree': 1.0} at: http://mlflow:5000/#/experiments/2/runs/36a1ad355aa8499891e199fbb8ae278d\n",
      "🧪 View experiment at: http://mlflow:5000/#/experiments/2\n"
     ]
    },
    {
     "data": {
      "text/html": [],
      "text/plain": [
       "<IPython.core.display.HTML object>"
      ]
     },
     "metadata": {},
     "output_type": "display_data"
    },
    {
     "data": {
      "text/html": [
       "<br>    <style><br>        .wandb-row {<br>            display: flex;<br>            flex-direction: row;<br>            flex-wrap: wrap;<br>            justify-content: flex-start;<br>            width: 100%;<br>        }<br>        .wandb-col {<br>            display: flex;<br>            flex-direction: column;<br>            flex-basis: 100%;<br>            flex: 1;<br>            padding: 10px;<br>        }<br>    </style><br><div class=\"wandb-row\"><div class=\"wandb-col\"><h3>Run history:</h3><br/><table class=\"wandb\"><tr><td>accuracy</td><td>▁</td></tr><tr><td>f1_macro</td><td>▁</td></tr><tr><td>f1_weighted</td><td>▁</td></tr><tr><td>precision_weighted</td><td>▁</td></tr><tr><td>recall_weighted</td><td>▁</td></tr><tr><td>roc_auc</td><td>▁</td></tr></table><br/></div><div class=\"wandb-col\"><h3>Run summary:</h3><br/><table class=\"wandb\"><tr><td>accuracy</td><td>0.78321</td></tr><tr><td>f1_macro</td><td>0.78298</td></tr><tr><td>f1_weighted</td><td>0.78305</td></tr><tr><td>precision_weighted</td><td>0.78368</td></tr><tr><td>recall_weighted</td><td>0.78321</td></tr><tr><td>roc_auc</td><td>0.78297</td></tr></table><br/></div></div>"
      ],
      "text/plain": [
       "<IPython.core.display.HTML object>"
      ]
     },
     "metadata": {},
     "output_type": "display_data"
    },
    {
     "data": {
      "text/html": [
       " View run <strong style=\"color:#cdcd00\">v31_xgboost_{'n_estimators': 200, 'max_depth': 7, 'learning_rate': 0.005, 'subsample': 0.8, 'colsample_bytree': 1.0}</strong> at: <a href='http://wandb:8080/ben/kaggle_space-titanic/runs/uu2e18zp' target=\"_blank\">http://wandb:8080/ben/kaggle_space-titanic/runs/uu2e18zp</a><br> View project at: <a href='http://wandb:8080/ben/kaggle_space-titanic' target=\"_blank\">http://wandb:8080/ben/kaggle_space-titanic</a><br>Synced 5 W&B file(s), 0 media file(s), 0 artifact file(s) and 0 other file(s)"
      ],
      "text/plain": [
       "<IPython.core.display.HTML object>"
      ]
     },
     "metadata": {},
     "output_type": "display_data"
    },
    {
     "data": {
      "text/html": [
       "Find logs at: <code>/home/jovyan/wandb/wandb/run-20250517_210503-uu2e18zp/logs</code>"
      ],
      "text/plain": [
       "<IPython.core.display.HTML object>"
      ]
     },
     "metadata": {},
     "output_type": "display_data"
    },
    {
     "name": "stdout",
     "output_type": "stream",
     "text": [
      "Started MLflow run: 1147c6a2c5584ea4aae7485b2aed906e\n"
     ]
    },
    {
     "data": {
      "text/html": [
       "Tracking run with wandb version 0.19.11"
      ],
      "text/plain": [
       "<IPython.core.display.HTML object>"
      ]
     },
     "metadata": {},
     "output_type": "display_data"
    },
    {
     "data": {
      "text/html": [
       "Run data is saved locally in <code>/home/jovyan/wandb/wandb/run-20250517_210506-hvnrcdsa</code>"
      ],
      "text/plain": [
       "<IPython.core.display.HTML object>"
      ]
     },
     "metadata": {},
     "output_type": "display_data"
    },
    {
     "data": {
      "text/html": [
       "Syncing run <strong><a href='http://wandb:8080/ben/kaggle_space-titanic/runs/hvnrcdsa' target=\"_blank\">v31_xgboost_{'n_estimators': 200, 'max_depth': 7, 'learning_rate': 0.005, 'subsample': 1.0, 'colsample_bytree': 0.8}</a></strong> to <a href='http://wandb:8080/ben/kaggle_space-titanic' target=\"_blank\">Weights & Biases</a> (<a href='https://wandb.me/developer-guide' target=\"_blank\">docs</a>)<br>"
      ],
      "text/plain": [
       "<IPython.core.display.HTML object>"
      ]
     },
     "metadata": {},
     "output_type": "display_data"
    },
    {
     "data": {
      "text/html": [
       " View project at <a href='http://wandb:8080/ben/kaggle_space-titanic' target=\"_blank\">http://wandb:8080/ben/kaggle_space-titanic</a>"
      ],
      "text/plain": [
       "<IPython.core.display.HTML object>"
      ]
     },
     "metadata": {},
     "output_type": "display_data"
    },
    {
     "data": {
      "text/html": [
       " View run at <a href='http://wandb:8080/ben/kaggle_space-titanic/runs/hvnrcdsa' target=\"_blank\">http://wandb:8080/ben/kaggle_space-titanic/runs/hvnrcdsa</a>"
      ],
      "text/plain": [
       "<IPython.core.display.HTML object>"
      ]
     },
     "metadata": {},
     "output_type": "display_data"
    },
    {
     "name": "stdout",
     "output_type": "stream",
     "text": [
      "✅ Labels already normalized, no encoding needed\n"
     ]
    },
    {
     "name": "stderr",
     "output_type": "stream",
     "text": [
      "/opt/conda/lib/python3.11/site-packages/xgboost/training.py:183: UserWarning: [21:05:07] WARNING: /workspace/src/learner.cc:738: \n",
      "Parameters: { \"use_label_encoder\" } are not used.\n",
      "\n",
      "  bst.update(dtrain, iteration=i, fobj=obj)\n"
     ]
    },
    {
     "name": "stdout",
     "output_type": "stream",
     "text": [
      "✅ Finished training sklearn model\n",
      "🏃 View run v31_xgboost_{'n_estimators': 200, 'max_depth': 7, 'learning_rate': 0.005, 'subsample': 1.0, 'colsample_bytree': 0.8} at: http://mlflow:5000/#/experiments/2/runs/1147c6a2c5584ea4aae7485b2aed906e\n",
      "🧪 View experiment at: http://mlflow:5000/#/experiments/2\n"
     ]
    },
    {
     "data": {
      "text/html": [],
      "text/plain": [
       "<IPython.core.display.HTML object>"
      ]
     },
     "metadata": {},
     "output_type": "display_data"
    },
    {
     "data": {
      "text/html": [
       "<br>    <style><br>        .wandb-row {<br>            display: flex;<br>            flex-direction: row;<br>            flex-wrap: wrap;<br>            justify-content: flex-start;<br>            width: 100%;<br>        }<br>        .wandb-col {<br>            display: flex;<br>            flex-direction: column;<br>            flex-basis: 100%;<br>            flex: 1;<br>            padding: 10px;<br>        }<br>    </style><br><div class=\"wandb-row\"><div class=\"wandb-col\"><h3>Run history:</h3><br/><table class=\"wandb\"><tr><td>accuracy</td><td>▁</td></tr><tr><td>f1_macro</td><td>▁</td></tr><tr><td>f1_weighted</td><td>▁</td></tr><tr><td>precision_weighted</td><td>▁</td></tr><tr><td>recall_weighted</td><td>▁</td></tr><tr><td>roc_auc</td><td>▁</td></tr></table><br/></div><div class=\"wandb-col\"><h3>Run summary:</h3><br/><table class=\"wandb\"><tr><td>accuracy</td><td>0.77803</td></tr><tr><td>f1_macro</td><td>0.77784</td></tr><tr><td>f1_weighted</td><td>0.77791</td></tr><tr><td>precision_weighted</td><td>0.77837</td></tr><tr><td>recall_weighted</td><td>0.77803</td></tr><tr><td>roc_auc</td><td>0.77782</td></tr></table><br/></div></div>"
      ],
      "text/plain": [
       "<IPython.core.display.HTML object>"
      ]
     },
     "metadata": {},
     "output_type": "display_data"
    },
    {
     "data": {
      "text/html": [
       " View run <strong style=\"color:#cdcd00\">v31_xgboost_{'n_estimators': 200, 'max_depth': 7, 'learning_rate': 0.005, 'subsample': 1.0, 'colsample_bytree': 0.8}</strong> at: <a href='http://wandb:8080/ben/kaggle_space-titanic/runs/hvnrcdsa' target=\"_blank\">http://wandb:8080/ben/kaggle_space-titanic/runs/hvnrcdsa</a><br> View project at: <a href='http://wandb:8080/ben/kaggle_space-titanic' target=\"_blank\">http://wandb:8080/ben/kaggle_space-titanic</a><br>Synced 5 W&B file(s), 0 media file(s), 0 artifact file(s) and 0 other file(s)"
      ],
      "text/plain": [
       "<IPython.core.display.HTML object>"
      ]
     },
     "metadata": {},
     "output_type": "display_data"
    },
    {
     "data": {
      "text/html": [
       "Find logs at: <code>/home/jovyan/wandb/wandb/run-20250517_210506-hvnrcdsa/logs</code>"
      ],
      "text/plain": [
       "<IPython.core.display.HTML object>"
      ]
     },
     "metadata": {},
     "output_type": "display_data"
    },
    {
     "name": "stdout",
     "output_type": "stream",
     "text": [
      "Started MLflow run: 63af02ec4de74eb3952d9e51c867a771\n"
     ]
    },
    {
     "data": {
      "text/html": [
       "Tracking run with wandb version 0.19.11"
      ],
      "text/plain": [
       "<IPython.core.display.HTML object>"
      ]
     },
     "metadata": {},
     "output_type": "display_data"
    },
    {
     "data": {
      "text/html": [
       "Run data is saved locally in <code>/home/jovyan/wandb/wandb/run-20250517_210509-17533fcy</code>"
      ],
      "text/plain": [
       "<IPython.core.display.HTML object>"
      ]
     },
     "metadata": {},
     "output_type": "display_data"
    },
    {
     "data": {
      "text/html": [
       "Syncing run <strong><a href='http://wandb:8080/ben/kaggle_space-titanic/runs/17533fcy' target=\"_blank\">v31_xgboost_{'n_estimators': 200, 'max_depth': 7, 'learning_rate': 0.005, 'subsample': 1.0, 'colsample_bytree': 1.0}</a></strong> to <a href='http://wandb:8080/ben/kaggle_space-titanic' target=\"_blank\">Weights & Biases</a> (<a href='https://wandb.me/developer-guide' target=\"_blank\">docs</a>)<br>"
      ],
      "text/plain": [
       "<IPython.core.display.HTML object>"
      ]
     },
     "metadata": {},
     "output_type": "display_data"
    },
    {
     "data": {
      "text/html": [
       " View project at <a href='http://wandb:8080/ben/kaggle_space-titanic' target=\"_blank\">http://wandb:8080/ben/kaggle_space-titanic</a>"
      ],
      "text/plain": [
       "<IPython.core.display.HTML object>"
      ]
     },
     "metadata": {},
     "output_type": "display_data"
    },
    {
     "data": {
      "text/html": [
       " View run at <a href='http://wandb:8080/ben/kaggle_space-titanic/runs/17533fcy' target=\"_blank\">http://wandb:8080/ben/kaggle_space-titanic/runs/17533fcy</a>"
      ],
      "text/plain": [
       "<IPython.core.display.HTML object>"
      ]
     },
     "metadata": {},
     "output_type": "display_data"
    },
    {
     "name": "stdout",
     "output_type": "stream",
     "text": [
      "✅ Labels already normalized, no encoding needed\n"
     ]
    },
    {
     "name": "stderr",
     "output_type": "stream",
     "text": [
      "/opt/conda/lib/python3.11/site-packages/xgboost/training.py:183: UserWarning: [21:05:10] WARNING: /workspace/src/learner.cc:738: \n",
      "Parameters: { \"use_label_encoder\" } are not used.\n",
      "\n",
      "  bst.update(dtrain, iteration=i, fobj=obj)\n"
     ]
    },
    {
     "name": "stdout",
     "output_type": "stream",
     "text": [
      "✅ Finished training sklearn model\n",
      "🏃 View run v31_xgboost_{'n_estimators': 200, 'max_depth': 7, 'learning_rate': 0.005, 'subsample': 1.0, 'colsample_bytree': 1.0} at: http://mlflow:5000/#/experiments/2/runs/63af02ec4de74eb3952d9e51c867a771\n",
      "🧪 View experiment at: http://mlflow:5000/#/experiments/2\n"
     ]
    },
    {
     "data": {
      "text/html": [],
      "text/plain": [
       "<IPython.core.display.HTML object>"
      ]
     },
     "metadata": {},
     "output_type": "display_data"
    },
    {
     "data": {
      "text/html": [
       "<br>    <style><br>        .wandb-row {<br>            display: flex;<br>            flex-direction: row;<br>            flex-wrap: wrap;<br>            justify-content: flex-start;<br>            width: 100%;<br>        }<br>        .wandb-col {<br>            display: flex;<br>            flex-direction: column;<br>            flex-basis: 100%;<br>            flex: 1;<br>            padding: 10px;<br>        }<br>    </style><br><div class=\"wandb-row\"><div class=\"wandb-col\"><h3>Run history:</h3><br/><table class=\"wandb\"><tr><td>accuracy</td><td>▁</td></tr><tr><td>f1_macro</td><td>▁</td></tr><tr><td>f1_weighted</td><td>▁</td></tr><tr><td>precision_weighted</td><td>▁</td></tr><tr><td>recall_weighted</td><td>▁</td></tr><tr><td>roc_auc</td><td>▁</td></tr></table><br/></div><div class=\"wandb-col\"><h3>Run summary:</h3><br/><table class=\"wandb\"><tr><td>accuracy</td><td>0.77631</td></tr><tr><td>f1_macro</td><td>0.77621</td></tr><tr><td>f1_weighted</td><td>0.77626</td></tr><tr><td>precision_weighted</td><td>0.77639</td></tr><tr><td>recall_weighted</td><td>0.77631</td></tr><tr><td>roc_auc</td><td>0.77618</td></tr></table><br/></div></div>"
      ],
      "text/plain": [
       "<IPython.core.display.HTML object>"
      ]
     },
     "metadata": {},
     "output_type": "display_data"
    },
    {
     "data": {
      "text/html": [
       " View run <strong style=\"color:#cdcd00\">v31_xgboost_{'n_estimators': 200, 'max_depth': 7, 'learning_rate': 0.005, 'subsample': 1.0, 'colsample_bytree': 1.0}</strong> at: <a href='http://wandb:8080/ben/kaggle_space-titanic/runs/17533fcy' target=\"_blank\">http://wandb:8080/ben/kaggle_space-titanic/runs/17533fcy</a><br> View project at: <a href='http://wandb:8080/ben/kaggle_space-titanic' target=\"_blank\">http://wandb:8080/ben/kaggle_space-titanic</a><br>Synced 5 W&B file(s), 0 media file(s), 0 artifact file(s) and 0 other file(s)"
      ],
      "text/plain": [
       "<IPython.core.display.HTML object>"
      ]
     },
     "metadata": {},
     "output_type": "display_data"
    },
    {
     "data": {
      "text/html": [
       "Find logs at: <code>/home/jovyan/wandb/wandb/run-20250517_210509-17533fcy/logs</code>"
      ],
      "text/plain": [
       "<IPython.core.display.HTML object>"
      ]
     },
     "metadata": {},
     "output_type": "display_data"
    },
    {
     "name": "stdout",
     "output_type": "stream",
     "text": [
      "Started MLflow run: c370a3ce039649c9a7d57b329dea883f\n"
     ]
    },
    {
     "data": {
      "text/html": [
       "Tracking run with wandb version 0.19.11"
      ],
      "text/plain": [
       "<IPython.core.display.HTML object>"
      ]
     },
     "metadata": {},
     "output_type": "display_data"
    },
    {
     "data": {
      "text/html": [
       "Run data is saved locally in <code>/home/jovyan/wandb/wandb/run-20250517_210512-1uskf8uh</code>"
      ],
      "text/plain": [
       "<IPython.core.display.HTML object>"
      ]
     },
     "metadata": {},
     "output_type": "display_data"
    },
    {
     "data": {
      "text/html": [
       "Syncing run <strong><a href='http://wandb:8080/ben/kaggle_space-titanic/runs/1uskf8uh' target=\"_blank\">v31_xgboost_{'n_estimators': 200, 'max_depth': 7, 'learning_rate': 0.1, 'subsample': 0.8, 'colsample_bytree': 0.8}</a></strong> to <a href='http://wandb:8080/ben/kaggle_space-titanic' target=\"_blank\">Weights & Biases</a> (<a href='https://wandb.me/developer-guide' target=\"_blank\">docs</a>)<br>"
      ],
      "text/plain": [
       "<IPython.core.display.HTML object>"
      ]
     },
     "metadata": {},
     "output_type": "display_data"
    },
    {
     "data": {
      "text/html": [
       " View project at <a href='http://wandb:8080/ben/kaggle_space-titanic' target=\"_blank\">http://wandb:8080/ben/kaggle_space-titanic</a>"
      ],
      "text/plain": [
       "<IPython.core.display.HTML object>"
      ]
     },
     "metadata": {},
     "output_type": "display_data"
    },
    {
     "data": {
      "text/html": [
       " View run at <a href='http://wandb:8080/ben/kaggle_space-titanic/runs/1uskf8uh' target=\"_blank\">http://wandb:8080/ben/kaggle_space-titanic/runs/1uskf8uh</a>"
      ],
      "text/plain": [
       "<IPython.core.display.HTML object>"
      ]
     },
     "metadata": {},
     "output_type": "display_data"
    },
    {
     "name": "stdout",
     "output_type": "stream",
     "text": [
      "✅ Labels already normalized, no encoding needed\n"
     ]
    },
    {
     "name": "stderr",
     "output_type": "stream",
     "text": [
      "/opt/conda/lib/python3.11/site-packages/xgboost/training.py:183: UserWarning: [21:05:12] WARNING: /workspace/src/learner.cc:738: \n",
      "Parameters: { \"use_label_encoder\" } are not used.\n",
      "\n",
      "  bst.update(dtrain, iteration=i, fobj=obj)\n"
     ]
    },
    {
     "name": "stdout",
     "output_type": "stream",
     "text": [
      "✅ Finished training sklearn model\n",
      "🏃 View run v31_xgboost_{'n_estimators': 200, 'max_depth': 7, 'learning_rate': 0.1, 'subsample': 0.8, 'colsample_bytree': 0.8} at: http://mlflow:5000/#/experiments/2/runs/c370a3ce039649c9a7d57b329dea883f\n",
      "🧪 View experiment at: http://mlflow:5000/#/experiments/2\n"
     ]
    },
    {
     "data": {
      "text/html": [],
      "text/plain": [
       "<IPython.core.display.HTML object>"
      ]
     },
     "metadata": {},
     "output_type": "display_data"
    },
    {
     "data": {
      "text/html": [
       "<br>    <style><br>        .wandb-row {<br>            display: flex;<br>            flex-direction: row;<br>            flex-wrap: wrap;<br>            justify-content: flex-start;<br>            width: 100%;<br>        }<br>        .wandb-col {<br>            display: flex;<br>            flex-direction: column;<br>            flex-basis: 100%;<br>            flex: 1;<br>            padding: 10px;<br>        }<br>    </style><br><div class=\"wandb-row\"><div class=\"wandb-col\"><h3>Run history:</h3><br/><table class=\"wandb\"><tr><td>accuracy</td><td>▁</td></tr><tr><td>f1_macro</td><td>▁</td></tr><tr><td>f1_weighted</td><td>▁</td></tr><tr><td>precision_weighted</td><td>▁</td></tr><tr><td>recall_weighted</td><td>▁</td></tr><tr><td>roc_auc</td><td>▁</td></tr></table><br/></div><div class=\"wandb-col\"><h3>Run summary:</h3><br/><table class=\"wandb\"><tr><td>accuracy</td><td>0.78666</td></tr><tr><td>f1_macro</td><td>0.78666</td></tr><tr><td>f1_weighted</td><td>0.78665</td></tr><tr><td>precision_weighted</td><td>0.78688</td></tr><tr><td>recall_weighted</td><td>0.78666</td></tr><tr><td>roc_auc</td><td>0.78676</td></tr></table><br/></div></div>"
      ],
      "text/plain": [
       "<IPython.core.display.HTML object>"
      ]
     },
     "metadata": {},
     "output_type": "display_data"
    },
    {
     "data": {
      "text/html": [
       " View run <strong style=\"color:#cdcd00\">v31_xgboost_{'n_estimators': 200, 'max_depth': 7, 'learning_rate': 0.1, 'subsample': 0.8, 'colsample_bytree': 0.8}</strong> at: <a href='http://wandb:8080/ben/kaggle_space-titanic/runs/1uskf8uh' target=\"_blank\">http://wandb:8080/ben/kaggle_space-titanic/runs/1uskf8uh</a><br> View project at: <a href='http://wandb:8080/ben/kaggle_space-titanic' target=\"_blank\">http://wandb:8080/ben/kaggle_space-titanic</a><br>Synced 5 W&B file(s), 0 media file(s), 0 artifact file(s) and 0 other file(s)"
      ],
      "text/plain": [
       "<IPython.core.display.HTML object>"
      ]
     },
     "metadata": {},
     "output_type": "display_data"
    },
    {
     "data": {
      "text/html": [
       "Find logs at: <code>/home/jovyan/wandb/wandb/run-20250517_210512-1uskf8uh/logs</code>"
      ],
      "text/plain": [
       "<IPython.core.display.HTML object>"
      ]
     },
     "metadata": {},
     "output_type": "display_data"
    },
    {
     "name": "stdout",
     "output_type": "stream",
     "text": [
      "Started MLflow run: 3658f1d5b0c141e7a90e02c93810d563\n"
     ]
    },
    {
     "data": {
      "text/html": [
       "Tracking run with wandb version 0.19.11"
      ],
      "text/plain": [
       "<IPython.core.display.HTML object>"
      ]
     },
     "metadata": {},
     "output_type": "display_data"
    },
    {
     "data": {
      "text/html": [
       "Run data is saved locally in <code>/home/jovyan/wandb/wandb/run-20250517_210514-nntups66</code>"
      ],
      "text/plain": [
       "<IPython.core.display.HTML object>"
      ]
     },
     "metadata": {},
     "output_type": "display_data"
    },
    {
     "data": {
      "text/html": [
       "Syncing run <strong><a href='http://wandb:8080/ben/kaggle_space-titanic/runs/nntups66' target=\"_blank\">v31_xgboost_{'n_estimators': 200, 'max_depth': 7, 'learning_rate': 0.1, 'subsample': 0.8, 'colsample_bytree': 1.0}</a></strong> to <a href='http://wandb:8080/ben/kaggle_space-titanic' target=\"_blank\">Weights & Biases</a> (<a href='https://wandb.me/developer-guide' target=\"_blank\">docs</a>)<br>"
      ],
      "text/plain": [
       "<IPython.core.display.HTML object>"
      ]
     },
     "metadata": {},
     "output_type": "display_data"
    },
    {
     "data": {
      "text/html": [
       " View project at <a href='http://wandb:8080/ben/kaggle_space-titanic' target=\"_blank\">http://wandb:8080/ben/kaggle_space-titanic</a>"
      ],
      "text/plain": [
       "<IPython.core.display.HTML object>"
      ]
     },
     "metadata": {},
     "output_type": "display_data"
    },
    {
     "data": {
      "text/html": [
       " View run at <a href='http://wandb:8080/ben/kaggle_space-titanic/runs/nntups66' target=\"_blank\">http://wandb:8080/ben/kaggle_space-titanic/runs/nntups66</a>"
      ],
      "text/plain": [
       "<IPython.core.display.HTML object>"
      ]
     },
     "metadata": {},
     "output_type": "display_data"
    },
    {
     "name": "stdout",
     "output_type": "stream",
     "text": [
      "✅ Labels already normalized, no encoding needed\n"
     ]
    },
    {
     "name": "stderr",
     "output_type": "stream",
     "text": [
      "/opt/conda/lib/python3.11/site-packages/xgboost/training.py:183: UserWarning: [21:05:15] WARNING: /workspace/src/learner.cc:738: \n",
      "Parameters: { \"use_label_encoder\" } are not used.\n",
      "\n",
      "  bst.update(dtrain, iteration=i, fobj=obj)\n"
     ]
    },
    {
     "name": "stdout",
     "output_type": "stream",
     "text": [
      "✅ Finished training sklearn model\n",
      "🏃 View run v31_xgboost_{'n_estimators': 200, 'max_depth': 7, 'learning_rate': 0.1, 'subsample': 0.8, 'colsample_bytree': 1.0} at: http://mlflow:5000/#/experiments/2/runs/3658f1d5b0c141e7a90e02c93810d563\n",
      "🧪 View experiment at: http://mlflow:5000/#/experiments/2\n"
     ]
    },
    {
     "data": {
      "text/html": [],
      "text/plain": [
       "<IPython.core.display.HTML object>"
      ]
     },
     "metadata": {},
     "output_type": "display_data"
    },
    {
     "data": {
      "text/html": [
       "<br>    <style><br>        .wandb-row {<br>            display: flex;<br>            flex-direction: row;<br>            flex-wrap: wrap;<br>            justify-content: flex-start;<br>            width: 100%;<br>        }<br>        .wandb-col {<br>            display: flex;<br>            flex-direction: column;<br>            flex-basis: 100%;<br>            flex: 1;<br>            padding: 10px;<br>        }<br>    </style><br><div class=\"wandb-row\"><div class=\"wandb-col\"><h3>Run history:</h3><br/><table class=\"wandb\"><tr><td>accuracy</td><td>▁</td></tr><tr><td>f1_macro</td><td>▁</td></tr><tr><td>f1_weighted</td><td>▁</td></tr><tr><td>precision_weighted</td><td>▁</td></tr><tr><td>recall_weighted</td><td>▁</td></tr><tr><td>roc_auc</td><td>▁</td></tr></table><br/></div><div class=\"wandb-col\"><h3>Run summary:</h3><br/><table class=\"wandb\"><tr><td>accuracy</td><td>0.79011</td></tr><tr><td>f1_macro</td><td>0.79009</td></tr><tr><td>f1_weighted</td><td>0.79007</td></tr><tr><td>precision_weighted</td><td>0.79061</td></tr><tr><td>recall_weighted</td><td>0.79011</td></tr><tr><td>roc_auc</td><td>0.79027</td></tr></table><br/></div></div>"
      ],
      "text/plain": [
       "<IPython.core.display.HTML object>"
      ]
     },
     "metadata": {},
     "output_type": "display_data"
    },
    {
     "data": {
      "text/html": [
       " View run <strong style=\"color:#cdcd00\">v31_xgboost_{'n_estimators': 200, 'max_depth': 7, 'learning_rate': 0.1, 'subsample': 0.8, 'colsample_bytree': 1.0}</strong> at: <a href='http://wandb:8080/ben/kaggle_space-titanic/runs/nntups66' target=\"_blank\">http://wandb:8080/ben/kaggle_space-titanic/runs/nntups66</a><br> View project at: <a href='http://wandb:8080/ben/kaggle_space-titanic' target=\"_blank\">http://wandb:8080/ben/kaggle_space-titanic</a><br>Synced 5 W&B file(s), 0 media file(s), 0 artifact file(s) and 0 other file(s)"
      ],
      "text/plain": [
       "<IPython.core.display.HTML object>"
      ]
     },
     "metadata": {},
     "output_type": "display_data"
    },
    {
     "data": {
      "text/html": [
       "Find logs at: <code>/home/jovyan/wandb/wandb/run-20250517_210514-nntups66/logs</code>"
      ],
      "text/plain": [
       "<IPython.core.display.HTML object>"
      ]
     },
     "metadata": {},
     "output_type": "display_data"
    },
    {
     "name": "stdout",
     "output_type": "stream",
     "text": [
      "Started MLflow run: a0963e735b244f268d65e42fa126fb4f\n"
     ]
    },
    {
     "data": {
      "text/html": [
       "Tracking run with wandb version 0.19.11"
      ],
      "text/plain": [
       "<IPython.core.display.HTML object>"
      ]
     },
     "metadata": {},
     "output_type": "display_data"
    },
    {
     "data": {
      "text/html": [
       "Run data is saved locally in <code>/home/jovyan/wandb/wandb/run-20250517_210516-m6f04a16</code>"
      ],
      "text/plain": [
       "<IPython.core.display.HTML object>"
      ]
     },
     "metadata": {},
     "output_type": "display_data"
    },
    {
     "data": {
      "text/html": [
       "Syncing run <strong><a href='http://wandb:8080/ben/kaggle_space-titanic/runs/m6f04a16' target=\"_blank\">v31_xgboost_{'n_estimators': 200, 'max_depth': 7, 'learning_rate': 0.1, 'subsample': 1.0, 'colsample_bytree': 0.8}</a></strong> to <a href='http://wandb:8080/ben/kaggle_space-titanic' target=\"_blank\">Weights & Biases</a> (<a href='https://wandb.me/developer-guide' target=\"_blank\">docs</a>)<br>"
      ],
      "text/plain": [
       "<IPython.core.display.HTML object>"
      ]
     },
     "metadata": {},
     "output_type": "display_data"
    },
    {
     "data": {
      "text/html": [
       " View project at <a href='http://wandb:8080/ben/kaggle_space-titanic' target=\"_blank\">http://wandb:8080/ben/kaggle_space-titanic</a>"
      ],
      "text/plain": [
       "<IPython.core.display.HTML object>"
      ]
     },
     "metadata": {},
     "output_type": "display_data"
    },
    {
     "data": {
      "text/html": [
       " View run at <a href='http://wandb:8080/ben/kaggle_space-titanic/runs/m6f04a16' target=\"_blank\">http://wandb:8080/ben/kaggle_space-titanic/runs/m6f04a16</a>"
      ],
      "text/plain": [
       "<IPython.core.display.HTML object>"
      ]
     },
     "metadata": {},
     "output_type": "display_data"
    },
    {
     "name": "stdout",
     "output_type": "stream",
     "text": [
      "✅ Labels already normalized, no encoding needed\n"
     ]
    },
    {
     "name": "stderr",
     "output_type": "stream",
     "text": [
      "/opt/conda/lib/python3.11/site-packages/xgboost/training.py:183: UserWarning: [21:05:17] WARNING: /workspace/src/learner.cc:738: \n",
      "Parameters: { \"use_label_encoder\" } are not used.\n",
      "\n",
      "  bst.update(dtrain, iteration=i, fobj=obj)\n"
     ]
    },
    {
     "name": "stdout",
     "output_type": "stream",
     "text": [
      "✅ Finished training sklearn model\n",
      "🏃 View run v31_xgboost_{'n_estimators': 200, 'max_depth': 7, 'learning_rate': 0.1, 'subsample': 1.0, 'colsample_bytree': 0.8} at: http://mlflow:5000/#/experiments/2/runs/a0963e735b244f268d65e42fa126fb4f\n",
      "🧪 View experiment at: http://mlflow:5000/#/experiments/2\n"
     ]
    },
    {
     "data": {
      "text/html": [],
      "text/plain": [
       "<IPython.core.display.HTML object>"
      ]
     },
     "metadata": {},
     "output_type": "display_data"
    },
    {
     "data": {
      "text/html": [
       "<br>    <style><br>        .wandb-row {<br>            display: flex;<br>            flex-direction: row;<br>            flex-wrap: wrap;<br>            justify-content: flex-start;<br>            width: 100%;<br>        }<br>        .wandb-col {<br>            display: flex;<br>            flex-direction: column;<br>            flex-basis: 100%;<br>            flex: 1;<br>            padding: 10px;<br>        }<br>    </style><br><div class=\"wandb-row\"><div class=\"wandb-col\"><h3>Run history:</h3><br/><table class=\"wandb\"><tr><td>accuracy</td><td>▁</td></tr><tr><td>f1_macro</td><td>▁</td></tr><tr><td>f1_weighted</td><td>▁</td></tr><tr><td>precision_weighted</td><td>▁</td></tr><tr><td>recall_weighted</td><td>▁</td></tr><tr><td>roc_auc</td><td>▁</td></tr></table><br/></div><div class=\"wandb-col\"><h3>Run summary:</h3><br/><table class=\"wandb\"><tr><td>accuracy</td><td>0.78896</td></tr><tr><td>f1_macro</td><td>0.78896</td></tr><tr><td>f1_weighted</td><td>0.78895</td></tr><tr><td>precision_weighted</td><td>0.78918</td></tr><tr><td>recall_weighted</td><td>0.78896</td></tr><tr><td>roc_auc</td><td>0.78906</td></tr></table><br/></div></div>"
      ],
      "text/plain": [
       "<IPython.core.display.HTML object>"
      ]
     },
     "metadata": {},
     "output_type": "display_data"
    },
    {
     "data": {
      "text/html": [
       " View run <strong style=\"color:#cdcd00\">v31_xgboost_{'n_estimators': 200, 'max_depth': 7, 'learning_rate': 0.1, 'subsample': 1.0, 'colsample_bytree': 0.8}</strong> at: <a href='http://wandb:8080/ben/kaggle_space-titanic/runs/m6f04a16' target=\"_blank\">http://wandb:8080/ben/kaggle_space-titanic/runs/m6f04a16</a><br> View project at: <a href='http://wandb:8080/ben/kaggle_space-titanic' target=\"_blank\">http://wandb:8080/ben/kaggle_space-titanic</a><br>Synced 5 W&B file(s), 0 media file(s), 0 artifact file(s) and 0 other file(s)"
      ],
      "text/plain": [
       "<IPython.core.display.HTML object>"
      ]
     },
     "metadata": {},
     "output_type": "display_data"
    },
    {
     "data": {
      "text/html": [
       "Find logs at: <code>/home/jovyan/wandb/wandb/run-20250517_210516-m6f04a16/logs</code>"
      ],
      "text/plain": [
       "<IPython.core.display.HTML object>"
      ]
     },
     "metadata": {},
     "output_type": "display_data"
    },
    {
     "name": "stdout",
     "output_type": "stream",
     "text": [
      "Started MLflow run: f22ceb89f3884fe7b96782d239cbcb4f\n"
     ]
    },
    {
     "data": {
      "text/html": [
       "Tracking run with wandb version 0.19.11"
      ],
      "text/plain": [
       "<IPython.core.display.HTML object>"
      ]
     },
     "metadata": {},
     "output_type": "display_data"
    },
    {
     "data": {
      "text/html": [
       "Run data is saved locally in <code>/home/jovyan/wandb/wandb/run-20250517_210521-f0joe85h</code>"
      ],
      "text/plain": [
       "<IPython.core.display.HTML object>"
      ]
     },
     "metadata": {},
     "output_type": "display_data"
    },
    {
     "data": {
      "text/html": [
       "Syncing run <strong><a href='http://wandb:8080/ben/kaggle_space-titanic/runs/f0joe85h' target=\"_blank\">v31_xgboost_{'n_estimators': 200, 'max_depth': 7, 'learning_rate': 0.1, 'subsample': 1.0, 'colsample_bytree': 1.0}</a></strong> to <a href='http://wandb:8080/ben/kaggle_space-titanic' target=\"_blank\">Weights & Biases</a> (<a href='https://wandb.me/developer-guide' target=\"_blank\">docs</a>)<br>"
      ],
      "text/plain": [
       "<IPython.core.display.HTML object>"
      ]
     },
     "metadata": {},
     "output_type": "display_data"
    },
    {
     "data": {
      "text/html": [
       " View project at <a href='http://wandb:8080/ben/kaggle_space-titanic' target=\"_blank\">http://wandb:8080/ben/kaggle_space-titanic</a>"
      ],
      "text/plain": [
       "<IPython.core.display.HTML object>"
      ]
     },
     "metadata": {},
     "output_type": "display_data"
    },
    {
     "data": {
      "text/html": [
       " View run at <a href='http://wandb:8080/ben/kaggle_space-titanic/runs/f0joe85h' target=\"_blank\">http://wandb:8080/ben/kaggle_space-titanic/runs/f0joe85h</a>"
      ],
      "text/plain": [
       "<IPython.core.display.HTML object>"
      ]
     },
     "metadata": {},
     "output_type": "display_data"
    },
    {
     "name": "stdout",
     "output_type": "stream",
     "text": [
      "✅ Labels already normalized, no encoding needed\n"
     ]
    },
    {
     "name": "stderr",
     "output_type": "stream",
     "text": [
      "/opt/conda/lib/python3.11/site-packages/xgboost/training.py:183: UserWarning: [21:05:22] WARNING: /workspace/src/learner.cc:738: \n",
      "Parameters: { \"use_label_encoder\" } are not used.\n",
      "\n",
      "  bst.update(dtrain, iteration=i, fobj=obj)\n"
     ]
    },
    {
     "name": "stdout",
     "output_type": "stream",
     "text": [
      "✅ Finished training sklearn model\n",
      "🏃 View run v31_xgboost_{'n_estimators': 200, 'max_depth': 7, 'learning_rate': 0.1, 'subsample': 1.0, 'colsample_bytree': 1.0} at: http://mlflow:5000/#/experiments/2/runs/f22ceb89f3884fe7b96782d239cbcb4f\n",
      "🧪 View experiment at: http://mlflow:5000/#/experiments/2\n"
     ]
    },
    {
     "data": {
      "text/html": [],
      "text/plain": [
       "<IPython.core.display.HTML object>"
      ]
     },
     "metadata": {},
     "output_type": "display_data"
    },
    {
     "data": {
      "text/html": [
       "<br>    <style><br>        .wandb-row {<br>            display: flex;<br>            flex-direction: row;<br>            flex-wrap: wrap;<br>            justify-content: flex-start;<br>            width: 100%;<br>        }<br>        .wandb-col {<br>            display: flex;<br>            flex-direction: column;<br>            flex-basis: 100%;<br>            flex: 1;<br>            padding: 10px;<br>        }<br>    </style><br><div class=\"wandb-row\"><div class=\"wandb-col\"><h3>Run history:</h3><br/><table class=\"wandb\"><tr><td>accuracy</td><td>▁</td></tr><tr><td>f1_macro</td><td>▁</td></tr><tr><td>f1_weighted</td><td>▁</td></tr><tr><td>precision_weighted</td><td>▁</td></tr><tr><td>recall_weighted</td><td>▁</td></tr><tr><td>roc_auc</td><td>▁</td></tr></table><br/></div><div class=\"wandb-col\"><h3>Run summary:</h3><br/><table class=\"wandb\"><tr><td>accuracy</td><td>0.79068</td></tr><tr><td>f1_macro</td><td>0.79068</td></tr><tr><td>f1_weighted</td><td>0.79069</td></tr><tr><td>precision_weighted</td><td>0.79082</td></tr><tr><td>recall_weighted</td><td>0.79068</td></tr><tr><td>roc_auc</td><td>0.79075</td></tr></table><br/></div></div>"
      ],
      "text/plain": [
       "<IPython.core.display.HTML object>"
      ]
     },
     "metadata": {},
     "output_type": "display_data"
    },
    {
     "data": {
      "text/html": [
       " View run <strong style=\"color:#cdcd00\">v31_xgboost_{'n_estimators': 200, 'max_depth': 7, 'learning_rate': 0.1, 'subsample': 1.0, 'colsample_bytree': 1.0}</strong> at: <a href='http://wandb:8080/ben/kaggle_space-titanic/runs/f0joe85h' target=\"_blank\">http://wandb:8080/ben/kaggle_space-titanic/runs/f0joe85h</a><br> View project at: <a href='http://wandb:8080/ben/kaggle_space-titanic' target=\"_blank\">http://wandb:8080/ben/kaggle_space-titanic</a><br>Synced 5 W&B file(s), 0 media file(s), 0 artifact file(s) and 0 other file(s)"
      ],
      "text/plain": [
       "<IPython.core.display.HTML object>"
      ]
     },
     "metadata": {},
     "output_type": "display_data"
    },
    {
     "data": {
      "text/html": [
       "Find logs at: <code>/home/jovyan/wandb/wandb/run-20250517_210521-f0joe85h/logs</code>"
      ],
      "text/plain": [
       "<IPython.core.display.HTML object>"
      ]
     },
     "metadata": {},
     "output_type": "display_data"
    },
    {
     "name": "stdout",
     "output_type": "stream",
     "text": [
      "Started MLflow run: 7d9b137370024585bf1d423730c8d245\n"
     ]
    },
    {
     "data": {
      "text/html": [
       "Tracking run with wandb version 0.19.11"
      ],
      "text/plain": [
       "<IPython.core.display.HTML object>"
      ]
     },
     "metadata": {},
     "output_type": "display_data"
    },
    {
     "data": {
      "text/html": [
       "Run data is saved locally in <code>/home/jovyan/wandb/wandb/run-20250517_210524-alnk3wnz</code>"
      ],
      "text/plain": [
       "<IPython.core.display.HTML object>"
      ]
     },
     "metadata": {},
     "output_type": "display_data"
    },
    {
     "data": {
      "text/html": [
       "Syncing run <strong><a href='http://wandb:8080/ben/kaggle_space-titanic/runs/alnk3wnz' target=\"_blank\">v31_lightgbm_{'n_estimators': 100, 'max_depth': -1, 'learning_rate': 0.01, 'num_leaves': 31, 'min_child_samples': 10}</a></strong> to <a href='http://wandb:8080/ben/kaggle_space-titanic' target=\"_blank\">Weights & Biases</a> (<a href='https://wandb.me/developer-guide' target=\"_blank\">docs</a>)<br>"
      ],
      "text/plain": [
       "<IPython.core.display.HTML object>"
      ]
     },
     "metadata": {},
     "output_type": "display_data"
    },
    {
     "data": {
      "text/html": [
       " View project at <a href='http://wandb:8080/ben/kaggle_space-titanic' target=\"_blank\">http://wandb:8080/ben/kaggle_space-titanic</a>"
      ],
      "text/plain": [
       "<IPython.core.display.HTML object>"
      ]
     },
     "metadata": {},
     "output_type": "display_data"
    },
    {
     "data": {
      "text/html": [
       " View run at <a href='http://wandb:8080/ben/kaggle_space-titanic/runs/alnk3wnz' target=\"_blank\">http://wandb:8080/ben/kaggle_space-titanic/runs/alnk3wnz</a>"
      ],
      "text/plain": [
       "<IPython.core.display.HTML object>"
      ]
     },
     "metadata": {},
     "output_type": "display_data"
    },
    {
     "name": "stdout",
     "output_type": "stream",
     "text": [
      "✅ Labels already normalized, no encoding needed\n",
      "[LightGBM] [Info] Number of positive: 3500, number of negative: 3454\n",
      "[LightGBM] [Info] Auto-choosing col-wise multi-threading, the overhead of testing was 0.040030 seconds.\n",
      "You can set `force_col_wise=true` to remove the overhead.\n",
      "[LightGBM] [Info] Total Bins 2457\n",
      "[LightGBM] [Info] Number of data points in the train set: 6954, number of used features: 37\n",
      "[LightGBM] [Info] [binary:BoostFromScore]: pavg=0.503307 -> initscore=0.013230\n",
      "[LightGBM] [Info] Start training from score 0.013230\n",
      "✅ Finished training sklearn model\n",
      "🏃 View run v31_lightgbm_{'n_estimators': 100, 'max_depth': -1, 'learning_rate': 0.01, 'num_leaves': 31, 'min_child_samples': 10} at: http://mlflow:5000/#/experiments/2/runs/7d9b137370024585bf1d423730c8d245\n",
      "🧪 View experiment at: http://mlflow:5000/#/experiments/2\n"
     ]
    },
    {
     "data": {
      "text/html": [],
      "text/plain": [
       "<IPython.core.display.HTML object>"
      ]
     },
     "metadata": {},
     "output_type": "display_data"
    },
    {
     "data": {
      "text/html": [
       "<br>    <style><br>        .wandb-row {<br>            display: flex;<br>            flex-direction: row;<br>            flex-wrap: wrap;<br>            justify-content: flex-start;<br>            width: 100%;<br>        }<br>        .wandb-col {<br>            display: flex;<br>            flex-direction: column;<br>            flex-basis: 100%;<br>            flex: 1;<br>            padding: 10px;<br>        }<br>    </style><br><div class=\"wandb-row\"><div class=\"wandb-col\"><h3>Run history:</h3><br/><table class=\"wandb\"><tr><td>accuracy</td><td>▁</td></tr><tr><td>f1_macro</td><td>▁</td></tr><tr><td>f1_weighted</td><td>▁</td></tr><tr><td>precision_weighted</td><td>▁</td></tr><tr><td>recall_weighted</td><td>▁</td></tr><tr><td>roc_auc</td><td>▁</td></tr></table><br/></div><div class=\"wandb-col\"><h3>Run summary:</h3><br/><table class=\"wandb\"><tr><td>accuracy</td><td>0.78378</td></tr><tr><td>f1_macro</td><td>0.78293</td></tr><tr><td>f1_weighted</td><td>0.78306</td></tr><tr><td>precision_weighted</td><td>0.78678</td></tr><tr><td>recall_weighted</td><td>0.78378</td></tr><tr><td>roc_auc</td><td>0.78325</td></tr></table><br/></div></div>"
      ],
      "text/plain": [
       "<IPython.core.display.HTML object>"
      ]
     },
     "metadata": {},
     "output_type": "display_data"
    },
    {
     "data": {
      "text/html": [
       " View run <strong style=\"color:#cdcd00\">v31_lightgbm_{'n_estimators': 100, 'max_depth': -1, 'learning_rate': 0.01, 'num_leaves': 31, 'min_child_samples': 10}</strong> at: <a href='http://wandb:8080/ben/kaggle_space-titanic/runs/alnk3wnz' target=\"_blank\">http://wandb:8080/ben/kaggle_space-titanic/runs/alnk3wnz</a><br> View project at: <a href='http://wandb:8080/ben/kaggle_space-titanic' target=\"_blank\">http://wandb:8080/ben/kaggle_space-titanic</a><br>Synced 5 W&B file(s), 0 media file(s), 0 artifact file(s) and 0 other file(s)"
      ],
      "text/plain": [
       "<IPython.core.display.HTML object>"
      ]
     },
     "metadata": {},
     "output_type": "display_data"
    },
    {
     "data": {
      "text/html": [
       "Find logs at: <code>/home/jovyan/wandb/wandb/run-20250517_210524-alnk3wnz/logs</code>"
      ],
      "text/plain": [
       "<IPython.core.display.HTML object>"
      ]
     },
     "metadata": {},
     "output_type": "display_data"
    },
    {
     "name": "stdout",
     "output_type": "stream",
     "text": [
      "Started MLflow run: 312eed9886cc4899bf953ad7db769ba4\n"
     ]
    },
    {
     "data": {
      "text/html": [
       "Tracking run with wandb version 0.19.11"
      ],
      "text/plain": [
       "<IPython.core.display.HTML object>"
      ]
     },
     "metadata": {},
     "output_type": "display_data"
    },
    {
     "data": {
      "text/html": [
       "Run data is saved locally in <code>/home/jovyan/wandb/wandb/run-20250517_210530-96wrcmau</code>"
      ],
      "text/plain": [
       "<IPython.core.display.HTML object>"
      ]
     },
     "metadata": {},
     "output_type": "display_data"
    },
    {
     "data": {
      "text/html": [
       "Syncing run <strong><a href='http://wandb:8080/ben/kaggle_space-titanic/runs/96wrcmau' target=\"_blank\">v31_lightgbm_{'n_estimators': 100, 'max_depth': -1, 'learning_rate': 0.01, 'num_leaves': 31, 'min_child_samples': 20}</a></strong> to <a href='http://wandb:8080/ben/kaggle_space-titanic' target=\"_blank\">Weights & Biases</a> (<a href='https://wandb.me/developer-guide' target=\"_blank\">docs</a>)<br>"
      ],
      "text/plain": [
       "<IPython.core.display.HTML object>"
      ]
     },
     "metadata": {},
     "output_type": "display_data"
    },
    {
     "data": {
      "text/html": [
       " View project at <a href='http://wandb:8080/ben/kaggle_space-titanic' target=\"_blank\">http://wandb:8080/ben/kaggle_space-titanic</a>"
      ],
      "text/plain": [
       "<IPython.core.display.HTML object>"
      ]
     },
     "metadata": {},
     "output_type": "display_data"
    },
    {
     "data": {
      "text/html": [
       " View run at <a href='http://wandb:8080/ben/kaggle_space-titanic/runs/96wrcmau' target=\"_blank\">http://wandb:8080/ben/kaggle_space-titanic/runs/96wrcmau</a>"
      ],
      "text/plain": [
       "<IPython.core.display.HTML object>"
      ]
     },
     "metadata": {},
     "output_type": "display_data"
    },
    {
     "name": "stdout",
     "output_type": "stream",
     "text": [
      "✅ Labels already normalized, no encoding needed\n",
      "[LightGBM] [Info] Number of positive: 3500, number of negative: 3454\n",
      "[LightGBM] [Info] Auto-choosing row-wise multi-threading, the overhead of testing was 0.001618 seconds.\n",
      "You can set `force_row_wise=true` to remove the overhead.\n",
      "And if memory is not enough, you can set `force_col_wise=true`.\n",
      "[LightGBM] [Info] Total Bins 2457\n",
      "[LightGBM] [Info] Number of data points in the train set: 6954, number of used features: 37\n",
      "[LightGBM] [Info] [binary:BoostFromScore]: pavg=0.503307 -> initscore=0.013230\n",
      "[LightGBM] [Info] Start training from score 0.013230\n",
      "✅ Finished training sklearn model\n",
      "🏃 View run v31_lightgbm_{'n_estimators': 100, 'max_depth': -1, 'learning_rate': 0.01, 'num_leaves': 31, 'min_child_samples': 20} at: http://mlflow:5000/#/experiments/2/runs/312eed9886cc4899bf953ad7db769ba4\n",
      "🧪 View experiment at: http://mlflow:5000/#/experiments/2\n"
     ]
    },
    {
     "data": {
      "text/html": [],
      "text/plain": [
       "<IPython.core.display.HTML object>"
      ]
     },
     "metadata": {},
     "output_type": "display_data"
    },
    {
     "data": {
      "text/html": [
       "<br>    <style><br>        .wandb-row {<br>            display: flex;<br>            flex-direction: row;<br>            flex-wrap: wrap;<br>            justify-content: flex-start;<br>            width: 100%;<br>        }<br>        .wandb-col {<br>            display: flex;<br>            flex-direction: column;<br>            flex-basis: 100%;<br>            flex: 1;<br>            padding: 10px;<br>        }<br>    </style><br><div class=\"wandb-row\"><div class=\"wandb-col\"><h3>Run history:</h3><br/><table class=\"wandb\"><tr><td>accuracy</td><td>▁</td></tr><tr><td>f1_macro</td><td>▁</td></tr><tr><td>f1_weighted</td><td>▁</td></tr><tr><td>precision_weighted</td><td>▁</td></tr><tr><td>recall_weighted</td><td>▁</td></tr><tr><td>roc_auc</td><td>▁</td></tr></table><br/></div><div class=\"wandb-col\"><h3>Run summary:</h3><br/><table class=\"wandb\"><tr><td>accuracy</td><td>0.78723</td></tr><tr><td>f1_macro</td><td>0.78657</td></tr><tr><td>f1_weighted</td><td>0.78669</td></tr><tr><td>precision_weighted</td><td>0.7895</td></tr><tr><td>recall_weighted</td><td>0.78723</td></tr><tr><td>roc_auc</td><td>0.78676</td></tr></table><br/></div></div>"
      ],
      "text/plain": [
       "<IPython.core.display.HTML object>"
      ]
     },
     "metadata": {},
     "output_type": "display_data"
    },
    {
     "data": {
      "text/html": [
       " View run <strong style=\"color:#cdcd00\">v31_lightgbm_{'n_estimators': 100, 'max_depth': -1, 'learning_rate': 0.01, 'num_leaves': 31, 'min_child_samples': 20}</strong> at: <a href='http://wandb:8080/ben/kaggle_space-titanic/runs/96wrcmau' target=\"_blank\">http://wandb:8080/ben/kaggle_space-titanic/runs/96wrcmau</a><br> View project at: <a href='http://wandb:8080/ben/kaggle_space-titanic' target=\"_blank\">http://wandb:8080/ben/kaggle_space-titanic</a><br>Synced 5 W&B file(s), 0 media file(s), 0 artifact file(s) and 0 other file(s)"
      ],
      "text/plain": [
       "<IPython.core.display.HTML object>"
      ]
     },
     "metadata": {},
     "output_type": "display_data"
    },
    {
     "data": {
      "text/html": [
       "Find logs at: <code>/home/jovyan/wandb/wandb/run-20250517_210530-96wrcmau/logs</code>"
      ],
      "text/plain": [
       "<IPython.core.display.HTML object>"
      ]
     },
     "metadata": {},
     "output_type": "display_data"
    },
    {
     "name": "stdout",
     "output_type": "stream",
     "text": [
      "Started MLflow run: dc36941590b24bfd8c6ce06e54149507\n"
     ]
    },
    {
     "data": {
      "text/html": [
       "Tracking run with wandb version 0.19.11"
      ],
      "text/plain": [
       "<IPython.core.display.HTML object>"
      ]
     },
     "metadata": {},
     "output_type": "display_data"
    },
    {
     "data": {
      "text/html": [
       "Run data is saved locally in <code>/home/jovyan/wandb/wandb/run-20250517_210532-vg0fvqco</code>"
      ],
      "text/plain": [
       "<IPython.core.display.HTML object>"
      ]
     },
     "metadata": {},
     "output_type": "display_data"
    },
    {
     "data": {
      "text/html": [
       "Syncing run <strong><a href='http://wandb:8080/ben/kaggle_space-titanic/runs/vg0fvqco' target=\"_blank\">v31_lightgbm_{'n_estimators': 100, 'max_depth': -1, 'learning_rate': 0.01, 'num_leaves': 50, 'min_child_samples': 10}</a></strong> to <a href='http://wandb:8080/ben/kaggle_space-titanic' target=\"_blank\">Weights & Biases</a> (<a href='https://wandb.me/developer-guide' target=\"_blank\">docs</a>)<br>"
      ],
      "text/plain": [
       "<IPython.core.display.HTML object>"
      ]
     },
     "metadata": {},
     "output_type": "display_data"
    },
    {
     "data": {
      "text/html": [
       " View project at <a href='http://wandb:8080/ben/kaggle_space-titanic' target=\"_blank\">http://wandb:8080/ben/kaggle_space-titanic</a>"
      ],
      "text/plain": [
       "<IPython.core.display.HTML object>"
      ]
     },
     "metadata": {},
     "output_type": "display_data"
    },
    {
     "data": {
      "text/html": [
       " View run at <a href='http://wandb:8080/ben/kaggle_space-titanic/runs/vg0fvqco' target=\"_blank\">http://wandb:8080/ben/kaggle_space-titanic/runs/vg0fvqco</a>"
      ],
      "text/plain": [
       "<IPython.core.display.HTML object>"
      ]
     },
     "metadata": {},
     "output_type": "display_data"
    },
    {
     "name": "stdout",
     "output_type": "stream",
     "text": [
      "✅ Labels already normalized, no encoding needed\n",
      "[LightGBM] [Info] Number of positive: 3500, number of negative: 3454\n",
      "[LightGBM] [Info] Auto-choosing col-wise multi-threading, the overhead of testing was 0.014822 seconds.\n",
      "You can set `force_col_wise=true` to remove the overhead.\n",
      "[LightGBM] [Info] Total Bins 2457\n",
      "[LightGBM] [Info] Number of data points in the train set: 6954, number of used features: 37\n",
      "[LightGBM] [Info] [binary:BoostFromScore]: pavg=0.503307 -> initscore=0.013230\n",
      "[LightGBM] [Info] Start training from score 0.013230\n",
      "✅ Finished training sklearn model\n",
      "🏃 View run v31_lightgbm_{'n_estimators': 100, 'max_depth': -1, 'learning_rate': 0.01, 'num_leaves': 50, 'min_child_samples': 10} at: http://mlflow:5000/#/experiments/2/runs/dc36941590b24bfd8c6ce06e54149507\n",
      "🧪 View experiment at: http://mlflow:5000/#/experiments/2\n"
     ]
    },
    {
     "data": {
      "text/html": [],
      "text/plain": [
       "<IPython.core.display.HTML object>"
      ]
     },
     "metadata": {},
     "output_type": "display_data"
    },
    {
     "data": {
      "text/html": [
       "<br>    <style><br>        .wandb-row {<br>            display: flex;<br>            flex-direction: row;<br>            flex-wrap: wrap;<br>            justify-content: flex-start;<br>            width: 100%;<br>        }<br>        .wandb-col {<br>            display: flex;<br>            flex-direction: column;<br>            flex-basis: 100%;<br>            flex: 1;<br>            padding: 10px;<br>        }<br>    </style><br><div class=\"wandb-row\"><div class=\"wandb-col\"><h3>Run history:</h3><br/><table class=\"wandb\"><tr><td>accuracy</td><td>▁</td></tr><tr><td>f1_macro</td><td>▁</td></tr><tr><td>f1_weighted</td><td>▁</td></tr><tr><td>precision_weighted</td><td>▁</td></tr><tr><td>recall_weighted</td><td>▁</td></tr><tr><td>roc_auc</td><td>▁</td></tr></table><br/></div><div class=\"wandb-col\"><h3>Run summary:</h3><br/><table class=\"wandb\"><tr><td>accuracy</td><td>0.77861</td></tr><tr><td>f1_macro</td><td>0.77801</td></tr><tr><td>f1_weighted</td><td>0.77813</td></tr><tr><td>precision_weighted</td><td>0.78041</td></tr><tr><td>recall_weighted</td><td>0.77861</td></tr><tr><td>roc_auc</td><td>0.77818</td></tr></table><br/></div></div>"
      ],
      "text/plain": [
       "<IPython.core.display.HTML object>"
      ]
     },
     "metadata": {},
     "output_type": "display_data"
    },
    {
     "data": {
      "text/html": [
       " View run <strong style=\"color:#cdcd00\">v31_lightgbm_{'n_estimators': 100, 'max_depth': -1, 'learning_rate': 0.01, 'num_leaves': 50, 'min_child_samples': 10}</strong> at: <a href='http://wandb:8080/ben/kaggle_space-titanic/runs/vg0fvqco' target=\"_blank\">http://wandb:8080/ben/kaggle_space-titanic/runs/vg0fvqco</a><br> View project at: <a href='http://wandb:8080/ben/kaggle_space-titanic' target=\"_blank\">http://wandb:8080/ben/kaggle_space-titanic</a><br>Synced 5 W&B file(s), 0 media file(s), 0 artifact file(s) and 0 other file(s)"
      ],
      "text/plain": [
       "<IPython.core.display.HTML object>"
      ]
     },
     "metadata": {},
     "output_type": "display_data"
    },
    {
     "data": {
      "text/html": [
       "Find logs at: <code>/home/jovyan/wandb/wandb/run-20250517_210532-vg0fvqco/logs</code>"
      ],
      "text/plain": [
       "<IPython.core.display.HTML object>"
      ]
     },
     "metadata": {},
     "output_type": "display_data"
    },
    {
     "name": "stdout",
     "output_type": "stream",
     "text": [
      "Started MLflow run: a2c8cf9cd3bd49a1aafc53adbb5a95ef\n"
     ]
    },
    {
     "data": {
      "text/html": [
       "Tracking run with wandb version 0.19.11"
      ],
      "text/plain": [
       "<IPython.core.display.HTML object>"
      ]
     },
     "metadata": {},
     "output_type": "display_data"
    },
    {
     "data": {
      "text/html": [
       "Run data is saved locally in <code>/home/jovyan/wandb/wandb/run-20250517_210534-vahmrm6s</code>"
      ],
      "text/plain": [
       "<IPython.core.display.HTML object>"
      ]
     },
     "metadata": {},
     "output_type": "display_data"
    },
    {
     "data": {
      "text/html": [
       "Syncing run <strong><a href='http://wandb:8080/ben/kaggle_space-titanic/runs/vahmrm6s' target=\"_blank\">v31_lightgbm_{'n_estimators': 100, 'max_depth': -1, 'learning_rate': 0.01, 'num_leaves': 50, 'min_child_samples': 20}</a></strong> to <a href='http://wandb:8080/ben/kaggle_space-titanic' target=\"_blank\">Weights & Biases</a> (<a href='https://wandb.me/developer-guide' target=\"_blank\">docs</a>)<br>"
      ],
      "text/plain": [
       "<IPython.core.display.HTML object>"
      ]
     },
     "metadata": {},
     "output_type": "display_data"
    },
    {
     "data": {
      "text/html": [
       " View project at <a href='http://wandb:8080/ben/kaggle_space-titanic' target=\"_blank\">http://wandb:8080/ben/kaggle_space-titanic</a>"
      ],
      "text/plain": [
       "<IPython.core.display.HTML object>"
      ]
     },
     "metadata": {},
     "output_type": "display_data"
    },
    {
     "data": {
      "text/html": [
       " View run at <a href='http://wandb:8080/ben/kaggle_space-titanic/runs/vahmrm6s' target=\"_blank\">http://wandb:8080/ben/kaggle_space-titanic/runs/vahmrm6s</a>"
      ],
      "text/plain": [
       "<IPython.core.display.HTML object>"
      ]
     },
     "metadata": {},
     "output_type": "display_data"
    },
    {
     "name": "stdout",
     "output_type": "stream",
     "text": [
      "✅ Labels already normalized, no encoding needed\n",
      "[LightGBM] [Info] Number of positive: 3500, number of negative: 3454\n",
      "[LightGBM] [Info] Auto-choosing row-wise multi-threading, the overhead of testing was 0.006225 seconds.\n",
      "You can set `force_row_wise=true` to remove the overhead.\n",
      "And if memory is not enough, you can set `force_col_wise=true`.\n",
      "[LightGBM] [Info] Total Bins 2457\n",
      "[LightGBM] [Info] Number of data points in the train set: 6954, number of used features: 37\n",
      "[LightGBM] [Info] [binary:BoostFromScore]: pavg=0.503307 -> initscore=0.013230\n",
      "[LightGBM] [Info] Start training from score 0.013230\n",
      "✅ Finished training sklearn model\n",
      "🏃 View run v31_lightgbm_{'n_estimators': 100, 'max_depth': -1, 'learning_rate': 0.01, 'num_leaves': 50, 'min_child_samples': 20} at: http://mlflow:5000/#/experiments/2/runs/a2c8cf9cd3bd49a1aafc53adbb5a95ef\n",
      "🧪 View experiment at: http://mlflow:5000/#/experiments/2\n"
     ]
    },
    {
     "data": {
      "text/html": [],
      "text/plain": [
       "<IPython.core.display.HTML object>"
      ]
     },
     "metadata": {},
     "output_type": "display_data"
    },
    {
     "data": {
      "text/html": [
       "<br>    <style><br>        .wandb-row {<br>            display: flex;<br>            flex-direction: row;<br>            flex-wrap: wrap;<br>            justify-content: flex-start;<br>            width: 100%;<br>        }<br>        .wandb-col {<br>            display: flex;<br>            flex-direction: column;<br>            flex-basis: 100%;<br>            flex: 1;<br>            padding: 10px;<br>        }<br>    </style><br><div class=\"wandb-row\"><div class=\"wandb-col\"><h3>Run history:</h3><br/><table class=\"wandb\"><tr><td>accuracy</td><td>▁</td></tr><tr><td>f1_macro</td><td>▁</td></tr><tr><td>f1_weighted</td><td>▁</td></tr><tr><td>precision_weighted</td><td>▁</td></tr><tr><td>recall_weighted</td><td>▁</td></tr><tr><td>roc_auc</td><td>▁</td></tr></table><br/></div><div class=\"wandb-col\"><h3>Run summary:</h3><br/><table class=\"wandb\"><tr><td>accuracy</td><td>0.77976</td></tr><tr><td>f1_macro</td><td>0.77924</td></tr><tr><td>f1_weighted</td><td>0.77935</td></tr><tr><td>precision_weighted</td><td>0.78127</td></tr><tr><td>recall_weighted</td><td>0.77976</td></tr><tr><td>roc_auc</td><td>0.77936</td></tr></table><br/></div></div>"
      ],
      "text/plain": [
       "<IPython.core.display.HTML object>"
      ]
     },
     "metadata": {},
     "output_type": "display_data"
    },
    {
     "data": {
      "text/html": [
       " View run <strong style=\"color:#cdcd00\">v31_lightgbm_{'n_estimators': 100, 'max_depth': -1, 'learning_rate': 0.01, 'num_leaves': 50, 'min_child_samples': 20}</strong> at: <a href='http://wandb:8080/ben/kaggle_space-titanic/runs/vahmrm6s' target=\"_blank\">http://wandb:8080/ben/kaggle_space-titanic/runs/vahmrm6s</a><br> View project at: <a href='http://wandb:8080/ben/kaggle_space-titanic' target=\"_blank\">http://wandb:8080/ben/kaggle_space-titanic</a><br>Synced 5 W&B file(s), 0 media file(s), 0 artifact file(s) and 0 other file(s)"
      ],
      "text/plain": [
       "<IPython.core.display.HTML object>"
      ]
     },
     "metadata": {},
     "output_type": "display_data"
    },
    {
     "data": {
      "text/html": [
       "Find logs at: <code>/home/jovyan/wandb/wandb/run-20250517_210534-vahmrm6s/logs</code>"
      ],
      "text/plain": [
       "<IPython.core.display.HTML object>"
      ]
     },
     "metadata": {},
     "output_type": "display_data"
    },
    {
     "name": "stdout",
     "output_type": "stream",
     "text": [
      "Started MLflow run: b77b781512c14c58a2dd590235a08eca\n"
     ]
    },
    {
     "data": {
      "text/html": [
       "Tracking run with wandb version 0.19.11"
      ],
      "text/plain": [
       "<IPython.core.display.HTML object>"
      ]
     },
     "metadata": {},
     "output_type": "display_data"
    },
    {
     "data": {
      "text/html": [
       "Run data is saved locally in <code>/home/jovyan/wandb/wandb/run-20250517_210536-jh04vgvs</code>"
      ],
      "text/plain": [
       "<IPython.core.display.HTML object>"
      ]
     },
     "metadata": {},
     "output_type": "display_data"
    },
    {
     "data": {
      "text/html": [
       "Syncing run <strong><a href='http://wandb:8080/ben/kaggle_space-titanic/runs/jh04vgvs' target=\"_blank\">v31_lightgbm_{'n_estimators': 100, 'max_depth': -1, 'learning_rate': 0.1, 'num_leaves': 31, 'min_child_samples': 10}</a></strong> to <a href='http://wandb:8080/ben/kaggle_space-titanic' target=\"_blank\">Weights & Biases</a> (<a href='https://wandb.me/developer-guide' target=\"_blank\">docs</a>)<br>"
      ],
      "text/plain": [
       "<IPython.core.display.HTML object>"
      ]
     },
     "metadata": {},
     "output_type": "display_data"
    },
    {
     "data": {
      "text/html": [
       " View project at <a href='http://wandb:8080/ben/kaggle_space-titanic' target=\"_blank\">http://wandb:8080/ben/kaggle_space-titanic</a>"
      ],
      "text/plain": [
       "<IPython.core.display.HTML object>"
      ]
     },
     "metadata": {},
     "output_type": "display_data"
    },
    {
     "data": {
      "text/html": [
       " View run at <a href='http://wandb:8080/ben/kaggle_space-titanic/runs/jh04vgvs' target=\"_blank\">http://wandb:8080/ben/kaggle_space-titanic/runs/jh04vgvs</a>"
      ],
      "text/plain": [
       "<IPython.core.display.HTML object>"
      ]
     },
     "metadata": {},
     "output_type": "display_data"
    },
    {
     "name": "stdout",
     "output_type": "stream",
     "text": [
      "✅ Labels already normalized, no encoding needed\n",
      "[LightGBM] [Info] Number of positive: 3500, number of negative: 3454\n",
      "[LightGBM] [Info] Auto-choosing row-wise multi-threading, the overhead of testing was 0.001630 seconds.\n",
      "You can set `force_row_wise=true` to remove the overhead.\n",
      "And if memory is not enough, you can set `force_col_wise=true`.\n",
      "[LightGBM] [Info] Total Bins 2457\n",
      "[LightGBM] [Info] Number of data points in the train set: 6954, number of used features: 37\n",
      "[LightGBM] [Info] [binary:BoostFromScore]: pavg=0.503307 -> initscore=0.013230\n",
      "[LightGBM] [Info] Start training from score 0.013230\n",
      "✅ Finished training sklearn model\n",
      "🏃 View run v31_lightgbm_{'n_estimators': 100, 'max_depth': -1, 'learning_rate': 0.1, 'num_leaves': 31, 'min_child_samples': 10} at: http://mlflow:5000/#/experiments/2/runs/b77b781512c14c58a2dd590235a08eca\n",
      "🧪 View experiment at: http://mlflow:5000/#/experiments/2\n"
     ]
    },
    {
     "data": {
      "text/html": [],
      "text/plain": [
       "<IPython.core.display.HTML object>"
      ]
     },
     "metadata": {},
     "output_type": "display_data"
    },
    {
     "data": {
      "text/html": [
       "<br>    <style><br>        .wandb-row {<br>            display: flex;<br>            flex-direction: row;<br>            flex-wrap: wrap;<br>            justify-content: flex-start;<br>            width: 100%;<br>        }<br>        .wandb-col {<br>            display: flex;<br>            flex-direction: column;<br>            flex-basis: 100%;<br>            flex: 1;<br>            padding: 10px;<br>        }<br>    </style><br><div class=\"wandb-row\"><div class=\"wandb-col\"><h3>Run history:</h3><br/><table class=\"wandb\"><tr><td>accuracy</td><td>▁</td></tr><tr><td>f1_macro</td><td>▁</td></tr><tr><td>f1_weighted</td><td>▁</td></tr><tr><td>precision_weighted</td><td>▁</td></tr><tr><td>recall_weighted</td><td>▁</td></tr><tr><td>roc_auc</td><td>▁</td></tr></table><br/></div><div class=\"wandb-col\"><h3>Run summary:</h3><br/><table class=\"wandb\"><tr><td>accuracy</td><td>0.80046</td></tr><tr><td>f1_macro</td><td>0.80045</td></tr><tr><td>f1_weighted</td><td>0.80046</td></tr><tr><td>precision_weighted</td><td>0.8005</td></tr><tr><td>recall_weighted</td><td>0.80046</td></tr><tr><td>roc_auc</td><td>0.80048</td></tr></table><br/></div></div>"
      ],
      "text/plain": [
       "<IPython.core.display.HTML object>"
      ]
     },
     "metadata": {},
     "output_type": "display_data"
    },
    {
     "data": {
      "text/html": [
       " View run <strong style=\"color:#cdcd00\">v31_lightgbm_{'n_estimators': 100, 'max_depth': -1, 'learning_rate': 0.1, 'num_leaves': 31, 'min_child_samples': 10}</strong> at: <a href='http://wandb:8080/ben/kaggle_space-titanic/runs/jh04vgvs' target=\"_blank\">http://wandb:8080/ben/kaggle_space-titanic/runs/jh04vgvs</a><br> View project at: <a href='http://wandb:8080/ben/kaggle_space-titanic' target=\"_blank\">http://wandb:8080/ben/kaggle_space-titanic</a><br>Synced 5 W&B file(s), 0 media file(s), 0 artifact file(s) and 0 other file(s)"
      ],
      "text/plain": [
       "<IPython.core.display.HTML object>"
      ]
     },
     "metadata": {},
     "output_type": "display_data"
    },
    {
     "data": {
      "text/html": [
       "Find logs at: <code>/home/jovyan/wandb/wandb/run-20250517_210536-jh04vgvs/logs</code>"
      ],
      "text/plain": [
       "<IPython.core.display.HTML object>"
      ]
     },
     "metadata": {},
     "output_type": "display_data"
    },
    {
     "name": "stdout",
     "output_type": "stream",
     "text": [
      "Started MLflow run: 7a37f728da274022aa1b8e31da780afc\n"
     ]
    },
    {
     "data": {
      "text/html": [
       "Tracking run with wandb version 0.19.11"
      ],
      "text/plain": [
       "<IPython.core.display.HTML object>"
      ]
     },
     "metadata": {},
     "output_type": "display_data"
    },
    {
     "data": {
      "text/html": [
       "Run data is saved locally in <code>/home/jovyan/wandb/wandb/run-20250517_210538-zf5flx2s</code>"
      ],
      "text/plain": [
       "<IPython.core.display.HTML object>"
      ]
     },
     "metadata": {},
     "output_type": "display_data"
    },
    {
     "data": {
      "text/html": [
       "Syncing run <strong><a href='http://wandb:8080/ben/kaggle_space-titanic/runs/zf5flx2s' target=\"_blank\">v31_lightgbm_{'n_estimators': 100, 'max_depth': -1, 'learning_rate': 0.1, 'num_leaves': 31, 'min_child_samples': 20}</a></strong> to <a href='http://wandb:8080/ben/kaggle_space-titanic' target=\"_blank\">Weights & Biases</a> (<a href='https://wandb.me/developer-guide' target=\"_blank\">docs</a>)<br>"
      ],
      "text/plain": [
       "<IPython.core.display.HTML object>"
      ]
     },
     "metadata": {},
     "output_type": "display_data"
    },
    {
     "data": {
      "text/html": [
       " View project at <a href='http://wandb:8080/ben/kaggle_space-titanic' target=\"_blank\">http://wandb:8080/ben/kaggle_space-titanic</a>"
      ],
      "text/plain": [
       "<IPython.core.display.HTML object>"
      ]
     },
     "metadata": {},
     "output_type": "display_data"
    },
    {
     "data": {
      "text/html": [
       " View run at <a href='http://wandb:8080/ben/kaggle_space-titanic/runs/zf5flx2s' target=\"_blank\">http://wandb:8080/ben/kaggle_space-titanic/runs/zf5flx2s</a>"
      ],
      "text/plain": [
       "<IPython.core.display.HTML object>"
      ]
     },
     "metadata": {},
     "output_type": "display_data"
    },
    {
     "name": "stdout",
     "output_type": "stream",
     "text": [
      "✅ Labels already normalized, no encoding needed\n",
      "[LightGBM] [Info] Number of positive: 3500, number of negative: 3454\n",
      "[LightGBM] [Info] Auto-choosing col-wise multi-threading, the overhead of testing was 0.001652 seconds.\n",
      "You can set `force_col_wise=true` to remove the overhead.\n",
      "[LightGBM] [Info] Total Bins 2457\n",
      "[LightGBM] [Info] Number of data points in the train set: 6954, number of used features: 37\n",
      "[LightGBM] [Info] [binary:BoostFromScore]: pavg=0.503307 -> initscore=0.013230\n",
      "[LightGBM] [Info] Start training from score 0.013230\n",
      "✅ Finished training sklearn model\n",
      "🏃 View run v31_lightgbm_{'n_estimators': 100, 'max_depth': -1, 'learning_rate': 0.1, 'num_leaves': 31, 'min_child_samples': 20} at: http://mlflow:5000/#/experiments/2/runs/7a37f728da274022aa1b8e31da780afc\n",
      "🧪 View experiment at: http://mlflow:5000/#/experiments/2\n"
     ]
    },
    {
     "data": {
      "text/html": [],
      "text/plain": [
       "<IPython.core.display.HTML object>"
      ]
     },
     "metadata": {},
     "output_type": "display_data"
    },
    {
     "data": {
      "text/html": [
       "<br>    <style><br>        .wandb-row {<br>            display: flex;<br>            flex-direction: row;<br>            flex-wrap: wrap;<br>            justify-content: flex-start;<br>            width: 100%;<br>        }<br>        .wandb-col {<br>            display: flex;<br>            flex-direction: column;<br>            flex-basis: 100%;<br>            flex: 1;<br>            padding: 10px;<br>        }<br>    </style><br><div class=\"wandb-row\"><div class=\"wandb-col\"><h3>Run history:</h3><br/><table class=\"wandb\"><tr><td>accuracy</td><td>▁</td></tr><tr><td>f1_macro</td><td>▁</td></tr><tr><td>f1_weighted</td><td>▁</td></tr><tr><td>precision_weighted</td><td>▁</td></tr><tr><td>recall_weighted</td><td>▁</td></tr><tr><td>roc_auc</td><td>▁</td></tr></table><br/></div><div class=\"wandb-col\"><h3>Run summary:</h3><br/><table class=\"wandb\"><tr><td>accuracy</td><td>0.79413</td></tr><tr><td>f1_macro</td><td>0.79408</td></tr><tr><td>f1_weighted</td><td>0.79412</td></tr><tr><td>precision_weighted</td><td>0.79415</td></tr><tr><td>recall_weighted</td><td>0.79413</td></tr><tr><td>roc_auc</td><td>0.79406</td></tr></table><br/></div></div>"
      ],
      "text/plain": [
       "<IPython.core.display.HTML object>"
      ]
     },
     "metadata": {},
     "output_type": "display_data"
    },
    {
     "data": {
      "text/html": [
       " View run <strong style=\"color:#cdcd00\">v31_lightgbm_{'n_estimators': 100, 'max_depth': -1, 'learning_rate': 0.1, 'num_leaves': 31, 'min_child_samples': 20}</strong> at: <a href='http://wandb:8080/ben/kaggle_space-titanic/runs/zf5flx2s' target=\"_blank\">http://wandb:8080/ben/kaggle_space-titanic/runs/zf5flx2s</a><br> View project at: <a href='http://wandb:8080/ben/kaggle_space-titanic' target=\"_blank\">http://wandb:8080/ben/kaggle_space-titanic</a><br>Synced 5 W&B file(s), 0 media file(s), 0 artifact file(s) and 0 other file(s)"
      ],
      "text/plain": [
       "<IPython.core.display.HTML object>"
      ]
     },
     "metadata": {},
     "output_type": "display_data"
    },
    {
     "data": {
      "text/html": [
       "Find logs at: <code>/home/jovyan/wandb/wandb/run-20250517_210538-zf5flx2s/logs</code>"
      ],
      "text/plain": [
       "<IPython.core.display.HTML object>"
      ]
     },
     "metadata": {},
     "output_type": "display_data"
    },
    {
     "name": "stdout",
     "output_type": "stream",
     "text": [
      "Started MLflow run: 7432aef106444323bc45d058f42e0b42\n"
     ]
    },
    {
     "data": {
      "text/html": [
       "Tracking run with wandb version 0.19.11"
      ],
      "text/plain": [
       "<IPython.core.display.HTML object>"
      ]
     },
     "metadata": {},
     "output_type": "display_data"
    },
    {
     "data": {
      "text/html": [
       "Run data is saved locally in <code>/home/jovyan/wandb/wandb/run-20250517_210539-u9e9brvk</code>"
      ],
      "text/plain": [
       "<IPython.core.display.HTML object>"
      ]
     },
     "metadata": {},
     "output_type": "display_data"
    },
    {
     "data": {
      "text/html": [
       "Syncing run <strong><a href='http://wandb:8080/ben/kaggle_space-titanic/runs/u9e9brvk' target=\"_blank\">v31_lightgbm_{'n_estimators': 100, 'max_depth': -1, 'learning_rate': 0.1, 'num_leaves': 50, 'min_child_samples': 10}</a></strong> to <a href='http://wandb:8080/ben/kaggle_space-titanic' target=\"_blank\">Weights & Biases</a> (<a href='https://wandb.me/developer-guide' target=\"_blank\">docs</a>)<br>"
      ],
      "text/plain": [
       "<IPython.core.display.HTML object>"
      ]
     },
     "metadata": {},
     "output_type": "display_data"
    },
    {
     "data": {
      "text/html": [
       " View project at <a href='http://wandb:8080/ben/kaggle_space-titanic' target=\"_blank\">http://wandb:8080/ben/kaggle_space-titanic</a>"
      ],
      "text/plain": [
       "<IPython.core.display.HTML object>"
      ]
     },
     "metadata": {},
     "output_type": "display_data"
    },
    {
     "data": {
      "text/html": [
       " View run at <a href='http://wandb:8080/ben/kaggle_space-titanic/runs/u9e9brvk' target=\"_blank\">http://wandb:8080/ben/kaggle_space-titanic/runs/u9e9brvk</a>"
      ],
      "text/plain": [
       "<IPython.core.display.HTML object>"
      ]
     },
     "metadata": {},
     "output_type": "display_data"
    },
    {
     "name": "stdout",
     "output_type": "stream",
     "text": [
      "✅ Labels already normalized, no encoding needed\n",
      "[LightGBM] [Info] Number of positive: 3500, number of negative: 3454\n",
      "[LightGBM] [Info] Auto-choosing row-wise multi-threading, the overhead of testing was 0.005585 seconds.\n",
      "You can set `force_row_wise=true` to remove the overhead.\n",
      "And if memory is not enough, you can set `force_col_wise=true`.\n",
      "[LightGBM] [Info] Total Bins 2457\n",
      "[LightGBM] [Info] Number of data points in the train set: 6954, number of used features: 37\n",
      "[LightGBM] [Info] [binary:BoostFromScore]: pavg=0.503307 -> initscore=0.013230\n",
      "[LightGBM] [Info] Start training from score 0.013230\n",
      "✅ Finished training sklearn model\n",
      "🏃 View run v31_lightgbm_{'n_estimators': 100, 'max_depth': -1, 'learning_rate': 0.1, 'num_leaves': 50, 'min_child_samples': 10} at: http://mlflow:5000/#/experiments/2/runs/7432aef106444323bc45d058f42e0b42\n",
      "🧪 View experiment at: http://mlflow:5000/#/experiments/2\n"
     ]
    },
    {
     "data": {
      "text/html": [],
      "text/plain": [
       "<IPython.core.display.HTML object>"
      ]
     },
     "metadata": {},
     "output_type": "display_data"
    },
    {
     "data": {
      "text/html": [
       "<br>    <style><br>        .wandb-row {<br>            display: flex;<br>            flex-direction: row;<br>            flex-wrap: wrap;<br>            justify-content: flex-start;<br>            width: 100%;<br>        }<br>        .wandb-col {<br>            display: flex;<br>            flex-direction: column;<br>            flex-basis: 100%;<br>            flex: 1;<br>            padding: 10px;<br>        }<br>    </style><br><div class=\"wandb-row\"><div class=\"wandb-col\"><h3>Run history:</h3><br/><table class=\"wandb\"><tr><td>accuracy</td><td>▁</td></tr><tr><td>f1_macro</td><td>▁</td></tr><tr><td>f1_weighted</td><td>▁</td></tr><tr><td>precision_weighted</td><td>▁</td></tr><tr><td>recall_weighted</td><td>▁</td></tr><tr><td>roc_auc</td><td>▁</td></tr></table><br/></div><div class=\"wandb-col\"><h3>Run summary:</h3><br/><table class=\"wandb\"><tr><td>accuracy</td><td>0.80046</td></tr><tr><td>f1_macro</td><td>0.80044</td></tr><tr><td>f1_weighted</td><td>0.80043</td></tr><tr><td>precision_weighted</td><td>0.80097</td></tr><tr><td>recall_weighted</td><td>0.80046</td></tr><tr><td>roc_auc</td><td>0.80063</td></tr></table><br/></div></div>"
      ],
      "text/plain": [
       "<IPython.core.display.HTML object>"
      ]
     },
     "metadata": {},
     "output_type": "display_data"
    },
    {
     "data": {
      "text/html": [
       " View run <strong style=\"color:#cdcd00\">v31_lightgbm_{'n_estimators': 100, 'max_depth': -1, 'learning_rate': 0.1, 'num_leaves': 50, 'min_child_samples': 10}</strong> at: <a href='http://wandb:8080/ben/kaggle_space-titanic/runs/u9e9brvk' target=\"_blank\">http://wandb:8080/ben/kaggle_space-titanic/runs/u9e9brvk</a><br> View project at: <a href='http://wandb:8080/ben/kaggle_space-titanic' target=\"_blank\">http://wandb:8080/ben/kaggle_space-titanic</a><br>Synced 5 W&B file(s), 0 media file(s), 0 artifact file(s) and 0 other file(s)"
      ],
      "text/plain": [
       "<IPython.core.display.HTML object>"
      ]
     },
     "metadata": {},
     "output_type": "display_data"
    },
    {
     "data": {
      "text/html": [
       "Find logs at: <code>/home/jovyan/wandb/wandb/run-20250517_210539-u9e9brvk/logs</code>"
      ],
      "text/plain": [
       "<IPython.core.display.HTML object>"
      ]
     },
     "metadata": {},
     "output_type": "display_data"
    },
    {
     "name": "stdout",
     "output_type": "stream",
     "text": [
      "Started MLflow run: 62d7559078c5478cafc652de4779466e\n"
     ]
    },
    {
     "data": {
      "text/html": [
       "Tracking run with wandb version 0.19.11"
      ],
      "text/plain": [
       "<IPython.core.display.HTML object>"
      ]
     },
     "metadata": {},
     "output_type": "display_data"
    },
    {
     "data": {
      "text/html": [
       "Run data is saved locally in <code>/home/jovyan/wandb/wandb/run-20250517_210541-2p0jb864</code>"
      ],
      "text/plain": [
       "<IPython.core.display.HTML object>"
      ]
     },
     "metadata": {},
     "output_type": "display_data"
    },
    {
     "data": {
      "text/html": [
       "Syncing run <strong><a href='http://wandb:8080/ben/kaggle_space-titanic/runs/2p0jb864' target=\"_blank\">v31_lightgbm_{'n_estimators': 100, 'max_depth': -1, 'learning_rate': 0.1, 'num_leaves': 50, 'min_child_samples': 20}</a></strong> to <a href='http://wandb:8080/ben/kaggle_space-titanic' target=\"_blank\">Weights & Biases</a> (<a href='https://wandb.me/developer-guide' target=\"_blank\">docs</a>)<br>"
      ],
      "text/plain": [
       "<IPython.core.display.HTML object>"
      ]
     },
     "metadata": {},
     "output_type": "display_data"
    },
    {
     "data": {
      "text/html": [
       " View project at <a href='http://wandb:8080/ben/kaggle_space-titanic' target=\"_blank\">http://wandb:8080/ben/kaggle_space-titanic</a>"
      ],
      "text/plain": [
       "<IPython.core.display.HTML object>"
      ]
     },
     "metadata": {},
     "output_type": "display_data"
    },
    {
     "data": {
      "text/html": [
       " View run at <a href='http://wandb:8080/ben/kaggle_space-titanic/runs/2p0jb864' target=\"_blank\">http://wandb:8080/ben/kaggle_space-titanic/runs/2p0jb864</a>"
      ],
      "text/plain": [
       "<IPython.core.display.HTML object>"
      ]
     },
     "metadata": {},
     "output_type": "display_data"
    },
    {
     "name": "stdout",
     "output_type": "stream",
     "text": [
      "✅ Labels already normalized, no encoding needed\n",
      "[LightGBM] [Info] Number of positive: 3500, number of negative: 3454\n",
      "[LightGBM] [Info] Auto-choosing row-wise multi-threading, the overhead of testing was 0.002300 seconds.\n",
      "You can set `force_row_wise=true` to remove the overhead.\n",
      "And if memory is not enough, you can set `force_col_wise=true`.\n",
      "[LightGBM] [Info] Total Bins 2457\n",
      "[LightGBM] [Info] Number of data points in the train set: 6954, number of used features: 37\n",
      "[LightGBM] [Info] [binary:BoostFromScore]: pavg=0.503307 -> initscore=0.013230\n",
      "[LightGBM] [Info] Start training from score 0.013230\n",
      "✅ Finished training sklearn model\n",
      "🏃 View run v31_lightgbm_{'n_estimators': 100, 'max_depth': -1, 'learning_rate': 0.1, 'num_leaves': 50, 'min_child_samples': 20} at: http://mlflow:5000/#/experiments/2/runs/62d7559078c5478cafc652de4779466e\n",
      "🧪 View experiment at: http://mlflow:5000/#/experiments/2\n"
     ]
    },
    {
     "data": {
      "text/html": [],
      "text/plain": [
       "<IPython.core.display.HTML object>"
      ]
     },
     "metadata": {},
     "output_type": "display_data"
    },
    {
     "data": {
      "text/html": [
       "<br>    <style><br>        .wandb-row {<br>            display: flex;<br>            flex-direction: row;<br>            flex-wrap: wrap;<br>            justify-content: flex-start;<br>            width: 100%;<br>        }<br>        .wandb-col {<br>            display: flex;<br>            flex-direction: column;<br>            flex-basis: 100%;<br>            flex: 1;<br>            padding: 10px;<br>        }<br>    </style><br><div class=\"wandb-row\"><div class=\"wandb-col\"><h3>Run history:</h3><br/><table class=\"wandb\"><tr><td>accuracy</td><td>▁</td></tr><tr><td>f1_macro</td><td>▁</td></tr><tr><td>f1_weighted</td><td>▁</td></tr><tr><td>precision_weighted</td><td>▁</td></tr><tr><td>recall_weighted</td><td>▁</td></tr><tr><td>roc_auc</td><td>▁</td></tr></table><br/></div><div class=\"wandb-col\"><h3>Run summary:</h3><br/><table class=\"wandb\"><tr><td>accuracy</td><td>0.79298</td></tr><tr><td>f1_macro</td><td>0.79298</td></tr><tr><td>f1_weighted</td><td>0.79299</td></tr><tr><td>precision_weighted</td><td>0.79307</td></tr><tr><td>recall_weighted</td><td>0.79298</td></tr><tr><td>roc_auc</td><td>0.79303</td></tr></table><br/></div></div>"
      ],
      "text/plain": [
       "<IPython.core.display.HTML object>"
      ]
     },
     "metadata": {},
     "output_type": "display_data"
    },
    {
     "data": {
      "text/html": [
       " View run <strong style=\"color:#cdcd00\">v31_lightgbm_{'n_estimators': 100, 'max_depth': -1, 'learning_rate': 0.1, 'num_leaves': 50, 'min_child_samples': 20}</strong> at: <a href='http://wandb:8080/ben/kaggle_space-titanic/runs/2p0jb864' target=\"_blank\">http://wandb:8080/ben/kaggle_space-titanic/runs/2p0jb864</a><br> View project at: <a href='http://wandb:8080/ben/kaggle_space-titanic' target=\"_blank\">http://wandb:8080/ben/kaggle_space-titanic</a><br>Synced 5 W&B file(s), 0 media file(s), 0 artifact file(s) and 0 other file(s)"
      ],
      "text/plain": [
       "<IPython.core.display.HTML object>"
      ]
     },
     "metadata": {},
     "output_type": "display_data"
    },
    {
     "data": {
      "text/html": [
       "Find logs at: <code>/home/jovyan/wandb/wandb/run-20250517_210541-2p0jb864/logs</code>"
      ],
      "text/plain": [
       "<IPython.core.display.HTML object>"
      ]
     },
     "metadata": {},
     "output_type": "display_data"
    },
    {
     "name": "stdout",
     "output_type": "stream",
     "text": [
      "Started MLflow run: d635d6e208db40508af3aa1c641eb03b\n"
     ]
    },
    {
     "data": {
      "text/html": [
       "Tracking run with wandb version 0.19.11"
      ],
      "text/plain": [
       "<IPython.core.display.HTML object>"
      ]
     },
     "metadata": {},
     "output_type": "display_data"
    },
    {
     "data": {
      "text/html": [
       "Run data is saved locally in <code>/home/jovyan/wandb/wandb/run-20250517_210543-lrjzhuad</code>"
      ],
      "text/plain": [
       "<IPython.core.display.HTML object>"
      ]
     },
     "metadata": {},
     "output_type": "display_data"
    },
    {
     "data": {
      "text/html": [
       "Syncing run <strong><a href='http://wandb:8080/ben/kaggle_space-titanic/runs/lrjzhuad' target=\"_blank\">v31_lightgbm_{'n_estimators': 100, 'max_depth': 10, 'learning_rate': 0.01, 'num_leaves': 31, 'min_child_samples': 10}</a></strong> to <a href='http://wandb:8080/ben/kaggle_space-titanic' target=\"_blank\">Weights & Biases</a> (<a href='https://wandb.me/developer-guide' target=\"_blank\">docs</a>)<br>"
      ],
      "text/plain": [
       "<IPython.core.display.HTML object>"
      ]
     },
     "metadata": {},
     "output_type": "display_data"
    },
    {
     "data": {
      "text/html": [
       " View project at <a href='http://wandb:8080/ben/kaggle_space-titanic' target=\"_blank\">http://wandb:8080/ben/kaggle_space-titanic</a>"
      ],
      "text/plain": [
       "<IPython.core.display.HTML object>"
      ]
     },
     "metadata": {},
     "output_type": "display_data"
    },
    {
     "data": {
      "text/html": [
       " View run at <a href='http://wandb:8080/ben/kaggle_space-titanic/runs/lrjzhuad' target=\"_blank\">http://wandb:8080/ben/kaggle_space-titanic/runs/lrjzhuad</a>"
      ],
      "text/plain": [
       "<IPython.core.display.HTML object>"
      ]
     },
     "metadata": {},
     "output_type": "display_data"
    },
    {
     "name": "stdout",
     "output_type": "stream",
     "text": [
      "✅ Labels already normalized, no encoding needed\n",
      "[LightGBM] [Info] Number of positive: 3500, number of negative: 3454\n",
      "[LightGBM] [Info] Auto-choosing row-wise multi-threading, the overhead of testing was 0.004077 seconds.\n",
      "You can set `force_row_wise=true` to remove the overhead.\n",
      "And if memory is not enough, you can set `force_col_wise=true`.\n",
      "[LightGBM] [Info] Total Bins 2457\n",
      "[LightGBM] [Info] Number of data points in the train set: 6954, number of used features: 37\n",
      "[LightGBM] [Info] [binary:BoostFromScore]: pavg=0.503307 -> initscore=0.013230\n",
      "[LightGBM] [Info] Start training from score 0.013230\n",
      "✅ Finished training sklearn model\n",
      "🏃 View run v31_lightgbm_{'n_estimators': 100, 'max_depth': 10, 'learning_rate': 0.01, 'num_leaves': 31, 'min_child_samples': 10} at: http://mlflow:5000/#/experiments/2/runs/d635d6e208db40508af3aa1c641eb03b\n",
      "🧪 View experiment at: http://mlflow:5000/#/experiments/2\n"
     ]
    },
    {
     "data": {
      "text/html": [],
      "text/plain": [
       "<IPython.core.display.HTML object>"
      ]
     },
     "metadata": {},
     "output_type": "display_data"
    },
    {
     "data": {
      "text/html": [
       "<br>    <style><br>        .wandb-row {<br>            display: flex;<br>            flex-direction: row;<br>            flex-wrap: wrap;<br>            justify-content: flex-start;<br>            width: 100%;<br>        }<br>        .wandb-col {<br>            display: flex;<br>            flex-direction: column;<br>            flex-basis: 100%;<br>            flex: 1;<br>            padding: 10px;<br>        }<br>    </style><br><div class=\"wandb-row\"><div class=\"wandb-col\"><h3>Run history:</h3><br/><table class=\"wandb\"><tr><td>accuracy</td><td>▁</td></tr><tr><td>f1_macro</td><td>▁</td></tr><tr><td>f1_weighted</td><td>▁</td></tr><tr><td>precision_weighted</td><td>▁</td></tr><tr><td>recall_weighted</td><td>▁</td></tr><tr><td>roc_auc</td><td>▁</td></tr></table><br/></div><div class=\"wandb-col\"><h3>Run summary:</h3><br/><table class=\"wandb\"><tr><td>accuracy</td><td>0.78436</td></tr><tr><td>f1_macro</td><td>0.78349</td></tr><tr><td>f1_weighted</td><td>0.78363</td></tr><tr><td>precision_weighted</td><td>0.78743</td></tr><tr><td>recall_weighted</td><td>0.78436</td></tr><tr><td>roc_auc</td><td>0.78382</td></tr></table><br/></div></div>"
      ],
      "text/plain": [
       "<IPython.core.display.HTML object>"
      ]
     },
     "metadata": {},
     "output_type": "display_data"
    },
    {
     "data": {
      "text/html": [
       " View run <strong style=\"color:#cdcd00\">v31_lightgbm_{'n_estimators': 100, 'max_depth': 10, 'learning_rate': 0.01, 'num_leaves': 31, 'min_child_samples': 10}</strong> at: <a href='http://wandb:8080/ben/kaggle_space-titanic/runs/lrjzhuad' target=\"_blank\">http://wandb:8080/ben/kaggle_space-titanic/runs/lrjzhuad</a><br> View project at: <a href='http://wandb:8080/ben/kaggle_space-titanic' target=\"_blank\">http://wandb:8080/ben/kaggle_space-titanic</a><br>Synced 5 W&B file(s), 0 media file(s), 0 artifact file(s) and 0 other file(s)"
      ],
      "text/plain": [
       "<IPython.core.display.HTML object>"
      ]
     },
     "metadata": {},
     "output_type": "display_data"
    },
    {
     "data": {
      "text/html": [
       "Find logs at: <code>/home/jovyan/wandb/wandb/run-20250517_210543-lrjzhuad/logs</code>"
      ],
      "text/plain": [
       "<IPython.core.display.HTML object>"
      ]
     },
     "metadata": {},
     "output_type": "display_data"
    },
    {
     "name": "stdout",
     "output_type": "stream",
     "text": [
      "Started MLflow run: a2306c2710cf4c7fb7a7daac7ea52c4e\n"
     ]
    },
    {
     "data": {
      "text/html": [
       "Tracking run with wandb version 0.19.11"
      ],
      "text/plain": [
       "<IPython.core.display.HTML object>"
      ]
     },
     "metadata": {},
     "output_type": "display_data"
    },
    {
     "data": {
      "text/html": [
       "Run data is saved locally in <code>/home/jovyan/wandb/wandb/run-20250517_210545-ztblecpf</code>"
      ],
      "text/plain": [
       "<IPython.core.display.HTML object>"
      ]
     },
     "metadata": {},
     "output_type": "display_data"
    },
    {
     "data": {
      "text/html": [
       "Syncing run <strong><a href='http://wandb:8080/ben/kaggle_space-titanic/runs/ztblecpf' target=\"_blank\">v31_lightgbm_{'n_estimators': 100, 'max_depth': 10, 'learning_rate': 0.01, 'num_leaves': 31, 'min_child_samples': 20}</a></strong> to <a href='http://wandb:8080/ben/kaggle_space-titanic' target=\"_blank\">Weights & Biases</a> (<a href='https://wandb.me/developer-guide' target=\"_blank\">docs</a>)<br>"
      ],
      "text/plain": [
       "<IPython.core.display.HTML object>"
      ]
     },
     "metadata": {},
     "output_type": "display_data"
    },
    {
     "data": {
      "text/html": [
       " View project at <a href='http://wandb:8080/ben/kaggle_space-titanic' target=\"_blank\">http://wandb:8080/ben/kaggle_space-titanic</a>"
      ],
      "text/plain": [
       "<IPython.core.display.HTML object>"
      ]
     },
     "metadata": {},
     "output_type": "display_data"
    },
    {
     "data": {
      "text/html": [
       " View run at <a href='http://wandb:8080/ben/kaggle_space-titanic/runs/ztblecpf' target=\"_blank\">http://wandb:8080/ben/kaggle_space-titanic/runs/ztblecpf</a>"
      ],
      "text/plain": [
       "<IPython.core.display.HTML object>"
      ]
     },
     "metadata": {},
     "output_type": "display_data"
    },
    {
     "name": "stdout",
     "output_type": "stream",
     "text": [
      "✅ Labels already normalized, no encoding needed\n",
      "[LightGBM] [Info] Number of positive: 3500, number of negative: 3454\n",
      "[LightGBM] [Info] Auto-choosing col-wise multi-threading, the overhead of testing was 0.004371 seconds.\n",
      "You can set `force_col_wise=true` to remove the overhead.\n",
      "[LightGBM] [Info] Total Bins 2457\n",
      "[LightGBM] [Info] Number of data points in the train set: 6954, number of used features: 37\n",
      "[LightGBM] [Info] [binary:BoostFromScore]: pavg=0.503307 -> initscore=0.013230\n",
      "[LightGBM] [Info] Start training from score 0.013230\n",
      "✅ Finished training sklearn model\n",
      "🏃 View run v31_lightgbm_{'n_estimators': 100, 'max_depth': 10, 'learning_rate': 0.01, 'num_leaves': 31, 'min_child_samples': 20} at: http://mlflow:5000/#/experiments/2/runs/a2306c2710cf4c7fb7a7daac7ea52c4e\n",
      "🧪 View experiment at: http://mlflow:5000/#/experiments/2\n"
     ]
    },
    {
     "data": {
      "text/html": [],
      "text/plain": [
       "<IPython.core.display.HTML object>"
      ]
     },
     "metadata": {},
     "output_type": "display_data"
    },
    {
     "data": {
      "text/html": [
       "<br>    <style><br>        .wandb-row {<br>            display: flex;<br>            flex-direction: row;<br>            flex-wrap: wrap;<br>            justify-content: flex-start;<br>            width: 100%;<br>        }<br>        .wandb-col {<br>            display: flex;<br>            flex-direction: column;<br>            flex-basis: 100%;<br>            flex: 1;<br>            padding: 10px;<br>        }<br>    </style><br><div class=\"wandb-row\"><div class=\"wandb-col\"><h3>Run history:</h3><br/><table class=\"wandb\"><tr><td>accuracy</td><td>▁</td></tr><tr><td>f1_macro</td><td>▁</td></tr><tr><td>f1_weighted</td><td>▁</td></tr><tr><td>precision_weighted</td><td>▁</td></tr><tr><td>recall_weighted</td><td>▁</td></tr><tr><td>roc_auc</td><td>▁</td></tr></table><br/></div><div class=\"wandb-col\"><h3>Run summary:</h3><br/><table class=\"wandb\"><tr><td>accuracy</td><td>0.78551</td></tr><tr><td>f1_macro</td><td>0.78477</td></tr><tr><td>f1_weighted</td><td>0.78489</td></tr><tr><td>precision_weighted</td><td>0.78806</td></tr><tr><td>recall_weighted</td><td>0.78551</td></tr><tr><td>roc_auc</td><td>0.78501</td></tr></table><br/></div></div>"
      ],
      "text/plain": [
       "<IPython.core.display.HTML object>"
      ]
     },
     "metadata": {},
     "output_type": "display_data"
    },
    {
     "data": {
      "text/html": [
       " View run <strong style=\"color:#cdcd00\">v31_lightgbm_{'n_estimators': 100, 'max_depth': 10, 'learning_rate': 0.01, 'num_leaves': 31, 'min_child_samples': 20}</strong> at: <a href='http://wandb:8080/ben/kaggle_space-titanic/runs/ztblecpf' target=\"_blank\">http://wandb:8080/ben/kaggle_space-titanic/runs/ztblecpf</a><br> View project at: <a href='http://wandb:8080/ben/kaggle_space-titanic' target=\"_blank\">http://wandb:8080/ben/kaggle_space-titanic</a><br>Synced 5 W&B file(s), 0 media file(s), 0 artifact file(s) and 0 other file(s)"
      ],
      "text/plain": [
       "<IPython.core.display.HTML object>"
      ]
     },
     "metadata": {},
     "output_type": "display_data"
    },
    {
     "data": {
      "text/html": [
       "Find logs at: <code>/home/jovyan/wandb/wandb/run-20250517_210545-ztblecpf/logs</code>"
      ],
      "text/plain": [
       "<IPython.core.display.HTML object>"
      ]
     },
     "metadata": {},
     "output_type": "display_data"
    },
    {
     "name": "stdout",
     "output_type": "stream",
     "text": [
      "Started MLflow run: 02f8e4a455034785a94f7874d803a3d4\n"
     ]
    },
    {
     "data": {
      "text/html": [
       "Tracking run with wandb version 0.19.11"
      ],
      "text/plain": [
       "<IPython.core.display.HTML object>"
      ]
     },
     "metadata": {},
     "output_type": "display_data"
    },
    {
     "data": {
      "text/html": [
       "Run data is saved locally in <code>/home/jovyan/wandb/wandb/run-20250517_210546-hk8zd2nb</code>"
      ],
      "text/plain": [
       "<IPython.core.display.HTML object>"
      ]
     },
     "metadata": {},
     "output_type": "display_data"
    },
    {
     "data": {
      "text/html": [
       "Syncing run <strong><a href='http://wandb:8080/ben/kaggle_space-titanic/runs/hk8zd2nb' target=\"_blank\">v31_lightgbm_{'n_estimators': 100, 'max_depth': 10, 'learning_rate': 0.01, 'num_leaves': 50, 'min_child_samples': 10}</a></strong> to <a href='http://wandb:8080/ben/kaggle_space-titanic' target=\"_blank\">Weights & Biases</a> (<a href='https://wandb.me/developer-guide' target=\"_blank\">docs</a>)<br>"
      ],
      "text/plain": [
       "<IPython.core.display.HTML object>"
      ]
     },
     "metadata": {},
     "output_type": "display_data"
    },
    {
     "data": {
      "text/html": [
       " View project at <a href='http://wandb:8080/ben/kaggle_space-titanic' target=\"_blank\">http://wandb:8080/ben/kaggle_space-titanic</a>"
      ],
      "text/plain": [
       "<IPython.core.display.HTML object>"
      ]
     },
     "metadata": {},
     "output_type": "display_data"
    },
    {
     "data": {
      "text/html": [
       " View run at <a href='http://wandb:8080/ben/kaggle_space-titanic/runs/hk8zd2nb' target=\"_blank\">http://wandb:8080/ben/kaggle_space-titanic/runs/hk8zd2nb</a>"
      ],
      "text/plain": [
       "<IPython.core.display.HTML object>"
      ]
     },
     "metadata": {},
     "output_type": "display_data"
    },
    {
     "name": "stdout",
     "output_type": "stream",
     "text": [
      "✅ Labels already normalized, no encoding needed\n",
      "[LightGBM] [Info] Number of positive: 3500, number of negative: 3454\n",
      "[LightGBM] [Info] Auto-choosing row-wise multi-threading, the overhead of testing was 0.007689 seconds.\n",
      "You can set `force_row_wise=true` to remove the overhead.\n",
      "And if memory is not enough, you can set `force_col_wise=true`.\n",
      "[LightGBM] [Info] Total Bins 2457\n",
      "[LightGBM] [Info] Number of data points in the train set: 6954, number of used features: 37\n",
      "[LightGBM] [Info] [binary:BoostFromScore]: pavg=0.503307 -> initscore=0.013230\n",
      "[LightGBM] [Info] Start training from score 0.013230\n",
      "✅ Finished training sklearn model\n",
      "🏃 View run v31_lightgbm_{'n_estimators': 100, 'max_depth': 10, 'learning_rate': 0.01, 'num_leaves': 50, 'min_child_samples': 10} at: http://mlflow:5000/#/experiments/2/runs/02f8e4a455034785a94f7874d803a3d4\n",
      "🧪 View experiment at: http://mlflow:5000/#/experiments/2\n"
     ]
    },
    {
     "data": {
      "text/html": [],
      "text/plain": [
       "<IPython.core.display.HTML object>"
      ]
     },
     "metadata": {},
     "output_type": "display_data"
    },
    {
     "data": {
      "text/html": [
       "<br>    <style><br>        .wandb-row {<br>            display: flex;<br>            flex-direction: row;<br>            flex-wrap: wrap;<br>            justify-content: flex-start;<br>            width: 100%;<br>        }<br>        .wandb-col {<br>            display: flex;<br>            flex-direction: column;<br>            flex-basis: 100%;<br>            flex: 1;<br>            padding: 10px;<br>        }<br>    </style><br><div class=\"wandb-row\"><div class=\"wandb-col\"><h3>Run history:</h3><br/><table class=\"wandb\"><tr><td>accuracy</td><td>▁</td></tr><tr><td>f1_macro</td><td>▁</td></tr><tr><td>f1_weighted</td><td>▁</td></tr><tr><td>precision_weighted</td><td>▁</td></tr><tr><td>recall_weighted</td><td>▁</td></tr><tr><td>roc_auc</td><td>▁</td></tr></table><br/></div><div class=\"wandb-col\"><h3>Run summary:</h3><br/><table class=\"wandb\"><tr><td>accuracy</td><td>0.77976</td></tr><tr><td>f1_macro</td><td>0.77922</td></tr><tr><td>f1_weighted</td><td>0.77933</td></tr><tr><td>precision_weighted</td><td>0.78136</td></tr><tr><td>recall_weighted</td><td>0.77976</td></tr><tr><td>roc_auc</td><td>0.77935</td></tr></table><br/></div></div>"
      ],
      "text/plain": [
       "<IPython.core.display.HTML object>"
      ]
     },
     "metadata": {},
     "output_type": "display_data"
    },
    {
     "data": {
      "text/html": [
       " View run <strong style=\"color:#cdcd00\">v31_lightgbm_{'n_estimators': 100, 'max_depth': 10, 'learning_rate': 0.01, 'num_leaves': 50, 'min_child_samples': 10}</strong> at: <a href='http://wandb:8080/ben/kaggle_space-titanic/runs/hk8zd2nb' target=\"_blank\">http://wandb:8080/ben/kaggle_space-titanic/runs/hk8zd2nb</a><br> View project at: <a href='http://wandb:8080/ben/kaggle_space-titanic' target=\"_blank\">http://wandb:8080/ben/kaggle_space-titanic</a><br>Synced 5 W&B file(s), 0 media file(s), 0 artifact file(s) and 0 other file(s)"
      ],
      "text/plain": [
       "<IPython.core.display.HTML object>"
      ]
     },
     "metadata": {},
     "output_type": "display_data"
    },
    {
     "data": {
      "text/html": [
       "Find logs at: <code>/home/jovyan/wandb/wandb/run-20250517_210546-hk8zd2nb/logs</code>"
      ],
      "text/plain": [
       "<IPython.core.display.HTML object>"
      ]
     },
     "metadata": {},
     "output_type": "display_data"
    },
    {
     "name": "stdout",
     "output_type": "stream",
     "text": [
      "Started MLflow run: 9f0f42753ed848828f71ba37af187f3b\n"
     ]
    },
    {
     "data": {
      "text/html": [
       "Tracking run with wandb version 0.19.11"
      ],
      "text/plain": [
       "<IPython.core.display.HTML object>"
      ]
     },
     "metadata": {},
     "output_type": "display_data"
    },
    {
     "data": {
      "text/html": [
       "Run data is saved locally in <code>/home/jovyan/wandb/wandb/run-20250517_210548-5buhcufc</code>"
      ],
      "text/plain": [
       "<IPython.core.display.HTML object>"
      ]
     },
     "metadata": {},
     "output_type": "display_data"
    },
    {
     "data": {
      "text/html": [
       "Syncing run <strong><a href='http://wandb:8080/ben/kaggle_space-titanic/runs/5buhcufc' target=\"_blank\">v31_lightgbm_{'n_estimators': 100, 'max_depth': 10, 'learning_rate': 0.01, 'num_leaves': 50, 'min_child_samples': 20}</a></strong> to <a href='http://wandb:8080/ben/kaggle_space-titanic' target=\"_blank\">Weights & Biases</a> (<a href='https://wandb.me/developer-guide' target=\"_blank\">docs</a>)<br>"
      ],
      "text/plain": [
       "<IPython.core.display.HTML object>"
      ]
     },
     "metadata": {},
     "output_type": "display_data"
    },
    {
     "data": {
      "text/html": [
       " View project at <a href='http://wandb:8080/ben/kaggle_space-titanic' target=\"_blank\">http://wandb:8080/ben/kaggle_space-titanic</a>"
      ],
      "text/plain": [
       "<IPython.core.display.HTML object>"
      ]
     },
     "metadata": {},
     "output_type": "display_data"
    },
    {
     "data": {
      "text/html": [
       " View run at <a href='http://wandb:8080/ben/kaggle_space-titanic/runs/5buhcufc' target=\"_blank\">http://wandb:8080/ben/kaggle_space-titanic/runs/5buhcufc</a>"
      ],
      "text/plain": [
       "<IPython.core.display.HTML object>"
      ]
     },
     "metadata": {},
     "output_type": "display_data"
    },
    {
     "name": "stdout",
     "output_type": "stream",
     "text": [
      "✅ Labels already normalized, no encoding needed\n",
      "[LightGBM] [Info] Number of positive: 3500, number of negative: 3454\n",
      "[LightGBM] [Info] Auto-choosing row-wise multi-threading, the overhead of testing was 0.016584 seconds.\n",
      "You can set `force_row_wise=true` to remove the overhead.\n",
      "And if memory is not enough, you can set `force_col_wise=true`.\n",
      "[LightGBM] [Info] Total Bins 2457\n",
      "[LightGBM] [Info] Number of data points in the train set: 6954, number of used features: 37\n",
      "[LightGBM] [Info] [binary:BoostFromScore]: pavg=0.503307 -> initscore=0.013230\n",
      "[LightGBM] [Info] Start training from score 0.013230\n",
      "✅ Finished training sklearn model\n",
      "🏃 View run v31_lightgbm_{'n_estimators': 100, 'max_depth': 10, 'learning_rate': 0.01, 'num_leaves': 50, 'min_child_samples': 20} at: http://mlflow:5000/#/experiments/2/runs/9f0f42753ed848828f71ba37af187f3b\n",
      "🧪 View experiment at: http://mlflow:5000/#/experiments/2\n"
     ]
    },
    {
     "data": {
      "text/html": [],
      "text/plain": [
       "<IPython.core.display.HTML object>"
      ]
     },
     "metadata": {},
     "output_type": "display_data"
    },
    {
     "data": {
      "text/html": [
       "<br>    <style><br>        .wandb-row {<br>            display: flex;<br>            flex-direction: row;<br>            flex-wrap: wrap;<br>            justify-content: flex-start;<br>            width: 100%;<br>        }<br>        .wandb-col {<br>            display: flex;<br>            flex-direction: column;<br>            flex-basis: 100%;<br>            flex: 1;<br>            padding: 10px;<br>        }<br>    </style><br><div class=\"wandb-row\"><div class=\"wandb-col\"><h3>Run history:</h3><br/><table class=\"wandb\"><tr><td>accuracy</td><td>▁</td></tr><tr><td>f1_macro</td><td>▁</td></tr><tr><td>f1_weighted</td><td>▁</td></tr><tr><td>precision_weighted</td><td>▁</td></tr><tr><td>recall_weighted</td><td>▁</td></tr><tr><td>roc_auc</td><td>▁</td></tr></table><br/></div><div class=\"wandb-col\"><h3>Run summary:</h3><br/><table class=\"wandb\"><tr><td>accuracy</td><td>0.77918</td></tr><tr><td>f1_macro</td><td>0.7786</td></tr><tr><td>f1_weighted</td><td>0.77871</td></tr><tr><td>precision_weighted</td><td>0.78093</td></tr><tr><td>recall_weighted</td><td>0.77918</td></tr><tr><td>roc_auc</td><td>0.77876</td></tr></table><br/></div></div>"
      ],
      "text/plain": [
       "<IPython.core.display.HTML object>"
      ]
     },
     "metadata": {},
     "output_type": "display_data"
    },
    {
     "data": {
      "text/html": [
       " View run <strong style=\"color:#cdcd00\">v31_lightgbm_{'n_estimators': 100, 'max_depth': 10, 'learning_rate': 0.01, 'num_leaves': 50, 'min_child_samples': 20}</strong> at: <a href='http://wandb:8080/ben/kaggle_space-titanic/runs/5buhcufc' target=\"_blank\">http://wandb:8080/ben/kaggle_space-titanic/runs/5buhcufc</a><br> View project at: <a href='http://wandb:8080/ben/kaggle_space-titanic' target=\"_blank\">http://wandb:8080/ben/kaggle_space-titanic</a><br>Synced 5 W&B file(s), 0 media file(s), 0 artifact file(s) and 0 other file(s)"
      ],
      "text/plain": [
       "<IPython.core.display.HTML object>"
      ]
     },
     "metadata": {},
     "output_type": "display_data"
    },
    {
     "data": {
      "text/html": [
       "Find logs at: <code>/home/jovyan/wandb/wandb/run-20250517_210548-5buhcufc/logs</code>"
      ],
      "text/plain": [
       "<IPython.core.display.HTML object>"
      ]
     },
     "metadata": {},
     "output_type": "display_data"
    },
    {
     "name": "stdout",
     "output_type": "stream",
     "text": [
      "Started MLflow run: 7dbdce95895a40a9a38d2464b7685b2e\n"
     ]
    },
    {
     "data": {
      "text/html": [
       "Tracking run with wandb version 0.19.11"
      ],
      "text/plain": [
       "<IPython.core.display.HTML object>"
      ]
     },
     "metadata": {},
     "output_type": "display_data"
    },
    {
     "data": {
      "text/html": [
       "Run data is saved locally in <code>/home/jovyan/wandb/wandb/run-20250517_210550-cv8r3g3v</code>"
      ],
      "text/plain": [
       "<IPython.core.display.HTML object>"
      ]
     },
     "metadata": {},
     "output_type": "display_data"
    },
    {
     "data": {
      "text/html": [
       "Syncing run <strong><a href='http://wandb:8080/ben/kaggle_space-titanic/runs/cv8r3g3v' target=\"_blank\">v31_lightgbm_{'n_estimators': 100, 'max_depth': 10, 'learning_rate': 0.1, 'num_leaves': 31, 'min_child_samples': 10}</a></strong> to <a href='http://wandb:8080/ben/kaggle_space-titanic' target=\"_blank\">Weights & Biases</a> (<a href='https://wandb.me/developer-guide' target=\"_blank\">docs</a>)<br>"
      ],
      "text/plain": [
       "<IPython.core.display.HTML object>"
      ]
     },
     "metadata": {},
     "output_type": "display_data"
    },
    {
     "data": {
      "text/html": [
       " View project at <a href='http://wandb:8080/ben/kaggle_space-titanic' target=\"_blank\">http://wandb:8080/ben/kaggle_space-titanic</a>"
      ],
      "text/plain": [
       "<IPython.core.display.HTML object>"
      ]
     },
     "metadata": {},
     "output_type": "display_data"
    },
    {
     "data": {
      "text/html": [
       " View run at <a href='http://wandb:8080/ben/kaggle_space-titanic/runs/cv8r3g3v' target=\"_blank\">http://wandb:8080/ben/kaggle_space-titanic/runs/cv8r3g3v</a>"
      ],
      "text/plain": [
       "<IPython.core.display.HTML object>"
      ]
     },
     "metadata": {},
     "output_type": "display_data"
    },
    {
     "name": "stdout",
     "output_type": "stream",
     "text": [
      "✅ Labels already normalized, no encoding needed\n",
      "[LightGBM] [Info] Number of positive: 3500, number of negative: 3454\n",
      "[LightGBM] [Info] Auto-choosing row-wise multi-threading, the overhead of testing was 0.010464 seconds.\n",
      "You can set `force_row_wise=true` to remove the overhead.\n",
      "And if memory is not enough, you can set `force_col_wise=true`.\n",
      "[LightGBM] [Info] Total Bins 2457\n",
      "[LightGBM] [Info] Number of data points in the train set: 6954, number of used features: 37\n",
      "[LightGBM] [Info] [binary:BoostFromScore]: pavg=0.503307 -> initscore=0.013230\n",
      "[LightGBM] [Info] Start training from score 0.013230\n",
      "✅ Finished training sklearn model\n",
      "🏃 View run v31_lightgbm_{'n_estimators': 100, 'max_depth': 10, 'learning_rate': 0.1, 'num_leaves': 31, 'min_child_samples': 10} at: http://mlflow:5000/#/experiments/2/runs/7dbdce95895a40a9a38d2464b7685b2e\n",
      "🧪 View experiment at: http://mlflow:5000/#/experiments/2\n"
     ]
    },
    {
     "data": {
      "text/html": [],
      "text/plain": [
       "<IPython.core.display.HTML object>"
      ]
     },
     "metadata": {},
     "output_type": "display_data"
    },
    {
     "data": {
      "text/html": [
       "<br>    <style><br>        .wandb-row {<br>            display: flex;<br>            flex-direction: row;<br>            flex-wrap: wrap;<br>            justify-content: flex-start;<br>            width: 100%;<br>        }<br>        .wandb-col {<br>            display: flex;<br>            flex-direction: column;<br>            flex-basis: 100%;<br>            flex: 1;<br>            padding: 10px;<br>        }<br>    </style><br><div class=\"wandb-row\"><div class=\"wandb-col\"><h3>Run history:</h3><br/><table class=\"wandb\"><tr><td>accuracy</td><td>▁</td></tr><tr><td>f1_macro</td><td>▁</td></tr><tr><td>f1_weighted</td><td>▁</td></tr><tr><td>precision_weighted</td><td>▁</td></tr><tr><td>recall_weighted</td><td>▁</td></tr><tr><td>roc_auc</td><td>▁</td></tr></table><br/></div><div class=\"wandb-col\"><h3>Run summary:</h3><br/><table class=\"wandb\"><tr><td>accuracy</td><td>0.80046</td></tr><tr><td>f1_macro</td><td>0.80045</td></tr><tr><td>f1_weighted</td><td>0.80046</td></tr><tr><td>precision_weighted</td><td>0.8005</td></tr><tr><td>recall_weighted</td><td>0.80046</td></tr><tr><td>roc_auc</td><td>0.80048</td></tr></table><br/></div></div>"
      ],
      "text/plain": [
       "<IPython.core.display.HTML object>"
      ]
     },
     "metadata": {},
     "output_type": "display_data"
    },
    {
     "data": {
      "text/html": [
       " View run <strong style=\"color:#cdcd00\">v31_lightgbm_{'n_estimators': 100, 'max_depth': 10, 'learning_rate': 0.1, 'num_leaves': 31, 'min_child_samples': 10}</strong> at: <a href='http://wandb:8080/ben/kaggle_space-titanic/runs/cv8r3g3v' target=\"_blank\">http://wandb:8080/ben/kaggle_space-titanic/runs/cv8r3g3v</a><br> View project at: <a href='http://wandb:8080/ben/kaggle_space-titanic' target=\"_blank\">http://wandb:8080/ben/kaggle_space-titanic</a><br>Synced 5 W&B file(s), 0 media file(s), 0 artifact file(s) and 0 other file(s)"
      ],
      "text/plain": [
       "<IPython.core.display.HTML object>"
      ]
     },
     "metadata": {},
     "output_type": "display_data"
    },
    {
     "data": {
      "text/html": [
       "Find logs at: <code>/home/jovyan/wandb/wandb/run-20250517_210550-cv8r3g3v/logs</code>"
      ],
      "text/plain": [
       "<IPython.core.display.HTML object>"
      ]
     },
     "metadata": {},
     "output_type": "display_data"
    },
    {
     "name": "stdout",
     "output_type": "stream",
     "text": [
      "Started MLflow run: a5855d7b8f77498aa3a25bf4dc59e259\n"
     ]
    },
    {
     "data": {
      "text/html": [
       "Tracking run with wandb version 0.19.11"
      ],
      "text/plain": [
       "<IPython.core.display.HTML object>"
      ]
     },
     "metadata": {},
     "output_type": "display_data"
    },
    {
     "data": {
      "text/html": [
       "Run data is saved locally in <code>/home/jovyan/wandb/wandb/run-20250517_210551-wbm7h2i4</code>"
      ],
      "text/plain": [
       "<IPython.core.display.HTML object>"
      ]
     },
     "metadata": {},
     "output_type": "display_data"
    },
    {
     "data": {
      "text/html": [
       "Syncing run <strong><a href='http://wandb:8080/ben/kaggle_space-titanic/runs/wbm7h2i4' target=\"_blank\">v31_lightgbm_{'n_estimators': 100, 'max_depth': 10, 'learning_rate': 0.1, 'num_leaves': 31, 'min_child_samples': 20}</a></strong> to <a href='http://wandb:8080/ben/kaggle_space-titanic' target=\"_blank\">Weights & Biases</a> (<a href='https://wandb.me/developer-guide' target=\"_blank\">docs</a>)<br>"
      ],
      "text/plain": [
       "<IPython.core.display.HTML object>"
      ]
     },
     "metadata": {},
     "output_type": "display_data"
    },
    {
     "data": {
      "text/html": [
       " View project at <a href='http://wandb:8080/ben/kaggle_space-titanic' target=\"_blank\">http://wandb:8080/ben/kaggle_space-titanic</a>"
      ],
      "text/plain": [
       "<IPython.core.display.HTML object>"
      ]
     },
     "metadata": {},
     "output_type": "display_data"
    },
    {
     "data": {
      "text/html": [
       " View run at <a href='http://wandb:8080/ben/kaggle_space-titanic/runs/wbm7h2i4' target=\"_blank\">http://wandb:8080/ben/kaggle_space-titanic/runs/wbm7h2i4</a>"
      ],
      "text/plain": [
       "<IPython.core.display.HTML object>"
      ]
     },
     "metadata": {},
     "output_type": "display_data"
    },
    {
     "name": "stdout",
     "output_type": "stream",
     "text": [
      "✅ Labels already normalized, no encoding needed\n",
      "[LightGBM] [Info] Number of positive: 3500, number of negative: 3454\n",
      "[LightGBM] [Info] Auto-choosing row-wise multi-threading, the overhead of testing was 0.002415 seconds.\n",
      "You can set `force_row_wise=true` to remove the overhead.\n",
      "And if memory is not enough, you can set `force_col_wise=true`.\n",
      "[LightGBM] [Info] Total Bins 2457\n",
      "[LightGBM] [Info] Number of data points in the train set: 6954, number of used features: 37\n",
      "[LightGBM] [Info] [binary:BoostFromScore]: pavg=0.503307 -> initscore=0.013230\n",
      "[LightGBM] [Info] Start training from score 0.013230\n",
      "✅ Finished training sklearn model\n",
      "🏃 View run v31_lightgbm_{'n_estimators': 100, 'max_depth': 10, 'learning_rate': 0.1, 'num_leaves': 31, 'min_child_samples': 20} at: http://mlflow:5000/#/experiments/2/runs/a5855d7b8f77498aa3a25bf4dc59e259\n",
      "🧪 View experiment at: http://mlflow:5000/#/experiments/2\n"
     ]
    },
    {
     "data": {
      "text/html": [],
      "text/plain": [
       "<IPython.core.display.HTML object>"
      ]
     },
     "metadata": {},
     "output_type": "display_data"
    },
    {
     "data": {
      "text/html": [
       "<br>    <style><br>        .wandb-row {<br>            display: flex;<br>            flex-direction: row;<br>            flex-wrap: wrap;<br>            justify-content: flex-start;<br>            width: 100%;<br>        }<br>        .wandb-col {<br>            display: flex;<br>            flex-direction: column;<br>            flex-basis: 100%;<br>            flex: 1;<br>            padding: 10px;<br>        }<br>    </style><br><div class=\"wandb-row\"><div class=\"wandb-col\"><h3>Run history:</h3><br/><table class=\"wandb\"><tr><td>accuracy</td><td>▁</td></tr><tr><td>f1_macro</td><td>▁</td></tr><tr><td>f1_weighted</td><td>▁</td></tr><tr><td>precision_weighted</td><td>▁</td></tr><tr><td>recall_weighted</td><td>▁</td></tr><tr><td>roc_auc</td><td>▁</td></tr></table><br/></div><div class=\"wandb-col\"><h3>Run summary:</h3><br/><table class=\"wandb\"><tr><td>accuracy</td><td>0.79356</td></tr><tr><td>f1_macro</td><td>0.79355</td></tr><tr><td>f1_weighted</td><td>0.79356</td></tr><tr><td>precision_weighted</td><td>0.79357</td></tr><tr><td>recall_weighted</td><td>0.79356</td></tr><tr><td>roc_auc</td><td>0.79356</td></tr></table><br/></div></div>"
      ],
      "text/plain": [
       "<IPython.core.display.HTML object>"
      ]
     },
     "metadata": {},
     "output_type": "display_data"
    },
    {
     "data": {
      "text/html": [
       " View run <strong style=\"color:#cdcd00\">v31_lightgbm_{'n_estimators': 100, 'max_depth': 10, 'learning_rate': 0.1, 'num_leaves': 31, 'min_child_samples': 20}</strong> at: <a href='http://wandb:8080/ben/kaggle_space-titanic/runs/wbm7h2i4' target=\"_blank\">http://wandb:8080/ben/kaggle_space-titanic/runs/wbm7h2i4</a><br> View project at: <a href='http://wandb:8080/ben/kaggle_space-titanic' target=\"_blank\">http://wandb:8080/ben/kaggle_space-titanic</a><br>Synced 5 W&B file(s), 0 media file(s), 0 artifact file(s) and 0 other file(s)"
      ],
      "text/plain": [
       "<IPython.core.display.HTML object>"
      ]
     },
     "metadata": {},
     "output_type": "display_data"
    },
    {
     "data": {
      "text/html": [
       "Find logs at: <code>/home/jovyan/wandb/wandb/run-20250517_210551-wbm7h2i4/logs</code>"
      ],
      "text/plain": [
       "<IPython.core.display.HTML object>"
      ]
     },
     "metadata": {},
     "output_type": "display_data"
    },
    {
     "name": "stdout",
     "output_type": "stream",
     "text": [
      "Started MLflow run: d2fba8893d3545c9aa1ef689fa371559\n"
     ]
    },
    {
     "data": {
      "text/html": [
       "Tracking run with wandb version 0.19.11"
      ],
      "text/plain": [
       "<IPython.core.display.HTML object>"
      ]
     },
     "metadata": {},
     "output_type": "display_data"
    },
    {
     "data": {
      "text/html": [
       "Run data is saved locally in <code>/home/jovyan/wandb/wandb/run-20250517_210553-r059la15</code>"
      ],
      "text/plain": [
       "<IPython.core.display.HTML object>"
      ]
     },
     "metadata": {},
     "output_type": "display_data"
    },
    {
     "data": {
      "text/html": [
       "Syncing run <strong><a href='http://wandb:8080/ben/kaggle_space-titanic/runs/r059la15' target=\"_blank\">v31_lightgbm_{'n_estimators': 100, 'max_depth': 10, 'learning_rate': 0.1, 'num_leaves': 50, 'min_child_samples': 10}</a></strong> to <a href='http://wandb:8080/ben/kaggle_space-titanic' target=\"_blank\">Weights & Biases</a> (<a href='https://wandb.me/developer-guide' target=\"_blank\">docs</a>)<br>"
      ],
      "text/plain": [
       "<IPython.core.display.HTML object>"
      ]
     },
     "metadata": {},
     "output_type": "display_data"
    },
    {
     "data": {
      "text/html": [
       " View project at <a href='http://wandb:8080/ben/kaggle_space-titanic' target=\"_blank\">http://wandb:8080/ben/kaggle_space-titanic</a>"
      ],
      "text/plain": [
       "<IPython.core.display.HTML object>"
      ]
     },
     "metadata": {},
     "output_type": "display_data"
    },
    {
     "data": {
      "text/html": [
       " View run at <a href='http://wandb:8080/ben/kaggle_space-titanic/runs/r059la15' target=\"_blank\">http://wandb:8080/ben/kaggle_space-titanic/runs/r059la15</a>"
      ],
      "text/plain": [
       "<IPython.core.display.HTML object>"
      ]
     },
     "metadata": {},
     "output_type": "display_data"
    },
    {
     "name": "stdout",
     "output_type": "stream",
     "text": [
      "✅ Labels already normalized, no encoding needed\n",
      "[LightGBM] [Info] Number of positive: 3500, number of negative: 3454\n",
      "[LightGBM] [Info] Auto-choosing col-wise multi-threading, the overhead of testing was 0.009885 seconds.\n",
      "You can set `force_col_wise=true` to remove the overhead.\n",
      "[LightGBM] [Info] Total Bins 2457\n",
      "[LightGBM] [Info] Number of data points in the train set: 6954, number of used features: 37\n",
      "[LightGBM] [Info] [binary:BoostFromScore]: pavg=0.503307 -> initscore=0.013230\n",
      "[LightGBM] [Info] Start training from score 0.013230\n",
      "✅ Finished training sklearn model\n",
      "🏃 View run v31_lightgbm_{'n_estimators': 100, 'max_depth': 10, 'learning_rate': 0.1, 'num_leaves': 50, 'min_child_samples': 10} at: http://mlflow:5000/#/experiments/2/runs/d2fba8893d3545c9aa1ef689fa371559\n",
      "🧪 View experiment at: http://mlflow:5000/#/experiments/2\n"
     ]
    },
    {
     "data": {
      "text/html": [],
      "text/plain": [
       "<IPython.core.display.HTML object>"
      ]
     },
     "metadata": {},
     "output_type": "display_data"
    },
    {
     "data": {
      "text/html": [
       "<br>    <style><br>        .wandb-row {<br>            display: flex;<br>            flex-direction: row;<br>            flex-wrap: wrap;<br>            justify-content: flex-start;<br>            width: 100%;<br>        }<br>        .wandb-col {<br>            display: flex;<br>            flex-direction: column;<br>            flex-basis: 100%;<br>            flex: 1;<br>            padding: 10px;<br>        }<br>    </style><br><div class=\"wandb-row\"><div class=\"wandb-col\"><h3>Run history:</h3><br/><table class=\"wandb\"><tr><td>accuracy</td><td>▁</td></tr><tr><td>f1_macro</td><td>▁</td></tr><tr><td>f1_weighted</td><td>▁</td></tr><tr><td>precision_weighted</td><td>▁</td></tr><tr><td>recall_weighted</td><td>▁</td></tr><tr><td>roc_auc</td><td>▁</td></tr></table><br/></div><div class=\"wandb-col\"><h3>Run summary:</h3><br/><table class=\"wandb\"><tr><td>accuracy</td><td>0.79988</td></tr><tr><td>f1_macro</td><td>0.79988</td></tr><tr><td>f1_weighted</td><td>0.79988</td></tr><tr><td>precision_weighted</td><td>0.80013</td></tr><tr><td>recall_weighted</td><td>0.79988</td></tr><tr><td>roc_auc</td><td>0.79999</td></tr></table><br/></div></div>"
      ],
      "text/plain": [
       "<IPython.core.display.HTML object>"
      ]
     },
     "metadata": {},
     "output_type": "display_data"
    },
    {
     "data": {
      "text/html": [
       " View run <strong style=\"color:#cdcd00\">v31_lightgbm_{'n_estimators': 100, 'max_depth': 10, 'learning_rate': 0.1, 'num_leaves': 50, 'min_child_samples': 10}</strong> at: <a href='http://wandb:8080/ben/kaggle_space-titanic/runs/r059la15' target=\"_blank\">http://wandb:8080/ben/kaggle_space-titanic/runs/r059la15</a><br> View project at: <a href='http://wandb:8080/ben/kaggle_space-titanic' target=\"_blank\">http://wandb:8080/ben/kaggle_space-titanic</a><br>Synced 5 W&B file(s), 0 media file(s), 0 artifact file(s) and 0 other file(s)"
      ],
      "text/plain": [
       "<IPython.core.display.HTML object>"
      ]
     },
     "metadata": {},
     "output_type": "display_data"
    },
    {
     "data": {
      "text/html": [
       "Find logs at: <code>/home/jovyan/wandb/wandb/run-20250517_210553-r059la15/logs</code>"
      ],
      "text/plain": [
       "<IPython.core.display.HTML object>"
      ]
     },
     "metadata": {},
     "output_type": "display_data"
    },
    {
     "name": "stdout",
     "output_type": "stream",
     "text": [
      "Started MLflow run: 3b85dce63f6844d08b2a786b4921c191\n"
     ]
    },
    {
     "data": {
      "text/html": [
       "Tracking run with wandb version 0.19.11"
      ],
      "text/plain": [
       "<IPython.core.display.HTML object>"
      ]
     },
     "metadata": {},
     "output_type": "display_data"
    },
    {
     "data": {
      "text/html": [
       "Run data is saved locally in <code>/home/jovyan/wandb/wandb/run-20250517_210555-488cv06n</code>"
      ],
      "text/plain": [
       "<IPython.core.display.HTML object>"
      ]
     },
     "metadata": {},
     "output_type": "display_data"
    },
    {
     "data": {
      "text/html": [
       "Syncing run <strong><a href='http://wandb:8080/ben/kaggle_space-titanic/runs/488cv06n' target=\"_blank\">v31_lightgbm_{'n_estimators': 100, 'max_depth': 10, 'learning_rate': 0.1, 'num_leaves': 50, 'min_child_samples': 20}</a></strong> to <a href='http://wandb:8080/ben/kaggle_space-titanic' target=\"_blank\">Weights & Biases</a> (<a href='https://wandb.me/developer-guide' target=\"_blank\">docs</a>)<br>"
      ],
      "text/plain": [
       "<IPython.core.display.HTML object>"
      ]
     },
     "metadata": {},
     "output_type": "display_data"
    },
    {
     "data": {
      "text/html": [
       " View project at <a href='http://wandb:8080/ben/kaggle_space-titanic' target=\"_blank\">http://wandb:8080/ben/kaggle_space-titanic</a>"
      ],
      "text/plain": [
       "<IPython.core.display.HTML object>"
      ]
     },
     "metadata": {},
     "output_type": "display_data"
    },
    {
     "data": {
      "text/html": [
       " View run at <a href='http://wandb:8080/ben/kaggle_space-titanic/runs/488cv06n' target=\"_blank\">http://wandb:8080/ben/kaggle_space-titanic/runs/488cv06n</a>"
      ],
      "text/plain": [
       "<IPython.core.display.HTML object>"
      ]
     },
     "metadata": {},
     "output_type": "display_data"
    },
    {
     "name": "stdout",
     "output_type": "stream",
     "text": [
      "✅ Labels already normalized, no encoding needed\n",
      "[LightGBM] [Info] Number of positive: 3500, number of negative: 3454\n",
      "[LightGBM] [Info] Auto-choosing row-wise multi-threading, the overhead of testing was 0.003230 seconds.\n",
      "You can set `force_row_wise=true` to remove the overhead.\n",
      "And if memory is not enough, you can set `force_col_wise=true`.\n",
      "[LightGBM] [Info] Total Bins 2457\n",
      "[LightGBM] [Info] Number of data points in the train set: 6954, number of used features: 37\n",
      "[LightGBM] [Info] [binary:BoostFromScore]: pavg=0.503307 -> initscore=0.013230\n",
      "[LightGBM] [Info] Start training from score 0.013230\n",
      "[LightGBM] [Warning] No further splits with positive gain, best gain: -inf\n",
      "[LightGBM] [Warning] No further splits with positive gain, best gain: -inf\n",
      "[LightGBM] [Warning] No further splits with positive gain, best gain: -inf\n",
      "[LightGBM] [Warning] No further splits with positive gain, best gain: -inf\n",
      "[LightGBM] [Warning] No further splits with positive gain, best gain: -inf\n",
      "✅ Finished training sklearn model\n",
      "🏃 View run v31_lightgbm_{'n_estimators': 100, 'max_depth': 10, 'learning_rate': 0.1, 'num_leaves': 50, 'min_child_samples': 20} at: http://mlflow:5000/#/experiments/2/runs/3b85dce63f6844d08b2a786b4921c191\n",
      "🧪 View experiment at: http://mlflow:5000/#/experiments/2\n"
     ]
    },
    {
     "data": {
      "text/html": [],
      "text/plain": [
       "<IPython.core.display.HTML object>"
      ]
     },
     "metadata": {},
     "output_type": "display_data"
    },
    {
     "data": {
      "text/html": [
       "<br>    <style><br>        .wandb-row {<br>            display: flex;<br>            flex-direction: row;<br>            flex-wrap: wrap;<br>            justify-content: flex-start;<br>            width: 100%;<br>        }<br>        .wandb-col {<br>            display: flex;<br>            flex-direction: column;<br>            flex-basis: 100%;<br>            flex: 1;<br>            padding: 10px;<br>        }<br>    </style><br><div class=\"wandb-row\"><div class=\"wandb-col\"><h3>Run history:</h3><br/><table class=\"wandb\"><tr><td>accuracy</td><td>▁</td></tr><tr><td>f1_macro</td><td>▁</td></tr><tr><td>f1_weighted</td><td>▁</td></tr><tr><td>precision_weighted</td><td>▁</td></tr><tr><td>recall_weighted</td><td>▁</td></tr><tr><td>roc_auc</td><td>▁</td></tr></table><br/></div><div class=\"wandb-col\"><h3>Run summary:</h3><br/><table class=\"wandb\"><tr><td>accuracy</td><td>0.79298</td></tr><tr><td>f1_macro</td><td>0.79298</td></tr><tr><td>f1_weighted</td><td>0.79299</td></tr><tr><td>precision_weighted</td><td>0.79309</td></tr><tr><td>recall_weighted</td><td>0.79298</td></tr><tr><td>roc_auc</td><td>0.79304</td></tr></table><br/></div></div>"
      ],
      "text/plain": [
       "<IPython.core.display.HTML object>"
      ]
     },
     "metadata": {},
     "output_type": "display_data"
    },
    {
     "data": {
      "text/html": [
       " View run <strong style=\"color:#cdcd00\">v31_lightgbm_{'n_estimators': 100, 'max_depth': 10, 'learning_rate': 0.1, 'num_leaves': 50, 'min_child_samples': 20}</strong> at: <a href='http://wandb:8080/ben/kaggle_space-titanic/runs/488cv06n' target=\"_blank\">http://wandb:8080/ben/kaggle_space-titanic/runs/488cv06n</a><br> View project at: <a href='http://wandb:8080/ben/kaggle_space-titanic' target=\"_blank\">http://wandb:8080/ben/kaggle_space-titanic</a><br>Synced 5 W&B file(s), 0 media file(s), 0 artifact file(s) and 0 other file(s)"
      ],
      "text/plain": [
       "<IPython.core.display.HTML object>"
      ]
     },
     "metadata": {},
     "output_type": "display_data"
    },
    {
     "data": {
      "text/html": [
       "Find logs at: <code>/home/jovyan/wandb/wandb/run-20250517_210555-488cv06n/logs</code>"
      ],
      "text/plain": [
       "<IPython.core.display.HTML object>"
      ]
     },
     "metadata": {},
     "output_type": "display_data"
    },
    {
     "name": "stdout",
     "output_type": "stream",
     "text": [
      "Started MLflow run: 1639d4caa0ff438080a6ddd63f861aa9\n"
     ]
    },
    {
     "data": {
      "text/html": [
       "Tracking run with wandb version 0.19.11"
      ],
      "text/plain": [
       "<IPython.core.display.HTML object>"
      ]
     },
     "metadata": {},
     "output_type": "display_data"
    },
    {
     "data": {
      "text/html": [
       "Run data is saved locally in <code>/home/jovyan/wandb/wandb/run-20250517_210557-yk1cd8xc</code>"
      ],
      "text/plain": [
       "<IPython.core.display.HTML object>"
      ]
     },
     "metadata": {},
     "output_type": "display_data"
    },
    {
     "data": {
      "text/html": [
       "Syncing run <strong><a href='http://wandb:8080/ben/kaggle_space-titanic/runs/yk1cd8xc' target=\"_blank\">v31_lightgbm_{'n_estimators': 200, 'max_depth': -1, 'learning_rate': 0.01, 'num_leaves': 31, 'min_child_samples': 10}</a></strong> to <a href='http://wandb:8080/ben/kaggle_space-titanic' target=\"_blank\">Weights & Biases</a> (<a href='https://wandb.me/developer-guide' target=\"_blank\">docs</a>)<br>"
      ],
      "text/plain": [
       "<IPython.core.display.HTML object>"
      ]
     },
     "metadata": {},
     "output_type": "display_data"
    },
    {
     "data": {
      "text/html": [
       " View project at <a href='http://wandb:8080/ben/kaggle_space-titanic' target=\"_blank\">http://wandb:8080/ben/kaggle_space-titanic</a>"
      ],
      "text/plain": [
       "<IPython.core.display.HTML object>"
      ]
     },
     "metadata": {},
     "output_type": "display_data"
    },
    {
     "data": {
      "text/html": [
       " View run at <a href='http://wandb:8080/ben/kaggle_space-titanic/runs/yk1cd8xc' target=\"_blank\">http://wandb:8080/ben/kaggle_space-titanic/runs/yk1cd8xc</a>"
      ],
      "text/plain": [
       "<IPython.core.display.HTML object>"
      ]
     },
     "metadata": {},
     "output_type": "display_data"
    },
    {
     "name": "stdout",
     "output_type": "stream",
     "text": [
      "✅ Labels already normalized, no encoding needed\n",
      "[LightGBM] [Info] Number of positive: 3500, number of negative: 3454\n",
      "[LightGBM] [Info] Auto-choosing row-wise multi-threading, the overhead of testing was 0.001080 seconds.\n",
      "You can set `force_row_wise=true` to remove the overhead.\n",
      "And if memory is not enough, you can set `force_col_wise=true`.\n",
      "[LightGBM] [Info] Total Bins 2457\n",
      "[LightGBM] [Info] Number of data points in the train set: 6954, number of used features: 37\n",
      "[LightGBM] [Info] [binary:BoostFromScore]: pavg=0.503307 -> initscore=0.013230\n",
      "[LightGBM] [Info] Start training from score 0.013230\n",
      "✅ Finished training sklearn model\n",
      "🏃 View run v31_lightgbm_{'n_estimators': 200, 'max_depth': -1, 'learning_rate': 0.01, 'num_leaves': 31, 'min_child_samples': 10} at: http://mlflow:5000/#/experiments/2/runs/1639d4caa0ff438080a6ddd63f861aa9\n",
      "🧪 View experiment at: http://mlflow:5000/#/experiments/2\n"
     ]
    },
    {
     "data": {
      "text/html": [],
      "text/plain": [
       "<IPython.core.display.HTML object>"
      ]
     },
     "metadata": {},
     "output_type": "display_data"
    },
    {
     "data": {
      "text/html": [
       "<br>    <style><br>        .wandb-row {<br>            display: flex;<br>            flex-direction: row;<br>            flex-wrap: wrap;<br>            justify-content: flex-start;<br>            width: 100%;<br>        }<br>        .wandb-col {<br>            display: flex;<br>            flex-direction: column;<br>            flex-basis: 100%;<br>            flex: 1;<br>            padding: 10px;<br>        }<br>    </style><br><div class=\"wandb-row\"><div class=\"wandb-col\"><h3>Run history:</h3><br/><table class=\"wandb\"><tr><td>accuracy</td><td>▁</td></tr><tr><td>f1_macro</td><td>▁</td></tr><tr><td>f1_weighted</td><td>▁</td></tr><tr><td>precision_weighted</td><td>▁</td></tr><tr><td>recall_weighted</td><td>▁</td></tr><tr><td>roc_auc</td><td>▁</td></tr></table><br/></div><div class=\"wandb-col\"><h3>Run summary:</h3><br/><table class=\"wandb\"><tr><td>accuracy</td><td>0.79068</td></tr><tr><td>f1_macro</td><td>0.79018</td></tr><tr><td>f1_weighted</td><td>0.79028</td></tr><tr><td>precision_weighted</td><td>0.79231</td></tr><tr><td>recall_weighted</td><td>0.79068</td></tr><tr><td>roc_auc</td><td>0.79028</td></tr></table><br/></div></div>"
      ],
      "text/plain": [
       "<IPython.core.display.HTML object>"
      ]
     },
     "metadata": {},
     "output_type": "display_data"
    },
    {
     "data": {
      "text/html": [
       " View run <strong style=\"color:#cdcd00\">v31_lightgbm_{'n_estimators': 200, 'max_depth': -1, 'learning_rate': 0.01, 'num_leaves': 31, 'min_child_samples': 10}</strong> at: <a href='http://wandb:8080/ben/kaggle_space-titanic/runs/yk1cd8xc' target=\"_blank\">http://wandb:8080/ben/kaggle_space-titanic/runs/yk1cd8xc</a><br> View project at: <a href='http://wandb:8080/ben/kaggle_space-titanic' target=\"_blank\">http://wandb:8080/ben/kaggle_space-titanic</a><br>Synced 5 W&B file(s), 0 media file(s), 0 artifact file(s) and 0 other file(s)"
      ],
      "text/plain": [
       "<IPython.core.display.HTML object>"
      ]
     },
     "metadata": {},
     "output_type": "display_data"
    },
    {
     "data": {
      "text/html": [
       "Find logs at: <code>/home/jovyan/wandb/wandb/run-20250517_210557-yk1cd8xc/logs</code>"
      ],
      "text/plain": [
       "<IPython.core.display.HTML object>"
      ]
     },
     "metadata": {},
     "output_type": "display_data"
    },
    {
     "name": "stdout",
     "output_type": "stream",
     "text": [
      "Started MLflow run: 756386e548114d298ec7dafa8872c31d\n"
     ]
    },
    {
     "data": {
      "text/html": [
       "Tracking run with wandb version 0.19.11"
      ],
      "text/plain": [
       "<IPython.core.display.HTML object>"
      ]
     },
     "metadata": {},
     "output_type": "display_data"
    },
    {
     "data": {
      "text/html": [
       "Run data is saved locally in <code>/home/jovyan/wandb/wandb/run-20250517_210559-f12ewglz</code>"
      ],
      "text/plain": [
       "<IPython.core.display.HTML object>"
      ]
     },
     "metadata": {},
     "output_type": "display_data"
    },
    {
     "data": {
      "text/html": [
       "Syncing run <strong><a href='http://wandb:8080/ben/kaggle_space-titanic/runs/f12ewglz' target=\"_blank\">v31_lightgbm_{'n_estimators': 200, 'max_depth': -1, 'learning_rate': 0.01, 'num_leaves': 31, 'min_child_samples': 20}</a></strong> to <a href='http://wandb:8080/ben/kaggle_space-titanic' target=\"_blank\">Weights & Biases</a> (<a href='https://wandb.me/developer-guide' target=\"_blank\">docs</a>)<br>"
      ],
      "text/plain": [
       "<IPython.core.display.HTML object>"
      ]
     },
     "metadata": {},
     "output_type": "display_data"
    },
    {
     "data": {
      "text/html": [
       " View project at <a href='http://wandb:8080/ben/kaggle_space-titanic' target=\"_blank\">http://wandb:8080/ben/kaggle_space-titanic</a>"
      ],
      "text/plain": [
       "<IPython.core.display.HTML object>"
      ]
     },
     "metadata": {},
     "output_type": "display_data"
    },
    {
     "data": {
      "text/html": [
       " View run at <a href='http://wandb:8080/ben/kaggle_space-titanic/runs/f12ewglz' target=\"_blank\">http://wandb:8080/ben/kaggle_space-titanic/runs/f12ewglz</a>"
      ],
      "text/plain": [
       "<IPython.core.display.HTML object>"
      ]
     },
     "metadata": {},
     "output_type": "display_data"
    },
    {
     "name": "stdout",
     "output_type": "stream",
     "text": [
      "✅ Labels already normalized, no encoding needed\n",
      "[LightGBM] [Info] Number of positive: 3500, number of negative: 3454\n",
      "[LightGBM] [Info] Auto-choosing row-wise multi-threading, the overhead of testing was 0.018403 seconds.\n",
      "You can set `force_row_wise=true` to remove the overhead.\n",
      "And if memory is not enough, you can set `force_col_wise=true`.\n",
      "[LightGBM] [Info] Total Bins 2457\n",
      "[LightGBM] [Info] Number of data points in the train set: 6954, number of used features: 37\n",
      "[LightGBM] [Info] [binary:BoostFromScore]: pavg=0.503307 -> initscore=0.013230\n",
      "[LightGBM] [Info] Start training from score 0.013230\n",
      "✅ Finished training sklearn model\n",
      "🏃 View run v31_lightgbm_{'n_estimators': 200, 'max_depth': -1, 'learning_rate': 0.01, 'num_leaves': 31, 'min_child_samples': 20} at: http://mlflow:5000/#/experiments/2/runs/756386e548114d298ec7dafa8872c31d\n",
      "🧪 View experiment at: http://mlflow:5000/#/experiments/2\n"
     ]
    },
    {
     "data": {
      "text/html": [],
      "text/plain": [
       "<IPython.core.display.HTML object>"
      ]
     },
     "metadata": {},
     "output_type": "display_data"
    },
    {
     "data": {
      "text/html": [
       "<br>    <style><br>        .wandb-row {<br>            display: flex;<br>            flex-direction: row;<br>            flex-wrap: wrap;<br>            justify-content: flex-start;<br>            width: 100%;<br>        }<br>        .wandb-col {<br>            display: flex;<br>            flex-direction: column;<br>            flex-basis: 100%;<br>            flex: 1;<br>            padding: 10px;<br>        }<br>    </style><br><div class=\"wandb-row\"><div class=\"wandb-col\"><h3>Run history:</h3><br/><table class=\"wandb\"><tr><td>accuracy</td><td>▁</td></tr><tr><td>f1_macro</td><td>▁</td></tr><tr><td>f1_weighted</td><td>▁</td></tr><tr><td>precision_weighted</td><td>▁</td></tr><tr><td>recall_weighted</td><td>▁</td></tr><tr><td>roc_auc</td><td>▁</td></tr></table><br/></div><div class=\"wandb-col\"><h3>Run summary:</h3><br/><table class=\"wandb\"><tr><td>accuracy</td><td>0.79183</td></tr><tr><td>f1_macro</td><td>0.79136</td></tr><tr><td>f1_weighted</td><td>0.79146</td></tr><tr><td>precision_weighted</td><td>0.79337</td></tr><tr><td>recall_weighted</td><td>0.79183</td></tr><tr><td>roc_auc</td><td>0.79144</td></tr></table><br/></div></div>"
      ],
      "text/plain": [
       "<IPython.core.display.HTML object>"
      ]
     },
     "metadata": {},
     "output_type": "display_data"
    },
    {
     "data": {
      "text/html": [
       " View run <strong style=\"color:#cdcd00\">v31_lightgbm_{'n_estimators': 200, 'max_depth': -1, 'learning_rate': 0.01, 'num_leaves': 31, 'min_child_samples': 20}</strong> at: <a href='http://wandb:8080/ben/kaggle_space-titanic/runs/f12ewglz' target=\"_blank\">http://wandb:8080/ben/kaggle_space-titanic/runs/f12ewglz</a><br> View project at: <a href='http://wandb:8080/ben/kaggle_space-titanic' target=\"_blank\">http://wandb:8080/ben/kaggle_space-titanic</a><br>Synced 5 W&B file(s), 0 media file(s), 0 artifact file(s) and 0 other file(s)"
      ],
      "text/plain": [
       "<IPython.core.display.HTML object>"
      ]
     },
     "metadata": {},
     "output_type": "display_data"
    },
    {
     "data": {
      "text/html": [
       "Find logs at: <code>/home/jovyan/wandb/wandb/run-20250517_210559-f12ewglz/logs</code>"
      ],
      "text/plain": [
       "<IPython.core.display.HTML object>"
      ]
     },
     "metadata": {},
     "output_type": "display_data"
    },
    {
     "name": "stdout",
     "output_type": "stream",
     "text": [
      "Started MLflow run: 62b26303a26049d497a1519b2479167b\n"
     ]
    },
    {
     "data": {
      "text/html": [
       "Tracking run with wandb version 0.19.11"
      ],
      "text/plain": [
       "<IPython.core.display.HTML object>"
      ]
     },
     "metadata": {},
     "output_type": "display_data"
    },
    {
     "data": {
      "text/html": [
       "Run data is saved locally in <code>/home/jovyan/wandb/wandb/run-20250517_210604-6gv6ivto</code>"
      ],
      "text/plain": [
       "<IPython.core.display.HTML object>"
      ]
     },
     "metadata": {},
     "output_type": "display_data"
    },
    {
     "data": {
      "text/html": [
       "Syncing run <strong><a href='http://wandb:8080/ben/kaggle_space-titanic/runs/6gv6ivto' target=\"_blank\">v31_lightgbm_{'n_estimators': 200, 'max_depth': -1, 'learning_rate': 0.01, 'num_leaves': 50, 'min_child_samples': 10}</a></strong> to <a href='http://wandb:8080/ben/kaggle_space-titanic' target=\"_blank\">Weights & Biases</a> (<a href='https://wandb.me/developer-guide' target=\"_blank\">docs</a>)<br>"
      ],
      "text/plain": [
       "<IPython.core.display.HTML object>"
      ]
     },
     "metadata": {},
     "output_type": "display_data"
    },
    {
     "data": {
      "text/html": [
       " View project at <a href='http://wandb:8080/ben/kaggle_space-titanic' target=\"_blank\">http://wandb:8080/ben/kaggle_space-titanic</a>"
      ],
      "text/plain": [
       "<IPython.core.display.HTML object>"
      ]
     },
     "metadata": {},
     "output_type": "display_data"
    },
    {
     "data": {
      "text/html": [
       " View run at <a href='http://wandb:8080/ben/kaggle_space-titanic/runs/6gv6ivto' target=\"_blank\">http://wandb:8080/ben/kaggle_space-titanic/runs/6gv6ivto</a>"
      ],
      "text/plain": [
       "<IPython.core.display.HTML object>"
      ]
     },
     "metadata": {},
     "output_type": "display_data"
    },
    {
     "name": "stdout",
     "output_type": "stream",
     "text": [
      "✅ Labels already normalized, no encoding needed\n",
      "[LightGBM] [Info] Number of positive: 3500, number of negative: 3454\n",
      "[LightGBM] [Info] Auto-choosing row-wise multi-threading, the overhead of testing was 0.005015 seconds.\n",
      "You can set `force_row_wise=true` to remove the overhead.\n",
      "And if memory is not enough, you can set `force_col_wise=true`.\n",
      "[LightGBM] [Info] Total Bins 2457\n",
      "[LightGBM] [Info] Number of data points in the train set: 6954, number of used features: 37\n",
      "[LightGBM] [Info] [binary:BoostFromScore]: pavg=0.503307 -> initscore=0.013230\n",
      "[LightGBM] [Info] Start training from score 0.013230\n",
      "✅ Finished training sklearn model\n",
      "🏃 View run v31_lightgbm_{'n_estimators': 200, 'max_depth': -1, 'learning_rate': 0.01, 'num_leaves': 50, 'min_child_samples': 10} at: http://mlflow:5000/#/experiments/2/runs/62b26303a26049d497a1519b2479167b\n",
      "🧪 View experiment at: http://mlflow:5000/#/experiments/2\n"
     ]
    },
    {
     "data": {
      "text/html": [],
      "text/plain": [
       "<IPython.core.display.HTML object>"
      ]
     },
     "metadata": {},
     "output_type": "display_data"
    },
    {
     "data": {
      "text/html": [
       "<br>    <style><br>        .wandb-row {<br>            display: flex;<br>            flex-direction: row;<br>            flex-wrap: wrap;<br>            justify-content: flex-start;<br>            width: 100%;<br>        }<br>        .wandb-col {<br>            display: flex;<br>            flex-direction: column;<br>            flex-basis: 100%;<br>            flex: 1;<br>            padding: 10px;<br>        }<br>    </style><br><div class=\"wandb-row\"><div class=\"wandb-col\"><h3>Run history:</h3><br/><table class=\"wandb\"><tr><td>accuracy</td><td>▁</td></tr><tr><td>f1_macro</td><td>▁</td></tr><tr><td>f1_weighted</td><td>▁</td></tr><tr><td>precision_weighted</td><td>▁</td></tr><tr><td>recall_weighted</td><td>▁</td></tr><tr><td>roc_auc</td><td>▁</td></tr></table><br/></div><div class=\"wandb-col\"><h3>Run summary:</h3><br/><table class=\"wandb\"><tr><td>accuracy</td><td>0.78953</td></tr><tr><td>f1_macro</td><td>0.78918</td></tr><tr><td>f1_weighted</td><td>0.78927</td></tr><tr><td>precision_weighted</td><td>0.79053</td></tr><tr><td>recall_weighted</td><td>0.78953</td></tr><tr><td>roc_auc</td><td>0.78921</td></tr></table><br/></div></div>"
      ],
      "text/plain": [
       "<IPython.core.display.HTML object>"
      ]
     },
     "metadata": {},
     "output_type": "display_data"
    },
    {
     "data": {
      "text/html": [
       " View run <strong style=\"color:#cdcd00\">v31_lightgbm_{'n_estimators': 200, 'max_depth': -1, 'learning_rate': 0.01, 'num_leaves': 50, 'min_child_samples': 10}</strong> at: <a href='http://wandb:8080/ben/kaggle_space-titanic/runs/6gv6ivto' target=\"_blank\">http://wandb:8080/ben/kaggle_space-titanic/runs/6gv6ivto</a><br> View project at: <a href='http://wandb:8080/ben/kaggle_space-titanic' target=\"_blank\">http://wandb:8080/ben/kaggle_space-titanic</a><br>Synced 5 W&B file(s), 0 media file(s), 0 artifact file(s) and 0 other file(s)"
      ],
      "text/plain": [
       "<IPython.core.display.HTML object>"
      ]
     },
     "metadata": {},
     "output_type": "display_data"
    },
    {
     "data": {
      "text/html": [
       "Find logs at: <code>/home/jovyan/wandb/wandb/run-20250517_210604-6gv6ivto/logs</code>"
      ],
      "text/plain": [
       "<IPython.core.display.HTML object>"
      ]
     },
     "metadata": {},
     "output_type": "display_data"
    },
    {
     "name": "stdout",
     "output_type": "stream",
     "text": [
      "Started MLflow run: c86beda39d9f49b58382566d0df993d4\n"
     ]
    },
    {
     "data": {
      "text/html": [
       "Tracking run with wandb version 0.19.11"
      ],
      "text/plain": [
       "<IPython.core.display.HTML object>"
      ]
     },
     "metadata": {},
     "output_type": "display_data"
    },
    {
     "data": {
      "text/html": [
       "Run data is saved locally in <code>/home/jovyan/wandb/wandb/run-20250517_210607-p8rqj681</code>"
      ],
      "text/plain": [
       "<IPython.core.display.HTML object>"
      ]
     },
     "metadata": {},
     "output_type": "display_data"
    },
    {
     "data": {
      "text/html": [
       "Syncing run <strong><a href='http://wandb:8080/ben/kaggle_space-titanic/runs/p8rqj681' target=\"_blank\">v31_lightgbm_{'n_estimators': 200, 'max_depth': -1, 'learning_rate': 0.01, 'num_leaves': 50, 'min_child_samples': 20}</a></strong> to <a href='http://wandb:8080/ben/kaggle_space-titanic' target=\"_blank\">Weights & Biases</a> (<a href='https://wandb.me/developer-guide' target=\"_blank\">docs</a>)<br>"
      ],
      "text/plain": [
       "<IPython.core.display.HTML object>"
      ]
     },
     "metadata": {},
     "output_type": "display_data"
    },
    {
     "data": {
      "text/html": [
       " View project at <a href='http://wandb:8080/ben/kaggle_space-titanic' target=\"_blank\">http://wandb:8080/ben/kaggle_space-titanic</a>"
      ],
      "text/plain": [
       "<IPython.core.display.HTML object>"
      ]
     },
     "metadata": {},
     "output_type": "display_data"
    },
    {
     "data": {
      "text/html": [
       " View run at <a href='http://wandb:8080/ben/kaggle_space-titanic/runs/p8rqj681' target=\"_blank\">http://wandb:8080/ben/kaggle_space-titanic/runs/p8rqj681</a>"
      ],
      "text/plain": [
       "<IPython.core.display.HTML object>"
      ]
     },
     "metadata": {},
     "output_type": "display_data"
    },
    {
     "name": "stdout",
     "output_type": "stream",
     "text": [
      "✅ Labels already normalized, no encoding needed\n",
      "[LightGBM] [Info] Number of positive: 3500, number of negative: 3454\n",
      "[LightGBM] [Info] Auto-choosing row-wise multi-threading, the overhead of testing was 0.001209 seconds.\n",
      "You can set `force_row_wise=true` to remove the overhead.\n",
      "And if memory is not enough, you can set `force_col_wise=true`.\n",
      "[LightGBM] [Info] Total Bins 2457\n",
      "[LightGBM] [Info] Number of data points in the train set: 6954, number of used features: 37\n",
      "[LightGBM] [Info] [binary:BoostFromScore]: pavg=0.503307 -> initscore=0.013230\n",
      "[LightGBM] [Info] Start training from score 0.013230\n",
      "✅ Finished training sklearn model\n",
      "🏃 View run v31_lightgbm_{'n_estimators': 200, 'max_depth': -1, 'learning_rate': 0.01, 'num_leaves': 50, 'min_child_samples': 20} at: http://mlflow:5000/#/experiments/2/runs/c86beda39d9f49b58382566d0df993d4\n",
      "🧪 View experiment at: http://mlflow:5000/#/experiments/2\n"
     ]
    },
    {
     "data": {
      "text/html": [],
      "text/plain": [
       "<IPython.core.display.HTML object>"
      ]
     },
     "metadata": {},
     "output_type": "display_data"
    },
    {
     "data": {
      "text/html": [
       "<br>    <style><br>        .wandb-row {<br>            display: flex;<br>            flex-direction: row;<br>            flex-wrap: wrap;<br>            justify-content: flex-start;<br>            width: 100%;<br>        }<br>        .wandb-col {<br>            display: flex;<br>            flex-direction: column;<br>            flex-basis: 100%;<br>            flex: 1;<br>            padding: 10px;<br>        }<br>    </style><br><div class=\"wandb-row\"><div class=\"wandb-col\"><h3>Run history:</h3><br/><table class=\"wandb\"><tr><td>accuracy</td><td>▁</td></tr><tr><td>f1_macro</td><td>▁</td></tr><tr><td>f1_weighted</td><td>▁</td></tr><tr><td>precision_weighted</td><td>▁</td></tr><tr><td>recall_weighted</td><td>▁</td></tr><tr><td>roc_auc</td><td>▁</td></tr></table><br/></div><div class=\"wandb-col\"><h3>Run summary:</h3><br/><table class=\"wandb\"><tr><td>accuracy</td><td>0.78723</td></tr><tr><td>f1_macro</td><td>0.78692</td></tr><tr><td>f1_weighted</td><td>0.787</td></tr><tr><td>precision_weighted</td><td>0.78807</td></tr><tr><td>recall_weighted</td><td>0.78723</td></tr><tr><td>roc_auc</td><td>0.78693</td></tr></table><br/></div></div>"
      ],
      "text/plain": [
       "<IPython.core.display.HTML object>"
      ]
     },
     "metadata": {},
     "output_type": "display_data"
    },
    {
     "data": {
      "text/html": [
       " View run <strong style=\"color:#cdcd00\">v31_lightgbm_{'n_estimators': 200, 'max_depth': -1, 'learning_rate': 0.01, 'num_leaves': 50, 'min_child_samples': 20}</strong> at: <a href='http://wandb:8080/ben/kaggle_space-titanic/runs/p8rqj681' target=\"_blank\">http://wandb:8080/ben/kaggle_space-titanic/runs/p8rqj681</a><br> View project at: <a href='http://wandb:8080/ben/kaggle_space-titanic' target=\"_blank\">http://wandb:8080/ben/kaggle_space-titanic</a><br>Synced 5 W&B file(s), 0 media file(s), 0 artifact file(s) and 0 other file(s)"
      ],
      "text/plain": [
       "<IPython.core.display.HTML object>"
      ]
     },
     "metadata": {},
     "output_type": "display_data"
    },
    {
     "data": {
      "text/html": [
       "Find logs at: <code>/home/jovyan/wandb/wandb/run-20250517_210607-p8rqj681/logs</code>"
      ],
      "text/plain": [
       "<IPython.core.display.HTML object>"
      ]
     },
     "metadata": {},
     "output_type": "display_data"
    },
    {
     "name": "stdout",
     "output_type": "stream",
     "text": [
      "Started MLflow run: bf3b0ca03baf467c8237a8266b5db010\n"
     ]
    },
    {
     "data": {
      "text/html": [
       "Tracking run with wandb version 0.19.11"
      ],
      "text/plain": [
       "<IPython.core.display.HTML object>"
      ]
     },
     "metadata": {},
     "output_type": "display_data"
    },
    {
     "data": {
      "text/html": [
       "Run data is saved locally in <code>/home/jovyan/wandb/wandb/run-20250517_210609-da4qjwfz</code>"
      ],
      "text/plain": [
       "<IPython.core.display.HTML object>"
      ]
     },
     "metadata": {},
     "output_type": "display_data"
    },
    {
     "data": {
      "text/html": [
       "Syncing run <strong><a href='http://wandb:8080/ben/kaggle_space-titanic/runs/da4qjwfz' target=\"_blank\">v31_lightgbm_{'n_estimators': 200, 'max_depth': -1, 'learning_rate': 0.1, 'num_leaves': 31, 'min_child_samples': 10}</a></strong> to <a href='http://wandb:8080/ben/kaggle_space-titanic' target=\"_blank\">Weights & Biases</a> (<a href='https://wandb.me/developer-guide' target=\"_blank\">docs</a>)<br>"
      ],
      "text/plain": [
       "<IPython.core.display.HTML object>"
      ]
     },
     "metadata": {},
     "output_type": "display_data"
    },
    {
     "data": {
      "text/html": [
       " View project at <a href='http://wandb:8080/ben/kaggle_space-titanic' target=\"_blank\">http://wandb:8080/ben/kaggle_space-titanic</a>"
      ],
      "text/plain": [
       "<IPython.core.display.HTML object>"
      ]
     },
     "metadata": {},
     "output_type": "display_data"
    },
    {
     "data": {
      "text/html": [
       " View run at <a href='http://wandb:8080/ben/kaggle_space-titanic/runs/da4qjwfz' target=\"_blank\">http://wandb:8080/ben/kaggle_space-titanic/runs/da4qjwfz</a>"
      ],
      "text/plain": [
       "<IPython.core.display.HTML object>"
      ]
     },
     "metadata": {},
     "output_type": "display_data"
    },
    {
     "name": "stdout",
     "output_type": "stream",
     "text": [
      "✅ Labels already normalized, no encoding needed\n",
      "[LightGBM] [Info] Number of positive: 3500, number of negative: 3454\n",
      "[LightGBM] [Info] Auto-choosing col-wise multi-threading, the overhead of testing was 0.002392 seconds.\n",
      "You can set `force_col_wise=true` to remove the overhead.\n",
      "[LightGBM] [Info] Total Bins 2457\n",
      "[LightGBM] [Info] Number of data points in the train set: 6954, number of used features: 37\n",
      "[LightGBM] [Info] [binary:BoostFromScore]: pavg=0.503307 -> initscore=0.013230\n",
      "[LightGBM] [Info] Start training from score 0.013230\n",
      "✅ Finished training sklearn model\n",
      "🏃 View run v31_lightgbm_{'n_estimators': 200, 'max_depth': -1, 'learning_rate': 0.1, 'num_leaves': 31, 'min_child_samples': 10} at: http://mlflow:5000/#/experiments/2/runs/bf3b0ca03baf467c8237a8266b5db010\n",
      "🧪 View experiment at: http://mlflow:5000/#/experiments/2\n"
     ]
    },
    {
     "data": {
      "text/html": [],
      "text/plain": [
       "<IPython.core.display.HTML object>"
      ]
     },
     "metadata": {},
     "output_type": "display_data"
    },
    {
     "data": {
      "text/html": [
       "<br>    <style><br>        .wandb-row {<br>            display: flex;<br>            flex-direction: row;<br>            flex-wrap: wrap;<br>            justify-content: flex-start;<br>            width: 100%;<br>        }<br>        .wandb-col {<br>            display: flex;<br>            flex-direction: column;<br>            flex-basis: 100%;<br>            flex: 1;<br>            padding: 10px;<br>        }<br>    </style><br><div class=\"wandb-row\"><div class=\"wandb-col\"><h3>Run history:</h3><br/><table class=\"wandb\"><tr><td>accuracy</td><td>▁</td></tr><tr><td>f1_macro</td><td>▁</td></tr><tr><td>f1_weighted</td><td>▁</td></tr><tr><td>precision_weighted</td><td>▁</td></tr><tr><td>recall_weighted</td><td>▁</td></tr><tr><td>roc_auc</td><td>▁</td></tr></table><br/></div><div class=\"wandb-col\"><h3>Run summary:</h3><br/><table class=\"wandb\"><tr><td>accuracy</td><td>0.79356</td></tr><tr><td>f1_macro</td><td>0.79355</td></tr><tr><td>f1_weighted</td><td>0.79356</td></tr><tr><td>precision_weighted</td><td>0.79357</td></tr><tr><td>recall_weighted</td><td>0.79356</td></tr><tr><td>roc_auc</td><td>0.79356</td></tr></table><br/></div></div>"
      ],
      "text/plain": [
       "<IPython.core.display.HTML object>"
      ]
     },
     "metadata": {},
     "output_type": "display_data"
    },
    {
     "data": {
      "text/html": [
       " View run <strong style=\"color:#cdcd00\">v31_lightgbm_{'n_estimators': 200, 'max_depth': -1, 'learning_rate': 0.1, 'num_leaves': 31, 'min_child_samples': 10}</strong> at: <a href='http://wandb:8080/ben/kaggle_space-titanic/runs/da4qjwfz' target=\"_blank\">http://wandb:8080/ben/kaggle_space-titanic/runs/da4qjwfz</a><br> View project at: <a href='http://wandb:8080/ben/kaggle_space-titanic' target=\"_blank\">http://wandb:8080/ben/kaggle_space-titanic</a><br>Synced 5 W&B file(s), 0 media file(s), 0 artifact file(s) and 0 other file(s)"
      ],
      "text/plain": [
       "<IPython.core.display.HTML object>"
      ]
     },
     "metadata": {},
     "output_type": "display_data"
    },
    {
     "data": {
      "text/html": [
       "Find logs at: <code>/home/jovyan/wandb/wandb/run-20250517_210609-da4qjwfz/logs</code>"
      ],
      "text/plain": [
       "<IPython.core.display.HTML object>"
      ]
     },
     "metadata": {},
     "output_type": "display_data"
    },
    {
     "name": "stdout",
     "output_type": "stream",
     "text": [
      "Started MLflow run: 42343e9e6a1b43a9adc5c7a1917d64aa\n"
     ]
    },
    {
     "data": {
      "text/html": [
       "Tracking run with wandb version 0.19.11"
      ],
      "text/plain": [
       "<IPython.core.display.HTML object>"
      ]
     },
     "metadata": {},
     "output_type": "display_data"
    },
    {
     "data": {
      "text/html": [
       "Run data is saved locally in <code>/home/jovyan/wandb/wandb/run-20250517_210612-f8phq335</code>"
      ],
      "text/plain": [
       "<IPython.core.display.HTML object>"
      ]
     },
     "metadata": {},
     "output_type": "display_data"
    },
    {
     "data": {
      "text/html": [
       "Syncing run <strong><a href='http://wandb:8080/ben/kaggle_space-titanic/runs/f8phq335' target=\"_blank\">v31_lightgbm_{'n_estimators': 200, 'max_depth': -1, 'learning_rate': 0.1, 'num_leaves': 31, 'min_child_samples': 20}</a></strong> to <a href='http://wandb:8080/ben/kaggle_space-titanic' target=\"_blank\">Weights & Biases</a> (<a href='https://wandb.me/developer-guide' target=\"_blank\">docs</a>)<br>"
      ],
      "text/plain": [
       "<IPython.core.display.HTML object>"
      ]
     },
     "metadata": {},
     "output_type": "display_data"
    },
    {
     "data": {
      "text/html": [
       " View project at <a href='http://wandb:8080/ben/kaggle_space-titanic' target=\"_blank\">http://wandb:8080/ben/kaggle_space-titanic</a>"
      ],
      "text/plain": [
       "<IPython.core.display.HTML object>"
      ]
     },
     "metadata": {},
     "output_type": "display_data"
    },
    {
     "data": {
      "text/html": [
       " View run at <a href='http://wandb:8080/ben/kaggle_space-titanic/runs/f8phq335' target=\"_blank\">http://wandb:8080/ben/kaggle_space-titanic/runs/f8phq335</a>"
      ],
      "text/plain": [
       "<IPython.core.display.HTML object>"
      ]
     },
     "metadata": {},
     "output_type": "display_data"
    },
    {
     "name": "stdout",
     "output_type": "stream",
     "text": [
      "✅ Labels already normalized, no encoding needed\n",
      "[LightGBM] [Info] Number of positive: 3500, number of negative: 3454\n",
      "[LightGBM] [Info] Auto-choosing col-wise multi-threading, the overhead of testing was 0.001588 seconds.\n",
      "You can set `force_col_wise=true` to remove the overhead.\n",
      "[LightGBM] [Info] Total Bins 2457\n",
      "[LightGBM] [Info] Number of data points in the train set: 6954, number of used features: 37\n",
      "[LightGBM] [Info] [binary:BoostFromScore]: pavg=0.503307 -> initscore=0.013230\n",
      "[LightGBM] [Info] Start training from score 0.013230\n",
      "✅ Finished training sklearn model\n",
      "🏃 View run v31_lightgbm_{'n_estimators': 200, 'max_depth': -1, 'learning_rate': 0.1, 'num_leaves': 31, 'min_child_samples': 20} at: http://mlflow:5000/#/experiments/2/runs/42343e9e6a1b43a9adc5c7a1917d64aa\n",
      "🧪 View experiment at: http://mlflow:5000/#/experiments/2\n"
     ]
    },
    {
     "data": {
      "text/html": [],
      "text/plain": [
       "<IPython.core.display.HTML object>"
      ]
     },
     "metadata": {},
     "output_type": "display_data"
    },
    {
     "data": {
      "text/html": [
       "<br>    <style><br>        .wandb-row {<br>            display: flex;<br>            flex-direction: row;<br>            flex-wrap: wrap;<br>            justify-content: flex-start;<br>            width: 100%;<br>        }<br>        .wandb-col {<br>            display: flex;<br>            flex-direction: column;<br>            flex-basis: 100%;<br>            flex: 1;<br>            padding: 10px;<br>        }<br>    </style><br><div class=\"wandb-row\"><div class=\"wandb-col\"><h3>Run history:</h3><br/><table class=\"wandb\"><tr><td>accuracy</td><td>▁</td></tr><tr><td>f1_macro</td><td>▁</td></tr><tr><td>f1_weighted</td><td>▁</td></tr><tr><td>precision_weighted</td><td>▁</td></tr><tr><td>recall_weighted</td><td>▁</td></tr><tr><td>roc_auc</td><td>▁</td></tr></table><br/></div><div class=\"wandb-col\"><h3>Run summary:</h3><br/><table class=\"wandb\"><tr><td>accuracy</td><td>0.78896</td></tr><tr><td>f1_macro</td><td>0.78896</td></tr><tr><td>f1_weighted</td><td>0.78896</td></tr><tr><td>precision_weighted</td><td>0.78908</td></tr><tr><td>recall_weighted</td><td>0.78896</td></tr><tr><td>roc_auc</td><td>0.78902</td></tr></table><br/></div></div>"
      ],
      "text/plain": [
       "<IPython.core.display.HTML object>"
      ]
     },
     "metadata": {},
     "output_type": "display_data"
    },
    {
     "data": {
      "text/html": [
       " View run <strong style=\"color:#cdcd00\">v31_lightgbm_{'n_estimators': 200, 'max_depth': -1, 'learning_rate': 0.1, 'num_leaves': 31, 'min_child_samples': 20}</strong> at: <a href='http://wandb:8080/ben/kaggle_space-titanic/runs/f8phq335' target=\"_blank\">http://wandb:8080/ben/kaggle_space-titanic/runs/f8phq335</a><br> View project at: <a href='http://wandb:8080/ben/kaggle_space-titanic' target=\"_blank\">http://wandb:8080/ben/kaggle_space-titanic</a><br>Synced 5 W&B file(s), 0 media file(s), 0 artifact file(s) and 0 other file(s)"
      ],
      "text/plain": [
       "<IPython.core.display.HTML object>"
      ]
     },
     "metadata": {},
     "output_type": "display_data"
    },
    {
     "data": {
      "text/html": [
       "Find logs at: <code>/home/jovyan/wandb/wandb/run-20250517_210612-f8phq335/logs</code>"
      ],
      "text/plain": [
       "<IPython.core.display.HTML object>"
      ]
     },
     "metadata": {},
     "output_type": "display_data"
    },
    {
     "name": "stdout",
     "output_type": "stream",
     "text": [
      "Started MLflow run: ae3a88c9646d47fea6651e7e4dd63df0\n"
     ]
    },
    {
     "data": {
      "text/html": [
       "Tracking run with wandb version 0.19.11"
      ],
      "text/plain": [
       "<IPython.core.display.HTML object>"
      ]
     },
     "metadata": {},
     "output_type": "display_data"
    },
    {
     "data": {
      "text/html": [
       "Run data is saved locally in <code>/home/jovyan/wandb/wandb/run-20250517_210614-z0qxzuda</code>"
      ],
      "text/plain": [
       "<IPython.core.display.HTML object>"
      ]
     },
     "metadata": {},
     "output_type": "display_data"
    },
    {
     "data": {
      "text/html": [
       "Syncing run <strong><a href='http://wandb:8080/ben/kaggle_space-titanic/runs/z0qxzuda' target=\"_blank\">v31_lightgbm_{'n_estimators': 200, 'max_depth': -1, 'learning_rate': 0.1, 'num_leaves': 50, 'min_child_samples': 10}</a></strong> to <a href='http://wandb:8080/ben/kaggle_space-titanic' target=\"_blank\">Weights & Biases</a> (<a href='https://wandb.me/developer-guide' target=\"_blank\">docs</a>)<br>"
      ],
      "text/plain": [
       "<IPython.core.display.HTML object>"
      ]
     },
     "metadata": {},
     "output_type": "display_data"
    },
    {
     "data": {
      "text/html": [
       " View project at <a href='http://wandb:8080/ben/kaggle_space-titanic' target=\"_blank\">http://wandb:8080/ben/kaggle_space-titanic</a>"
      ],
      "text/plain": [
       "<IPython.core.display.HTML object>"
      ]
     },
     "metadata": {},
     "output_type": "display_data"
    },
    {
     "data": {
      "text/html": [
       " View run at <a href='http://wandb:8080/ben/kaggle_space-titanic/runs/z0qxzuda' target=\"_blank\">http://wandb:8080/ben/kaggle_space-titanic/runs/z0qxzuda</a>"
      ],
      "text/plain": [
       "<IPython.core.display.HTML object>"
      ]
     },
     "metadata": {},
     "output_type": "display_data"
    },
    {
     "name": "stdout",
     "output_type": "stream",
     "text": [
      "✅ Labels already normalized, no encoding needed\n",
      "[LightGBM] [Info] Number of positive: 3500, number of negative: 3454\n",
      "[LightGBM] [Info] Auto-choosing row-wise multi-threading, the overhead of testing was 0.001629 seconds.\n",
      "You can set `force_row_wise=true` to remove the overhead.\n",
      "And if memory is not enough, you can set `force_col_wise=true`.\n",
      "[LightGBM] [Info] Total Bins 2457\n",
      "[LightGBM] [Info] Number of data points in the train set: 6954, number of used features: 37\n",
      "[LightGBM] [Info] [binary:BoostFromScore]: pavg=0.503307 -> initscore=0.013230\n",
      "[LightGBM] [Info] Start training from score 0.013230\n",
      "✅ Finished training sklearn model\n",
      "🏃 View run v31_lightgbm_{'n_estimators': 200, 'max_depth': -1, 'learning_rate': 0.1, 'num_leaves': 50, 'min_child_samples': 10} at: http://mlflow:5000/#/experiments/2/runs/ae3a88c9646d47fea6651e7e4dd63df0\n",
      "🧪 View experiment at: http://mlflow:5000/#/experiments/2\n"
     ]
    },
    {
     "data": {
      "text/html": [],
      "text/plain": [
       "<IPython.core.display.HTML object>"
      ]
     },
     "metadata": {},
     "output_type": "display_data"
    },
    {
     "data": {
      "text/html": [
       "<br>    <style><br>        .wandb-row {<br>            display: flex;<br>            flex-direction: row;<br>            flex-wrap: wrap;<br>            justify-content: flex-start;<br>            width: 100%;<br>        }<br>        .wandb-col {<br>            display: flex;<br>            flex-direction: column;<br>            flex-basis: 100%;<br>            flex: 1;<br>            padding: 10px;<br>        }<br>    </style><br><div class=\"wandb-row\"><div class=\"wandb-col\"><h3>Run history:</h3><br/><table class=\"wandb\"><tr><td>accuracy</td><td>▁</td></tr><tr><td>f1_macro</td><td>▁</td></tr><tr><td>f1_weighted</td><td>▁</td></tr><tr><td>precision_weighted</td><td>▁</td></tr><tr><td>recall_weighted</td><td>▁</td></tr><tr><td>roc_auc</td><td>▁</td></tr></table><br/></div><div class=\"wandb-col\"><h3>Run summary:</h3><br/><table class=\"wandb\"><tr><td>accuracy</td><td>0.79356</td></tr><tr><td>f1_macro</td><td>0.79356</td></tr><tr><td>f1_weighted</td><td>0.79355</td></tr><tr><td>precision_weighted</td><td>0.79378</td></tr><tr><td>recall_weighted</td><td>0.79356</td></tr><tr><td>roc_auc</td><td>0.79366</td></tr></table><br/></div></div>"
      ],
      "text/plain": [
       "<IPython.core.display.HTML object>"
      ]
     },
     "metadata": {},
     "output_type": "display_data"
    },
    {
     "data": {
      "text/html": [
       " View run <strong style=\"color:#cdcd00\">v31_lightgbm_{'n_estimators': 200, 'max_depth': -1, 'learning_rate': 0.1, 'num_leaves': 50, 'min_child_samples': 10}</strong> at: <a href='http://wandb:8080/ben/kaggle_space-titanic/runs/z0qxzuda' target=\"_blank\">http://wandb:8080/ben/kaggle_space-titanic/runs/z0qxzuda</a><br> View project at: <a href='http://wandb:8080/ben/kaggle_space-titanic' target=\"_blank\">http://wandb:8080/ben/kaggle_space-titanic</a><br>Synced 5 W&B file(s), 0 media file(s), 0 artifact file(s) and 0 other file(s)"
      ],
      "text/plain": [
       "<IPython.core.display.HTML object>"
      ]
     },
     "metadata": {},
     "output_type": "display_data"
    },
    {
     "data": {
      "text/html": [
       "Find logs at: <code>/home/jovyan/wandb/wandb/run-20250517_210614-z0qxzuda/logs</code>"
      ],
      "text/plain": [
       "<IPython.core.display.HTML object>"
      ]
     },
     "metadata": {},
     "output_type": "display_data"
    },
    {
     "name": "stdout",
     "output_type": "stream",
     "text": [
      "Started MLflow run: 21f30cc93fbb444ea1b604304289f31f\n"
     ]
    },
    {
     "data": {
      "text/html": [
       "Tracking run with wandb version 0.19.11"
      ],
      "text/plain": [
       "<IPython.core.display.HTML object>"
      ]
     },
     "metadata": {},
     "output_type": "display_data"
    },
    {
     "data": {
      "text/html": [
       "Run data is saved locally in <code>/home/jovyan/wandb/wandb/run-20250517_210617-lc202r49</code>"
      ],
      "text/plain": [
       "<IPython.core.display.HTML object>"
      ]
     },
     "metadata": {},
     "output_type": "display_data"
    },
    {
     "data": {
      "text/html": [
       "Syncing run <strong><a href='http://wandb:8080/ben/kaggle_space-titanic/runs/lc202r49' target=\"_blank\">v31_lightgbm_{'n_estimators': 200, 'max_depth': -1, 'learning_rate': 0.1, 'num_leaves': 50, 'min_child_samples': 20}</a></strong> to <a href='http://wandb:8080/ben/kaggle_space-titanic' target=\"_blank\">Weights & Biases</a> (<a href='https://wandb.me/developer-guide' target=\"_blank\">docs</a>)<br>"
      ],
      "text/plain": [
       "<IPython.core.display.HTML object>"
      ]
     },
     "metadata": {},
     "output_type": "display_data"
    },
    {
     "data": {
      "text/html": [
       " View project at <a href='http://wandb:8080/ben/kaggle_space-titanic' target=\"_blank\">http://wandb:8080/ben/kaggle_space-titanic</a>"
      ],
      "text/plain": [
       "<IPython.core.display.HTML object>"
      ]
     },
     "metadata": {},
     "output_type": "display_data"
    },
    {
     "data": {
      "text/html": [
       " View run at <a href='http://wandb:8080/ben/kaggle_space-titanic/runs/lc202r49' target=\"_blank\">http://wandb:8080/ben/kaggle_space-titanic/runs/lc202r49</a>"
      ],
      "text/plain": [
       "<IPython.core.display.HTML object>"
      ]
     },
     "metadata": {},
     "output_type": "display_data"
    },
    {
     "name": "stdout",
     "output_type": "stream",
     "text": [
      "✅ Labels already normalized, no encoding needed\n",
      "[LightGBM] [Info] Number of positive: 3500, number of negative: 3454\n",
      "[LightGBM] [Info] Auto-choosing row-wise multi-threading, the overhead of testing was 0.005689 seconds.\n",
      "You can set `force_row_wise=true` to remove the overhead.\n",
      "And if memory is not enough, you can set `force_col_wise=true`.\n",
      "[LightGBM] [Info] Total Bins 2457\n",
      "[LightGBM] [Info] Number of data points in the train set: 6954, number of used features: 37\n",
      "[LightGBM] [Info] [binary:BoostFromScore]: pavg=0.503307 -> initscore=0.013230\n",
      "[LightGBM] [Info] Start training from score 0.013230\n",
      "✅ Finished training sklearn model\n",
      "🏃 View run v31_lightgbm_{'n_estimators': 200, 'max_depth': -1, 'learning_rate': 0.1, 'num_leaves': 50, 'min_child_samples': 20} at: http://mlflow:5000/#/experiments/2/runs/21f30cc93fbb444ea1b604304289f31f\n",
      "🧪 View experiment at: http://mlflow:5000/#/experiments/2\n"
     ]
    },
    {
     "data": {
      "text/html": [],
      "text/plain": [
       "<IPython.core.display.HTML object>"
      ]
     },
     "metadata": {},
     "output_type": "display_data"
    },
    {
     "data": {
      "text/html": [
       "<br>    <style><br>        .wandb-row {<br>            display: flex;<br>            flex-direction: row;<br>            flex-wrap: wrap;<br>            justify-content: flex-start;<br>            width: 100%;<br>        }<br>        .wandb-col {<br>            display: flex;<br>            flex-direction: column;<br>            flex-basis: 100%;<br>            flex: 1;<br>            padding: 10px;<br>        }<br>    </style><br><div class=\"wandb-row\"><div class=\"wandb-col\"><h3>Run history:</h3><br/><table class=\"wandb\"><tr><td>accuracy</td><td>▁</td></tr><tr><td>f1_macro</td><td>▁</td></tr><tr><td>f1_weighted</td><td>▁</td></tr><tr><td>precision_weighted</td><td>▁</td></tr><tr><td>recall_weighted</td><td>▁</td></tr><tr><td>roc_auc</td><td>▁</td></tr></table><br/></div><div class=\"wandb-col\"><h3>Run summary:</h3><br/><table class=\"wandb\"><tr><td>accuracy</td><td>0.79126</td></tr><tr><td>f1_macro</td><td>0.79125</td></tr><tr><td>f1_weighted</td><td>0.79124</td></tr><tr><td>precision_weighted</td><td>0.7916</td></tr><tr><td>recall_weighted</td><td>0.79126</td></tr><tr><td>roc_auc</td><td>0.79139</td></tr></table><br/></div></div>"
      ],
      "text/plain": [
       "<IPython.core.display.HTML object>"
      ]
     },
     "metadata": {},
     "output_type": "display_data"
    },
    {
     "data": {
      "text/html": [
       " View run <strong style=\"color:#cdcd00\">v31_lightgbm_{'n_estimators': 200, 'max_depth': -1, 'learning_rate': 0.1, 'num_leaves': 50, 'min_child_samples': 20}</strong> at: <a href='http://wandb:8080/ben/kaggle_space-titanic/runs/lc202r49' target=\"_blank\">http://wandb:8080/ben/kaggle_space-titanic/runs/lc202r49</a><br> View project at: <a href='http://wandb:8080/ben/kaggle_space-titanic' target=\"_blank\">http://wandb:8080/ben/kaggle_space-titanic</a><br>Synced 5 W&B file(s), 0 media file(s), 0 artifact file(s) and 0 other file(s)"
      ],
      "text/plain": [
       "<IPython.core.display.HTML object>"
      ]
     },
     "metadata": {},
     "output_type": "display_data"
    },
    {
     "data": {
      "text/html": [
       "Find logs at: <code>/home/jovyan/wandb/wandb/run-20250517_210617-lc202r49/logs</code>"
      ],
      "text/plain": [
       "<IPython.core.display.HTML object>"
      ]
     },
     "metadata": {},
     "output_type": "display_data"
    },
    {
     "name": "stdout",
     "output_type": "stream",
     "text": [
      "Started MLflow run: 8a4502e5037844d4ae236ac8bb80f730\n"
     ]
    },
    {
     "data": {
      "text/html": [
       "Tracking run with wandb version 0.19.11"
      ],
      "text/plain": [
       "<IPython.core.display.HTML object>"
      ]
     },
     "metadata": {},
     "output_type": "display_data"
    },
    {
     "data": {
      "text/html": [
       "Run data is saved locally in <code>/home/jovyan/wandb/wandb/run-20250517_210619-v654d1yv</code>"
      ],
      "text/plain": [
       "<IPython.core.display.HTML object>"
      ]
     },
     "metadata": {},
     "output_type": "display_data"
    },
    {
     "data": {
      "text/html": [
       "Syncing run <strong><a href='http://wandb:8080/ben/kaggle_space-titanic/runs/v654d1yv' target=\"_blank\">v31_lightgbm_{'n_estimators': 200, 'max_depth': 10, 'learning_rate': 0.01, 'num_leaves': 31, 'min_child_samples': 10}</a></strong> to <a href='http://wandb:8080/ben/kaggle_space-titanic' target=\"_blank\">Weights & Biases</a> (<a href='https://wandb.me/developer-guide' target=\"_blank\">docs</a>)<br>"
      ],
      "text/plain": [
       "<IPython.core.display.HTML object>"
      ]
     },
     "metadata": {},
     "output_type": "display_data"
    },
    {
     "data": {
      "text/html": [
       " View project at <a href='http://wandb:8080/ben/kaggle_space-titanic' target=\"_blank\">http://wandb:8080/ben/kaggle_space-titanic</a>"
      ],
      "text/plain": [
       "<IPython.core.display.HTML object>"
      ]
     },
     "metadata": {},
     "output_type": "display_data"
    },
    {
     "data": {
      "text/html": [
       " View run at <a href='http://wandb:8080/ben/kaggle_space-titanic/runs/v654d1yv' target=\"_blank\">http://wandb:8080/ben/kaggle_space-titanic/runs/v654d1yv</a>"
      ],
      "text/plain": [
       "<IPython.core.display.HTML object>"
      ]
     },
     "metadata": {},
     "output_type": "display_data"
    },
    {
     "name": "stdout",
     "output_type": "stream",
     "text": [
      "✅ Labels already normalized, no encoding needed\n",
      "[LightGBM] [Info] Number of positive: 3500, number of negative: 3454\n",
      "[LightGBM] [Info] Auto-choosing row-wise multi-threading, the overhead of testing was 0.005399 seconds.\n",
      "You can set `force_row_wise=true` to remove the overhead.\n",
      "And if memory is not enough, you can set `force_col_wise=true`.\n",
      "[LightGBM] [Info] Total Bins 2457\n",
      "[LightGBM] [Info] Number of data points in the train set: 6954, number of used features: 37\n",
      "[LightGBM] [Info] [binary:BoostFromScore]: pavg=0.503307 -> initscore=0.013230\n",
      "[LightGBM] [Info] Start training from score 0.013230\n",
      "✅ Finished training sklearn model\n",
      "🏃 View run v31_lightgbm_{'n_estimators': 200, 'max_depth': 10, 'learning_rate': 0.01, 'num_leaves': 31, 'min_child_samples': 10} at: http://mlflow:5000/#/experiments/2/runs/8a4502e5037844d4ae236ac8bb80f730\n",
      "🧪 View experiment at: http://mlflow:5000/#/experiments/2\n"
     ]
    },
    {
     "data": {
      "text/html": [],
      "text/plain": [
       "<IPython.core.display.HTML object>"
      ]
     },
     "metadata": {},
     "output_type": "display_data"
    },
    {
     "data": {
      "text/html": [
       "<br>    <style><br>        .wandb-row {<br>            display: flex;<br>            flex-direction: row;<br>            flex-wrap: wrap;<br>            justify-content: flex-start;<br>            width: 100%;<br>        }<br>        .wandb-col {<br>            display: flex;<br>            flex-direction: column;<br>            flex-basis: 100%;<br>            flex: 1;<br>            padding: 10px;<br>        }<br>    </style><br><div class=\"wandb-row\"><div class=\"wandb-col\"><h3>Run history:</h3><br/><table class=\"wandb\"><tr><td>accuracy</td><td>▁</td></tr><tr><td>f1_macro</td><td>▁</td></tr><tr><td>f1_weighted</td><td>▁</td></tr><tr><td>precision_weighted</td><td>▁</td></tr><tr><td>recall_weighted</td><td>▁</td></tr><tr><td>roc_auc</td><td>▁</td></tr></table><br/></div><div class=\"wandb-col\"><h3>Run summary:</h3><br/><table class=\"wandb\"><tr><td>accuracy</td><td>0.79241</td></tr><tr><td>f1_macro</td><td>0.7919</td></tr><tr><td>f1_weighted</td><td>0.792</td></tr><tr><td>precision_weighted</td><td>0.7941</td></tr><tr><td>recall_weighted</td><td>0.79241</td></tr><tr><td>roc_auc</td><td>0.792</td></tr></table><br/></div></div>"
      ],
      "text/plain": [
       "<IPython.core.display.HTML object>"
      ]
     },
     "metadata": {},
     "output_type": "display_data"
    },
    {
     "data": {
      "text/html": [
       " View run <strong style=\"color:#cdcd00\">v31_lightgbm_{'n_estimators': 200, 'max_depth': 10, 'learning_rate': 0.01, 'num_leaves': 31, 'min_child_samples': 10}</strong> at: <a href='http://wandb:8080/ben/kaggle_space-titanic/runs/v654d1yv' target=\"_blank\">http://wandb:8080/ben/kaggle_space-titanic/runs/v654d1yv</a><br> View project at: <a href='http://wandb:8080/ben/kaggle_space-titanic' target=\"_blank\">http://wandb:8080/ben/kaggle_space-titanic</a><br>Synced 5 W&B file(s), 0 media file(s), 0 artifact file(s) and 0 other file(s)"
      ],
      "text/plain": [
       "<IPython.core.display.HTML object>"
      ]
     },
     "metadata": {},
     "output_type": "display_data"
    },
    {
     "data": {
      "text/html": [
       "Find logs at: <code>/home/jovyan/wandb/wandb/run-20250517_210619-v654d1yv/logs</code>"
      ],
      "text/plain": [
       "<IPython.core.display.HTML object>"
      ]
     },
     "metadata": {},
     "output_type": "display_data"
    },
    {
     "name": "stdout",
     "output_type": "stream",
     "text": [
      "Started MLflow run: beaf92f8abe64e43ac0d680850a12ae5\n"
     ]
    },
    {
     "data": {
      "text/html": [
       "Tracking run with wandb version 0.19.11"
      ],
      "text/plain": [
       "<IPython.core.display.HTML object>"
      ]
     },
     "metadata": {},
     "output_type": "display_data"
    },
    {
     "data": {
      "text/html": [
       "Run data is saved locally in <code>/home/jovyan/wandb/wandb/run-20250517_210621-lfauuza1</code>"
      ],
      "text/plain": [
       "<IPython.core.display.HTML object>"
      ]
     },
     "metadata": {},
     "output_type": "display_data"
    },
    {
     "data": {
      "text/html": [
       "Syncing run <strong><a href='http://wandb:8080/ben/kaggle_space-titanic/runs/lfauuza1' target=\"_blank\">v31_lightgbm_{'n_estimators': 200, 'max_depth': 10, 'learning_rate': 0.01, 'num_leaves': 31, 'min_child_samples': 20}</a></strong> to <a href='http://wandb:8080/ben/kaggle_space-titanic' target=\"_blank\">Weights & Biases</a> (<a href='https://wandb.me/developer-guide' target=\"_blank\">docs</a>)<br>"
      ],
      "text/plain": [
       "<IPython.core.display.HTML object>"
      ]
     },
     "metadata": {},
     "output_type": "display_data"
    },
    {
     "data": {
      "text/html": [
       " View project at <a href='http://wandb:8080/ben/kaggle_space-titanic' target=\"_blank\">http://wandb:8080/ben/kaggle_space-titanic</a>"
      ],
      "text/plain": [
       "<IPython.core.display.HTML object>"
      ]
     },
     "metadata": {},
     "output_type": "display_data"
    },
    {
     "data": {
      "text/html": [
       " View run at <a href='http://wandb:8080/ben/kaggle_space-titanic/runs/lfauuza1' target=\"_blank\">http://wandb:8080/ben/kaggle_space-titanic/runs/lfauuza1</a>"
      ],
      "text/plain": [
       "<IPython.core.display.HTML object>"
      ]
     },
     "metadata": {},
     "output_type": "display_data"
    },
    {
     "name": "stdout",
     "output_type": "stream",
     "text": [
      "✅ Labels already normalized, no encoding needed\n",
      "[LightGBM] [Info] Number of positive: 3500, number of negative: 3454\n",
      "[LightGBM] [Info] Auto-choosing row-wise multi-threading, the overhead of testing was 0.005377 seconds.\n",
      "You can set `force_row_wise=true` to remove the overhead.\n",
      "And if memory is not enough, you can set `force_col_wise=true`.\n",
      "[LightGBM] [Info] Total Bins 2457\n",
      "[LightGBM] [Info] Number of data points in the train set: 6954, number of used features: 37\n",
      "[LightGBM] [Info] [binary:BoostFromScore]: pavg=0.503307 -> initscore=0.013230\n",
      "[LightGBM] [Info] Start training from score 0.013230\n",
      "✅ Finished training sklearn model\n",
      "🏃 View run v31_lightgbm_{'n_estimators': 200, 'max_depth': 10, 'learning_rate': 0.01, 'num_leaves': 31, 'min_child_samples': 20} at: http://mlflow:5000/#/experiments/2/runs/beaf92f8abe64e43ac0d680850a12ae5\n",
      "🧪 View experiment at: http://mlflow:5000/#/experiments/2\n"
     ]
    },
    {
     "data": {
      "text/html": [],
      "text/plain": [
       "<IPython.core.display.HTML object>"
      ]
     },
     "metadata": {},
     "output_type": "display_data"
    },
    {
     "data": {
      "text/html": [
       "<br>    <style><br>        .wandb-row {<br>            display: flex;<br>            flex-direction: row;<br>            flex-wrap: wrap;<br>            justify-content: flex-start;<br>            width: 100%;<br>        }<br>        .wandb-col {<br>            display: flex;<br>            flex-direction: column;<br>            flex-basis: 100%;<br>            flex: 1;<br>            padding: 10px;<br>        }<br>    </style><br><div class=\"wandb-row\"><div class=\"wandb-col\"><h3>Run history:</h3><br/><table class=\"wandb\"><tr><td>accuracy</td><td>▁</td></tr><tr><td>f1_macro</td><td>▁</td></tr><tr><td>f1_weighted</td><td>▁</td></tr><tr><td>precision_weighted</td><td>▁</td></tr><tr><td>recall_weighted</td><td>▁</td></tr><tr><td>roc_auc</td><td>▁</td></tr></table><br/></div><div class=\"wandb-col\"><h3>Run summary:</h3><br/><table class=\"wandb\"><tr><td>accuracy</td><td>0.78896</td></tr><tr><td>f1_macro</td><td>0.78847</td></tr><tr><td>f1_weighted</td><td>0.78857</td></tr><tr><td>precision_weighted</td><td>0.79053</td></tr><tr><td>recall_weighted</td><td>0.78896</td></tr><tr><td>roc_auc</td><td>0.78856</td></tr></table><br/></div></div>"
      ],
      "text/plain": [
       "<IPython.core.display.HTML object>"
      ]
     },
     "metadata": {},
     "output_type": "display_data"
    },
    {
     "data": {
      "text/html": [
       " View run <strong style=\"color:#cdcd00\">v31_lightgbm_{'n_estimators': 200, 'max_depth': 10, 'learning_rate': 0.01, 'num_leaves': 31, 'min_child_samples': 20}</strong> at: <a href='http://wandb:8080/ben/kaggle_space-titanic/runs/lfauuza1' target=\"_blank\">http://wandb:8080/ben/kaggle_space-titanic/runs/lfauuza1</a><br> View project at: <a href='http://wandb:8080/ben/kaggle_space-titanic' target=\"_blank\">http://wandb:8080/ben/kaggle_space-titanic</a><br>Synced 5 W&B file(s), 0 media file(s), 0 artifact file(s) and 0 other file(s)"
      ],
      "text/plain": [
       "<IPython.core.display.HTML object>"
      ]
     },
     "metadata": {},
     "output_type": "display_data"
    },
    {
     "data": {
      "text/html": [
       "Find logs at: <code>/home/jovyan/wandb/wandb/run-20250517_210621-lfauuza1/logs</code>"
      ],
      "text/plain": [
       "<IPython.core.display.HTML object>"
      ]
     },
     "metadata": {},
     "output_type": "display_data"
    },
    {
     "name": "stdout",
     "output_type": "stream",
     "text": [
      "Started MLflow run: 1e128ff55d4c4f5089fddf1735786193\n"
     ]
    },
    {
     "data": {
      "text/html": [
       "Tracking run with wandb version 0.19.11"
      ],
      "text/plain": [
       "<IPython.core.display.HTML object>"
      ]
     },
     "metadata": {},
     "output_type": "display_data"
    },
    {
     "data": {
      "text/html": [
       "Run data is saved locally in <code>/home/jovyan/wandb/wandb/run-20250517_210624-8krlkhph</code>"
      ],
      "text/plain": [
       "<IPython.core.display.HTML object>"
      ]
     },
     "metadata": {},
     "output_type": "display_data"
    },
    {
     "data": {
      "text/html": [
       "Syncing run <strong><a href='http://wandb:8080/ben/kaggle_space-titanic/runs/8krlkhph' target=\"_blank\">v31_lightgbm_{'n_estimators': 200, 'max_depth': 10, 'learning_rate': 0.01, 'num_leaves': 50, 'min_child_samples': 10}</a></strong> to <a href='http://wandb:8080/ben/kaggle_space-titanic' target=\"_blank\">Weights & Biases</a> (<a href='https://wandb.me/developer-guide' target=\"_blank\">docs</a>)<br>"
      ],
      "text/plain": [
       "<IPython.core.display.HTML object>"
      ]
     },
     "metadata": {},
     "output_type": "display_data"
    },
    {
     "data": {
      "text/html": [
       " View project at <a href='http://wandb:8080/ben/kaggle_space-titanic' target=\"_blank\">http://wandb:8080/ben/kaggle_space-titanic</a>"
      ],
      "text/plain": [
       "<IPython.core.display.HTML object>"
      ]
     },
     "metadata": {},
     "output_type": "display_data"
    },
    {
     "data": {
      "text/html": [
       " View run at <a href='http://wandb:8080/ben/kaggle_space-titanic/runs/8krlkhph' target=\"_blank\">http://wandb:8080/ben/kaggle_space-titanic/runs/8krlkhph</a>"
      ],
      "text/plain": [
       "<IPython.core.display.HTML object>"
      ]
     },
     "metadata": {},
     "output_type": "display_data"
    },
    {
     "name": "stdout",
     "output_type": "stream",
     "text": [
      "✅ Labels already normalized, no encoding needed\n",
      "[LightGBM] [Info] Number of positive: 3500, number of negative: 3454\n",
      "[LightGBM] [Info] Auto-choosing col-wise multi-threading, the overhead of testing was 0.007130 seconds.\n",
      "You can set `force_col_wise=true` to remove the overhead.\n",
      "[LightGBM] [Info] Total Bins 2457\n",
      "[LightGBM] [Info] Number of data points in the train set: 6954, number of used features: 37\n",
      "[LightGBM] [Info] [binary:BoostFromScore]: pavg=0.503307 -> initscore=0.013230\n",
      "[LightGBM] [Info] Start training from score 0.013230\n",
      "✅ Finished training sklearn model\n",
      "🏃 View run v31_lightgbm_{'n_estimators': 200, 'max_depth': 10, 'learning_rate': 0.01, 'num_leaves': 50, 'min_child_samples': 10} at: http://mlflow:5000/#/experiments/2/runs/1e128ff55d4c4f5089fddf1735786193\n",
      "🧪 View experiment at: http://mlflow:5000/#/experiments/2\n"
     ]
    },
    {
     "data": {
      "text/html": [],
      "text/plain": [
       "<IPython.core.display.HTML object>"
      ]
     },
     "metadata": {},
     "output_type": "display_data"
    },
    {
     "data": {
      "text/html": [
       "<br>    <style><br>        .wandb-row {<br>            display: flex;<br>            flex-direction: row;<br>            flex-wrap: wrap;<br>            justify-content: flex-start;<br>            width: 100%;<br>        }<br>        .wandb-col {<br>            display: flex;<br>            flex-direction: column;<br>            flex-basis: 100%;<br>            flex: 1;<br>            padding: 10px;<br>        }<br>    </style><br><div class=\"wandb-row\"><div class=\"wandb-col\"><h3>Run history:</h3><br/><table class=\"wandb\"><tr><td>accuracy</td><td>▁</td></tr><tr><td>f1_macro</td><td>▁</td></tr><tr><td>f1_weighted</td><td>▁</td></tr><tr><td>precision_weighted</td><td>▁</td></tr><tr><td>recall_weighted</td><td>▁</td></tr><tr><td>roc_auc</td><td>▁</td></tr></table><br/></div><div class=\"wandb-col\"><h3>Run summary:</h3><br/><table class=\"wandb\"><tr><td>accuracy</td><td>0.78838</td></tr><tr><td>f1_macro</td><td>0.78799</td></tr><tr><td>f1_weighted</td><td>0.78808</td></tr><tr><td>precision_weighted</td><td>0.78954</td></tr><tr><td>recall_weighted</td><td>0.78838</td></tr><tr><td>roc_auc</td><td>0.78804</td></tr></table><br/></div></div>"
      ],
      "text/plain": [
       "<IPython.core.display.HTML object>"
      ]
     },
     "metadata": {},
     "output_type": "display_data"
    },
    {
     "data": {
      "text/html": [
       " View run <strong style=\"color:#cdcd00\">v31_lightgbm_{'n_estimators': 200, 'max_depth': 10, 'learning_rate': 0.01, 'num_leaves': 50, 'min_child_samples': 10}</strong> at: <a href='http://wandb:8080/ben/kaggle_space-titanic/runs/8krlkhph' target=\"_blank\">http://wandb:8080/ben/kaggle_space-titanic/runs/8krlkhph</a><br> View project at: <a href='http://wandb:8080/ben/kaggle_space-titanic' target=\"_blank\">http://wandb:8080/ben/kaggle_space-titanic</a><br>Synced 5 W&B file(s), 0 media file(s), 0 artifact file(s) and 0 other file(s)"
      ],
      "text/plain": [
       "<IPython.core.display.HTML object>"
      ]
     },
     "metadata": {},
     "output_type": "display_data"
    },
    {
     "data": {
      "text/html": [
       "Find logs at: <code>/home/jovyan/wandb/wandb/run-20250517_210624-8krlkhph/logs</code>"
      ],
      "text/plain": [
       "<IPython.core.display.HTML object>"
      ]
     },
     "metadata": {},
     "output_type": "display_data"
    },
    {
     "name": "stdout",
     "output_type": "stream",
     "text": [
      "Started MLflow run: a8c77e2db84443cabe7d274227ba73f4\n"
     ]
    },
    {
     "data": {
      "text/html": [
       "Tracking run with wandb version 0.19.11"
      ],
      "text/plain": [
       "<IPython.core.display.HTML object>"
      ]
     },
     "metadata": {},
     "output_type": "display_data"
    },
    {
     "data": {
      "text/html": [
       "Run data is saved locally in <code>/home/jovyan/wandb/wandb/run-20250517_210626-2qmcrnwx</code>"
      ],
      "text/plain": [
       "<IPython.core.display.HTML object>"
      ]
     },
     "metadata": {},
     "output_type": "display_data"
    },
    {
     "data": {
      "text/html": [
       "Syncing run <strong><a href='http://wandb:8080/ben/kaggle_space-titanic/runs/2qmcrnwx' target=\"_blank\">v31_lightgbm_{'n_estimators': 200, 'max_depth': 10, 'learning_rate': 0.01, 'num_leaves': 50, 'min_child_samples': 20}</a></strong> to <a href='http://wandb:8080/ben/kaggle_space-titanic' target=\"_blank\">Weights & Biases</a> (<a href='https://wandb.me/developer-guide' target=\"_blank\">docs</a>)<br>"
      ],
      "text/plain": [
       "<IPython.core.display.HTML object>"
      ]
     },
     "metadata": {},
     "output_type": "display_data"
    },
    {
     "data": {
      "text/html": [
       " View project at <a href='http://wandb:8080/ben/kaggle_space-titanic' target=\"_blank\">http://wandb:8080/ben/kaggle_space-titanic</a>"
      ],
      "text/plain": [
       "<IPython.core.display.HTML object>"
      ]
     },
     "metadata": {},
     "output_type": "display_data"
    },
    {
     "data": {
      "text/html": [
       " View run at <a href='http://wandb:8080/ben/kaggle_space-titanic/runs/2qmcrnwx' target=\"_blank\">http://wandb:8080/ben/kaggle_space-titanic/runs/2qmcrnwx</a>"
      ],
      "text/plain": [
       "<IPython.core.display.HTML object>"
      ]
     },
     "metadata": {},
     "output_type": "display_data"
    },
    {
     "name": "stdout",
     "output_type": "stream",
     "text": [
      "✅ Labels already normalized, no encoding needed\n",
      "[LightGBM] [Info] Number of positive: 3500, number of negative: 3454\n",
      "[LightGBM] [Info] Auto-choosing col-wise multi-threading, the overhead of testing was 0.002116 seconds.\n",
      "You can set `force_col_wise=true` to remove the overhead.\n",
      "[LightGBM] [Info] Total Bins 2457\n",
      "[LightGBM] [Info] Number of data points in the train set: 6954, number of used features: 37\n",
      "[LightGBM] [Info] [binary:BoostFromScore]: pavg=0.503307 -> initscore=0.013230\n",
      "[LightGBM] [Info] Start training from score 0.013230\n",
      "✅ Finished training sklearn model\n",
      "🏃 View run v31_lightgbm_{'n_estimators': 200, 'max_depth': 10, 'learning_rate': 0.01, 'num_leaves': 50, 'min_child_samples': 20} at: http://mlflow:5000/#/experiments/2/runs/a8c77e2db84443cabe7d274227ba73f4\n",
      "🧪 View experiment at: http://mlflow:5000/#/experiments/2\n"
     ]
    },
    {
     "data": {
      "text/html": [],
      "text/plain": [
       "<IPython.core.display.HTML object>"
      ]
     },
     "metadata": {},
     "output_type": "display_data"
    },
    {
     "data": {
      "text/html": [
       "<br>    <style><br>        .wandb-row {<br>            display: flex;<br>            flex-direction: row;<br>            flex-wrap: wrap;<br>            justify-content: flex-start;<br>            width: 100%;<br>        }<br>        .wandb-col {<br>            display: flex;<br>            flex-direction: column;<br>            flex-basis: 100%;<br>            flex: 1;<br>            padding: 10px;<br>        }<br>    </style><br><div class=\"wandb-row\"><div class=\"wandb-col\"><h3>Run history:</h3><br/><table class=\"wandb\"><tr><td>accuracy</td><td>▁</td></tr><tr><td>f1_macro</td><td>▁</td></tr><tr><td>f1_weighted</td><td>▁</td></tr><tr><td>precision_weighted</td><td>▁</td></tr><tr><td>recall_weighted</td><td>▁</td></tr><tr><td>roc_auc</td><td>▁</td></tr></table><br/></div><div class=\"wandb-col\"><h3>Run summary:</h3><br/><table class=\"wandb\"><tr><td>accuracy</td><td>0.78838</td></tr><tr><td>f1_macro</td><td>0.78803</td></tr><tr><td>f1_weighted</td><td>0.78812</td></tr><tr><td>precision_weighted</td><td>0.78937</td></tr><tr><td>recall_weighted</td><td>0.78838</td></tr><tr><td>roc_auc</td><td>0.78806</td></tr></table><br/></div></div>"
      ],
      "text/plain": [
       "<IPython.core.display.HTML object>"
      ]
     },
     "metadata": {},
     "output_type": "display_data"
    },
    {
     "data": {
      "text/html": [
       " View run <strong style=\"color:#cdcd00\">v31_lightgbm_{'n_estimators': 200, 'max_depth': 10, 'learning_rate': 0.01, 'num_leaves': 50, 'min_child_samples': 20}</strong> at: <a href='http://wandb:8080/ben/kaggle_space-titanic/runs/2qmcrnwx' target=\"_blank\">http://wandb:8080/ben/kaggle_space-titanic/runs/2qmcrnwx</a><br> View project at: <a href='http://wandb:8080/ben/kaggle_space-titanic' target=\"_blank\">http://wandb:8080/ben/kaggle_space-titanic</a><br>Synced 5 W&B file(s), 0 media file(s), 0 artifact file(s) and 0 other file(s)"
      ],
      "text/plain": [
       "<IPython.core.display.HTML object>"
      ]
     },
     "metadata": {},
     "output_type": "display_data"
    },
    {
     "data": {
      "text/html": [
       "Find logs at: <code>/home/jovyan/wandb/wandb/run-20250517_210626-2qmcrnwx/logs</code>"
      ],
      "text/plain": [
       "<IPython.core.display.HTML object>"
      ]
     },
     "metadata": {},
     "output_type": "display_data"
    },
    {
     "name": "stdout",
     "output_type": "stream",
     "text": [
      "Started MLflow run: 2ce63aaac2ae403ab952421d57b34dce\n"
     ]
    },
    {
     "data": {
      "text/html": [
       "Tracking run with wandb version 0.19.11"
      ],
      "text/plain": [
       "<IPython.core.display.HTML object>"
      ]
     },
     "metadata": {},
     "output_type": "display_data"
    },
    {
     "data": {
      "text/html": [
       "Run data is saved locally in <code>/home/jovyan/wandb/wandb/run-20250517_210628-x82q2ab3</code>"
      ],
      "text/plain": [
       "<IPython.core.display.HTML object>"
      ]
     },
     "metadata": {},
     "output_type": "display_data"
    },
    {
     "data": {
      "text/html": [
       "Syncing run <strong><a href='http://wandb:8080/ben/kaggle_space-titanic/runs/x82q2ab3' target=\"_blank\">v31_lightgbm_{'n_estimators': 200, 'max_depth': 10, 'learning_rate': 0.1, 'num_leaves': 31, 'min_child_samples': 10}</a></strong> to <a href='http://wandb:8080/ben/kaggle_space-titanic' target=\"_blank\">Weights & Biases</a> (<a href='https://wandb.me/developer-guide' target=\"_blank\">docs</a>)<br>"
      ],
      "text/plain": [
       "<IPython.core.display.HTML object>"
      ]
     },
     "metadata": {},
     "output_type": "display_data"
    },
    {
     "data": {
      "text/html": [
       " View project at <a href='http://wandb:8080/ben/kaggle_space-titanic' target=\"_blank\">http://wandb:8080/ben/kaggle_space-titanic</a>"
      ],
      "text/plain": [
       "<IPython.core.display.HTML object>"
      ]
     },
     "metadata": {},
     "output_type": "display_data"
    },
    {
     "data": {
      "text/html": [
       " View run at <a href='http://wandb:8080/ben/kaggle_space-titanic/runs/x82q2ab3' target=\"_blank\">http://wandb:8080/ben/kaggle_space-titanic/runs/x82q2ab3</a>"
      ],
      "text/plain": [
       "<IPython.core.display.HTML object>"
      ]
     },
     "metadata": {},
     "output_type": "display_data"
    },
    {
     "name": "stdout",
     "output_type": "stream",
     "text": [
      "✅ Labels already normalized, no encoding needed\n",
      "[LightGBM] [Info] Number of positive: 3500, number of negative: 3454\n",
      "[LightGBM] [Info] Auto-choosing col-wise multi-threading, the overhead of testing was 0.002738 seconds.\n",
      "You can set `force_col_wise=true` to remove the overhead.\n",
      "[LightGBM] [Info] Total Bins 2457\n",
      "[LightGBM] [Info] Number of data points in the train set: 6954, number of used features: 37\n",
      "[LightGBM] [Info] [binary:BoostFromScore]: pavg=0.503307 -> initscore=0.013230\n",
      "[LightGBM] [Info] Start training from score 0.013230\n",
      "✅ Finished training sklearn model\n",
      "🏃 View run v31_lightgbm_{'n_estimators': 200, 'max_depth': 10, 'learning_rate': 0.1, 'num_leaves': 31, 'min_child_samples': 10} at: http://mlflow:5000/#/experiments/2/runs/2ce63aaac2ae403ab952421d57b34dce\n",
      "🧪 View experiment at: http://mlflow:5000/#/experiments/2\n"
     ]
    },
    {
     "data": {
      "text/html": [],
      "text/plain": [
       "<IPython.core.display.HTML object>"
      ]
     },
     "metadata": {},
     "output_type": "display_data"
    },
    {
     "data": {
      "text/html": [
       "<br>    <style><br>        .wandb-row {<br>            display: flex;<br>            flex-direction: row;<br>            flex-wrap: wrap;<br>            justify-content: flex-start;<br>            width: 100%;<br>        }<br>        .wandb-col {<br>            display: flex;<br>            flex-direction: column;<br>            flex-basis: 100%;<br>            flex: 1;<br>            padding: 10px;<br>        }<br>    </style><br><div class=\"wandb-row\"><div class=\"wandb-col\"><h3>Run history:</h3><br/><table class=\"wandb\"><tr><td>accuracy</td><td>▁</td></tr><tr><td>f1_macro</td><td>▁</td></tr><tr><td>f1_weighted</td><td>▁</td></tr><tr><td>precision_weighted</td><td>▁</td></tr><tr><td>recall_weighted</td><td>▁</td></tr><tr><td>roc_auc</td><td>▁</td></tr></table><br/></div><div class=\"wandb-col\"><h3>Run summary:</h3><br/><table class=\"wandb\"><tr><td>accuracy</td><td>0.80391</td></tr><tr><td>f1_macro</td><td>0.80391</td></tr><tr><td>f1_weighted</td><td>0.80391</td></tr><tr><td>precision_weighted</td><td>0.80398</td></tr><tr><td>recall_weighted</td><td>0.80391</td></tr><tr><td>roc_auc</td><td>0.80395</td></tr></table><br/></div></div>"
      ],
      "text/plain": [
       "<IPython.core.display.HTML object>"
      ]
     },
     "metadata": {},
     "output_type": "display_data"
    },
    {
     "data": {
      "text/html": [
       " View run <strong style=\"color:#cdcd00\">v31_lightgbm_{'n_estimators': 200, 'max_depth': 10, 'learning_rate': 0.1, 'num_leaves': 31, 'min_child_samples': 10}</strong> at: <a href='http://wandb:8080/ben/kaggle_space-titanic/runs/x82q2ab3' target=\"_blank\">http://wandb:8080/ben/kaggle_space-titanic/runs/x82q2ab3</a><br> View project at: <a href='http://wandb:8080/ben/kaggle_space-titanic' target=\"_blank\">http://wandb:8080/ben/kaggle_space-titanic</a><br>Synced 5 W&B file(s), 0 media file(s), 0 artifact file(s) and 0 other file(s)"
      ],
      "text/plain": [
       "<IPython.core.display.HTML object>"
      ]
     },
     "metadata": {},
     "output_type": "display_data"
    },
    {
     "data": {
      "text/html": [
       "Find logs at: <code>/home/jovyan/wandb/wandb/run-20250517_210628-x82q2ab3/logs</code>"
      ],
      "text/plain": [
       "<IPython.core.display.HTML object>"
      ]
     },
     "metadata": {},
     "output_type": "display_data"
    },
    {
     "name": "stdout",
     "output_type": "stream",
     "text": [
      "Started MLflow run: e0380aaa37434df0becb50f840f80473\n"
     ]
    },
    {
     "data": {
      "text/html": [
       "Tracking run with wandb version 0.19.11"
      ],
      "text/plain": [
       "<IPython.core.display.HTML object>"
      ]
     },
     "metadata": {},
     "output_type": "display_data"
    },
    {
     "data": {
      "text/html": [
       "Run data is saved locally in <code>/home/jovyan/wandb/wandb/run-20250517_210630-ocyz4cjp</code>"
      ],
      "text/plain": [
       "<IPython.core.display.HTML object>"
      ]
     },
     "metadata": {},
     "output_type": "display_data"
    },
    {
     "data": {
      "text/html": [
       "Syncing run <strong><a href='http://wandb:8080/ben/kaggle_space-titanic/runs/ocyz4cjp' target=\"_blank\">v31_lightgbm_{'n_estimators': 200, 'max_depth': 10, 'learning_rate': 0.1, 'num_leaves': 31, 'min_child_samples': 20}</a></strong> to <a href='http://wandb:8080/ben/kaggle_space-titanic' target=\"_blank\">Weights & Biases</a> (<a href='https://wandb.me/developer-guide' target=\"_blank\">docs</a>)<br>"
      ],
      "text/plain": [
       "<IPython.core.display.HTML object>"
      ]
     },
     "metadata": {},
     "output_type": "display_data"
    },
    {
     "data": {
      "text/html": [
       " View project at <a href='http://wandb:8080/ben/kaggle_space-titanic' target=\"_blank\">http://wandb:8080/ben/kaggle_space-titanic</a>"
      ],
      "text/plain": [
       "<IPython.core.display.HTML object>"
      ]
     },
     "metadata": {},
     "output_type": "display_data"
    },
    {
     "data": {
      "text/html": [
       " View run at <a href='http://wandb:8080/ben/kaggle_space-titanic/runs/ocyz4cjp' target=\"_blank\">http://wandb:8080/ben/kaggle_space-titanic/runs/ocyz4cjp</a>"
      ],
      "text/plain": [
       "<IPython.core.display.HTML object>"
      ]
     },
     "metadata": {},
     "output_type": "display_data"
    },
    {
     "name": "stdout",
     "output_type": "stream",
     "text": [
      "✅ Labels already normalized, no encoding needed\n",
      "[LightGBM] [Info] Number of positive: 3500, number of negative: 3454\n",
      "[LightGBM] [Info] Auto-choosing col-wise multi-threading, the overhead of testing was 0.005353 seconds.\n",
      "You can set `force_col_wise=true` to remove the overhead.\n",
      "[LightGBM] [Info] Total Bins 2457\n",
      "[LightGBM] [Info] Number of data points in the train set: 6954, number of used features: 37\n",
      "[LightGBM] [Info] [binary:BoostFromScore]: pavg=0.503307 -> initscore=0.013230\n",
      "[LightGBM] [Info] Start training from score 0.013230\n",
      "[LightGBM] [Warning] No further splits with positive gain, best gain: -inf\n",
      "✅ Finished training sklearn model\n",
      "🏃 View run v31_lightgbm_{'n_estimators': 200, 'max_depth': 10, 'learning_rate': 0.1, 'num_leaves': 31, 'min_child_samples': 20} at: http://mlflow:5000/#/experiments/2/runs/e0380aaa37434df0becb50f840f80473\n",
      "🧪 View experiment at: http://mlflow:5000/#/experiments/2\n"
     ]
    },
    {
     "data": {
      "text/html": [],
      "text/plain": [
       "<IPython.core.display.HTML object>"
      ]
     },
     "metadata": {},
     "output_type": "display_data"
    },
    {
     "data": {
      "text/html": [
       "<br>    <style><br>        .wandb-row {<br>            display: flex;<br>            flex-direction: row;<br>            flex-wrap: wrap;<br>            justify-content: flex-start;<br>            width: 100%;<br>        }<br>        .wandb-col {<br>            display: flex;<br>            flex-direction: column;<br>            flex-basis: 100%;<br>            flex: 1;<br>            padding: 10px;<br>        }<br>    </style><br><div class=\"wandb-row\"><div class=\"wandb-col\"><h3>Run history:</h3><br/><table class=\"wandb\"><tr><td>accuracy</td><td>▁</td></tr><tr><td>f1_macro</td><td>▁</td></tr><tr><td>f1_weighted</td><td>▁</td></tr><tr><td>precision_weighted</td><td>▁</td></tr><tr><td>recall_weighted</td><td>▁</td></tr><tr><td>roc_auc</td><td>▁</td></tr></table><br/></div><div class=\"wandb-col\"><h3>Run summary:</h3><br/><table class=\"wandb\"><tr><td>accuracy</td><td>0.79011</td></tr><tr><td>f1_macro</td><td>0.79011</td></tr><tr><td>f1_weighted</td><td>0.7901</td></tr><tr><td>precision_weighted</td><td>0.79033</td></tr><tr><td>recall_weighted</td><td>0.79011</td></tr><tr><td>roc_auc</td><td>0.79021</td></tr></table><br/></div></div>"
      ],
      "text/plain": [
       "<IPython.core.display.HTML object>"
      ]
     },
     "metadata": {},
     "output_type": "display_data"
    },
    {
     "data": {
      "text/html": [
       " View run <strong style=\"color:#cdcd00\">v31_lightgbm_{'n_estimators': 200, 'max_depth': 10, 'learning_rate': 0.1, 'num_leaves': 31, 'min_child_samples': 20}</strong> at: <a href='http://wandb:8080/ben/kaggle_space-titanic/runs/ocyz4cjp' target=\"_blank\">http://wandb:8080/ben/kaggle_space-titanic/runs/ocyz4cjp</a><br> View project at: <a href='http://wandb:8080/ben/kaggle_space-titanic' target=\"_blank\">http://wandb:8080/ben/kaggle_space-titanic</a><br>Synced 5 W&B file(s), 0 media file(s), 0 artifact file(s) and 0 other file(s)"
      ],
      "text/plain": [
       "<IPython.core.display.HTML object>"
      ]
     },
     "metadata": {},
     "output_type": "display_data"
    },
    {
     "data": {
      "text/html": [
       "Find logs at: <code>/home/jovyan/wandb/wandb/run-20250517_210630-ocyz4cjp/logs</code>"
      ],
      "text/plain": [
       "<IPython.core.display.HTML object>"
      ]
     },
     "metadata": {},
     "output_type": "display_data"
    },
    {
     "name": "stdout",
     "output_type": "stream",
     "text": [
      "Started MLflow run: 60c31d307a034704a7c0b5743c4b7c3e\n"
     ]
    },
    {
     "data": {
      "text/html": [
       "Tracking run with wandb version 0.19.11"
      ],
      "text/plain": [
       "<IPython.core.display.HTML object>"
      ]
     },
     "metadata": {},
     "output_type": "display_data"
    },
    {
     "data": {
      "text/html": [
       "Run data is saved locally in <code>/home/jovyan/wandb/wandb/run-20250517_210633-6nsxvgq2</code>"
      ],
      "text/plain": [
       "<IPython.core.display.HTML object>"
      ]
     },
     "metadata": {},
     "output_type": "display_data"
    },
    {
     "data": {
      "text/html": [
       "Syncing run <strong><a href='http://wandb:8080/ben/kaggle_space-titanic/runs/6nsxvgq2' target=\"_blank\">v31_lightgbm_{'n_estimators': 200, 'max_depth': 10, 'learning_rate': 0.1, 'num_leaves': 50, 'min_child_samples': 10}</a></strong> to <a href='http://wandb:8080/ben/kaggle_space-titanic' target=\"_blank\">Weights & Biases</a> (<a href='https://wandb.me/developer-guide' target=\"_blank\">docs</a>)<br>"
      ],
      "text/plain": [
       "<IPython.core.display.HTML object>"
      ]
     },
     "metadata": {},
     "output_type": "display_data"
    },
    {
     "data": {
      "text/html": [
       " View project at <a href='http://wandb:8080/ben/kaggle_space-titanic' target=\"_blank\">http://wandb:8080/ben/kaggle_space-titanic</a>"
      ],
      "text/plain": [
       "<IPython.core.display.HTML object>"
      ]
     },
     "metadata": {},
     "output_type": "display_data"
    },
    {
     "data": {
      "text/html": [
       " View run at <a href='http://wandb:8080/ben/kaggle_space-titanic/runs/6nsxvgq2' target=\"_blank\">http://wandb:8080/ben/kaggle_space-titanic/runs/6nsxvgq2</a>"
      ],
      "text/plain": [
       "<IPython.core.display.HTML object>"
      ]
     },
     "metadata": {},
     "output_type": "display_data"
    },
    {
     "name": "stdout",
     "output_type": "stream",
     "text": [
      "✅ Labels already normalized, no encoding needed\n",
      "[LightGBM] [Info] Number of positive: 3500, number of negative: 3454\n",
      "[LightGBM] [Info] Auto-choosing row-wise multi-threading, the overhead of testing was 0.004016 seconds.\n",
      "You can set `force_row_wise=true` to remove the overhead.\n",
      "And if memory is not enough, you can set `force_col_wise=true`.\n",
      "[LightGBM] [Info] Total Bins 2457\n",
      "[LightGBM] [Info] Number of data points in the train set: 6954, number of used features: 37\n",
      "[LightGBM] [Info] [binary:BoostFromScore]: pavg=0.503307 -> initscore=0.013230\n",
      "[LightGBM] [Info] Start training from score 0.013230\n",
      "[LightGBM] [Warning] No further splits with positive gain, best gain: -inf\n",
      "[LightGBM] [Warning] No further splits with positive gain, best gain: -inf\n",
      "✅ Finished training sklearn model\n",
      "🏃 View run v31_lightgbm_{'n_estimators': 200, 'max_depth': 10, 'learning_rate': 0.1, 'num_leaves': 50, 'min_child_samples': 10} at: http://mlflow:5000/#/experiments/2/runs/60c31d307a034704a7c0b5743c4b7c3e\n",
      "🧪 View experiment at: http://mlflow:5000/#/experiments/2\n"
     ]
    },
    {
     "data": {
      "text/html": [],
      "text/plain": [
       "<IPython.core.display.HTML object>"
      ]
     },
     "metadata": {},
     "output_type": "display_data"
    },
    {
     "data": {
      "text/html": [
       "<br>    <style><br>        .wandb-row {<br>            display: flex;<br>            flex-direction: row;<br>            flex-wrap: wrap;<br>            justify-content: flex-start;<br>            width: 100%;<br>        }<br>        .wandb-col {<br>            display: flex;<br>            flex-direction: column;<br>            flex-basis: 100%;<br>            flex: 1;<br>            padding: 10px;<br>        }<br>    </style><br><div class=\"wandb-row\"><div class=\"wandb-col\"><h3>Run history:</h3><br/><table class=\"wandb\"><tr><td>accuracy</td><td>▁</td></tr><tr><td>f1_macro</td><td>▁</td></tr><tr><td>f1_weighted</td><td>▁</td></tr><tr><td>precision_weighted</td><td>▁</td></tr><tr><td>recall_weighted</td><td>▁</td></tr><tr><td>roc_auc</td><td>▁</td></tr></table><br/></div><div class=\"wandb-col\"><h3>Run summary:</h3><br/><table class=\"wandb\"><tr><td>accuracy</td><td>0.79643</td></tr><tr><td>f1_macro</td><td>0.79643</td></tr><tr><td>f1_weighted</td><td>0.79643</td></tr><tr><td>precision_weighted</td><td>0.79667</td></tr><tr><td>recall_weighted</td><td>0.79643</td></tr><tr><td>roc_auc</td><td>0.79654</td></tr></table><br/></div></div>"
      ],
      "text/plain": [
       "<IPython.core.display.HTML object>"
      ]
     },
     "metadata": {},
     "output_type": "display_data"
    },
    {
     "data": {
      "text/html": [
       " View run <strong style=\"color:#cdcd00\">v31_lightgbm_{'n_estimators': 200, 'max_depth': 10, 'learning_rate': 0.1, 'num_leaves': 50, 'min_child_samples': 10}</strong> at: <a href='http://wandb:8080/ben/kaggle_space-titanic/runs/6nsxvgq2' target=\"_blank\">http://wandb:8080/ben/kaggle_space-titanic/runs/6nsxvgq2</a><br> View project at: <a href='http://wandb:8080/ben/kaggle_space-titanic' target=\"_blank\">http://wandb:8080/ben/kaggle_space-titanic</a><br>Synced 5 W&B file(s), 0 media file(s), 0 artifact file(s) and 0 other file(s)"
      ],
      "text/plain": [
       "<IPython.core.display.HTML object>"
      ]
     },
     "metadata": {},
     "output_type": "display_data"
    },
    {
     "data": {
      "text/html": [
       "Find logs at: <code>/home/jovyan/wandb/wandb/run-20250517_210633-6nsxvgq2/logs</code>"
      ],
      "text/plain": [
       "<IPython.core.display.HTML object>"
      ]
     },
     "metadata": {},
     "output_type": "display_data"
    },
    {
     "name": "stdout",
     "output_type": "stream",
     "text": [
      "Started MLflow run: 21a7dfb1d23d4e2990f5c498ad02a816\n"
     ]
    },
    {
     "data": {
      "text/html": [
       "Tracking run with wandb version 0.19.11"
      ],
      "text/plain": [
       "<IPython.core.display.HTML object>"
      ]
     },
     "metadata": {},
     "output_type": "display_data"
    },
    {
     "data": {
      "text/html": [
       "Run data is saved locally in <code>/home/jovyan/wandb/wandb/run-20250517_210635-3qzvy1r8</code>"
      ],
      "text/plain": [
       "<IPython.core.display.HTML object>"
      ]
     },
     "metadata": {},
     "output_type": "display_data"
    },
    {
     "data": {
      "text/html": [
       "Syncing run <strong><a href='http://wandb:8080/ben/kaggle_space-titanic/runs/3qzvy1r8' target=\"_blank\">v31_lightgbm_{'n_estimators': 200, 'max_depth': 10, 'learning_rate': 0.1, 'num_leaves': 50, 'min_child_samples': 20}</a></strong> to <a href='http://wandb:8080/ben/kaggle_space-titanic' target=\"_blank\">Weights & Biases</a> (<a href='https://wandb.me/developer-guide' target=\"_blank\">docs</a>)<br>"
      ],
      "text/plain": [
       "<IPython.core.display.HTML object>"
      ]
     },
     "metadata": {},
     "output_type": "display_data"
    },
    {
     "data": {
      "text/html": [
       " View project at <a href='http://wandb:8080/ben/kaggle_space-titanic' target=\"_blank\">http://wandb:8080/ben/kaggle_space-titanic</a>"
      ],
      "text/plain": [
       "<IPython.core.display.HTML object>"
      ]
     },
     "metadata": {},
     "output_type": "display_data"
    },
    {
     "data": {
      "text/html": [
       " View run at <a href='http://wandb:8080/ben/kaggle_space-titanic/runs/3qzvy1r8' target=\"_blank\">http://wandb:8080/ben/kaggle_space-titanic/runs/3qzvy1r8</a>"
      ],
      "text/plain": [
       "<IPython.core.display.HTML object>"
      ]
     },
     "metadata": {},
     "output_type": "display_data"
    },
    {
     "name": "stdout",
     "output_type": "stream",
     "text": [
      "✅ Labels already normalized, no encoding needed\n",
      "[LightGBM] [Info] Number of positive: 3500, number of negative: 3454\n",
      "[LightGBM] [Info] Auto-choosing row-wise multi-threading, the overhead of testing was 0.001099 seconds.\n",
      "You can set `force_row_wise=true` to remove the overhead.\n",
      "And if memory is not enough, you can set `force_col_wise=true`.\n",
      "[LightGBM] [Info] Total Bins 2457\n",
      "[LightGBM] [Info] Number of data points in the train set: 6954, number of used features: 37\n",
      "[LightGBM] [Info] [binary:BoostFromScore]: pavg=0.503307 -> initscore=0.013230\n",
      "[LightGBM] [Info] Start training from score 0.013230\n",
      "[LightGBM] [Warning] No further splits with positive gain, best gain: -inf\n",
      "[LightGBM] [Warning] No further splits with positive gain, best gain: -inf\n",
      "[LightGBM] [Warning] No further splits with positive gain, best gain: -inf\n",
      "[LightGBM] [Warning] No further splits with positive gain, best gain: -inf\n",
      "[LightGBM] [Warning] No further splits with positive gain, best gain: -inf\n",
      "[LightGBM] [Warning] No further splits with positive gain, best gain: -inf\n",
      "[LightGBM] [Warning] No further splits with positive gain, best gain: -inf\n",
      "[LightGBM] [Warning] No further splits with positive gain, best gain: -inf\n",
      "[LightGBM] [Warning] No further splits with positive gain, best gain: -inf\n",
      "[LightGBM] [Warning] No further splits with positive gain, best gain: -inf\n",
      "[LightGBM] [Warning] No further splits with positive gain, best gain: -inf\n",
      "✅ Finished training sklearn model\n",
      "🏃 View run v31_lightgbm_{'n_estimators': 200, 'max_depth': 10, 'learning_rate': 0.1, 'num_leaves': 50, 'min_child_samples': 20} at: http://mlflow:5000/#/experiments/2/runs/21a7dfb1d23d4e2990f5c498ad02a816\n",
      "🧪 View experiment at: http://mlflow:5000/#/experiments/2\n"
     ]
    },
    {
     "data": {
      "text/html": [],
      "text/plain": [
       "<IPython.core.display.HTML object>"
      ]
     },
     "metadata": {},
     "output_type": "display_data"
    },
    {
     "data": {
      "text/html": [
       "<br>    <style><br>        .wandb-row {<br>            display: flex;<br>            flex-direction: row;<br>            flex-wrap: wrap;<br>            justify-content: flex-start;<br>            width: 100%;<br>        }<br>        .wandb-col {<br>            display: flex;<br>            flex-direction: column;<br>            flex-basis: 100%;<br>            flex: 1;<br>            padding: 10px;<br>        }<br>    </style><br><div class=\"wandb-row\"><div class=\"wandb-col\"><h3>Run history:</h3><br/><table class=\"wandb\"><tr><td>accuracy</td><td>▁</td></tr><tr><td>f1_macro</td><td>▁</td></tr><tr><td>f1_weighted</td><td>▁</td></tr><tr><td>precision_weighted</td><td>▁</td></tr><tr><td>recall_weighted</td><td>▁</td></tr><tr><td>roc_auc</td><td>▁</td></tr></table><br/></div><div class=\"wandb-col\"><h3>Run summary:</h3><br/><table class=\"wandb\"><tr><td>accuracy</td><td>0.78896</td></tr><tr><td>f1_macro</td><td>0.78894</td></tr><tr><td>f1_weighted</td><td>0.78892</td></tr><tr><td>precision_weighted</td><td>0.78945</td></tr><tr><td>recall_weighted</td><td>0.78896</td></tr><tr><td>roc_auc</td><td>0.78912</td></tr></table><br/></div></div>"
      ],
      "text/plain": [
       "<IPython.core.display.HTML object>"
      ]
     },
     "metadata": {},
     "output_type": "display_data"
    },
    {
     "data": {
      "text/html": [
       " View run <strong style=\"color:#cdcd00\">v31_lightgbm_{'n_estimators': 200, 'max_depth': 10, 'learning_rate': 0.1, 'num_leaves': 50, 'min_child_samples': 20}</strong> at: <a href='http://wandb:8080/ben/kaggle_space-titanic/runs/3qzvy1r8' target=\"_blank\">http://wandb:8080/ben/kaggle_space-titanic/runs/3qzvy1r8</a><br> View project at: <a href='http://wandb:8080/ben/kaggle_space-titanic' target=\"_blank\">http://wandb:8080/ben/kaggle_space-titanic</a><br>Synced 5 W&B file(s), 0 media file(s), 0 artifact file(s) and 0 other file(s)"
      ],
      "text/plain": [
       "<IPython.core.display.HTML object>"
      ]
     },
     "metadata": {},
     "output_type": "display_data"
    },
    {
     "data": {
      "text/html": [
       "Find logs at: <code>/home/jovyan/wandb/wandb/run-20250517_210635-3qzvy1r8/logs</code>"
      ],
      "text/plain": [
       "<IPython.core.display.HTML object>"
      ]
     },
     "metadata": {},
     "output_type": "display_data"
    }
   ],
   "source": [
    "from utils.models import get_sklearn_model, get_nn_model\n",
    "from utils.train import train_sklearn_model, train_nn_model, log_model_artifact, log_final_metrics, evaluate_model, \\\n",
    "                        conditionally_encode_labels\n",
    "import mlflow\n",
    "os.environ[\"WANDB_BASE_URL\"] = \"http://wandb:8080\"\n",
    "os.environ[\"WANDB_DEBUG\"] = \"true\"\n",
    "os.environ[\"WANDB_DEBUG_LOG_PATH\"] = \"/tmp/wandb_debug.log\"\n",
    "import wandb\n",
    "import numpy as np\n",
    "import pandas as pd\n",
    "from sklearn.preprocessing import LabelEncoder\n",
    "\n",
    "# Define model sweep\n",
    "print(\"defining sweep\")\n",
    "model_configs = {\n",
    "    # \"decision_tree\": [\n",
    "    #     {\"criterion\": c, \"max_depth\": d, \"min_samples_split\": m, \"min_samples_leaf\": l}\n",
    "    #     for c in [\"gini\", \"entropy\"]\n",
    "    #     for d in [None, 5, 10]\n",
    "    #     for m in [2, 5]\n",
    "    #     for l in [1, 2]\n",
    "    # ],\n",
    "\n",
    "    \"random_forest\": [\n",
    "        {\"n_estimators\": n, \"max_depth\": d, \"max_features\": f, \"min_samples_split\": m}\n",
    "        for n in [50, 200, 350]\n",
    "        for d in [None, 10,15]\n",
    "        for f in [\"sqrt\", \"log2\"]\n",
    "        for m in [2, 5]\n",
    "    ],\n",
    "\n",
    "    # \"logistic_regression\": [\n",
    "    #     {\"penalty\": p, \"C\": c, \"solver\": \"liblinear\", \"max_iter\": 200}\n",
    "    #     for p in [\"l1\", \"l2\"]\n",
    "    #     for c in [0.01, 0.1, 1.0]\n",
    "    # ],\n",
    "\n",
    "    \"xgboost\": [\n",
    "        {\"n_estimators\": n, \"max_depth\": d, \"learning_rate\": lr, \"subsample\": s, \"colsample_bytree\": cbt}\n",
    "        for n in [200]\n",
    "        for d in [5, 7]\n",
    "        for lr in [0.005, 0.1]\n",
    "        for s in [0.8, 1.0]\n",
    "        for cbt in [0.8, 1.0]\n",
    "    ],\n",
    "\n",
    "    \"lightgbm\": [\n",
    "        {\"n_estimators\": n, \"max_depth\": d, \"learning_rate\": lr, \"num_leaves\": nl, \"min_child_samples\": mcs}\n",
    "        for n in [100, 200]\n",
    "        for d in [-1, 10]\n",
    "        for lr in [0.01, 0.1]\n",
    "        for nl in [31, 50]\n",
    "        for mcs in [10, 20]\n",
    "    ],\n",
    "    # \"svm\": [\n",
    "    #     {\"C\": c, \"kernel\": k, \"gamma\": g}\n",
    "    #     for c in [0.1, 1.0, 10.0]\n",
    "    #     for k in [\"linear\", \"rbf\", \"poly\"]\n",
    "    #     for g in [\"scale\", \"auto\"]\n",
    "    # ],\n",
    "\n",
    "    # \"naive_bayes\": [\n",
    "    #     {\"var_smoothing\": vs}\n",
    "    #     for vs in [1e-9, 1e-8, 1e-7]\n",
    "    # ],\n",
    "\n",
    "    # \"knn\": [\n",
    "    #     {\"n_neighbors\": k, \"weights\": w, \"metric\": m}\n",
    "    #     for k in [ 5, 7]\n",
    "    #     for w in [\"uniform\", \"distance\"]\n",
    "    #     for m in [\"euclidean\", \"manhattan\"]\n",
    "    # ],\n",
    "    # \"neural_net\": [\n",
    "    #     {\n",
    "    #         \"model_type\": mt,\n",
    "    #         \"hidden\": h,\n",
    "    #         \"dropout\": d,\n",
    "    #         \"activation\": act,\n",
    "    #         \"batch_norm\": bn,\n",
    "    #         \"lr\": lr,\n",
    "    #         \"num_layers\": nl\n",
    "    #     }\n",
    "    #     for mt in [\"mlp\", \"lstm\", \"cnn\"]\n",
    "    #     for h in [32, 64]\n",
    "    #     for d in [0.0, 0.3]\n",
    "    #     for act in [\"relu\", \"tanh\"]\n",
    "    #     for bn in [False, True]\n",
    "    #     for lr in [.005, 0.001, .05, 0.01, .05]\n",
    "    #     for nl in [1, 2, 3,4]\n",
    "    # ],\n",
    "}\n",
    "\n",
    "mlflow.set_experiment(f\"kaggle_{local_dataset_name}\")\n",
    "print(\"starting experiments\")\n",
    "# Loop over each model and its hyperparam\n",
    "for model_name, config_list in model_configs.items():\n",
    "    for params in config_list:\n",
    "        # Terminate any already running experiments (MLflow and W&B)\n",
    "        if mlflow.active_run() is not None:\n",
    "            mlflow.end_run()\n",
    "        wandb.finish()\n",
    "        # === Init Experiment | MLflow and W&B ===\n",
    "        run_name = f\"{etl_result['etl_version']}_{model_name}_{params}\"\n",
    "        run = mlflow.start_run(run_name=run_name)\n",
    "        mlflow.log_param(\"model_name\", model_name)\n",
    "        mlflow.log_params(params)\n",
    "        mlflow.log_param(\"task_type\", task_type)\n",
    "        mlflow.log_param(\"perf_eval_metric\", perf_eval_metric)\n",
    "        mlflow.log_param(\"etl_version\", etl_result['etl_version'])\n",
    "        mlflow.log_param(\"etl_description\", etl_result['etl_description'])\n",
    "        print(\"Started MLflow run:\", run.info.run_id)\n",
    "        wandb.init(\n",
    "            project=f\"kaggle_{local_dataset_name}\",\n",
    "            name=run_name,\n",
    "            config={\n",
    "                **params,\n",
    "                \"model_name\": model_name,\n",
    "                \"task_type\": task_type,\n",
    "                \"perf_eval_metric\": perf_eval_metric,\n",
    "                \"etl_version\": etl_result['etl_version'],\n",
    "                \"etl_description\": etl_result['etl_description']\n",
    "            }\n",
    "        )\n",
    "        # === Train ===\n",
    "        if model_name == \"neural_net\":\n",
    "            output_dim = y_train.nunique() if task_type == \"multiclass_classification\" else 1\n",
    "            model, lr = get_nn_model(X_train.shape[1], output_dim=output_dim, **params)\n",
    "            y_train_nn, y_val_nn, label_encoder, label_encoder_applied = conditionally_encode_labels(y_train, y_val)\n",
    "            model, y_pred = train_nn_model(\n",
    "                model, X_train, y_train_nn, X_val, y_val_nn,\n",
    "                epochs=20,\n",
    "                lr = lr,\n",
    "                task_type=task_type,\n",
    "                eval_metric_name=eval_metric_name,\n",
    "                eval_metric_fn=eval_metric_fn,\n",
    "            )\n",
    "            if label_encoder_applied:\n",
    "                y_pred = label_encoder.inverse_transform(y_pred)\n",
    "            print(\"✅ Finished training neural net\")\n",
    "\n",
    "        else:\n",
    "            model = get_sklearn_model(model_name, **params)\n",
    "            trained_model, y_pred = train_sklearn_model(\n",
    "                model, X_train, y_train, X_val, y_val,\n",
    "                task_type=task_type,\n",
    "            )\n",
    "            print(\"✅ Finished training sklearn model\")\n",
    "\n",
    "        # === Evaluate & log ===\n",
    "        eval_metrics = evaluate_model(y_val, y_pred, task_type)\n",
    "        log_final_metrics(eval_metrics)\n",
    "        # commented out to reduced write2dis\n",
    "        # log_model_artifact(trained_model, model_name, framework=\"torch\" if model_name == \"neural_net\" else \"sklearn\")\n",
    "\n",
    "        # === End Experiment | MLflow and W&B ===\n",
    "        mlflow.end_run()\n",
    "        wandb.finish()\n",
    "\n"
   ]
  },
  {
   "cell_type": "code",
   "execution_count": 62,
   "id": "3fd5e643-95d3-4b57-ada7-d41a88bacd67",
   "metadata": {},
   "outputs": [
    {
     "name": "stdout",
     "output_type": "stream",
     "text": [
      "🔁 Reloaded utils.etl, utils.eda, utils.eval, utils.submission\n",
      "[PosixPath('/home/jovyan/data/space-titanic/raw/train.csv')]\n",
      "Dataset loaded successfully. Only one file loaded\n",
      "✅ Labels already normalized, no encoding needed\n",
      "[LightGBM] [Info] Number of positive: 4292, number of negative: 4227\n",
      "[LightGBM] [Info] Auto-choosing row-wise multi-threading, the overhead of testing was 0.006077 seconds.\n",
      "You can set `force_row_wise=true` to remove the overhead.\n",
      "And if memory is not enough, you can set `force_col_wise=true`.\n",
      "[LightGBM] [Info] Total Bins 4763\n",
      "[LightGBM] [Info] Number of data points in the train set: 8519, number of used features: 48\n",
      "[LightGBM] [Info] [binary:BoostFromScore]: pavg=0.503815 -> initscore=0.015260\n",
      "[LightGBM] [Info] Start training from score 0.015260\n",
      "✅ Finished training best xgboost model\n",
      "{'accuracy': 0.8218390804597702, 'precision_weighted': 0.8219051393843307, 'recall_weighted': 0.8218390804597702, 'f1_weighted': 0.8218449652135121, 'f1_macro': 0.8218331957060281, 'roc_auc': 0.8218816067653276, 'confusion_matrix': [[72, 16], [15, 71]], 'per_class_metrics': {'False': {'precision': 0.828, 'recall': 0.818, 'f1': 0.823, 'support': 88}, 'True': {'precision': 0.816, 'recall': 0.826, 'f1': 0.821, 'support': 86}}}\n",
      "(8519, 48)\n"
     ]
    }
   ],
   "source": [
    "reload_utils()\n",
    "\n",
    "from utils.models import get_sklearn_model\n",
    "from utils.train import train_sklearn_model, evaluate_model\n",
    "from utils.etl import run_custom_etl\n",
    "service_cols = [\"RoomService\", \"FoodCourt\", \"ShoppingMall\", \"Spa\", \"VRDeck\"]\n",
    "\n",
    "etl_outputs = run_custom_etl(dataset_name=local_dataset_name, target_column=target_column, test_split = .02)\n",
    "X_train = etl_outputs[\"X_train\"]\n",
    "y_train = etl_outputs[\"y_train\"]\n",
    "X_val = etl_outputs[\"X_val\"]\n",
    "y_val = etl_outputs[\"y_val\"]\n",
    "\n",
    "knn_imputer = etl_outputs[\"knn_imputer\"]\n",
    "minmax_scaler = etl_outputs[\"minmax_scaler\"]\n",
    "ica_transformer = etl_outputs[\"ica_transformer\"]\n",
    "kmeans_cluster = etl_outputs[\"kmeans_cluster\"]\n",
    "gmm_cluster = etl_outputs[\"gmm_cluster\"]\n",
    "quartile_thresholds = etl_outputs[\"quartile_thresholds\"]\n",
    "\n",
    "# === Best model configuration ===\n",
    "# model_name = \"xgboost\"\n",
    "# params = {\n",
    "#     \"learning_rate\": 0.1,\n",
    "#     \"max_depth\": 5,\n",
    "#     \"n_estimators\": 200,\n",
    "#     \"subsample\": 0.8\n",
    "# }\n",
    "model_name = \"lightgbm\"\n",
    "params = {\n",
    "    \"learning_rate\": 0.1,\n",
    "    \"max_depth\": 10,\n",
    "    \"min_child_samples\": 10,\n",
    "    \"n_estimators\": 200,\n",
    "    \"num_leaves\": 31\n",
    "}\n",
    "\n",
    "# === Train the model ===\n",
    "model = get_sklearn_model(model_name, **params)\n",
    "model, y_pred = train_sklearn_model(\n",
    "    model, X_train, y_train, X_val, y_val,\n",
    "    task_type=task_type,\n",
    ")\n",
    "\n",
    "print(\"✅ Finished training best xgboost model\")\n",
    "eval_metrics = evaluate_model(y_val, y_pred, task_type)\n",
    "print(eval_metrics)\n",
    "print(X_train.shape)"
   ]
  },
  {
   "cell_type": "code",
   "execution_count": 64,
   "id": "51269fc7-a1f0-4ece-b287-d906c9457d4e",
   "metadata": {
    "id": "51269fc7-a1f0-4ece-b287-d906c9457d4e",
    "scrolled": true
   },
   "outputs": [
    {
     "name": "stdout",
     "output_type": "stream",
     "text": [
      "🔁 Reloaded utils.etl, utils.eda, utils.eval, utils.submission\n",
      "[PosixPath('/home/jovyan/data/space-titanic/test/test.csv')]\n",
      "Dataset loaded successfully. Only one file loaded\n",
      "(4277, 48)\n",
      "🎉 submission.csv generated!\n"
     ]
    }
   ],
   "source": [
    "# Load test data\n",
    "reload_utils()\n",
    "from utils.submission import get_X_test\n",
    "\n",
    "#step 0:\n",
    "#model = get_model()\n",
    "\n",
    "# Step 1: Load raw test data + PassengerId\n",
    "X_test, passenger_ids = get_X_test(\n",
    "    dataset_name=local_dataset_name,\n",
    "    knn_imputer=knn_imputer,\n",
    "    scaler=minmax_scaler,\n",
    "    ica_transformer=ica_transformer,\n",
    "    kmeans_cluster=kmeans_cluster,\n",
    "    gmm_cluster=gmm_cluster,\n",
    "    quartile_thresholds=quartile_thresholds,\n",
    "    service_cols=service_cols\n",
    ")\n",
    "print(X_test.shape)\n",
    "# Step 2: Predict\n",
    "y_pred = model.predict(X_test)\n",
    "y_pred_bool = y_pred.astype(bool)\n",
    "\n",
    "# Step 4: Save to CSV\n",
    "submission_df = pd.DataFrame({\n",
    "    \"PassengerId\": passenger_ids,\n",
    "    target_column: y_pred_bool,\n",
    "})\n",
    "submission_df.to_csv(\"submission.csv\", index=False)\n",
    "print(\"🎉 submission.csv generated!\")\n"
   ]
  },
  {
   "cell_type": "code",
   "execution_count": null,
   "id": "134d79d0-9797-446c-9765-170777b19d7f",
   "metadata": {
    "id": "134d79d0-9797-446c-9765-170777b19d7f"
   },
   "outputs": [],
   "source": [
    "# PassengerId,Transported\n",
    "# 0013_01,False\n",
    "# 0018_01,False\n",
    "# 0019_01,False\n",
    "# 0021_01,False\n",
    "# etc."
   ]
  }
 ],
 "metadata": {
  "colab": {
   "provenance": []
  },
  "kernelspec": {
   "display_name": "Python 3 (ipykernel)",
   "language": "python",
   "name": "python3"
  },
  "language_info": {
   "codemirror_mode": {
    "name": "ipython",
    "version": 3
   },
   "file_extension": ".py",
   "mimetype": "text/x-python",
   "name": "python",
   "nbconvert_exporter": "python",
   "pygments_lexer": "ipython3",
   "version": "3.11.6"
  }
 },
 "nbformat": 4,
 "nbformat_minor": 5
}
